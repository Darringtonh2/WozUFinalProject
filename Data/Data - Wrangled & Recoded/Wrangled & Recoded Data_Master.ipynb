{
 "cells": [
  {
   "cell_type": "markdown",
   "id": "888a3804",
   "metadata": {},
   "source": [
    "## Import Packages "
   ]
  },
  {
   "cell_type": "code",
   "execution_count": 2,
   "id": "fa0a0164",
   "metadata": {},
   "outputs": [],
   "source": [
    "import pandas as pd \n",
    "import numpy as np\n",
    "import seaborn as sns\n",
    "from scipy import stats\n",
    "from scipy.stats import norm\n",
    "from scipy.stats import ttest_ind"
   ]
  },
  {
   "cell_type": "markdown",
   "id": "f48ce4b3",
   "metadata": {},
   "source": [
    "## Financial Datasets - Markets [NASDAQ | DowJones | S&P 500 | US GDP] "
   ]
  },
  {
   "cell_type": "markdown",
   "id": "03c4c401",
   "metadata": {},
   "source": [
    "## NASDAQ Dataset"
   ]
  },
  {
   "cell_type": "code",
   "execution_count": 3,
   "id": "81c2c716",
   "metadata": {},
   "outputs": [],
   "source": [
    "NASDAQ = pd.read_csv(\"/Users/darringtonhenderson/Documents/GitHub Final/WozUFinalProject/FinalProject/Data/5yrNASDAQ Data.csv\")"
   ]
  },
  {
   "cell_type": "code",
   "execution_count": 4,
   "id": "b587b0f7",
   "metadata": {},
   "outputs": [
    {
     "data": {
      "text/html": [
       "<div>\n",
       "<style scoped>\n",
       "    .dataframe tbody tr th:only-of-type {\n",
       "        vertical-align: middle;\n",
       "    }\n",
       "\n",
       "    .dataframe tbody tr th {\n",
       "        vertical-align: top;\n",
       "    }\n",
       "\n",
       "    .dataframe thead th {\n",
       "        text-align: right;\n",
       "    }\n",
       "</style>\n",
       "<table border=\"1\" class=\"dataframe\">\n",
       "  <thead>\n",
       "    <tr style=\"text-align: right;\">\n",
       "      <th></th>\n",
       "      <th>Date</th>\n",
       "      <th>Close/Last</th>\n",
       "      <th>Volume</th>\n",
       "      <th>Open</th>\n",
       "      <th>High</th>\n",
       "      <th>Low</th>\n",
       "    </tr>\n",
       "  </thead>\n",
       "  <tbody>\n",
       "    <tr>\n",
       "      <th>0</th>\n",
       "      <td>04/14/2022</td>\n",
       "      <td>13351.08</td>\n",
       "      <td>--</td>\n",
       "      <td>13647.43</td>\n",
       "      <td>13662.93</td>\n",
       "      <td>13345.22</td>\n",
       "    </tr>\n",
       "    <tr>\n",
       "      <th>1</th>\n",
       "      <td>04/13/2022</td>\n",
       "      <td>13643.59</td>\n",
       "      <td>--</td>\n",
       "      <td>13373.12</td>\n",
       "      <td>13679.43</td>\n",
       "      <td>13353.66</td>\n",
       "    </tr>\n",
       "    <tr>\n",
       "      <th>2</th>\n",
       "      <td>04/12/2022</td>\n",
       "      <td>13371.57</td>\n",
       "      <td>--</td>\n",
       "      <td>13584.69</td>\n",
       "      <td>13685.95</td>\n",
       "      <td>13317.74</td>\n",
       "    </tr>\n",
       "    <tr>\n",
       "      <th>3</th>\n",
       "      <td>04/11/2022</td>\n",
       "      <td>13411.96</td>\n",
       "      <td>--</td>\n",
       "      <td>13547.29</td>\n",
       "      <td>13585.08</td>\n",
       "      <td>13401.39</td>\n",
       "    </tr>\n",
       "    <tr>\n",
       "      <th>4</th>\n",
       "      <td>04/08/2022</td>\n",
       "      <td>13711.00</td>\n",
       "      <td>--</td>\n",
       "      <td>13830.47</td>\n",
       "      <td>13866.06</td>\n",
       "      <td>13693.69</td>\n",
       "    </tr>\n",
       "  </tbody>\n",
       "</table>\n",
       "</div>"
      ],
      "text/plain": [
       "         Date  Close/Last Volume      Open      High       Low\n",
       "0  04/14/2022    13351.08     --  13647.43  13662.93  13345.22\n",
       "1  04/13/2022    13643.59     --  13373.12  13679.43  13353.66\n",
       "2  04/12/2022    13371.57     --  13584.69  13685.95  13317.74\n",
       "3  04/11/2022    13411.96     --  13547.29  13585.08  13401.39\n",
       "4  04/08/2022    13711.00     --  13830.47  13866.06  13693.69"
      ]
     },
     "execution_count": 4,
     "metadata": {},
     "output_type": "execute_result"
    }
   ],
   "source": [
    "NASDAQ.head()"
   ]
  },
  {
   "cell_type": "code",
   "execution_count": 5,
   "id": "8f73590b",
   "metadata": {},
   "outputs": [
    {
     "data": {
      "text/html": [
       "<div>\n",
       "<style scoped>\n",
       "    .dataframe tbody tr th:only-of-type {\n",
       "        vertical-align: middle;\n",
       "    }\n",
       "\n",
       "    .dataframe tbody tr th {\n",
       "        vertical-align: top;\n",
       "    }\n",
       "\n",
       "    .dataframe thead th {\n",
       "        text-align: right;\n",
       "    }\n",
       "</style>\n",
       "<table border=\"1\" class=\"dataframe\">\n",
       "  <thead>\n",
       "    <tr style=\"text-align: right;\">\n",
       "      <th></th>\n",
       "      <th>Date</th>\n",
       "      <th>Close/Last</th>\n",
       "      <th>Volume</th>\n",
       "      <th>Open</th>\n",
       "      <th>High</th>\n",
       "      <th>Low</th>\n",
       "    </tr>\n",
       "  </thead>\n",
       "  <tbody>\n",
       "    <tr>\n",
       "      <th>1254</th>\n",
       "      <td>04/24/2017</td>\n",
       "      <td>5983.82</td>\n",
       "      <td>--</td>\n",
       "      <td>5979.96</td>\n",
       "      <td>5989.92</td>\n",
       "      <td>5970.25</td>\n",
       "    </tr>\n",
       "    <tr>\n",
       "      <th>1255</th>\n",
       "      <td>04/21/2017</td>\n",
       "      <td>5910.52</td>\n",
       "      <td>--</td>\n",
       "      <td>5919.02</td>\n",
       "      <td>5919.23</td>\n",
       "      <td>5899.43</td>\n",
       "    </tr>\n",
       "    <tr>\n",
       "      <th>1256</th>\n",
       "      <td>04/20/2017</td>\n",
       "      <td>5916.78</td>\n",
       "      <td>--</td>\n",
       "      <td>5887.87</td>\n",
       "      <td>5926.23</td>\n",
       "      <td>5880.20</td>\n",
       "    </tr>\n",
       "    <tr>\n",
       "      <th>1257</th>\n",
       "      <td>04/19/2017</td>\n",
       "      <td>5863.03</td>\n",
       "      <td>--</td>\n",
       "      <td>5874.43</td>\n",
       "      <td>5894.67</td>\n",
       "      <td>5856.34</td>\n",
       "    </tr>\n",
       "    <tr>\n",
       "      <th>1258</th>\n",
       "      <td>04/18/2017</td>\n",
       "      <td>5849.47</td>\n",
       "      <td>--</td>\n",
       "      <td>5838.59</td>\n",
       "      <td>5860.04</td>\n",
       "      <td>5828.57</td>\n",
       "    </tr>\n",
       "  </tbody>\n",
       "</table>\n",
       "</div>"
      ],
      "text/plain": [
       "            Date  Close/Last Volume     Open     High      Low\n",
       "1254  04/24/2017     5983.82     --  5979.96  5989.92  5970.25\n",
       "1255  04/21/2017     5910.52     --  5919.02  5919.23  5899.43\n",
       "1256  04/20/2017     5916.78     --  5887.87  5926.23  5880.20\n",
       "1257  04/19/2017     5863.03     --  5874.43  5894.67  5856.34\n",
       "1258  04/18/2017     5849.47     --  5838.59  5860.04  5828.57"
      ]
     },
     "execution_count": 5,
     "metadata": {},
     "output_type": "execute_result"
    }
   ],
   "source": [
    "NASDAQ.tail()"
   ]
  },
  {
   "cell_type": "markdown",
   "id": "d76ad60b",
   "metadata": {},
   "source": [
    "### Dropping 'Volume' Column From NASDAQ"
   ]
  },
  {
   "cell_type": "code",
   "execution_count": 6,
   "id": "626927c5",
   "metadata": {},
   "outputs": [],
   "source": [
    "NASDAQ.drop(['Volume'], axis=1, inplace=True)"
   ]
  },
  {
   "cell_type": "code",
   "execution_count": 6,
   "id": "ffd26f28",
   "metadata": {},
   "outputs": [
    {
     "data": {
      "text/html": [
       "<div>\n",
       "<style scoped>\n",
       "    .dataframe tbody tr th:only-of-type {\n",
       "        vertical-align: middle;\n",
       "    }\n",
       "\n",
       "    .dataframe tbody tr th {\n",
       "        vertical-align: top;\n",
       "    }\n",
       "\n",
       "    .dataframe thead th {\n",
       "        text-align: right;\n",
       "    }\n",
       "</style>\n",
       "<table border=\"1\" class=\"dataframe\">\n",
       "  <thead>\n",
       "    <tr style=\"text-align: right;\">\n",
       "      <th></th>\n",
       "      <th>Date</th>\n",
       "      <th>Close/Last</th>\n",
       "      <th>Open</th>\n",
       "      <th>High</th>\n",
       "      <th>Low</th>\n",
       "    </tr>\n",
       "  </thead>\n",
       "  <tbody>\n",
       "    <tr>\n",
       "      <th>0</th>\n",
       "      <td>04/14/2022</td>\n",
       "      <td>13351.08</td>\n",
       "      <td>13647.43</td>\n",
       "      <td>13662.93</td>\n",
       "      <td>13345.22</td>\n",
       "    </tr>\n",
       "    <tr>\n",
       "      <th>1</th>\n",
       "      <td>04/13/2022</td>\n",
       "      <td>13643.59</td>\n",
       "      <td>13373.12</td>\n",
       "      <td>13679.43</td>\n",
       "      <td>13353.66</td>\n",
       "    </tr>\n",
       "    <tr>\n",
       "      <th>2</th>\n",
       "      <td>04/12/2022</td>\n",
       "      <td>13371.57</td>\n",
       "      <td>13584.69</td>\n",
       "      <td>13685.95</td>\n",
       "      <td>13317.74</td>\n",
       "    </tr>\n",
       "    <tr>\n",
       "      <th>3</th>\n",
       "      <td>04/11/2022</td>\n",
       "      <td>13411.96</td>\n",
       "      <td>13547.29</td>\n",
       "      <td>13585.08</td>\n",
       "      <td>13401.39</td>\n",
       "    </tr>\n",
       "    <tr>\n",
       "      <th>4</th>\n",
       "      <td>04/08/2022</td>\n",
       "      <td>13711.00</td>\n",
       "      <td>13830.47</td>\n",
       "      <td>13866.06</td>\n",
       "      <td>13693.69</td>\n",
       "    </tr>\n",
       "  </tbody>\n",
       "</table>\n",
       "</div>"
      ],
      "text/plain": [
       "         Date  Close/Last      Open      High       Low\n",
       "0  04/14/2022    13351.08  13647.43  13662.93  13345.22\n",
       "1  04/13/2022    13643.59  13373.12  13679.43  13353.66\n",
       "2  04/12/2022    13371.57  13584.69  13685.95  13317.74\n",
       "3  04/11/2022    13411.96  13547.29  13585.08  13401.39\n",
       "4  04/08/2022    13711.00  13830.47  13866.06  13693.69"
      ]
     },
     "execution_count": 6,
     "metadata": {},
     "output_type": "execute_result"
    }
   ],
   "source": [
    "NASDAQ.head()"
   ]
  },
  {
   "cell_type": "code",
   "execution_count": 7,
   "id": "7af8ded4",
   "metadata": {},
   "outputs": [
    {
     "data": {
      "text/plain": [
       "<bound method DataFrame.info of             Date  Close/Last      Open      High       Low\n",
       "0     04/14/2022    13351.08  13647.43  13662.93  13345.22\n",
       "1     04/13/2022    13643.59  13373.12  13679.43  13353.66\n",
       "2     04/12/2022    13371.57  13584.69  13685.95  13317.74\n",
       "3     04/11/2022    13411.96  13547.29  13585.08  13401.39\n",
       "4     04/08/2022    13711.00  13830.47  13866.06  13693.69\n",
       "...          ...         ...       ...       ...       ...\n",
       "1254  04/24/2017     5983.82   5979.96   5989.92   5970.25\n",
       "1255  04/21/2017     5910.52   5919.02   5919.23   5899.43\n",
       "1256  04/20/2017     5916.78   5887.87   5926.23   5880.20\n",
       "1257  04/19/2017     5863.03   5874.43   5894.67   5856.34\n",
       "1258  04/18/2017     5849.47   5838.59   5860.04   5828.57\n",
       "\n",
       "[1259 rows x 5 columns]>"
      ]
     },
     "execution_count": 7,
     "metadata": {},
     "output_type": "execute_result"
    }
   ],
   "source": [
    "NASDAQ.info"
   ]
  },
  {
   "cell_type": "code",
   "execution_count": 8,
   "id": "927a45ee",
   "metadata": {},
   "outputs": [
    {
     "data": {
      "text/plain": [
       "array([[<AxesSubplot:title={'center':'Close/Last'}>,\n",
       "        <AxesSubplot:title={'center':'Open'}>],\n",
       "       [<AxesSubplot:title={'center':'High'}>,\n",
       "        <AxesSubplot:title={'center':'Low'}>]], dtype=object)"
      ]
     },
     "execution_count": 8,
     "metadata": {},
     "output_type": "execute_result"
    },
    {
     "data": {
      "image/png": "[encoded data removed]",
      "text/plain": [
       "<Figure size 432x288 with 4 Axes>"
      ]
     },
     "metadata": {
      "needs_background": "light"
     },
     "output_type": "display_data"
    }
   ],
   "source": [
    "NASDAQ.hist()"
   ]
  },
  {
   "cell_type": "markdown",
   "id": "2b7b4753",
   "metadata": {},
   "source": [
    "### Single Sample T-test"
   ]
  },
  {
   "cell_type": "markdown",
   "id": "6762b403",
   "metadata": {},
   "source": [
    "Testing single-sample t-test to examine whether a particular value is different than the population mean"
   ]
  },
  {
   "cell_type": "code",
   "execution_count": 9,
   "id": "e3cf04ad",
   "metadata": {},
   "outputs": [
    {
     "data": {
      "text/plain": [
       "<AxesSubplot:>"
      ]
     },
     "execution_count": 9,
     "metadata": {},
     "output_type": "execute_result"
    },
    {
     "data": {
      "image/png": "[encoded data removed]",
      "text/plain": [
       "<Figure size 432x288 with 1 Axes>"
      ]
     },
     "metadata": {
      "needs_background": "light"
     },
     "output_type": "display_data"
    }
   ],
   "source": [
    "NASDAQ['Close/Last'].hist()"
   ]
  },
  {
   "cell_type": "code",
   "execution_count": 10,
   "id": "4ba51b8c",
   "metadata": {},
   "outputs": [
    {
     "data": {
      "text/plain": [
       "Ttest_1sampResult(statistic=19.85027996352173, pvalue=1.6881479918738588e-76)"
      ]
     },
     "execution_count": 10,
     "metadata": {},
     "output_type": "execute_result"
    }
   ],
   "source": [
    "stats.ttest_1samp(NASDAQ['Close/Last'], 8000)"
   ]
  },
  {
   "cell_type": "markdown",
   "id": "1573574f",
   "metadata": {},
   "source": [
    "## DowJones Data"
   ]
  },
  {
   "cell_type": "code",
   "execution_count": 8,
   "id": "4d17b330",
   "metadata": {},
   "outputs": [],
   "source": [
    "DowJones = pd.read_csv(\"/Users/darringtonhenderson/Documents/GitHub Final/WozUFinalProject/FinalProject/Data/TheDowData.csv\")"
   ]
  },
  {
   "cell_type": "code",
   "execution_count": 9,
   "id": "4a7e70a7",
   "metadata": {},
   "outputs": [
    {
     "data": {
      "text/html": [
       "<div>\n",
       "<style scoped>\n",
       "    .dataframe tbody tr th:only-of-type {\n",
       "        vertical-align: middle;\n",
       "    }\n",
       "\n",
       "    .dataframe tbody tr th {\n",
       "        vertical-align: top;\n",
       "    }\n",
       "\n",
       "    .dataframe thead th {\n",
       "        text-align: right;\n",
       "    }\n",
       "</style>\n",
       "<table border=\"1\" class=\"dataframe\">\n",
       "  <thead>\n",
       "    <tr style=\"text-align: right;\">\n",
       "      <th></th>\n",
       "      <th>Date</th>\n",
       "      <th>Open</th>\n",
       "      <th>High</th>\n",
       "      <th>Low</th>\n",
       "      <th>Close</th>\n",
       "      <th>Volume</th>\n",
       "    </tr>\n",
       "  </thead>\n",
       "  <tbody>\n",
       "    <tr>\n",
       "      <th>0</th>\n",
       "      <td>1896-05-27</td>\n",
       "      <td>29.39</td>\n",
       "      <td>29.39</td>\n",
       "      <td>29.39</td>\n",
       "      <td>29.39</td>\n",
       "      <td>NaN</td>\n",
       "    </tr>\n",
       "    <tr>\n",
       "      <th>1</th>\n",
       "      <td>1896-05-28</td>\n",
       "      <td>29.11</td>\n",
       "      <td>29.11</td>\n",
       "      <td>29.11</td>\n",
       "      <td>29.11</td>\n",
       "      <td>NaN</td>\n",
       "    </tr>\n",
       "    <tr>\n",
       "      <th>2</th>\n",
       "      <td>1896-05-29</td>\n",
       "      <td>29.43</td>\n",
       "      <td>29.43</td>\n",
       "      <td>29.43</td>\n",
       "      <td>29.43</td>\n",
       "      <td>NaN</td>\n",
       "    </tr>\n",
       "    <tr>\n",
       "      <th>3</th>\n",
       "      <td>1896-06-01</td>\n",
       "      <td>29.40</td>\n",
       "      <td>29.40</td>\n",
       "      <td>29.40</td>\n",
       "      <td>29.40</td>\n",
       "      <td>NaN</td>\n",
       "    </tr>\n",
       "    <tr>\n",
       "      <th>4</th>\n",
       "      <td>1896-06-02</td>\n",
       "      <td>29.00</td>\n",
       "      <td>29.00</td>\n",
       "      <td>29.00</td>\n",
       "      <td>29.00</td>\n",
       "      <td>NaN</td>\n",
       "    </tr>\n",
       "  </tbody>\n",
       "</table>\n",
       "</div>"
      ],
      "text/plain": [
       "         Date   Open   High    Low  Close  Volume\n",
       "0  1896-05-27  29.39  29.39  29.39  29.39     NaN\n",
       "1  1896-05-28  29.11  29.11  29.11  29.11     NaN\n",
       "2  1896-05-29  29.43  29.43  29.43  29.43     NaN\n",
       "3  1896-06-01  29.40  29.40  29.40  29.40     NaN\n",
       "4  1896-06-02  29.00  29.00  29.00  29.00     NaN"
      ]
     },
     "execution_count": 9,
     "metadata": {},
     "output_type": "execute_result"
    }
   ],
   "source": [
    "DowJones.head()"
   ]
  },
  {
   "cell_type": "code",
   "execution_count": 10,
   "id": "aa019d37",
   "metadata": {
    "scrolled": true
   },
   "outputs": [
    {
     "data": {
      "text/html": [
       "<div>\n",
       "<style scoped>\n",
       "    .dataframe tbody tr th:only-of-type {\n",
       "        vertical-align: middle;\n",
       "    }\n",
       "\n",
       "    .dataframe tbody tr th {\n",
       "        vertical-align: top;\n",
       "    }\n",
       "\n",
       "    .dataframe thead th {\n",
       "        text-align: right;\n",
       "    }\n",
       "</style>\n",
       "<table border=\"1\" class=\"dataframe\">\n",
       "  <thead>\n",
       "    <tr style=\"text-align: right;\">\n",
       "      <th></th>\n",
       "      <th>Date</th>\n",
       "      <th>Open</th>\n",
       "      <th>High</th>\n",
       "      <th>Low</th>\n",
       "      <th>Close</th>\n",
       "      <th>Volume</th>\n",
       "    </tr>\n",
       "  </thead>\n",
       "  <tbody>\n",
       "    <tr>\n",
       "      <th>32611</th>\n",
       "      <td>2022-04-12</td>\n",
       "      <td>34412.51</td>\n",
       "      <td>34669.97</td>\n",
       "      <td>34102.81</td>\n",
       "      <td>34220.36</td>\n",
       "      <td>373804662.0</td>\n",
       "    </tr>\n",
       "    <tr>\n",
       "      <th>32612</th>\n",
       "      <td>2022-04-13</td>\n",
       "      <td>34166.64</td>\n",
       "      <td>34598.36</td>\n",
       "      <td>34140.64</td>\n",
       "      <td>34564.59</td>\n",
       "      <td>341268894.0</td>\n",
       "    </tr>\n",
       "    <tr>\n",
       "      <th>32613</th>\n",
       "      <td>2022-04-14</td>\n",
       "      <td>34628.46</td>\n",
       "      <td>34889.17</td>\n",
       "      <td>34437.50</td>\n",
       "      <td>34451.23</td>\n",
       "      <td>388476298.0</td>\n",
       "    </tr>\n",
       "    <tr>\n",
       "      <th>32614</th>\n",
       "      <td>2022-04-18</td>\n",
       "      <td>34411.49</td>\n",
       "      <td>34618.29</td>\n",
       "      <td>34279.08</td>\n",
       "      <td>34411.69</td>\n",
       "      <td>298634820.0</td>\n",
       "    </tr>\n",
       "    <tr>\n",
       "      <th>32615</th>\n",
       "      <td>2022-04-19</td>\n",
       "      <td>34394.62</td>\n",
       "      <td>34983.11</td>\n",
       "      <td>34394.62</td>\n",
       "      <td>34911.20</td>\n",
       "      <td>350100624.0</td>\n",
       "    </tr>\n",
       "  </tbody>\n",
       "</table>\n",
       "</div>"
      ],
      "text/plain": [
       "             Date      Open      High       Low     Close       Volume\n",
       "32611  2022-04-12  34412.51  34669.97  34102.81  34220.36  373804662.0\n",
       "32612  2022-04-13  34166.64  34598.36  34140.64  34564.59  341268894.0\n",
       "32613  2022-04-14  34628.46  34889.17  34437.50  34451.23  388476298.0\n",
       "32614  2022-04-18  34411.49  34618.29  34279.08  34411.69  298634820.0\n",
       "32615  2022-04-19  34394.62  34983.11  34394.62  34911.20  350100624.0"
      ]
     },
     "execution_count": 10,
     "metadata": {},
     "output_type": "execute_result"
    }
   ],
   "source": [
    "DowJones.tail()"
   ]
  },
  {
   "cell_type": "markdown",
   "id": "95fce500",
   "metadata": {},
   "source": [
    "### Dropping 'Volume' Column From DowJones"
   ]
  },
  {
   "cell_type": "code",
   "execution_count": 11,
   "id": "e832e5c1",
   "metadata": {},
   "outputs": [],
   "source": [
    "DowJones.drop(['Volume'], axis=1, inplace=True)"
   ]
  },
  {
   "cell_type": "code",
   "execution_count": 15,
   "id": "f3fc9742",
   "metadata": {},
   "outputs": [
    {
     "data": {
      "text/html": [
       "<div>\n",
       "<style scoped>\n",
       "    .dataframe tbody tr th:only-of-type {\n",
       "        vertical-align: middle;\n",
       "    }\n",
       "\n",
       "    .dataframe tbody tr th {\n",
       "        vertical-align: top;\n",
       "    }\n",
       "\n",
       "    .dataframe thead th {\n",
       "        text-align: right;\n",
       "    }\n",
       "</style>\n",
       "<table border=\"1\" class=\"dataframe\">\n",
       "  <thead>\n",
       "    <tr style=\"text-align: right;\">\n",
       "      <th></th>\n",
       "      <th>Date</th>\n",
       "      <th>Open</th>\n",
       "      <th>High</th>\n",
       "      <th>Low</th>\n",
       "      <th>Close</th>\n",
       "    </tr>\n",
       "  </thead>\n",
       "  <tbody>\n",
       "    <tr>\n",
       "      <th>0</th>\n",
       "      <td>1896-05-27</td>\n",
       "      <td>29.39</td>\n",
       "      <td>29.39</td>\n",
       "      <td>29.39</td>\n",
       "      <td>29.39</td>\n",
       "    </tr>\n",
       "    <tr>\n",
       "      <th>1</th>\n",
       "      <td>1896-05-28</td>\n",
       "      <td>29.11</td>\n",
       "      <td>29.11</td>\n",
       "      <td>29.11</td>\n",
       "      <td>29.11</td>\n",
       "    </tr>\n",
       "    <tr>\n",
       "      <th>2</th>\n",
       "      <td>1896-05-29</td>\n",
       "      <td>29.43</td>\n",
       "      <td>29.43</td>\n",
       "      <td>29.43</td>\n",
       "      <td>29.43</td>\n",
       "    </tr>\n",
       "    <tr>\n",
       "      <th>3</th>\n",
       "      <td>1896-06-01</td>\n",
       "      <td>29.40</td>\n",
       "      <td>29.40</td>\n",
       "      <td>29.40</td>\n",
       "      <td>29.40</td>\n",
       "    </tr>\n",
       "    <tr>\n",
       "      <th>4</th>\n",
       "      <td>1896-06-02</td>\n",
       "      <td>29.00</td>\n",
       "      <td>29.00</td>\n",
       "      <td>29.00</td>\n",
       "      <td>29.00</td>\n",
       "    </tr>\n",
       "  </tbody>\n",
       "</table>\n",
       "</div>"
      ],
      "text/plain": [
       "         Date   Open   High    Low  Close\n",
       "0  1896-05-27  29.39  29.39  29.39  29.39\n",
       "1  1896-05-28  29.11  29.11  29.11  29.11\n",
       "2  1896-05-29  29.43  29.43  29.43  29.43\n",
       "3  1896-06-01  29.40  29.40  29.40  29.40\n",
       "4  1896-06-02  29.00  29.00  29.00  29.00"
      ]
     },
     "execution_count": 15,
     "metadata": {},
     "output_type": "execute_result"
    }
   ],
   "source": [
    "DowJones.head()"
   ]
  },
  {
   "cell_type": "code",
   "execution_count": 16,
   "id": "c0cc4cf0",
   "metadata": {},
   "outputs": [
    {
     "data": {
      "text/plain": [
       "<bound method DataFrame.info of              Date      Open      High       Low     Close\n",
       "0      1896-05-27     29.39     29.39     29.39     29.39\n",
       "1      1896-05-28     29.11     29.11     29.11     29.11\n",
       "2      1896-05-29     29.43     29.43     29.43     29.43\n",
       "3      1896-06-01     29.40     29.40     29.40     29.40\n",
       "4      1896-06-02     29.00     29.00     29.00     29.00\n",
       "...           ...       ...       ...       ...       ...\n",
       "32611  2022-04-12  34412.51  34669.97  34102.81  34220.36\n",
       "32612  2022-04-13  34166.64  34598.36  34140.64  34564.59\n",
       "32613  2022-04-14  34628.46  34889.17  34437.50  34451.23\n",
       "32614  2022-04-18  34411.49  34618.29  34279.08  34411.69\n",
       "32615  2022-04-19  34394.62  34983.11  34394.62  34911.20\n",
       "\n",
       "[32616 rows x 5 columns]>"
      ]
     },
     "execution_count": 16,
     "metadata": {},
     "output_type": "execute_result"
    }
   ],
   "source": [
    "DowJones.info"
   ]
  },
  {
   "cell_type": "code",
   "execution_count": 17,
   "id": "8717edde",
   "metadata": {},
   "outputs": [
    {
     "data": {
      "text/plain": [
       "array([[<AxesSubplot:title={'center':'Open'}>,\n",
       "        <AxesSubplot:title={'center':'High'}>],\n",
       "       [<AxesSubplot:title={'center':'Low'}>,\n",
       "        <AxesSubplot:title={'center':'Close'}>]], dtype=object)"
      ]
     },
     "execution_count": 17,
     "metadata": {},
     "output_type": "execute_result"
    },
    {
     "data": {
      "image/png": "[encoded data removed]",
      "text/plain": [
       "<Figure size 432x288 with 4 Axes>"
      ]
     },
     "metadata": {
      "needs_background": "light"
     },
     "output_type": "display_data"
    }
   ],
   "source": [
    "DowJones.hist()"
   ]
  },
  {
   "cell_type": "markdown",
   "id": "139659ac",
   "metadata": {},
   "source": [
    "### Single Sample T-test"
   ]
  },
  {
   "cell_type": "markdown",
   "id": "26a4fb57",
   "metadata": {},
   "source": [
    "Testing single-sample t-test to examine whether a particular value is different than the population mean"
   ]
  },
  {
   "cell_type": "code",
   "execution_count": 18,
   "id": "c6aa5ff8",
   "metadata": {},
   "outputs": [
    {
     "data": {
      "text/plain": [
       "<AxesSubplot:>"
      ]
     },
     "execution_count": 18,
     "metadata": {},
     "output_type": "execute_result"
    },
    {
     "data": {
      "image/png": "[encoded data removed]",
      "text/plain": [
       "<Figure size 432x288 with 1 Axes>"
      ]
     },
     "metadata": {
      "needs_background": "light"
     },
     "output_type": "display_data"
    }
   ],
   "source": [
    "DowJones['Close'].hist()"
   ]
  },
  {
   "cell_type": "code",
   "execution_count": 19,
   "id": "8d4a17ea",
   "metadata": {},
   "outputs": [
    {
     "data": {
      "text/plain": [
       "Ttest_1sampResult(statistic=-180.26603839821937, pvalue=0.0)"
      ]
     },
     "execution_count": 19,
     "metadata": {},
     "output_type": "execute_result"
    }
   ],
   "source": [
    "stats.ttest_1samp(DowJones['Close'], 10000)"
   ]
  },
  {
   "cell_type": "markdown",
   "id": "67ed287b",
   "metadata": {},
   "source": [
    "## S&P 500 Dataset"
   ]
  },
  {
   "cell_type": "code",
   "execution_count": 3,
   "id": "c382e8be",
   "metadata": {},
   "outputs": [],
   "source": [
    "SP500 = pd.read_csv(\"/Users/darringtonhenderson/Documents/GitHub Final/WozUFinalProject/FinalProject/Data/S&P50010yrData.csv\")"
   ]
  },
  {
   "cell_type": "code",
   "execution_count": 4,
   "id": "49b9ad33",
   "metadata": {},
   "outputs": [
    {
     "data": {
      "text/html": [
       "<div>\n",
       "<style scoped>\n",
       "    .dataframe tbody tr th:only-of-type {\n",
       "        vertical-align: middle;\n",
       "    }\n",
       "\n",
       "    .dataframe tbody tr th {\n",
       "        vertical-align: top;\n",
       "    }\n",
       "\n",
       "    .dataframe thead th {\n",
       "        text-align: right;\n",
       "    }\n",
       "</style>\n",
       "<table border=\"1\" class=\"dataframe\">\n",
       "  <thead>\n",
       "    <tr style=\"text-align: right;\">\n",
       "      <th></th>\n",
       "      <th>date</th>\n",
       "      <th>value</th>\n",
       "    </tr>\n",
       "  </thead>\n",
       "  <tbody>\n",
       "    <tr>\n",
       "      <th>0</th>\n",
       "      <td>4/20/09</td>\n",
       "      <td>832.39</td>\n",
       "    </tr>\n",
       "    <tr>\n",
       "      <th>1</th>\n",
       "      <td>4/21/09</td>\n",
       "      <td>850.08</td>\n",
       "    </tr>\n",
       "    <tr>\n",
       "      <th>2</th>\n",
       "      <td>4/22/09</td>\n",
       "      <td>843.55</td>\n",
       "    </tr>\n",
       "    <tr>\n",
       "      <th>3</th>\n",
       "      <td>4/23/09</td>\n",
       "      <td>851.92</td>\n",
       "    </tr>\n",
       "    <tr>\n",
       "      <th>4</th>\n",
       "      <td>4/24/09</td>\n",
       "      <td>866.23</td>\n",
       "    </tr>\n",
       "  </tbody>\n",
       "</table>\n",
       "</div>"
      ],
      "text/plain": [
       "      date   value\n",
       "0  4/20/09  832.39\n",
       "1  4/21/09  850.08\n",
       "2  4/22/09  843.55\n",
       "3  4/23/09  851.92\n",
       "4  4/24/09  866.23"
      ]
     },
     "execution_count": 4,
     "metadata": {},
     "output_type": "execute_result"
    }
   ],
   "source": [
    "SP500.head()"
   ]
  },
  {
   "cell_type": "code",
   "execution_count": 5,
   "id": "fe42ba84",
   "metadata": {},
   "outputs": [
    {
     "data": {
      "text/html": [
       "<div>\n",
       "<style scoped>\n",
       "    .dataframe tbody tr th:only-of-type {\n",
       "        vertical-align: middle;\n",
       "    }\n",
       "\n",
       "    .dataframe tbody tr th {\n",
       "        vertical-align: top;\n",
       "    }\n",
       "\n",
       "    .dataframe thead th {\n",
       "        text-align: right;\n",
       "    }\n",
       "</style>\n",
       "<table border=\"1\" class=\"dataframe\">\n",
       "  <thead>\n",
       "    <tr style=\"text-align: right;\">\n",
       "      <th></th>\n",
       "      <th>date</th>\n",
       "      <th>value</th>\n",
       "    </tr>\n",
       "  </thead>\n",
       "  <tbody>\n",
       "    <tr>\n",
       "      <th>3271</th>\n",
       "      <td>4/12/22</td>\n",
       "      <td>4397.45</td>\n",
       "    </tr>\n",
       "    <tr>\n",
       "      <th>3272</th>\n",
       "      <td>4/13/22</td>\n",
       "      <td>4446.59</td>\n",
       "    </tr>\n",
       "    <tr>\n",
       "      <th>3273</th>\n",
       "      <td>4/14/22</td>\n",
       "      <td>4392.59</td>\n",
       "    </tr>\n",
       "    <tr>\n",
       "      <th>3274</th>\n",
       "      <td>4/18/22</td>\n",
       "      <td>4391.69</td>\n",
       "    </tr>\n",
       "    <tr>\n",
       "      <th>3275</th>\n",
       "      <td>4/19/22</td>\n",
       "      <td>4462.21</td>\n",
       "    </tr>\n",
       "  </tbody>\n",
       "</table>\n",
       "</div>"
      ],
      "text/plain": [
       "         date    value\n",
       "3271  4/12/22  4397.45\n",
       "3272  4/13/22  4446.59\n",
       "3273  4/14/22  4392.59\n",
       "3274  4/18/22  4391.69\n",
       "3275  4/19/22  4462.21"
      ]
     },
     "execution_count": 5,
     "metadata": {},
     "output_type": "execute_result"
    }
   ],
   "source": [
    "SP500.tail()"
   ]
  },
  {
   "cell_type": "markdown",
   "id": "f4c2d4c5",
   "metadata": {},
   "source": [
    "### Dropping NaN's from S&P 500"
   ]
  },
  {
   "cell_type": "code",
   "execution_count": 25,
   "id": "8bd22a09",
   "metadata": {},
   "outputs": [],
   "source": [
    "SP500.dropna(inplace=True)"
   ]
  },
  {
   "cell_type": "code",
   "execution_count": 26,
   "id": "c8578dd5",
   "metadata": {},
   "outputs": [
    {
     "data": {
      "text/html": [
       "<div>\n",
       "<style scoped>\n",
       "    .dataframe tbody tr th:only-of-type {\n",
       "        vertical-align: middle;\n",
       "    }\n",
       "\n",
       "    .dataframe tbody tr th {\n",
       "        vertical-align: top;\n",
       "    }\n",
       "\n",
       "    .dataframe thead th {\n",
       "        text-align: right;\n",
       "    }\n",
       "</style>\n",
       "<table border=\"1\" class=\"dataframe\">\n",
       "  <thead>\n",
       "    <tr style=\"text-align: right;\">\n",
       "      <th></th>\n",
       "      <th>date</th>\n",
       "      <th>value</th>\n",
       "    </tr>\n",
       "  </thead>\n",
       "  <tbody>\n",
       "    <tr>\n",
       "      <th>3271</th>\n",
       "      <td>4/12/22</td>\n",
       "      <td>4397.45</td>\n",
       "    </tr>\n",
       "    <tr>\n",
       "      <th>3272</th>\n",
       "      <td>4/13/22</td>\n",
       "      <td>4446.59</td>\n",
       "    </tr>\n",
       "    <tr>\n",
       "      <th>3273</th>\n",
       "      <td>4/14/22</td>\n",
       "      <td>4392.59</td>\n",
       "    </tr>\n",
       "    <tr>\n",
       "      <th>3274</th>\n",
       "      <td>4/18/22</td>\n",
       "      <td>4391.69</td>\n",
       "    </tr>\n",
       "    <tr>\n",
       "      <th>3275</th>\n",
       "      <td>4/19/22</td>\n",
       "      <td>4462.21</td>\n",
       "    </tr>\n",
       "  </tbody>\n",
       "</table>\n",
       "</div>"
      ],
      "text/plain": [
       "         date    value\n",
       "3271  4/12/22  4397.45\n",
       "3272  4/13/22  4446.59\n",
       "3273  4/14/22  4392.59\n",
       "3274  4/18/22  4391.69\n",
       "3275  4/19/22  4462.21"
      ]
     },
     "execution_count": 26,
     "metadata": {},
     "output_type": "execute_result"
    }
   ],
   "source": [
    "SP500.tail()"
   ]
  },
  {
   "cell_type": "code",
   "execution_count": 27,
   "id": "8b111bcb",
   "metadata": {},
   "outputs": [
    {
     "data": {
      "text/plain": [
       "<bound method DataFrame.info of          date    value\n",
       "0     4/20/09   832.39\n",
       "1     4/21/09   850.08\n",
       "2     4/22/09   843.55\n",
       "3     4/23/09   851.92\n",
       "4     4/24/09   866.23\n",
       "...       ...      ...\n",
       "3271  4/12/22  4397.45\n",
       "3272  4/13/22  4446.59\n",
       "3273  4/14/22  4392.59\n",
       "3274  4/18/22  4391.69\n",
       "3275  4/19/22  4462.21\n",
       "\n",
       "[3276 rows x 2 columns]>"
      ]
     },
     "execution_count": 27,
     "metadata": {},
     "output_type": "execute_result"
    }
   ],
   "source": [
    "SP500.info"
   ]
  },
  {
   "cell_type": "code",
   "execution_count": 28,
   "id": "fb9cc557",
   "metadata": {},
   "outputs": [
    {
     "data": {
      "text/plain": [
       "array([[<AxesSubplot:title={'center':' value'}>]], dtype=object)"
      ]
     },
     "execution_count": 28,
     "metadata": {},
     "output_type": "execute_result"
    },
    {
     "data": {
      "image/png": "[encoded data removed]",
      "text/plain": [
       "<Figure size 432x288 with 1 Axes>"
      ]
     },
     "metadata": {
      "needs_background": "light"
     },
     "output_type": "display_data"
    }
   ],
   "source": [
    "SP500.hist()"
   ]
  },
  {
   "cell_type": "code",
   "execution_count": 29,
   "id": "4e3475c5",
   "metadata": {},
   "outputs": [
    {
     "data": {
      "text/plain": [
       "<AxesSubplot:>"
      ]
     },
     "execution_count": 29,
     "metadata": {},
     "output_type": "execute_result"
    },
    {
     "data": {
      "image/png": "[encoded data removed]",
      "text/plain": [
       "<Figure size 432x288 with 1 Axes>"
      ]
     },
     "metadata": {
      "needs_background": "light"
     },
     "output_type": "display_data"
    }
   ],
   "source": [
    "SP500['date'].hist()"
   ]
  },
  {
   "cell_type": "markdown",
   "id": "1f3d69c2",
   "metadata": {},
   "source": [
    "## US GDP Dataset "
   ]
  },
  {
   "cell_type": "code",
   "execution_count": 30,
   "id": "a5a1c406",
   "metadata": {},
   "outputs": [],
   "source": [
    "GDP = pd.read_csv(\"/Users/darringtonhenderson/Documents/GitHub Final/WozUFinalProject/FinalProject/Data/HistoricalUSIndicatorGDP.csv\")"
   ]
  },
  {
   "cell_type": "code",
   "execution_count": 31,
   "id": "9dbb4b34",
   "metadata": {},
   "outputs": [
    {
     "data": {
      "text/html": [
       "<div>\n",
       "<style scoped>\n",
       "    .dataframe tbody tr th:only-of-type {\n",
       "        vertical-align: middle;\n",
       "    }\n",
       "\n",
       "    .dataframe tbody tr th {\n",
       "        vertical-align: top;\n",
       "    }\n",
       "\n",
       "    .dataframe thead th {\n",
       "        text-align: right;\n",
       "    }\n",
       "</style>\n",
       "<table border=\"1\" class=\"dataframe\">\n",
       "  <thead>\n",
       "    <tr style=\"text-align: right;\">\n",
       "      <th></th>\n",
       "      <th>Country</th>\n",
       "      <th>Category</th>\n",
       "      <th>DateTime</th>\n",
       "      <th>Value</th>\n",
       "      <th>Frequency</th>\n",
       "      <th>HistoricalDataSymbol</th>\n",
       "      <th>LastUpdate</th>\n",
       "    </tr>\n",
       "  </thead>\n",
       "  <tbody>\n",
       "    <tr>\n",
       "      <th>0</th>\n",
       "      <td>United States</td>\n",
       "      <td>GDP</td>\n",
       "      <td>1960-12-31T00:00:00</td>\n",
       "      <td>543.3</td>\n",
       "      <td>Yearly</td>\n",
       "      <td>WGDPUS</td>\n",
       "      <td>2017-01-04T14:27:00</td>\n",
       "    </tr>\n",
       "    <tr>\n",
       "      <th>1</th>\n",
       "      <td>United States</td>\n",
       "      <td>GDP</td>\n",
       "      <td>1961-12-31T00:00:00</td>\n",
       "      <td>563.3</td>\n",
       "      <td>Yearly</td>\n",
       "      <td>WGDPUS</td>\n",
       "      <td>2017-01-04T14:27:00</td>\n",
       "    </tr>\n",
       "    <tr>\n",
       "      <th>2</th>\n",
       "      <td>United States</td>\n",
       "      <td>GDP</td>\n",
       "      <td>1962-12-31T00:00:00</td>\n",
       "      <td>605.1</td>\n",
       "      <td>Yearly</td>\n",
       "      <td>WGDPUS</td>\n",
       "      <td>2017-01-04T14:27:00</td>\n",
       "    </tr>\n",
       "    <tr>\n",
       "      <th>3</th>\n",
       "      <td>United States</td>\n",
       "      <td>GDP</td>\n",
       "      <td>1963-12-31T00:00:00</td>\n",
       "      <td>638.6</td>\n",
       "      <td>Yearly</td>\n",
       "      <td>WGDPUS</td>\n",
       "      <td>2017-01-04T14:27:00</td>\n",
       "    </tr>\n",
       "    <tr>\n",
       "      <th>4</th>\n",
       "      <td>United States</td>\n",
       "      <td>GDP</td>\n",
       "      <td>1964-12-31T00:00:00</td>\n",
       "      <td>685.8</td>\n",
       "      <td>Yearly</td>\n",
       "      <td>WGDPUS</td>\n",
       "      <td>2017-01-04T14:27:00</td>\n",
       "    </tr>\n",
       "  </tbody>\n",
       "</table>\n",
       "</div>"
      ],
      "text/plain": [
       "         Country Category             DateTime  Value Frequency  \\\n",
       "0  United States      GDP  1960-12-31T00:00:00  543.3    Yearly   \n",
       "1  United States      GDP  1961-12-31T00:00:00  563.3    Yearly   \n",
       "2  United States      GDP  1962-12-31T00:00:00  605.1    Yearly   \n",
       "3  United States      GDP  1963-12-31T00:00:00  638.6    Yearly   \n",
       "4  United States      GDP  1964-12-31T00:00:00  685.8    Yearly   \n",
       "\n",
       "  HistoricalDataSymbol           LastUpdate  \n",
       "0               WGDPUS  2017-01-04T14:27:00  \n",
       "1               WGDPUS  2017-01-04T14:27:00  \n",
       "2               WGDPUS  2017-01-04T14:27:00  \n",
       "3               WGDPUS  2017-01-04T14:27:00  \n",
       "4               WGDPUS  2017-01-04T14:27:00  "
      ]
     },
     "execution_count": 31,
     "metadata": {},
     "output_type": "execute_result"
    }
   ],
   "source": [
    "GDP.head()"
   ]
  },
  {
   "cell_type": "code",
   "execution_count": 32,
   "id": "fa898d6e",
   "metadata": {},
   "outputs": [
    {
     "data": {
      "text/html": [
       "<div>\n",
       "<style scoped>\n",
       "    .dataframe tbody tr th:only-of-type {\n",
       "        vertical-align: middle;\n",
       "    }\n",
       "\n",
       "    .dataframe tbody tr th {\n",
       "        vertical-align: top;\n",
       "    }\n",
       "\n",
       "    .dataframe thead th {\n",
       "        text-align: right;\n",
       "    }\n",
       "</style>\n",
       "<table border=\"1\" class=\"dataframe\">\n",
       "  <thead>\n",
       "    <tr style=\"text-align: right;\">\n",
       "      <th></th>\n",
       "      <th>Country</th>\n",
       "      <th>Category</th>\n",
       "      <th>DateTime</th>\n",
       "      <th>Value</th>\n",
       "      <th>Frequency</th>\n",
       "      <th>HistoricalDataSymbol</th>\n",
       "      <th>LastUpdate</th>\n",
       "    </tr>\n",
       "  </thead>\n",
       "  <tbody>\n",
       "    <tr>\n",
       "      <th>56</th>\n",
       "      <td>United States</td>\n",
       "      <td>GDP</td>\n",
       "      <td>2016-12-31T00:00:00</td>\n",
       "      <td>18745.08</td>\n",
       "      <td>Yearly</td>\n",
       "      <td>WGDPUS</td>\n",
       "      <td>2021-07-05T14:17:00</td>\n",
       "    </tr>\n",
       "    <tr>\n",
       "      <th>57</th>\n",
       "      <td>United States</td>\n",
       "      <td>GDP</td>\n",
       "      <td>2017-12-31T00:00:00</td>\n",
       "      <td>19542.98</td>\n",
       "      <td>Yearly</td>\n",
       "      <td>WGDPUS</td>\n",
       "      <td>2021-07-05T14:17:00</td>\n",
       "    </tr>\n",
       "    <tr>\n",
       "      <th>58</th>\n",
       "      <td>United States</td>\n",
       "      <td>GDP</td>\n",
       "      <td>2018-12-31T00:00:00</td>\n",
       "      <td>20611.86</td>\n",
       "      <td>Yearly</td>\n",
       "      <td>WGDPUS</td>\n",
       "      <td>2021-07-05T14:17:00</td>\n",
       "    </tr>\n",
       "    <tr>\n",
       "      <th>59</th>\n",
       "      <td>United States</td>\n",
       "      <td>GDP</td>\n",
       "      <td>2019-12-31T00:00:00</td>\n",
       "      <td>21433.22</td>\n",
       "      <td>Yearly</td>\n",
       "      <td>WGDPUS</td>\n",
       "      <td>2021-07-05T14:17:00</td>\n",
       "    </tr>\n",
       "    <tr>\n",
       "      <th>60</th>\n",
       "      <td>United States</td>\n",
       "      <td>GDP</td>\n",
       "      <td>2020-12-31T00:00:00</td>\n",
       "      <td>20936.60</td>\n",
       "      <td>Yearly</td>\n",
       "      <td>WGDPUS</td>\n",
       "      <td>2021-07-02T08:43:00</td>\n",
       "    </tr>\n",
       "  </tbody>\n",
       "</table>\n",
       "</div>"
      ],
      "text/plain": [
       "          Country Category             DateTime     Value Frequency  \\\n",
       "56  United States      GDP  2016-12-31T00:00:00  18745.08    Yearly   \n",
       "57  United States      GDP  2017-12-31T00:00:00  19542.98    Yearly   \n",
       "58  United States      GDP  2018-12-31T00:00:00  20611.86    Yearly   \n",
       "59  United States      GDP  2019-12-31T00:00:00  21433.22    Yearly   \n",
       "60  United States      GDP  2020-12-31T00:00:00  20936.60    Yearly   \n",
       "\n",
       "   HistoricalDataSymbol           LastUpdate  \n",
       "56               WGDPUS  2021-07-05T14:17:00  \n",
       "57               WGDPUS  2021-07-05T14:17:00  \n",
       "58               WGDPUS  2021-07-05T14:17:00  \n",
       "59               WGDPUS  2021-07-05T14:17:00  \n",
       "60               WGDPUS  2021-07-02T08:43:00  "
      ]
     },
     "execution_count": 32,
     "metadata": {},
     "output_type": "execute_result"
    }
   ],
   "source": [
    "GDP.tail()"
   ]
  },
  {
   "cell_type": "markdown",
   "id": "ef204c15",
   "metadata": {},
   "source": [
    "### Dropping 'HistoricalDataSymbol', 'LastUpdate' Columns from US GDP"
   ]
  },
  {
   "cell_type": "code",
   "execution_count": 33,
   "id": "3a2b8b17",
   "metadata": {},
   "outputs": [],
   "source": [
    "GDP.drop(['HistoricalDataSymbol', 'LastUpdate'], axis=1, inplace=True)"
   ]
  },
  {
   "cell_type": "code",
   "execution_count": 34,
   "id": "4e6bcd4b",
   "metadata": {},
   "outputs": [
    {
     "data": {
      "text/html": [
       "<div>\n",
       "<style scoped>\n",
       "    .dataframe tbody tr th:only-of-type {\n",
       "        vertical-align: middle;\n",
       "    }\n",
       "\n",
       "    .dataframe tbody tr th {\n",
       "        vertical-align: top;\n",
       "    }\n",
       "\n",
       "    .dataframe thead th {\n",
       "        text-align: right;\n",
       "    }\n",
       "</style>\n",
       "<table border=\"1\" class=\"dataframe\">\n",
       "  <thead>\n",
       "    <tr style=\"text-align: right;\">\n",
       "      <th></th>\n",
       "      <th>Country</th>\n",
       "      <th>Category</th>\n",
       "      <th>DateTime</th>\n",
       "      <th>Value</th>\n",
       "      <th>Frequency</th>\n",
       "    </tr>\n",
       "  </thead>\n",
       "  <tbody>\n",
       "    <tr>\n",
       "      <th>0</th>\n",
       "      <td>United States</td>\n",
       "      <td>GDP</td>\n",
       "      <td>1960-12-31T00:00:00</td>\n",
       "      <td>543.3</td>\n",
       "      <td>Yearly</td>\n",
       "    </tr>\n",
       "    <tr>\n",
       "      <th>1</th>\n",
       "      <td>United States</td>\n",
       "      <td>GDP</td>\n",
       "      <td>1961-12-31T00:00:00</td>\n",
       "      <td>563.3</td>\n",
       "      <td>Yearly</td>\n",
       "    </tr>\n",
       "    <tr>\n",
       "      <th>2</th>\n",
       "      <td>United States</td>\n",
       "      <td>GDP</td>\n",
       "      <td>1962-12-31T00:00:00</td>\n",
       "      <td>605.1</td>\n",
       "      <td>Yearly</td>\n",
       "    </tr>\n",
       "    <tr>\n",
       "      <th>3</th>\n",
       "      <td>United States</td>\n",
       "      <td>GDP</td>\n",
       "      <td>1963-12-31T00:00:00</td>\n",
       "      <td>638.6</td>\n",
       "      <td>Yearly</td>\n",
       "    </tr>\n",
       "    <tr>\n",
       "      <th>4</th>\n",
       "      <td>United States</td>\n",
       "      <td>GDP</td>\n",
       "      <td>1964-12-31T00:00:00</td>\n",
       "      <td>685.8</td>\n",
       "      <td>Yearly</td>\n",
       "    </tr>\n",
       "  </tbody>\n",
       "</table>\n",
       "</div>"
      ],
      "text/plain": [
       "         Country Category             DateTime  Value Frequency\n",
       "0  United States      GDP  1960-12-31T00:00:00  543.3    Yearly\n",
       "1  United States      GDP  1961-12-31T00:00:00  563.3    Yearly\n",
       "2  United States      GDP  1962-12-31T00:00:00  605.1    Yearly\n",
       "3  United States      GDP  1963-12-31T00:00:00  638.6    Yearly\n",
       "4  United States      GDP  1964-12-31T00:00:00  685.8    Yearly"
      ]
     },
     "execution_count": 34,
     "metadata": {},
     "output_type": "execute_result"
    }
   ],
   "source": [
    "GDP.head()"
   ]
  },
  {
   "cell_type": "code",
   "execution_count": 35,
   "id": "79a1dff5",
   "metadata": {},
   "outputs": [
    {
     "data": {
      "text/plain": [
       "<bound method DataFrame.info of           Country Category             DateTime     Value Frequency\n",
       "0   United States      GDP  1960-12-31T00:00:00    543.30    Yearly\n",
       "1   United States      GDP  1961-12-31T00:00:00    563.30    Yearly\n",
       "2   United States      GDP  1962-12-31T00:00:00    605.10    Yearly\n",
       "3   United States      GDP  1963-12-31T00:00:00    638.60    Yearly\n",
       "4   United States      GDP  1964-12-31T00:00:00    685.80    Yearly\n",
       "..            ...      ...                  ...       ...       ...\n",
       "56  United States      GDP  2016-12-31T00:00:00  18745.08    Yearly\n",
       "57  United States      GDP  2017-12-31T00:00:00  19542.98    Yearly\n",
       "58  United States      GDP  2018-12-31T00:00:00  20611.86    Yearly\n",
       "59  United States      GDP  2019-12-31T00:00:00  21433.22    Yearly\n",
       "60  United States      GDP  2020-12-31T00:00:00  20936.60    Yearly\n",
       "\n",
       "[61 rows x 5 columns]>"
      ]
     },
     "execution_count": 35,
     "metadata": {},
     "output_type": "execute_result"
    }
   ],
   "source": [
    "GDP.info"
   ]
  },
  {
   "cell_type": "code",
   "execution_count": 36,
   "id": "081d9d12",
   "metadata": {},
   "outputs": [
    {
     "data": {
      "text/plain": [
       "array([[<AxesSubplot:title={'center':'Value'}>]], dtype=object)"
      ]
     },
     "execution_count": 36,
     "metadata": {},
     "output_type": "execute_result"
    },
    {
     "data": {
      "image/png": "[encoded data removed]",
      "text/plain": [
       "<Figure size 432x288 with 1 Axes>"
      ]
     },
     "metadata": {
      "needs_background": "light"
     },
     "output_type": "display_data"
    }
   ],
   "source": [
    "GDP.hist()"
   ]
  },
  {
   "cell_type": "markdown",
   "id": "e9139e31",
   "metadata": {},
   "source": [
    "### Single Sample T-test"
   ]
  },
  {
   "cell_type": "markdown",
   "id": "bd51b650",
   "metadata": {},
   "source": [
    "Testing single-sample t-test to examine whether a particular value is different than the population mean"
   ]
  },
  {
   "cell_type": "code",
   "execution_count": 37,
   "id": "294d8ac7",
   "metadata": {},
   "outputs": [
    {
     "data": {
      "text/plain": [
       "<AxesSubplot:>"
      ]
     },
     "execution_count": 37,
     "metadata": {},
     "output_type": "execute_result"
    },
    {
     "data": {
      "image/png": "[encoded data removed]",
      "text/plain": [
       "<Figure size 432x288 with 1 Axes>"
      ]
     },
     "metadata": {
      "needs_background": "light"
     },
     "output_type": "display_data"
    }
   ],
   "source": [
    "GDP['Value'].hist()"
   ]
  },
  {
   "cell_type": "code",
   "execution_count": 38,
   "id": "eae30c5d",
   "metadata": {},
   "outputs": [
    {
     "data": {
      "text/plain": [
       "Ttest_1sampResult(statistic=-8.808513659091158, pvalue=2.075498571926247e-12)"
      ]
     },
     "execution_count": 38,
     "metadata": {},
     "output_type": "execute_result"
    }
   ],
   "source": [
    "stats.ttest_1samp(GDP['Value'], 15000)"
   ]
  },
  {
   "cell_type": "markdown",
   "id": "cf153c17",
   "metadata": {},
   "source": [
    "### US GDP Full Year Growth Dataset "
   ]
  },
  {
   "cell_type": "code",
   "execution_count": 39,
   "id": "2ac203f4",
   "metadata": {},
   "outputs": [],
   "source": [
    "FullYearGDP = pd.read_csv(\"/Users/darringtonhenderson/Documents/GitHub Final/WozUFinalProject/FinalProject/Data/HistoricalUSFullYearGDPGrowth.csv\")"
   ]
  },
  {
   "cell_type": "code",
   "execution_count": 40,
   "id": "d23d15a5",
   "metadata": {},
   "outputs": [
    {
     "data": {
      "text/html": [
       "<div>\n",
       "<style scoped>\n",
       "    .dataframe tbody tr th:only-of-type {\n",
       "        vertical-align: middle;\n",
       "    }\n",
       "\n",
       "    .dataframe tbody tr th {\n",
       "        vertical-align: top;\n",
       "    }\n",
       "\n",
       "    .dataframe thead th {\n",
       "        text-align: right;\n",
       "    }\n",
       "</style>\n",
       "<table border=\"1\" class=\"dataframe\">\n",
       "  <thead>\n",
       "    <tr style=\"text-align: right;\">\n",
       "      <th></th>\n",
       "      <th>Country</th>\n",
       "      <th>Category</th>\n",
       "      <th>DateTime</th>\n",
       "      <th>Value</th>\n",
       "      <th>Frequency</th>\n",
       "      <th>HistoricalDataSymbol</th>\n",
       "      <th>LastUpdate</th>\n",
       "    </tr>\n",
       "  </thead>\n",
       "  <tbody>\n",
       "    <tr>\n",
       "      <th>0</th>\n",
       "      <td>United States</td>\n",
       "      <td>Full Year GDP Growth</td>\n",
       "      <td>1950-12-31T00:00:00</td>\n",
       "      <td>8.7</td>\n",
       "      <td>Yearly</td>\n",
       "      <td>USAFYGG</td>\n",
       "      <td>2022-01-27T11:36:00</td>\n",
       "    </tr>\n",
       "    <tr>\n",
       "      <th>1</th>\n",
       "      <td>United States</td>\n",
       "      <td>Full Year GDP Growth</td>\n",
       "      <td>1951-12-31T00:00:00</td>\n",
       "      <td>8.0</td>\n",
       "      <td>Yearly</td>\n",
       "      <td>USAFYGG</td>\n",
       "      <td>2022-01-27T11:36:00</td>\n",
       "    </tr>\n",
       "    <tr>\n",
       "      <th>2</th>\n",
       "      <td>United States</td>\n",
       "      <td>Full Year GDP Growth</td>\n",
       "      <td>1952-12-31T00:00:00</td>\n",
       "      <td>4.1</td>\n",
       "      <td>Yearly</td>\n",
       "      <td>USAFYGG</td>\n",
       "      <td>2022-01-27T11:36:00</td>\n",
       "    </tr>\n",
       "    <tr>\n",
       "      <th>3</th>\n",
       "      <td>United States</td>\n",
       "      <td>Full Year GDP Growth</td>\n",
       "      <td>1953-12-31T00:00:00</td>\n",
       "      <td>4.7</td>\n",
       "      <td>Yearly</td>\n",
       "      <td>USAFYGG</td>\n",
       "      <td>2022-01-27T11:36:00</td>\n",
       "    </tr>\n",
       "    <tr>\n",
       "      <th>4</th>\n",
       "      <td>United States</td>\n",
       "      <td>Full Year GDP Growth</td>\n",
       "      <td>1954-12-31T00:00:00</td>\n",
       "      <td>-0.6</td>\n",
       "      <td>Yearly</td>\n",
       "      <td>USAFYGG</td>\n",
       "      <td>2022-01-27T11:36:00</td>\n",
       "    </tr>\n",
       "  </tbody>\n",
       "</table>\n",
       "</div>"
      ],
      "text/plain": [
       "         Country              Category             DateTime  Value Frequency  \\\n",
       "0  United States  Full Year GDP Growth  1950-12-31T00:00:00    8.7    Yearly   \n",
       "1  United States  Full Year GDP Growth  1951-12-31T00:00:00    8.0    Yearly   \n",
       "2  United States  Full Year GDP Growth  1952-12-31T00:00:00    4.1    Yearly   \n",
       "3  United States  Full Year GDP Growth  1953-12-31T00:00:00    4.7    Yearly   \n",
       "4  United States  Full Year GDP Growth  1954-12-31T00:00:00   -0.6    Yearly   \n",
       "\n",
       "  HistoricalDataSymbol           LastUpdate  \n",
       "0              USAFYGG  2022-01-27T11:36:00  \n",
       "1              USAFYGG  2022-01-27T11:36:00  \n",
       "2              USAFYGG  2022-01-27T11:36:00  \n",
       "3              USAFYGG  2022-01-27T11:36:00  \n",
       "4              USAFYGG  2022-01-27T11:36:00  "
      ]
     },
     "execution_count": 40,
     "metadata": {},
     "output_type": "execute_result"
    }
   ],
   "source": [
    "FullYearGDP.head()"
   ]
  },
  {
   "cell_type": "code",
   "execution_count": 41,
   "id": "d13bc1b0",
   "metadata": {},
   "outputs": [
    {
     "data": {
      "text/html": [
       "<div>\n",
       "<style scoped>\n",
       "    .dataframe tbody tr th:only-of-type {\n",
       "        vertical-align: middle;\n",
       "    }\n",
       "\n",
       "    .dataframe tbody tr th {\n",
       "        vertical-align: top;\n",
       "    }\n",
       "\n",
       "    .dataframe thead th {\n",
       "        text-align: right;\n",
       "    }\n",
       "</style>\n",
       "<table border=\"1\" class=\"dataframe\">\n",
       "  <thead>\n",
       "    <tr style=\"text-align: right;\">\n",
       "      <th></th>\n",
       "      <th>Country</th>\n",
       "      <th>Category</th>\n",
       "      <th>DateTime</th>\n",
       "      <th>Value</th>\n",
       "      <th>Frequency</th>\n",
       "      <th>HistoricalDataSymbol</th>\n",
       "      <th>LastUpdate</th>\n",
       "    </tr>\n",
       "  </thead>\n",
       "  <tbody>\n",
       "    <tr>\n",
       "      <th>67</th>\n",
       "      <td>United States</td>\n",
       "      <td>Full Year GDP Growth</td>\n",
       "      <td>2017-12-31T00:00:00</td>\n",
       "      <td>2.3</td>\n",
       "      <td>Yearly</td>\n",
       "      <td>USAFYGG</td>\n",
       "      <td>2022-01-27T11:36:00</td>\n",
       "    </tr>\n",
       "    <tr>\n",
       "      <th>68</th>\n",
       "      <td>United States</td>\n",
       "      <td>Full Year GDP Growth</td>\n",
       "      <td>2018-12-31T00:00:00</td>\n",
       "      <td>2.9</td>\n",
       "      <td>Yearly</td>\n",
       "      <td>USAFYGG</td>\n",
       "      <td>2022-01-27T11:36:00</td>\n",
       "    </tr>\n",
       "    <tr>\n",
       "      <th>69</th>\n",
       "      <td>United States</td>\n",
       "      <td>Full Year GDP Growth</td>\n",
       "      <td>2019-12-31T00:00:00</td>\n",
       "      <td>2.3</td>\n",
       "      <td>Yearly</td>\n",
       "      <td>USAFYGG</td>\n",
       "      <td>2022-01-27T11:36:00</td>\n",
       "    </tr>\n",
       "    <tr>\n",
       "      <th>70</th>\n",
       "      <td>United States</td>\n",
       "      <td>Full Year GDP Growth</td>\n",
       "      <td>2020-12-31T00:00:00</td>\n",
       "      <td>-3.4</td>\n",
       "      <td>Yearly</td>\n",
       "      <td>USAFYGG</td>\n",
       "      <td>2022-01-27T11:36:00</td>\n",
       "    </tr>\n",
       "    <tr>\n",
       "      <th>71</th>\n",
       "      <td>United States</td>\n",
       "      <td>Full Year GDP Growth</td>\n",
       "      <td>2021-12-31T00:00:00</td>\n",
       "      <td>5.7</td>\n",
       "      <td>Yearly</td>\n",
       "      <td>USAFYGG</td>\n",
       "      <td>2022-01-27T13:39:00</td>\n",
       "    </tr>\n",
       "  </tbody>\n",
       "</table>\n",
       "</div>"
      ],
      "text/plain": [
       "          Country              Category             DateTime  Value Frequency  \\\n",
       "67  United States  Full Year GDP Growth  2017-12-31T00:00:00    2.3    Yearly   \n",
       "68  United States  Full Year GDP Growth  2018-12-31T00:00:00    2.9    Yearly   \n",
       "69  United States  Full Year GDP Growth  2019-12-31T00:00:00    2.3    Yearly   \n",
       "70  United States  Full Year GDP Growth  2020-12-31T00:00:00   -3.4    Yearly   \n",
       "71  United States  Full Year GDP Growth  2021-12-31T00:00:00    5.7    Yearly   \n",
       "\n",
       "   HistoricalDataSymbol           LastUpdate  \n",
       "67              USAFYGG  2022-01-27T11:36:00  \n",
       "68              USAFYGG  2022-01-27T11:36:00  \n",
       "69              USAFYGG  2022-01-27T11:36:00  \n",
       "70              USAFYGG  2022-01-27T11:36:00  \n",
       "71              USAFYGG  2022-01-27T13:39:00  "
      ]
     },
     "execution_count": 41,
     "metadata": {},
     "output_type": "execute_result"
    }
   ],
   "source": [
    "FullYearGDP.tail()"
   ]
  },
  {
   "cell_type": "markdown",
   "id": "ecb9e862",
   "metadata": {},
   "source": [
    "### Dropping 'HistoricalDataSymbol', 'LastUpdate' Columns from  FullYearGDP"
   ]
  },
  {
   "cell_type": "code",
   "execution_count": 42,
   "id": "b796a5ca",
   "metadata": {},
   "outputs": [],
   "source": [
    "FullYearGDP.drop(['HistoricalDataSymbol', 'LastUpdate'], axis=1, inplace=True)"
   ]
  },
  {
   "cell_type": "code",
   "execution_count": 43,
   "id": "1c212afe",
   "metadata": {},
   "outputs": [
    {
     "data": {
      "text/html": [
       "<div>\n",
       "<style scoped>\n",
       "    .dataframe tbody tr th:only-of-type {\n",
       "        vertical-align: middle;\n",
       "    }\n",
       "\n",
       "    .dataframe tbody tr th {\n",
       "        vertical-align: top;\n",
       "    }\n",
       "\n",
       "    .dataframe thead th {\n",
       "        text-align: right;\n",
       "    }\n",
       "</style>\n",
       "<table border=\"1\" class=\"dataframe\">\n",
       "  <thead>\n",
       "    <tr style=\"text-align: right;\">\n",
       "      <th></th>\n",
       "      <th>Country</th>\n",
       "      <th>Category</th>\n",
       "      <th>DateTime</th>\n",
       "      <th>Value</th>\n",
       "      <th>Frequency</th>\n",
       "    </tr>\n",
       "  </thead>\n",
       "  <tbody>\n",
       "    <tr>\n",
       "      <th>0</th>\n",
       "      <td>United States</td>\n",
       "      <td>Full Year GDP Growth</td>\n",
       "      <td>1950-12-31T00:00:00</td>\n",
       "      <td>8.7</td>\n",
       "      <td>Yearly</td>\n",
       "    </tr>\n",
       "    <tr>\n",
       "      <th>1</th>\n",
       "      <td>United States</td>\n",
       "      <td>Full Year GDP Growth</td>\n",
       "      <td>1951-12-31T00:00:00</td>\n",
       "      <td>8.0</td>\n",
       "      <td>Yearly</td>\n",
       "    </tr>\n",
       "    <tr>\n",
       "      <th>2</th>\n",
       "      <td>United States</td>\n",
       "      <td>Full Year GDP Growth</td>\n",
       "      <td>1952-12-31T00:00:00</td>\n",
       "      <td>4.1</td>\n",
       "      <td>Yearly</td>\n",
       "    </tr>\n",
       "    <tr>\n",
       "      <th>3</th>\n",
       "      <td>United States</td>\n",
       "      <td>Full Year GDP Growth</td>\n",
       "      <td>1953-12-31T00:00:00</td>\n",
       "      <td>4.7</td>\n",
       "      <td>Yearly</td>\n",
       "    </tr>\n",
       "    <tr>\n",
       "      <th>4</th>\n",
       "      <td>United States</td>\n",
       "      <td>Full Year GDP Growth</td>\n",
       "      <td>1954-12-31T00:00:00</td>\n",
       "      <td>-0.6</td>\n",
       "      <td>Yearly</td>\n",
       "    </tr>\n",
       "  </tbody>\n",
       "</table>\n",
       "</div>"
      ],
      "text/plain": [
       "         Country              Category             DateTime  Value Frequency\n",
       "0  United States  Full Year GDP Growth  1950-12-31T00:00:00    8.7    Yearly\n",
       "1  United States  Full Year GDP Growth  1951-12-31T00:00:00    8.0    Yearly\n",
       "2  United States  Full Year GDP Growth  1952-12-31T00:00:00    4.1    Yearly\n",
       "3  United States  Full Year GDP Growth  1953-12-31T00:00:00    4.7    Yearly\n",
       "4  United States  Full Year GDP Growth  1954-12-31T00:00:00   -0.6    Yearly"
      ]
     },
     "execution_count": 43,
     "metadata": {},
     "output_type": "execute_result"
    }
   ],
   "source": [
    "FullYearGDP.head()"
   ]
  },
  {
   "cell_type": "code",
   "execution_count": 44,
   "id": "b5218313",
   "metadata": {},
   "outputs": [
    {
     "data": {
      "text/plain": [
       "<bound method DataFrame.info of           Country              Category             DateTime  Value Frequency\n",
       "0   United States  Full Year GDP Growth  1950-12-31T00:00:00    8.7    Yearly\n",
       "1   United States  Full Year GDP Growth  1951-12-31T00:00:00    8.0    Yearly\n",
       "2   United States  Full Year GDP Growth  1952-12-31T00:00:00    4.1    Yearly\n",
       "3   United States  Full Year GDP Growth  1953-12-31T00:00:00    4.7    Yearly\n",
       "4   United States  Full Year GDP Growth  1954-12-31T00:00:00   -0.6    Yearly\n",
       "..            ...                   ...                  ...    ...       ...\n",
       "67  United States  Full Year GDP Growth  2017-12-31T00:00:00    2.3    Yearly\n",
       "68  United States  Full Year GDP Growth  2018-12-31T00:00:00    2.9    Yearly\n",
       "69  United States  Full Year GDP Growth  2019-12-31T00:00:00    2.3    Yearly\n",
       "70  United States  Full Year GDP Growth  2020-12-31T00:00:00   -3.4    Yearly\n",
       "71  United States  Full Year GDP Growth  2021-12-31T00:00:00    5.7    Yearly\n",
       "\n",
       "[72 rows x 5 columns]>"
      ]
     },
     "execution_count": 44,
     "metadata": {},
     "output_type": "execute_result"
    }
   ],
   "source": [
    "FullYearGDP.info"
   ]
  },
  {
   "cell_type": "code",
   "execution_count": 45,
   "id": "9ae56cac",
   "metadata": {},
   "outputs": [
    {
     "data": {
      "text/plain": [
       "array([[<AxesSubplot:title={'center':'Value'}>]], dtype=object)"
      ]
     },
     "execution_count": 45,
     "metadata": {},
     "output_type": "execute_result"
    },
    {
     "data": {
      "image/png": "[encoded data removed]",
      "text/plain": [
       "<Figure size 432x288 with 1 Axes>"
      ]
     },
     "metadata": {
      "needs_background": "light"
     },
     "output_type": "display_data"
    }
   ],
   "source": [
    "FullYearGDP.hist()"
   ]
  },
  {
   "cell_type": "markdown",
   "id": "082707ec",
   "metadata": {},
   "source": [
    "### Single Sample T-test"
   ]
  },
  {
   "cell_type": "markdown",
   "id": "8008b478",
   "metadata": {},
   "source": [
    "Testing single-sample t-test to examine whether a particular value is different than the population mean"
   ]
  },
  {
   "cell_type": "code",
   "execution_count": 46,
   "id": "81166523",
   "metadata": {},
   "outputs": [
    {
     "data": {
      "text/plain": [
       "<AxesSubplot:>"
      ]
     },
     "execution_count": 46,
     "metadata": {},
     "output_type": "execute_result"
    },
    {
     "data": {
      "image/png": "[encoded data removed]",
      "text/plain": [
       "<Figure size 432x288 with 1 Axes>"
      ]
     },
     "metadata": {
      "needs_background": "light"
     },
     "output_type": "display_data"
    }
   ],
   "source": [
    "FullYearGDP['Value'].hist()"
   ]
  },
  {
   "cell_type": "code",
   "execution_count": 47,
   "id": "e7b3ddff",
   "metadata": {},
   "outputs": [
    {
     "data": {
      "text/plain": [
       "Ttest_1sampResult(statistic=-2.9566555195640682, pvalue=0.004219587925822569)"
      ]
     },
     "execution_count": 47,
     "metadata": {},
     "output_type": "execute_result"
    }
   ],
   "source": [
    "stats.ttest_1samp(FullYearGDP['Value'], 4)"
   ]
  },
  {
   "cell_type": "markdown",
   "id": "184c7a18",
   "metadata": {},
   "source": [
    "## Annual GDP Growth Dataset"
   ]
  },
  {
   "cell_type": "code",
   "execution_count": 51,
   "id": "aa843c95",
   "metadata": {},
   "outputs": [],
   "source": [
    "AnnualGDP = pd.read_csv(\"/Users/darringtonhenderson/Documents/GitHub Final/WozUFinalProject/FinalProject/Data/HistoricalUSGDPAnnualGrowth.csv\")"
   ]
  },
  {
   "cell_type": "code",
   "execution_count": 52,
   "id": "b9b0c338",
   "metadata": {},
   "outputs": [
    {
     "data": {
      "text/html": [
       "<div>\n",
       "<style scoped>\n",
       "    .dataframe tbody tr th:only-of-type {\n",
       "        vertical-align: middle;\n",
       "    }\n",
       "\n",
       "    .dataframe tbody tr th {\n",
       "        vertical-align: top;\n",
       "    }\n",
       "\n",
       "    .dataframe thead th {\n",
       "        text-align: right;\n",
       "    }\n",
       "</style>\n",
       "<table border=\"1\" class=\"dataframe\">\n",
       "  <thead>\n",
       "    <tr style=\"text-align: right;\">\n",
       "      <th></th>\n",
       "      <th>Country</th>\n",
       "      <th>Category</th>\n",
       "      <th>DateTime</th>\n",
       "      <th>Value</th>\n",
       "      <th>Frequency</th>\n",
       "      <th>HistoricalDataSymbol</th>\n",
       "      <th>LastUpdate</th>\n",
       "    </tr>\n",
       "  </thead>\n",
       "  <tbody>\n",
       "    <tr>\n",
       "      <th>0</th>\n",
       "      <td>United States</td>\n",
       "      <td>GDP Annual Growth Rate</td>\n",
       "      <td>1948-03-31T00:00:00</td>\n",
       "      <td>2.6</td>\n",
       "      <td>Quarterly</td>\n",
       "      <td>GDP CYOY</td>\n",
       "      <td>2018-07-27T13:02:00</td>\n",
       "    </tr>\n",
       "    <tr>\n",
       "      <th>1</th>\n",
       "      <td>United States</td>\n",
       "      <td>GDP Annual Growth Rate</td>\n",
       "      <td>1948-06-30T00:00:00</td>\n",
       "      <td>4.6</td>\n",
       "      <td>Quarterly</td>\n",
       "      <td>GDP CYOY</td>\n",
       "      <td>2014-07-30T15:38:00</td>\n",
       "    </tr>\n",
       "    <tr>\n",
       "      <th>2</th>\n",
       "      <td>United States</td>\n",
       "      <td>GDP Annual Growth Rate</td>\n",
       "      <td>1948-09-30T00:00:00</td>\n",
       "      <td>5.4</td>\n",
       "      <td>Quarterly</td>\n",
       "      <td>GDP CYOY</td>\n",
       "      <td>2018-07-27T13:02:00</td>\n",
       "    </tr>\n",
       "    <tr>\n",
       "      <th>3</th>\n",
       "      <td>United States</td>\n",
       "      <td>GDP Annual Growth Rate</td>\n",
       "      <td>1948-12-31T00:00:00</td>\n",
       "      <td>3.9</td>\n",
       "      <td>Quarterly</td>\n",
       "      <td>GDP CYOY</td>\n",
       "      <td>2018-07-27T13:02:00</td>\n",
       "    </tr>\n",
       "    <tr>\n",
       "      <th>4</th>\n",
       "      <td>United States</td>\n",
       "      <td>GDP Annual Growth Rate</td>\n",
       "      <td>1949-03-31T00:00:00</td>\n",
       "      <td>0.9</td>\n",
       "      <td>Quarterly</td>\n",
       "      <td>GDP CYOY</td>\n",
       "      <td>2014-07-30T15:38:00</td>\n",
       "    </tr>\n",
       "  </tbody>\n",
       "</table>\n",
       "</div>"
      ],
      "text/plain": [
       "         Country                Category             DateTime  Value  \\\n",
       "0  United States  GDP Annual Growth Rate  1948-03-31T00:00:00    2.6   \n",
       "1  United States  GDP Annual Growth Rate  1948-06-30T00:00:00    4.6   \n",
       "2  United States  GDP Annual Growth Rate  1948-09-30T00:00:00    5.4   \n",
       "3  United States  GDP Annual Growth Rate  1948-12-31T00:00:00    3.9   \n",
       "4  United States  GDP Annual Growth Rate  1949-03-31T00:00:00    0.9   \n",
       "\n",
       "   Frequency HistoricalDataSymbol           LastUpdate  \n",
       "0  Quarterly             GDP CYOY  2018-07-27T13:02:00  \n",
       "1  Quarterly             GDP CYOY  2014-07-30T15:38:00  \n",
       "2  Quarterly             GDP CYOY  2018-07-27T13:02:00  \n",
       "3  Quarterly             GDP CYOY  2018-07-27T13:02:00  \n",
       "4  Quarterly             GDP CYOY  2014-07-30T15:38:00  "
      ]
     },
     "execution_count": 52,
     "metadata": {},
     "output_type": "execute_result"
    }
   ],
   "source": [
    "AnnualGDP.head()"
   ]
  },
  {
   "cell_type": "code",
   "execution_count": 53,
   "id": "fa6fd5b5",
   "metadata": {},
   "outputs": [
    {
     "data": {
      "text/html": [
       "<div>\n",
       "<style scoped>\n",
       "    .dataframe tbody tr th:only-of-type {\n",
       "        vertical-align: middle;\n",
       "    }\n",
       "\n",
       "    .dataframe tbody tr th {\n",
       "        vertical-align: top;\n",
       "    }\n",
       "\n",
       "    .dataframe thead th {\n",
       "        text-align: right;\n",
       "    }\n",
       "</style>\n",
       "<table border=\"1\" class=\"dataframe\">\n",
       "  <thead>\n",
       "    <tr style=\"text-align: right;\">\n",
       "      <th></th>\n",
       "      <th>Country</th>\n",
       "      <th>Category</th>\n",
       "      <th>DateTime</th>\n",
       "      <th>Value</th>\n",
       "      <th>Frequency</th>\n",
       "      <th>HistoricalDataSymbol</th>\n",
       "      <th>LastUpdate</th>\n",
       "    </tr>\n",
       "  </thead>\n",
       "  <tbody>\n",
       "    <tr>\n",
       "      <th>291</th>\n",
       "      <td>United States</td>\n",
       "      <td>GDP Annual Growth Rate</td>\n",
       "      <td>2020-12-31T00:00:00</td>\n",
       "      <td>-2.3</td>\n",
       "      <td>Quarterly</td>\n",
       "      <td>GDP CYOY</td>\n",
       "      <td>2021-07-29T13:19:00</td>\n",
       "    </tr>\n",
       "    <tr>\n",
       "      <th>292</th>\n",
       "      <td>United States</td>\n",
       "      <td>GDP Annual Growth Rate</td>\n",
       "      <td>2021-03-31T00:00:00</td>\n",
       "      <td>0.5</td>\n",
       "      <td>Quarterly</td>\n",
       "      <td>GDP CYOY</td>\n",
       "      <td>2021-07-29T13:19:00</td>\n",
       "    </tr>\n",
       "    <tr>\n",
       "      <th>293</th>\n",
       "      <td>United States</td>\n",
       "      <td>GDP Annual Growth Rate</td>\n",
       "      <td>2021-06-30T00:00:00</td>\n",
       "      <td>12.2</td>\n",
       "      <td>Quarterly</td>\n",
       "      <td>GDP CYOY</td>\n",
       "      <td>2021-07-29T13:19:00</td>\n",
       "    </tr>\n",
       "    <tr>\n",
       "      <th>294</th>\n",
       "      <td>United States</td>\n",
       "      <td>GDP Annual Growth Rate</td>\n",
       "      <td>2021-09-30T00:00:00</td>\n",
       "      <td>4.9</td>\n",
       "      <td>Quarterly</td>\n",
       "      <td>GDP CYOY</td>\n",
       "      <td>2021-10-28T13:11:00</td>\n",
       "    </tr>\n",
       "    <tr>\n",
       "      <th>295</th>\n",
       "      <td>United States</td>\n",
       "      <td>GDP Annual Growth Rate</td>\n",
       "      <td>2021-12-31T00:00:00</td>\n",
       "      <td>5.5</td>\n",
       "      <td>Quarterly</td>\n",
       "      <td>GDP CYOY</td>\n",
       "      <td>2022-03-30T12:52:00</td>\n",
       "    </tr>\n",
       "  </tbody>\n",
       "</table>\n",
       "</div>"
      ],
      "text/plain": [
       "           Country                Category             DateTime  Value  \\\n",
       "291  United States  GDP Annual Growth Rate  2020-12-31T00:00:00   -2.3   \n",
       "292  United States  GDP Annual Growth Rate  2021-03-31T00:00:00    0.5   \n",
       "293  United States  GDP Annual Growth Rate  2021-06-30T00:00:00   12.2   \n",
       "294  United States  GDP Annual Growth Rate  2021-09-30T00:00:00    4.9   \n",
       "295  United States  GDP Annual Growth Rate  2021-12-31T00:00:00    5.5   \n",
       "\n",
       "     Frequency HistoricalDataSymbol           LastUpdate  \n",
       "291  Quarterly             GDP CYOY  2021-07-29T13:19:00  \n",
       "292  Quarterly             GDP CYOY  2021-07-29T13:19:00  \n",
       "293  Quarterly             GDP CYOY  2021-07-29T13:19:00  \n",
       "294  Quarterly             GDP CYOY  2021-10-28T13:11:00  \n",
       "295  Quarterly             GDP CYOY  2022-03-30T12:52:00  "
      ]
     },
     "execution_count": 53,
     "metadata": {},
     "output_type": "execute_result"
    }
   ],
   "source": [
    "AnnualGDP.tail()"
   ]
  },
  {
   "cell_type": "markdown",
   "id": "6bec19f0",
   "metadata": {},
   "source": [
    "### Dropping 'HistoricalDataSymbol', 'LastUpdate' Columns from  Annual GDP Growth"
   ]
  },
  {
   "cell_type": "code",
   "execution_count": 54,
   "id": "dcfe1d71",
   "metadata": {},
   "outputs": [],
   "source": [
    "AnnualGDP.drop(['HistoricalDataSymbol', 'LastUpdate'], axis=1, inplace=True)"
   ]
  },
  {
   "cell_type": "code",
   "execution_count": 55,
   "id": "469e0c12",
   "metadata": {},
   "outputs": [
    {
     "data": {
      "text/html": [
       "<div>\n",
       "<style scoped>\n",
       "    .dataframe tbody tr th:only-of-type {\n",
       "        vertical-align: middle;\n",
       "    }\n",
       "\n",
       "    .dataframe tbody tr th {\n",
       "        vertical-align: top;\n",
       "    }\n",
       "\n",
       "    .dataframe thead th {\n",
       "        text-align: right;\n",
       "    }\n",
       "</style>\n",
       "<table border=\"1\" class=\"dataframe\">\n",
       "  <thead>\n",
       "    <tr style=\"text-align: right;\">\n",
       "      <th></th>\n",
       "      <th>Country</th>\n",
       "      <th>Category</th>\n",
       "      <th>DateTime</th>\n",
       "      <th>Value</th>\n",
       "      <th>Frequency</th>\n",
       "    </tr>\n",
       "  </thead>\n",
       "  <tbody>\n",
       "    <tr>\n",
       "      <th>0</th>\n",
       "      <td>United States</td>\n",
       "      <td>GDP Annual Growth Rate</td>\n",
       "      <td>1948-03-31T00:00:00</td>\n",
       "      <td>2.6</td>\n",
       "      <td>Quarterly</td>\n",
       "    </tr>\n",
       "    <tr>\n",
       "      <th>1</th>\n",
       "      <td>United States</td>\n",
       "      <td>GDP Annual Growth Rate</td>\n",
       "      <td>1948-06-30T00:00:00</td>\n",
       "      <td>4.6</td>\n",
       "      <td>Quarterly</td>\n",
       "    </tr>\n",
       "    <tr>\n",
       "      <th>2</th>\n",
       "      <td>United States</td>\n",
       "      <td>GDP Annual Growth Rate</td>\n",
       "      <td>1948-09-30T00:00:00</td>\n",
       "      <td>5.4</td>\n",
       "      <td>Quarterly</td>\n",
       "    </tr>\n",
       "    <tr>\n",
       "      <th>3</th>\n",
       "      <td>United States</td>\n",
       "      <td>GDP Annual Growth Rate</td>\n",
       "      <td>1948-12-31T00:00:00</td>\n",
       "      <td>3.9</td>\n",
       "      <td>Quarterly</td>\n",
       "    </tr>\n",
       "    <tr>\n",
       "      <th>4</th>\n",
       "      <td>United States</td>\n",
       "      <td>GDP Annual Growth Rate</td>\n",
       "      <td>1949-03-31T00:00:00</td>\n",
       "      <td>0.9</td>\n",
       "      <td>Quarterly</td>\n",
       "    </tr>\n",
       "  </tbody>\n",
       "</table>\n",
       "</div>"
      ],
      "text/plain": [
       "         Country                Category             DateTime  Value  \\\n",
       "0  United States  GDP Annual Growth Rate  1948-03-31T00:00:00    2.6   \n",
       "1  United States  GDP Annual Growth Rate  1948-06-30T00:00:00    4.6   \n",
       "2  United States  GDP Annual Growth Rate  1948-09-30T00:00:00    5.4   \n",
       "3  United States  GDP Annual Growth Rate  1948-12-31T00:00:00    3.9   \n",
       "4  United States  GDP Annual Growth Rate  1949-03-31T00:00:00    0.9   \n",
       "\n",
       "   Frequency  \n",
       "0  Quarterly  \n",
       "1  Quarterly  \n",
       "2  Quarterly  \n",
       "3  Quarterly  \n",
       "4  Quarterly  "
      ]
     },
     "execution_count": 55,
     "metadata": {},
     "output_type": "execute_result"
    }
   ],
   "source": [
    "AnnualGDP.head()"
   ]
  },
  {
   "cell_type": "code",
   "execution_count": 56,
   "id": "8427e5da",
   "metadata": {},
   "outputs": [
    {
     "data": {
      "text/plain": [
       "<bound method DataFrame.info of            Country                Category             DateTime  Value  \\\n",
       "0    United States  GDP Annual Growth Rate  1948-03-31T00:00:00    2.6   \n",
       "1    United States  GDP Annual Growth Rate  1948-06-30T00:00:00    4.6   \n",
       "2    United States  GDP Annual Growth Rate  1948-09-30T00:00:00    5.4   \n",
       "3    United States  GDP Annual Growth Rate  1948-12-31T00:00:00    3.9   \n",
       "4    United States  GDP Annual Growth Rate  1949-03-31T00:00:00    0.9   \n",
       "..             ...                     ...                  ...    ...   \n",
       "291  United States  GDP Annual Growth Rate  2020-12-31T00:00:00   -2.3   \n",
       "292  United States  GDP Annual Growth Rate  2021-03-31T00:00:00    0.5   \n",
       "293  United States  GDP Annual Growth Rate  2021-06-30T00:00:00   12.2   \n",
       "294  United States  GDP Annual Growth Rate  2021-09-30T00:00:00    4.9   \n",
       "295  United States  GDP Annual Growth Rate  2021-12-31T00:00:00    5.5   \n",
       "\n",
       "     Frequency  \n",
       "0    Quarterly  \n",
       "1    Quarterly  \n",
       "2    Quarterly  \n",
       "3    Quarterly  \n",
       "4    Quarterly  \n",
       "..         ...  \n",
       "291  Quarterly  \n",
       "292  Quarterly  \n",
       "293  Quarterly  \n",
       "294  Quarterly  \n",
       "295  Quarterly  \n",
       "\n",
       "[296 rows x 5 columns]>"
      ]
     },
     "execution_count": 56,
     "metadata": {},
     "output_type": "execute_result"
    }
   ],
   "source": [
    "AnnualGDP.info"
   ]
  },
  {
   "cell_type": "code",
   "execution_count": 57,
   "id": "709d2e42",
   "metadata": {},
   "outputs": [
    {
     "data": {
      "text/plain": [
       "array([[<AxesSubplot:title={'center':'Value'}>]], dtype=object)"
      ]
     },
     "execution_count": 57,
     "metadata": {},
     "output_type": "execute_result"
    },
    {
     "data": {
      "image/png": "[encoded data removed]",
      "text/plain": [
       "<Figure size 432x288 with 1 Axes>"
      ]
     },
     "metadata": {
      "needs_background": "light"
     },
     "output_type": "display_data"
    }
   ],
   "source": [
    "AnnualGDP.hist()"
   ]
  },
  {
   "cell_type": "markdown",
   "id": "e9b05dcc",
   "metadata": {},
   "source": [
    "### Single Sample T-test"
   ]
  },
  {
   "cell_type": "markdown",
   "id": "a9b04c5f",
   "metadata": {},
   "source": [
    "Testing single-sample t-test to examine whether a particular value is different than the population mean"
   ]
  },
  {
   "cell_type": "code",
   "execution_count": 58,
   "id": "9710cbf4",
   "metadata": {},
   "outputs": [
    {
     "data": {
      "text/plain": [
       "<AxesSubplot:>"
      ]
     },
     "execution_count": 58,
     "metadata": {},
     "output_type": "execute_result"
    },
    {
     "data": {
      "image/png": "[encoded data removed]",
      "text/plain": [
       "<Figure size 432x288 with 1 Axes>"
      ]
     },
     "metadata": {
      "needs_background": "light"
     },
     "output_type": "display_data"
    }
   ],
   "source": [
    "AnnualGDP['Value'].hist()"
   ]
  },
  {
   "cell_type": "code",
   "execution_count": 59,
   "id": "442e900a",
   "metadata": {},
   "outputs": [
    {
     "data": {
      "text/plain": [
       "Ttest_1sampResult(statistic=-5.427263975047829, pvalue=1.195357215166092e-07)"
      ]
     },
     "execution_count": 59,
     "metadata": {},
     "output_type": "execute_result"
    }
   ],
   "source": [
    "stats.ttest_1samp(AnnualGDP['Value'], 4)"
   ]
  },
  {
   "cell_type": "markdown",
   "id": "92599787",
   "metadata": {},
   "source": [
    "## Business Datasets - Closed/Opened  "
   ]
  },
  {
   "cell_type": "markdown",
   "id": "03268971",
   "metadata": {},
   "source": [
    "## Bankrupt Small Businesses Dataset (1) [Trading Economics] "
   ]
  },
  {
   "cell_type": "code",
   "execution_count": 13,
   "id": "fc32c923",
   "metadata": {},
   "outputs": [],
   "source": [
    "Bankruptcies1 = pd.read_csv(\"/Users/darringtonhenderson/Documents/GitHub Final/WozUFinalProject/FinalProject/Data/HistoricalUSBankruptcies.csv\")"
   ]
  },
  {
   "cell_type": "code",
   "execution_count": 14,
   "id": "2c51c556",
   "metadata": {},
   "outputs": [
    {
     "data": {
      "text/html": [
       "<div>\n",
       "<style scoped>\n",
       "    .dataframe tbody tr th:only-of-type {\n",
       "        vertical-align: middle;\n",
       "    }\n",
       "\n",
       "    .dataframe tbody tr th {\n",
       "        vertical-align: top;\n",
       "    }\n",
       "\n",
       "    .dataframe thead th {\n",
       "        text-align: right;\n",
       "    }\n",
       "</style>\n",
       "<table border=\"1\" class=\"dataframe\">\n",
       "  <thead>\n",
       "    <tr style=\"text-align: right;\">\n",
       "      <th></th>\n",
       "      <th>Country</th>\n",
       "      <th>Category</th>\n",
       "      <th>DateTime</th>\n",
       "      <th>Value</th>\n",
       "      <th>Frequency</th>\n",
       "      <th>HistoricalDataSymbol</th>\n",
       "      <th>LastUpdate</th>\n",
       "    </tr>\n",
       "  </thead>\n",
       "  <tbody>\n",
       "    <tr>\n",
       "      <th>0</th>\n",
       "      <td>United States</td>\n",
       "      <td>Bankruptcies</td>\n",
       "      <td>1980-12-31T00:00:00</td>\n",
       "      <td>43694</td>\n",
       "      <td>Quarterly</td>\n",
       "      <td>UNITEDSTABAN</td>\n",
       "      <td>2015-04-25T14:40:00</td>\n",
       "    </tr>\n",
       "    <tr>\n",
       "      <th>1</th>\n",
       "      <td>United States</td>\n",
       "      <td>Bankruptcies</td>\n",
       "      <td>1981-12-31T00:00:00</td>\n",
       "      <td>48125</td>\n",
       "      <td>Quarterly</td>\n",
       "      <td>UNITEDSTABAN</td>\n",
       "      <td>2015-04-25T14:40:00</td>\n",
       "    </tr>\n",
       "    <tr>\n",
       "      <th>2</th>\n",
       "      <td>United States</td>\n",
       "      <td>Bankruptcies</td>\n",
       "      <td>1982-12-31T00:00:00</td>\n",
       "      <td>69300</td>\n",
       "      <td>Quarterly</td>\n",
       "      <td>UNITEDSTABAN</td>\n",
       "      <td>2015-04-25T14:40:00</td>\n",
       "    </tr>\n",
       "    <tr>\n",
       "      <th>3</th>\n",
       "      <td>United States</td>\n",
       "      <td>Bankruptcies</td>\n",
       "      <td>1983-12-31T00:00:00</td>\n",
       "      <td>62436</td>\n",
       "      <td>Quarterly</td>\n",
       "      <td>UNITEDSTABAN</td>\n",
       "      <td>2015-04-25T14:40:00</td>\n",
       "    </tr>\n",
       "    <tr>\n",
       "      <th>4</th>\n",
       "      <td>United States</td>\n",
       "      <td>Bankruptcies</td>\n",
       "      <td>1984-12-31T00:00:00</td>\n",
       "      <td>64004</td>\n",
       "      <td>Quarterly</td>\n",
       "      <td>UNITEDSTABAN</td>\n",
       "      <td>2015-04-25T14:40:00</td>\n",
       "    </tr>\n",
       "  </tbody>\n",
       "</table>\n",
       "</div>"
      ],
      "text/plain": [
       "         Country      Category             DateTime  Value  Frequency  \\\n",
       "0  United States  Bankruptcies  1980-12-31T00:00:00  43694  Quarterly   \n",
       "1  United States  Bankruptcies  1981-12-31T00:00:00  48125  Quarterly   \n",
       "2  United States  Bankruptcies  1982-12-31T00:00:00  69300  Quarterly   \n",
       "3  United States  Bankruptcies  1983-12-31T00:00:00  62436  Quarterly   \n",
       "4  United States  Bankruptcies  1984-12-31T00:00:00  64004  Quarterly   \n",
       "\n",
       "  HistoricalDataSymbol           LastUpdate  \n",
       "0         UNITEDSTABAN  2015-04-25T14:40:00  \n",
       "1         UNITEDSTABAN  2015-04-25T14:40:00  \n",
       "2         UNITEDSTABAN  2015-04-25T14:40:00  \n",
       "3         UNITEDSTABAN  2015-04-25T14:40:00  \n",
       "4         UNITEDSTABAN  2015-04-25T14:40:00  "
      ]
     },
     "execution_count": 14,
     "metadata": {},
     "output_type": "execute_result"
    }
   ],
   "source": [
    "Bankruptcies1.head()"
   ]
  },
  {
   "cell_type": "code",
   "execution_count": 15,
   "id": "50e548e1",
   "metadata": {},
   "outputs": [
    {
     "data": {
      "text/html": [
       "<div>\n",
       "<style scoped>\n",
       "    .dataframe tbody tr th:only-of-type {\n",
       "        vertical-align: middle;\n",
       "    }\n",
       "\n",
       "    .dataframe tbody tr th {\n",
       "        vertical-align: top;\n",
       "    }\n",
       "\n",
       "    .dataframe thead th {\n",
       "        text-align: right;\n",
       "    }\n",
       "</style>\n",
       "<table border=\"1\" class=\"dataframe\">\n",
       "  <thead>\n",
       "    <tr style=\"text-align: right;\">\n",
       "      <th></th>\n",
       "      <th>Country</th>\n",
       "      <th>Category</th>\n",
       "      <th>DateTime</th>\n",
       "      <th>Value</th>\n",
       "      <th>Frequency</th>\n",
       "      <th>HistoricalDataSymbol</th>\n",
       "      <th>LastUpdate</th>\n",
       "    </tr>\n",
       "  </thead>\n",
       "  <tbody>\n",
       "    <tr>\n",
       "      <th>133</th>\n",
       "      <td>United States</td>\n",
       "      <td>Bankruptcies</td>\n",
       "      <td>2020-12-31T00:00:00</td>\n",
       "      <td>21655</td>\n",
       "      <td>Quarterly</td>\n",
       "      <td>UNITEDSTABAN</td>\n",
       "      <td>2021-01-30T10:01:00</td>\n",
       "    </tr>\n",
       "    <tr>\n",
       "      <th>134</th>\n",
       "      <td>United States</td>\n",
       "      <td>Bankruptcies</td>\n",
       "      <td>2021-03-31T00:00:00</td>\n",
       "      <td>19911</td>\n",
       "      <td>Quarterly</td>\n",
       "      <td>UNITEDSTABAN</td>\n",
       "      <td>2021-05-08T10:01:00</td>\n",
       "    </tr>\n",
       "    <tr>\n",
       "      <th>135</th>\n",
       "      <td>United States</td>\n",
       "      <td>Bankruptcies</td>\n",
       "      <td>2021-06-30T00:00:00</td>\n",
       "      <td>18511</td>\n",
       "      <td>Quarterly</td>\n",
       "      <td>UNITEDSTABAN</td>\n",
       "      <td>2021-08-07T10:01:00</td>\n",
       "    </tr>\n",
       "    <tr>\n",
       "      <th>136</th>\n",
       "      <td>United States</td>\n",
       "      <td>Bankruptcies</td>\n",
       "      <td>2021-09-30T00:00:00</td>\n",
       "      <td>16140</td>\n",
       "      <td>Quarterly</td>\n",
       "      <td>UNITEDSTABAN</td>\n",
       "      <td>2021-11-13T10:00:00</td>\n",
       "    </tr>\n",
       "    <tr>\n",
       "      <th>137</th>\n",
       "      <td>United States</td>\n",
       "      <td>Bankruptcies</td>\n",
       "      <td>2021-12-31T00:00:00</td>\n",
       "      <td>14347</td>\n",
       "      <td>Quarterly</td>\n",
       "      <td>UNITEDSTABAN</td>\n",
       "      <td>2022-02-05T10:00:00</td>\n",
       "    </tr>\n",
       "  </tbody>\n",
       "</table>\n",
       "</div>"
      ],
      "text/plain": [
       "           Country      Category             DateTime  Value  Frequency  \\\n",
       "133  United States  Bankruptcies  2020-12-31T00:00:00  21655  Quarterly   \n",
       "134  United States  Bankruptcies  2021-03-31T00:00:00  19911  Quarterly   \n",
       "135  United States  Bankruptcies  2021-06-30T00:00:00  18511  Quarterly   \n",
       "136  United States  Bankruptcies  2021-09-30T00:00:00  16140  Quarterly   \n",
       "137  United States  Bankruptcies  2021-12-31T00:00:00  14347  Quarterly   \n",
       "\n",
       "    HistoricalDataSymbol           LastUpdate  \n",
       "133         UNITEDSTABAN  2021-01-30T10:01:00  \n",
       "134         UNITEDSTABAN  2021-05-08T10:01:00  \n",
       "135         UNITEDSTABAN  2021-08-07T10:01:00  \n",
       "136         UNITEDSTABAN  2021-11-13T10:00:00  \n",
       "137         UNITEDSTABAN  2022-02-05T10:00:00  "
      ]
     },
     "execution_count": 15,
     "metadata": {},
     "output_type": "execute_result"
    }
   ],
   "source": [
    "Bankruptcies1.tail()"
   ]
  },
  {
   "cell_type": "markdown",
   "id": "4e71e2d6",
   "metadata": {},
   "source": [
    "### Dropping 'HistoricalDataSymbol', 'LastUpdate' Columns from Trading Economics Bankruptcies"
   ]
  },
  {
   "cell_type": "code",
   "execution_count": 16,
   "id": "c30cb7da",
   "metadata": {},
   "outputs": [],
   "source": [
    "Bankruptcies1.drop(['HistoricalDataSymbol', 'LastUpdate'], axis=1, inplace=True)"
   ]
  },
  {
   "cell_type": "code",
   "execution_count": 13,
   "id": "e18632eb",
   "metadata": {},
   "outputs": [
    {
     "data": {
      "text/html": [
       "<div>\n",
       "<style scoped>\n",
       "    .dataframe tbody tr th:only-of-type {\n",
       "        vertical-align: middle;\n",
       "    }\n",
       "\n",
       "    .dataframe tbody tr th {\n",
       "        vertical-align: top;\n",
       "    }\n",
       "\n",
       "    .dataframe thead th {\n",
       "        text-align: right;\n",
       "    }\n",
       "</style>\n",
       "<table border=\"1\" class=\"dataframe\">\n",
       "  <thead>\n",
       "    <tr style=\"text-align: right;\">\n",
       "      <th></th>\n",
       "      <th>Country</th>\n",
       "      <th>Category</th>\n",
       "      <th>DateTime</th>\n",
       "      <th>Value</th>\n",
       "      <th>Frequency</th>\n",
       "    </tr>\n",
       "  </thead>\n",
       "  <tbody>\n",
       "    <tr>\n",
       "      <th>0</th>\n",
       "      <td>United States</td>\n",
       "      <td>Bankruptcies</td>\n",
       "      <td>1980-12-31T00:00:00</td>\n",
       "      <td>43694</td>\n",
       "      <td>Quarterly</td>\n",
       "    </tr>\n",
       "    <tr>\n",
       "      <th>1</th>\n",
       "      <td>United States</td>\n",
       "      <td>Bankruptcies</td>\n",
       "      <td>1981-12-31T00:00:00</td>\n",
       "      <td>48125</td>\n",
       "      <td>Quarterly</td>\n",
       "    </tr>\n",
       "    <tr>\n",
       "      <th>2</th>\n",
       "      <td>United States</td>\n",
       "      <td>Bankruptcies</td>\n",
       "      <td>1982-12-31T00:00:00</td>\n",
       "      <td>69300</td>\n",
       "      <td>Quarterly</td>\n",
       "    </tr>\n",
       "    <tr>\n",
       "      <th>3</th>\n",
       "      <td>United States</td>\n",
       "      <td>Bankruptcies</td>\n",
       "      <td>1983-12-31T00:00:00</td>\n",
       "      <td>62436</td>\n",
       "      <td>Quarterly</td>\n",
       "    </tr>\n",
       "    <tr>\n",
       "      <th>4</th>\n",
       "      <td>United States</td>\n",
       "      <td>Bankruptcies</td>\n",
       "      <td>1984-12-31T00:00:00</td>\n",
       "      <td>64004</td>\n",
       "      <td>Quarterly</td>\n",
       "    </tr>\n",
       "  </tbody>\n",
       "</table>\n",
       "</div>"
      ],
      "text/plain": [
       "         Country      Category             DateTime  Value  Frequency\n",
       "0  United States  Bankruptcies  1980-12-31T00:00:00  43694  Quarterly\n",
       "1  United States  Bankruptcies  1981-12-31T00:00:00  48125  Quarterly\n",
       "2  United States  Bankruptcies  1982-12-31T00:00:00  69300  Quarterly\n",
       "3  United States  Bankruptcies  1983-12-31T00:00:00  62436  Quarterly\n",
       "4  United States  Bankruptcies  1984-12-31T00:00:00  64004  Quarterly"
      ]
     },
     "execution_count": 13,
     "metadata": {},
     "output_type": "execute_result"
    }
   ],
   "source": [
    "Bankruptcies1.head()"
   ]
  },
  {
   "cell_type": "code",
   "execution_count": 127,
   "id": "f1926315",
   "metadata": {},
   "outputs": [
    {
     "data": {
      "text/plain": [
       "<bound method DataFrame.info of            Country      Category             DateTime  Value  Frequency\n",
       "0    United States  Bankruptcies  1980-12-31T00:00:00  43694  Quarterly\n",
       "1    United States  Bankruptcies  1981-12-31T00:00:00  48125  Quarterly\n",
       "2    United States  Bankruptcies  1982-12-31T00:00:00  69300  Quarterly\n",
       "3    United States  Bankruptcies  1983-12-31T00:00:00  62436  Quarterly\n",
       "4    United States  Bankruptcies  1984-12-31T00:00:00  64004  Quarterly\n",
       "..             ...           ...                  ...    ...        ...\n",
       "133  United States  Bankruptcies  2020-12-31T00:00:00  21655  Quarterly\n",
       "134  United States  Bankruptcies  2021-03-31T00:00:00  19911  Quarterly\n",
       "135  United States  Bankruptcies  2021-06-30T00:00:00  18511  Quarterly\n",
       "136  United States  Bankruptcies  2021-09-30T00:00:00  16140  Quarterly\n",
       "137  United States  Bankruptcies  2021-12-31T00:00:00  14347  Quarterly\n",
       "\n",
       "[138 rows x 5 columns]>"
      ]
     },
     "execution_count": 127,
     "metadata": {},
     "output_type": "execute_result"
    }
   ],
   "source": [
    "Bankruptcies1.info"
   ]
  },
  {
   "cell_type": "code",
   "execution_count": 262,
   "id": "07008232",
   "metadata": {},
   "outputs": [
    {
     "data": {
      "text/plain": [
       "array([[<AxesSubplot:title={'center':'Value'}>]], dtype=object)"
      ]
     },
     "execution_count": 262,
     "metadata": {},
     "output_type": "execute_result"
    },
    {
     "data": {
      "image/png": "[encoded data removed]",
      "text/plain": [
       "<Figure size 432x288 with 1 Axes>"
      ]
     },
     "metadata": {
      "needs_background": "light"
     },
     "output_type": "display_data"
    }
   ],
   "source": [
    "Bankruptcies1.hist()"
   ]
  },
  {
   "cell_type": "markdown",
   "id": "804e3126",
   "metadata": {},
   "source": [
    "### Single Sample T-test"
   ]
  },
  {
   "cell_type": "markdown",
   "id": "3d3eccbc",
   "metadata": {},
   "source": [
    "Testing single-sample t-test to examine whether a particular value is different than the population mean"
   ]
  },
  {
   "cell_type": "code",
   "execution_count": 372,
   "id": "b102a9ec",
   "metadata": {},
   "outputs": [
    {
     "data": {
      "text/plain": [
       "<AxesSubplot:>"
      ]
     },
     "execution_count": 372,
     "metadata": {},
     "output_type": "execute_result"
    },
    {
     "data": {
      "image/png": "[encoded data removed]",
      "text/plain": [
       "<Figure size 432x288 with 1 Axes>"
      ]
     },
     "metadata": {
      "needs_background": "light"
     },
     "output_type": "display_data"
    }
   ],
   "source": [
    "Bankruptcies1['Value'].hist()"
   ]
  },
  {
   "cell_type": "code",
   "execution_count": 373,
   "id": "525bbdd4",
   "metadata": {},
   "outputs": [
    {
     "data": {
      "text/plain": [
       "Ttest_1sampResult(statistic=-5.1267345629866465, pvalue=9.845644727977453e-07)"
      ]
     },
     "execution_count": 373,
     "metadata": {},
     "output_type": "execute_result"
    }
   ],
   "source": [
    "stats.ttest_1samp(Bankruptcies1['Value'], 50000)"
   ]
  },
  {
   "cell_type": "markdown",
   "id": "4df3f0e5",
   "metadata": {},
   "source": [
    "## Bankrupt Small Businesses Dataset (2) [USA Facts] "
   ]
  },
  {
   "cell_type": "code",
   "execution_count": 63,
   "id": "11bfd377",
   "metadata": {},
   "outputs": [],
   "source": [
    "Bankruptcies2 = pd.read_csv(\"/Users/darringtonhenderson/Documents/GitHub Final/WozUFinalProject/FinalProject/Data/BankruptciesFiledUSA.csv\")"
   ]
  },
  {
   "cell_type": "code",
   "execution_count": 64,
   "id": "05edca2c",
   "metadata": {},
   "outputs": [
    {
     "data": {
      "text/html": [
       "<div>\n",
       "<style scoped>\n",
       "    .dataframe tbody tr th:only-of-type {\n",
       "        vertical-align: middle;\n",
       "    }\n",
       "\n",
       "    .dataframe tbody tr th {\n",
       "        vertical-align: top;\n",
       "    }\n",
       "\n",
       "    .dataframe thead th {\n",
       "        text-align: right;\n",
       "    }\n",
       "</style>\n",
       "<table border=\"1\" class=\"dataframe\">\n",
       "  <thead>\n",
       "    <tr style=\"text-align: right;\">\n",
       "      <th></th>\n",
       "      <th>Years</th>\n",
       "      <th>Bankruptcies filed</th>\n",
       "    </tr>\n",
       "  </thead>\n",
       "  <tbody>\n",
       "    <tr>\n",
       "      <th>0</th>\n",
       "      <td>2010</td>\n",
       "      <td>1596355</td>\n",
       "    </tr>\n",
       "    <tr>\n",
       "      <th>1</th>\n",
       "      <td>2011</td>\n",
       "      <td>1467221</td>\n",
       "    </tr>\n",
       "    <tr>\n",
       "      <th>2</th>\n",
       "      <td>2012</td>\n",
       "      <td>1261140</td>\n",
       "    </tr>\n",
       "    <tr>\n",
       "      <th>3</th>\n",
       "      <td>2013</td>\n",
       "      <td>1107699</td>\n",
       "    </tr>\n",
       "    <tr>\n",
       "      <th>4</th>\n",
       "      <td>2014</td>\n",
       "      <td>963739</td>\n",
       "    </tr>\n",
       "  </tbody>\n",
       "</table>\n",
       "</div>"
      ],
      "text/plain": [
       "   Years  Bankruptcies filed\n",
       "0   2010             1596355\n",
       "1   2011             1467221\n",
       "2   2012             1261140\n",
       "3   2013             1107699\n",
       "4   2014              963739"
      ]
     },
     "execution_count": 64,
     "metadata": {},
     "output_type": "execute_result"
    }
   ],
   "source": [
    "Bankruptcies2.head()"
   ]
  },
  {
   "cell_type": "code",
   "execution_count": 65,
   "id": "45d7cc16",
   "metadata": {},
   "outputs": [
    {
     "data": {
      "text/html": [
       "<div>\n",
       "<style scoped>\n",
       "    .dataframe tbody tr th:only-of-type {\n",
       "        vertical-align: middle;\n",
       "    }\n",
       "\n",
       "    .dataframe tbody tr th {\n",
       "        vertical-align: top;\n",
       "    }\n",
       "\n",
       "    .dataframe thead th {\n",
       "        text-align: right;\n",
       "    }\n",
       "</style>\n",
       "<table border=\"1\" class=\"dataframe\">\n",
       "  <thead>\n",
       "    <tr style=\"text-align: right;\">\n",
       "      <th></th>\n",
       "      <th>Years</th>\n",
       "      <th>Bankruptcies filed</th>\n",
       "    </tr>\n",
       "  </thead>\n",
       "  <tbody>\n",
       "    <tr>\n",
       "      <th>6</th>\n",
       "      <td>2016</td>\n",
       "      <td>805580</td>\n",
       "    </tr>\n",
       "    <tr>\n",
       "      <th>7</th>\n",
       "      <td>2017</td>\n",
       "      <td>790830</td>\n",
       "    </tr>\n",
       "    <tr>\n",
       "      <th>8</th>\n",
       "      <td>2018</td>\n",
       "      <td>773375</td>\n",
       "    </tr>\n",
       "    <tr>\n",
       "      <th>9</th>\n",
       "      <td>2019</td>\n",
       "      <td>776674</td>\n",
       "    </tr>\n",
       "    <tr>\n",
       "      <th>10</th>\n",
       "      <td>2020</td>\n",
       "      <td>612561</td>\n",
       "    </tr>\n",
       "  </tbody>\n",
       "</table>\n",
       "</div>"
      ],
      "text/plain": [
       "    Years  Bankruptcies filed\n",
       "6    2016              805580\n",
       "7    2017              790830\n",
       "8    2018              773375\n",
       "9    2019              776674\n",
       "10   2020              612561"
      ]
     },
     "execution_count": 65,
     "metadata": {},
     "output_type": "execute_result"
    }
   ],
   "source": [
    "Bankruptcies2.tail()"
   ]
  },
  {
   "cell_type": "code",
   "execution_count": 272,
   "id": "adda0342",
   "metadata": {},
   "outputs": [
    {
     "data": {
      "text/plain": [
       "<bound method DataFrame.info of     Years  Bankruptcies filed\n",
       "0    2010             1596355\n",
       "1    2011             1467221\n",
       "2    2012             1261140\n",
       "3    2013             1107699\n",
       "4    2014              963739\n",
       "5    2015              860182\n",
       "6    2016              805580\n",
       "7    2017              790830\n",
       "8    2018              773375\n",
       "9    2019              776674\n",
       "10   2020              612561>"
      ]
     },
     "execution_count": 272,
     "metadata": {},
     "output_type": "execute_result"
    }
   ],
   "source": [
    "Bankruptcies2.info"
   ]
  },
  {
   "cell_type": "code",
   "execution_count": 15,
   "id": "80019dce",
   "metadata": {},
   "outputs": [
    {
     "data": {
      "text/plain": [
       "array([[<AxesSubplot:title={'center':'Years'}>,\n",
       "        <AxesSubplot:title={'center':'Bankruptcies filed'}>]],\n",
       "      dtype=object)"
      ]
     },
     "execution_count": 15,
     "metadata": {},
     "output_type": "execute_result"
    },
    {
     "data": {
      "image/png": "[encoded data removed]",
      "text/plain": [
       "<Figure size 432x288 with 2 Axes>"
      ]
     },
     "metadata": {
      "needs_background": "light"
     },
     "output_type": "display_data"
    }
   ],
   "source": [
    "Bankruptcies2.hist()"
   ]
  },
  {
   "cell_type": "markdown",
   "id": "945c6418",
   "metadata": {},
   "source": [
    "### Single Sample T-test"
   ]
  },
  {
   "cell_type": "markdown",
   "id": "1673893c",
   "metadata": {},
   "source": [
    "Testing single-sample t-test to examine whether a particular value is different than the population mean"
   ]
  },
  {
   "cell_type": "code",
   "execution_count": 16,
   "id": "6542955a",
   "metadata": {},
   "outputs": [
    {
     "data": {
      "text/plain": [
       "<AxesSubplot:>"
      ]
     },
     "execution_count": 16,
     "metadata": {},
     "output_type": "execute_result"
    },
    {
     "data": {
      "image/png": "[encoded data removed]",
      "text/plain": [
       "<Figure size 432x288 with 1 Axes>"
      ]
     },
     "metadata": {
      "needs_background": "light"
     },
     "output_type": "display_data"
    }
   ],
   "source": [
    "Bankruptcies2['Bankruptcies filed'].hist()"
   ]
  },
  {
   "cell_type": "code",
   "execution_count": 20,
   "id": "17f000d8",
   "metadata": {},
   "outputs": [
    {
     "data": {
      "text/plain": [
       "Ttest_1sampResult(statistic=10.463737016468995, pvalue=1.047539579751904e-06)"
      ]
     },
     "execution_count": 20,
     "metadata": {},
     "output_type": "execute_result"
    }
   ],
   "source": [
    "stats.ttest_1samp(Bankruptcies2['Bankruptcies filed'], 1.4)"
   ]
  },
  {
   "cell_type": "markdown",
   "id": "631f7ceb",
   "metadata": {},
   "source": [
    "## Opened Small Businesses (A Yr Old) Dataset [USA Facts] "
   ]
  },
  {
   "cell_type": "code",
   "execution_count": 66,
   "id": "820d9731",
   "metadata": {},
   "outputs": [],
   "source": [
    "NewBusinesses1 = pd.read_csv(\"/Users/darringtonhenderson/Documents/GitHub Final/WozUFinalProject/FinalProject/Data/BusinessesAYearOldUSA.csv\")"
   ]
  },
  {
   "cell_type": "code",
   "execution_count": 24,
   "id": "bf6efa25",
   "metadata": {},
   "outputs": [
    {
     "data": {
      "text/html": [
       "<div>\n",
       "<style scoped>\n",
       "    .dataframe tbody tr th:only-of-type {\n",
       "        vertical-align: middle;\n",
       "    }\n",
       "\n",
       "    .dataframe tbody tr th {\n",
       "        vertical-align: top;\n",
       "    }\n",
       "\n",
       "    .dataframe thead th {\n",
       "        text-align: right;\n",
       "    }\n",
       "</style>\n",
       "<table border=\"1\" class=\"dataframe\">\n",
       "  <thead>\n",
       "    <tr style=\"text-align: right;\">\n",
       "      <th></th>\n",
       "      <th>Years</th>\n",
       "      <th>Businesses less than a year old</th>\n",
       "    </tr>\n",
       "  </thead>\n",
       "  <tbody>\n",
       "    <tr>\n",
       "      <th>0</th>\n",
       "      <td>2010</td>\n",
       "      <td>560588</td>\n",
       "    </tr>\n",
       "    <tr>\n",
       "      <th>1</th>\n",
       "      <td>2011</td>\n",
       "      <td>582569</td>\n",
       "    </tr>\n",
       "    <tr>\n",
       "      <th>2</th>\n",
       "      <td>2012</td>\n",
       "      <td>631817</td>\n",
       "    </tr>\n",
       "    <tr>\n",
       "      <th>3</th>\n",
       "      <td>2013</td>\n",
       "      <td>629078</td>\n",
       "    </tr>\n",
       "    <tr>\n",
       "      <th>4</th>\n",
       "      <td>2014</td>\n",
       "      <td>652780</td>\n",
       "    </tr>\n",
       "  </tbody>\n",
       "</table>\n",
       "</div>"
      ],
      "text/plain": [
       "   Years  Businesses less than a year old\n",
       "0   2010                           560588\n",
       "1   2011                           582569\n",
       "2   2012                           631817\n",
       "3   2013                           629078\n",
       "4   2014                           652780"
      ]
     },
     "execution_count": 24,
     "metadata": {},
     "output_type": "execute_result"
    }
   ],
   "source": [
    "NewBusinesses1.head()"
   ]
  },
  {
   "cell_type": "code",
   "execution_count": 25,
   "id": "d099893d",
   "metadata": {},
   "outputs": [
    {
     "data": {
      "text/html": [
       "<div>\n",
       "<style scoped>\n",
       "    .dataframe tbody tr th:only-of-type {\n",
       "        vertical-align: middle;\n",
       "    }\n",
       "\n",
       "    .dataframe tbody tr th {\n",
       "        vertical-align: top;\n",
       "    }\n",
       "\n",
       "    .dataframe thead th {\n",
       "        text-align: right;\n",
       "    }\n",
       "</style>\n",
       "<table border=\"1\" class=\"dataframe\">\n",
       "  <thead>\n",
       "    <tr style=\"text-align: right;\">\n",
       "      <th></th>\n",
       "      <th>Years</th>\n",
       "      <th>Businesses less than a year old</th>\n",
       "    </tr>\n",
       "  </thead>\n",
       "  <tbody>\n",
       "    <tr>\n",
       "      <th>7</th>\n",
       "      <td>2017</td>\n",
       "      <td>733490</td>\n",
       "    </tr>\n",
       "    <tr>\n",
       "      <th>8</th>\n",
       "      <td>2018</td>\n",
       "      <td>733825</td>\n",
       "    </tr>\n",
       "    <tr>\n",
       "      <th>9</th>\n",
       "      <td>2019</td>\n",
       "      <td>770609</td>\n",
       "    </tr>\n",
       "    <tr>\n",
       "      <th>10</th>\n",
       "      <td>2020</td>\n",
       "      <td>804641</td>\n",
       "    </tr>\n",
       "    <tr>\n",
       "      <th>11</th>\n",
       "      <td>2021</td>\n",
       "      <td>843320</td>\n",
       "    </tr>\n",
       "  </tbody>\n",
       "</table>\n",
       "</div>"
      ],
      "text/plain": [
       "    Years  Businesses less than a year old\n",
       "7    2017                           733490\n",
       "8    2018                           733825\n",
       "9    2019                           770609\n",
       "10   2020                           804641\n",
       "11   2021                           843320"
      ]
     },
     "execution_count": 25,
     "metadata": {},
     "output_type": "execute_result"
    }
   ],
   "source": [
    "NewBusinesses1.tail()"
   ]
  },
  {
   "cell_type": "code",
   "execution_count": 28,
   "id": "283ba6e5",
   "metadata": {},
   "outputs": [
    {
     "data": {
      "text/plain": [
       "<bound method DataFrame.info of     Years  Businesses less than a year old\n",
       "0    2010                           560588\n",
       "1    2011                           582569\n",
       "2    2012                           631817\n",
       "3    2013                           629078\n",
       "4    2014                           652780\n",
       "5    2015                           678135\n",
       "6    2016                           733085\n",
       "7    2017                           733490\n",
       "8    2018                           733825\n",
       "9    2019                           770609\n",
       "10   2020                           804641\n",
       "11   2021                           843320>"
      ]
     },
     "execution_count": 28,
     "metadata": {},
     "output_type": "execute_result"
    }
   ],
   "source": [
    "NewBusinesses1.info"
   ]
  },
  {
   "cell_type": "code",
   "execution_count": 27,
   "id": "3333ba0c",
   "metadata": {},
   "outputs": [
    {
     "data": {
      "text/plain": [
       "array([[<AxesSubplot:title={'center':'Years'}>,\n",
       "        <AxesSubplot:title={'center':'Businesses less than a year old'}>]],\n",
       "      dtype=object)"
      ]
     },
     "execution_count": 27,
     "metadata": {},
     "output_type": "execute_result"
    },
    {
     "data": {
      "image/png": "[encoded data removed]",
      "text/plain": [
       "<Figure size 432x288 with 2 Axes>"
      ]
     },
     "metadata": {
      "needs_background": "light"
     },
     "output_type": "display_data"
    }
   ],
   "source": [
    "NewBusinesses1.hist()"
   ]
  },
  {
   "cell_type": "markdown",
   "id": "b35c814a",
   "metadata": {},
   "source": [
    "### Single Sample T-test"
   ]
  },
  {
   "cell_type": "markdown",
   "id": "6ce304f8",
   "metadata": {},
   "source": [
    "Testing single-sample t-test to examine whether a particular value is different than the population mean"
   ]
  },
  {
   "cell_type": "code",
   "execution_count": 33,
   "id": "0ff9fa02",
   "metadata": {},
   "outputs": [
    {
     "data": {
      "text/plain": [
       "<AxesSubplot:>"
      ]
     },
     "execution_count": 33,
     "metadata": {},
     "output_type": "execute_result"
    },
    {
     "data": {
      "image/png": "[encoded data removed]",
      "text/plain": [
       "<Figure size 432x288 with 1 Axes>"
      ]
     },
     "metadata": {
      "needs_background": "light"
     },
     "output_type": "display_data"
    }
   ],
   "source": [
    "NewBusinesses1['Businesses less than a year old'].hist()"
   ]
  },
  {
   "cell_type": "code",
   "execution_count": 32,
   "id": "2e9e91aa",
   "metadata": {},
   "outputs": [
    {
     "data": {
      "text/plain": [
       "Ttest_1sampResult(statistic=-2.1182518829149597, pvalue=0.05774483192497115)"
      ]
     },
     "execution_count": 32,
     "metadata": {},
     "output_type": "execute_result"
    }
   ],
   "source": [
    "stats.ttest_1samp(NewBusinesses1['Businesses less than a year old'], 750000)"
   ]
  },
  {
   "cell_type": "markdown",
   "id": "fd407e02",
   "metadata": {},
   "source": [
    "## Opened Small Businesses (Applications) Dataset [USA Facts] "
   ]
  },
  {
   "cell_type": "code",
   "execution_count": 67,
   "id": "b4065480",
   "metadata": {},
   "outputs": [],
   "source": [
    "NewBusinesses2 = pd.read_csv(\"/Users/darringtonhenderson/Documents/GitHub Final/WozUFinalProject/FinalProject/Data/BusinessApplicationsUSA.csv\")"
   ]
  },
  {
   "cell_type": "code",
   "execution_count": 163,
   "id": "13f85a47",
   "metadata": {},
   "outputs": [
    {
     "data": {
      "text/html": [
       "<div>\n",
       "<style scoped>\n",
       "    .dataframe tbody tr th:only-of-type {\n",
       "        vertical-align: middle;\n",
       "    }\n",
       "\n",
       "    .dataframe tbody tr th {\n",
       "        vertical-align: top;\n",
       "    }\n",
       "\n",
       "    .dataframe thead th {\n",
       "        text-align: right;\n",
       "    }\n",
       "</style>\n",
       "<table border=\"1\" class=\"dataframe\">\n",
       "  <thead>\n",
       "    <tr style=\"text-align: right;\">\n",
       "      <th></th>\n",
       "      <th>Years</th>\n",
       "      <th>2005</th>\n",
       "      <th>2006</th>\n",
       "      <th>2007</th>\n",
       "      <th>2008</th>\n",
       "      <th>2009</th>\n",
       "      <th>2010</th>\n",
       "      <th>2011</th>\n",
       "      <th>2012</th>\n",
       "      <th>2013</th>\n",
       "      <th>2014</th>\n",
       "      <th>2015</th>\n",
       "      <th>2016</th>\n",
       "      <th>2017</th>\n",
       "      <th>2018</th>\n",
       "      <th>2019</th>\n",
       "      <th>2020</th>\n",
       "    </tr>\n",
       "  </thead>\n",
       "  <tbody>\n",
       "    <tr>\n",
       "      <th>0</th>\n",
       "      <td>Business applications</td>\n",
       "      <td>2502011.0</td>\n",
       "      <td>2647870.0</td>\n",
       "      <td>2659813.0</td>\n",
       "      <td>2556873.0</td>\n",
       "      <td>2401134.0</td>\n",
       "      <td>2463835.0</td>\n",
       "      <td>2537114.0</td>\n",
       "      <td>2542238.0</td>\n",
       "      <td>2582593.0</td>\n",
       "      <td>2689186.0</td>\n",
       "      <td>2786770.0</td>\n",
       "      <td>2945885.0</td>\n",
       "      <td>3176131.0</td>\n",
       "      <td>3476246.0</td>\n",
       "      <td>3478881.0</td>\n",
       "      <td>4406824.0</td>\n",
       "    </tr>\n",
       "    <tr>\n",
       "      <th>1</th>\n",
       "      <td>By State</td>\n",
       "      <td>NaN</td>\n",
       "      <td>NaN</td>\n",
       "      <td>NaN</td>\n",
       "      <td>NaN</td>\n",
       "      <td>NaN</td>\n",
       "      <td>NaN</td>\n",
       "      <td>NaN</td>\n",
       "      <td>NaN</td>\n",
       "      <td>NaN</td>\n",
       "      <td>NaN</td>\n",
       "      <td>NaN</td>\n",
       "      <td>NaN</td>\n",
       "      <td>NaN</td>\n",
       "      <td>NaN</td>\n",
       "      <td>NaN</td>\n",
       "      <td>NaN</td>\n",
       "    </tr>\n",
       "    <tr>\n",
       "      <th>2</th>\n",
       "      <td>Washington</td>\n",
       "      <td>49676.0</td>\n",
       "      <td>52420.0</td>\n",
       "      <td>53658.0</td>\n",
       "      <td>49884.0</td>\n",
       "      <td>44840.0</td>\n",
       "      <td>46271.0</td>\n",
       "      <td>47911.0</td>\n",
       "      <td>47183.0</td>\n",
       "      <td>48050.0</td>\n",
       "      <td>50128.0</td>\n",
       "      <td>53091.0</td>\n",
       "      <td>57979.0</td>\n",
       "      <td>61931.0</td>\n",
       "      <td>68758.0</td>\n",
       "      <td>70311.0</td>\n",
       "      <td>76056.0</td>\n",
       "    </tr>\n",
       "  </tbody>\n",
       "</table>\n",
       "</div>"
      ],
      "text/plain": [
       "                    Years       2005       2006       2007       2008  \\\n",
       "0  Business applications   2502011.0  2647870.0  2659813.0  2556873.0   \n",
       "1                By State        NaN        NaN        NaN        NaN   \n",
       "2             Washington     49676.0    52420.0    53658.0    49884.0   \n",
       "\n",
       "        2009       2010       2011       2012       2013       2014  \\\n",
       "0  2401134.0  2463835.0  2537114.0  2542238.0  2582593.0  2689186.0   \n",
       "1        NaN        NaN        NaN        NaN        NaN        NaN   \n",
       "2    44840.0    46271.0    47911.0    47183.0    48050.0    50128.0   \n",
       "\n",
       "        2015       2016       2017       2018       2019       2020  \n",
       "0  2786770.0  2945885.0  3176131.0  3476246.0  3478881.0  4406824.0  \n",
       "1        NaN        NaN        NaN        NaN        NaN        NaN  \n",
       "2    53091.0    57979.0    61931.0    68758.0    70311.0    76056.0  "
      ]
     },
     "execution_count": 163,
     "metadata": {},
     "output_type": "execute_result"
    }
   ],
   "source": [
    "NewBusinesses2.head()"
   ]
  },
  {
   "cell_type": "code",
   "execution_count": 164,
   "id": "ce463c3d",
   "metadata": {
    "scrolled": true
   },
   "outputs": [
    {
     "data": {
      "text/html": [
       "<div>\n",
       "<style scoped>\n",
       "    .dataframe tbody tr th:only-of-type {\n",
       "        vertical-align: middle;\n",
       "    }\n",
       "\n",
       "    .dataframe tbody tr th {\n",
       "        vertical-align: top;\n",
       "    }\n",
       "\n",
       "    .dataframe thead th {\n",
       "        text-align: right;\n",
       "    }\n",
       "</style>\n",
       "<table border=\"1\" class=\"dataframe\">\n",
       "  <thead>\n",
       "    <tr style=\"text-align: right;\">\n",
       "      <th></th>\n",
       "      <th>Years</th>\n",
       "      <th>2005</th>\n",
       "      <th>2006</th>\n",
       "      <th>2007</th>\n",
       "      <th>2008</th>\n",
       "      <th>2009</th>\n",
       "      <th>2010</th>\n",
       "      <th>2011</th>\n",
       "      <th>2012</th>\n",
       "      <th>2013</th>\n",
       "      <th>2014</th>\n",
       "      <th>2015</th>\n",
       "      <th>2016</th>\n",
       "      <th>2017</th>\n",
       "      <th>2018</th>\n",
       "      <th>2019</th>\n",
       "      <th>2020</th>\n",
       "    </tr>\n",
       "  </thead>\n",
       "  <tbody>\n",
       "    <tr>\n",
       "      <th>0</th>\n",
       "      <td>Business applications</td>\n",
       "      <td>2502011.0</td>\n",
       "      <td>2647870.0</td>\n",
       "      <td>2659813.0</td>\n",
       "      <td>2556873.0</td>\n",
       "      <td>2401134.0</td>\n",
       "      <td>2463835.0</td>\n",
       "      <td>2537114.0</td>\n",
       "      <td>2542238.0</td>\n",
       "      <td>2582593.0</td>\n",
       "      <td>2689186.0</td>\n",
       "      <td>2786770.0</td>\n",
       "      <td>2945885.0</td>\n",
       "      <td>3176131.0</td>\n",
       "      <td>3476246.0</td>\n",
       "      <td>3478881.0</td>\n",
       "      <td>4406824.0</td>\n",
       "    </tr>\n",
       "    <tr>\n",
       "      <th>1</th>\n",
       "      <td>By State</td>\n",
       "      <td>NaN</td>\n",
       "      <td>NaN</td>\n",
       "      <td>NaN</td>\n",
       "      <td>NaN</td>\n",
       "      <td>NaN</td>\n",
       "      <td>NaN</td>\n",
       "      <td>NaN</td>\n",
       "      <td>NaN</td>\n",
       "      <td>NaN</td>\n",
       "      <td>NaN</td>\n",
       "      <td>NaN</td>\n",
       "      <td>NaN</td>\n",
       "      <td>NaN</td>\n",
       "      <td>NaN</td>\n",
       "      <td>NaN</td>\n",
       "      <td>NaN</td>\n",
       "    </tr>\n",
       "    <tr>\n",
       "      <th>2</th>\n",
       "      <td>Washington</td>\n",
       "      <td>49676.0</td>\n",
       "      <td>52420.0</td>\n",
       "      <td>53658.0</td>\n",
       "      <td>49884.0</td>\n",
       "      <td>44840.0</td>\n",
       "      <td>46271.0</td>\n",
       "      <td>47911.0</td>\n",
       "      <td>47183.0</td>\n",
       "      <td>48050.0</td>\n",
       "      <td>50128.0</td>\n",
       "      <td>53091.0</td>\n",
       "      <td>57979.0</td>\n",
       "      <td>61931.0</td>\n",
       "      <td>68758.0</td>\n",
       "      <td>70311.0</td>\n",
       "      <td>76056.0</td>\n",
       "    </tr>\n",
       "  </tbody>\n",
       "</table>\n",
       "</div>"
      ],
      "text/plain": [
       "                    Years       2005       2006       2007       2008  \\\n",
       "0  Business applications   2502011.0  2647870.0  2659813.0  2556873.0   \n",
       "1                By State        NaN        NaN        NaN        NaN   \n",
       "2             Washington     49676.0    52420.0    53658.0    49884.0   \n",
       "\n",
       "        2009       2010       2011       2012       2013       2014  \\\n",
       "0  2401134.0  2463835.0  2537114.0  2542238.0  2582593.0  2689186.0   \n",
       "1        NaN        NaN        NaN        NaN        NaN        NaN   \n",
       "2    44840.0    46271.0    47911.0    47183.0    48050.0    50128.0   \n",
       "\n",
       "        2015       2016       2017       2018       2019       2020  \n",
       "0  2786770.0  2945885.0  3176131.0  3476246.0  3478881.0  4406824.0  \n",
       "1        NaN        NaN        NaN        NaN        NaN        NaN  \n",
       "2    53091.0    57979.0    61931.0    68758.0    70311.0    76056.0  "
      ]
     },
     "execution_count": 164,
     "metadata": {},
     "output_type": "execute_result"
    }
   ],
   "source": [
    "NewBusinesses2.tail()"
   ]
  },
  {
   "cell_type": "markdown",
   "id": "f2f53ce5",
   "metadata": {},
   "source": [
    "### Transposing New Businesses2 Dataset"
   ]
  },
  {
   "cell_type": "code",
   "execution_count": 165,
   "id": "0f34ab8f",
   "metadata": {},
   "outputs": [
    {
     "data": {
      "text/html": [
       "<div>\n",
       "<style scoped>\n",
       "    .dataframe tbody tr th:only-of-type {\n",
       "        vertical-align: middle;\n",
       "    }\n",
       "\n",
       "    .dataframe tbody tr th {\n",
       "        vertical-align: top;\n",
       "    }\n",
       "\n",
       "    .dataframe thead th {\n",
       "        text-align: right;\n",
       "    }\n",
       "</style>\n",
       "<table border=\"1\" class=\"dataframe\">\n",
       "  <thead>\n",
       "    <tr style=\"text-align: right;\">\n",
       "      <th></th>\n",
       "      <th>0</th>\n",
       "      <th>1</th>\n",
       "      <th>2</th>\n",
       "    </tr>\n",
       "  </thead>\n",
       "  <tbody>\n",
       "    <tr>\n",
       "      <th>Years</th>\n",
       "      <td>Business applications</td>\n",
       "      <td>By State</td>\n",
       "      <td>Washington</td>\n",
       "    </tr>\n",
       "    <tr>\n",
       "      <th>2005</th>\n",
       "      <td>2502011.0</td>\n",
       "      <td>NaN</td>\n",
       "      <td>49676.0</td>\n",
       "    </tr>\n",
       "    <tr>\n",
       "      <th>2006</th>\n",
       "      <td>2647870.0</td>\n",
       "      <td>NaN</td>\n",
       "      <td>52420.0</td>\n",
       "    </tr>\n",
       "    <tr>\n",
       "      <th>2007</th>\n",
       "      <td>2659813.0</td>\n",
       "      <td>NaN</td>\n",
       "      <td>53658.0</td>\n",
       "    </tr>\n",
       "    <tr>\n",
       "      <th>2008</th>\n",
       "      <td>2556873.0</td>\n",
       "      <td>NaN</td>\n",
       "      <td>49884.0</td>\n",
       "    </tr>\n",
       "    <tr>\n",
       "      <th>2009</th>\n",
       "      <td>2401134.0</td>\n",
       "      <td>NaN</td>\n",
       "      <td>44840.0</td>\n",
       "    </tr>\n",
       "    <tr>\n",
       "      <th>2010</th>\n",
       "      <td>2463835.0</td>\n",
       "      <td>NaN</td>\n",
       "      <td>46271.0</td>\n",
       "    </tr>\n",
       "    <tr>\n",
       "      <th>2011</th>\n",
       "      <td>2537114.0</td>\n",
       "      <td>NaN</td>\n",
       "      <td>47911.0</td>\n",
       "    </tr>\n",
       "    <tr>\n",
       "      <th>2012</th>\n",
       "      <td>2542238.0</td>\n",
       "      <td>NaN</td>\n",
       "      <td>47183.0</td>\n",
       "    </tr>\n",
       "    <tr>\n",
       "      <th>2013</th>\n",
       "      <td>2582593.0</td>\n",
       "      <td>NaN</td>\n",
       "      <td>48050.0</td>\n",
       "    </tr>\n",
       "    <tr>\n",
       "      <th>2014</th>\n",
       "      <td>2689186.0</td>\n",
       "      <td>NaN</td>\n",
       "      <td>50128.0</td>\n",
       "    </tr>\n",
       "    <tr>\n",
       "      <th>2015</th>\n",
       "      <td>2786770.0</td>\n",
       "      <td>NaN</td>\n",
       "      <td>53091.0</td>\n",
       "    </tr>\n",
       "    <tr>\n",
       "      <th>2016</th>\n",
       "      <td>2945885.0</td>\n",
       "      <td>NaN</td>\n",
       "      <td>57979.0</td>\n",
       "    </tr>\n",
       "    <tr>\n",
       "      <th>2017</th>\n",
       "      <td>3176131.0</td>\n",
       "      <td>NaN</td>\n",
       "      <td>61931.0</td>\n",
       "    </tr>\n",
       "    <tr>\n",
       "      <th>2018</th>\n",
       "      <td>3476246.0</td>\n",
       "      <td>NaN</td>\n",
       "      <td>68758.0</td>\n",
       "    </tr>\n",
       "    <tr>\n",
       "      <th>2019</th>\n",
       "      <td>3478881.0</td>\n",
       "      <td>NaN</td>\n",
       "      <td>70311.0</td>\n",
       "    </tr>\n",
       "    <tr>\n",
       "      <th>2020</th>\n",
       "      <td>4406824.0</td>\n",
       "      <td>NaN</td>\n",
       "      <td>76056.0</td>\n",
       "    </tr>\n",
       "  </tbody>\n",
       "</table>\n",
       "</div>"
      ],
      "text/plain": [
       "                            0             1                    2\n",
       "Years  Business applications       By State          Washington \n",
       "2005                2502011.0           NaN              49676.0\n",
       "2006                2647870.0           NaN              52420.0\n",
       "2007                2659813.0           NaN              53658.0\n",
       "2008                2556873.0           NaN              49884.0\n",
       "2009                2401134.0           NaN              44840.0\n",
       "2010                2463835.0           NaN              46271.0\n",
       "2011                2537114.0           NaN              47911.0\n",
       "2012                2542238.0           NaN              47183.0\n",
       "2013                2582593.0           NaN              48050.0\n",
       "2014                2689186.0           NaN              50128.0\n",
       "2015                2786770.0           NaN              53091.0\n",
       "2016                2945885.0           NaN              57979.0\n",
       "2017                3176131.0           NaN              61931.0\n",
       "2018                3476246.0           NaN              68758.0\n",
       "2019                3478881.0           NaN              70311.0\n",
       "2020                4406824.0           NaN              76056.0"
      ]
     },
     "execution_count": 165,
     "metadata": {},
     "output_type": "execute_result"
    }
   ],
   "source": [
    "NewBusinesses2.T"
   ]
  },
  {
   "cell_type": "markdown",
   "id": "75819996",
   "metadata": {},
   "source": [
    "### Number of NaN's per column "
   ]
  },
  {
   "cell_type": "code",
   "execution_count": 166,
   "id": "32ec4b82",
   "metadata": {},
   "outputs": [
    {
     "data": {
      "text/plain": [
       "Years    0\n",
       "2005     1\n",
       "2006     1\n",
       "2007     1\n",
       "2008     1\n",
       "2009     1\n",
       "2010     1\n",
       "2011     1\n",
       "2012     1\n",
       "2013     1\n",
       "2014     1\n",
       "2015     1\n",
       "2016     1\n",
       "2017     1\n",
       "2018     1\n",
       "2019     1\n",
       "2020     1\n",
       "dtype: int64"
      ]
     },
     "execution_count": 166,
     "metadata": {},
     "output_type": "execute_result"
    }
   ],
   "source": [
    "NewBusinesses2.isnull().sum()"
   ]
  },
  {
   "cell_type": "markdown",
   "id": "545e93d8",
   "metadata": {},
   "source": [
    "### Dropping NaN's from Dataset"
   ]
  },
  {
   "cell_type": "code",
   "execution_count": 167,
   "id": "55387a69",
   "metadata": {},
   "outputs": [],
   "source": [
    "NewBusinesses2.dropna(inplace=True)"
   ]
  },
  {
   "cell_type": "code",
   "execution_count": 168,
   "id": "e1d7a12f",
   "metadata": {},
   "outputs": [
    {
     "data": {
      "text/html": [
       "<div>\n",
       "<style scoped>\n",
       "    .dataframe tbody tr th:only-of-type {\n",
       "        vertical-align: middle;\n",
       "    }\n",
       "\n",
       "    .dataframe tbody tr th {\n",
       "        vertical-align: top;\n",
       "    }\n",
       "\n",
       "    .dataframe thead th {\n",
       "        text-align: right;\n",
       "    }\n",
       "</style>\n",
       "<table border=\"1\" class=\"dataframe\">\n",
       "  <thead>\n",
       "    <tr style=\"text-align: right;\">\n",
       "      <th></th>\n",
       "      <th>Years</th>\n",
       "      <th>2005</th>\n",
       "      <th>2006</th>\n",
       "      <th>2007</th>\n",
       "      <th>2008</th>\n",
       "      <th>2009</th>\n",
       "      <th>2010</th>\n",
       "      <th>2011</th>\n",
       "      <th>2012</th>\n",
       "      <th>2013</th>\n",
       "      <th>2014</th>\n",
       "      <th>2015</th>\n",
       "      <th>2016</th>\n",
       "      <th>2017</th>\n",
       "      <th>2018</th>\n",
       "      <th>2019</th>\n",
       "      <th>2020</th>\n",
       "    </tr>\n",
       "  </thead>\n",
       "  <tbody>\n",
       "    <tr>\n",
       "      <th>0</th>\n",
       "      <td>Business applications</td>\n",
       "      <td>2502011.0</td>\n",
       "      <td>2647870.0</td>\n",
       "      <td>2659813.0</td>\n",
       "      <td>2556873.0</td>\n",
       "      <td>2401134.0</td>\n",
       "      <td>2463835.0</td>\n",
       "      <td>2537114.0</td>\n",
       "      <td>2542238.0</td>\n",
       "      <td>2582593.0</td>\n",
       "      <td>2689186.0</td>\n",
       "      <td>2786770.0</td>\n",
       "      <td>2945885.0</td>\n",
       "      <td>3176131.0</td>\n",
       "      <td>3476246.0</td>\n",
       "      <td>3478881.0</td>\n",
       "      <td>4406824.0</td>\n",
       "    </tr>\n",
       "    <tr>\n",
       "      <th>2</th>\n",
       "      <td>Washington</td>\n",
       "      <td>49676.0</td>\n",
       "      <td>52420.0</td>\n",
       "      <td>53658.0</td>\n",
       "      <td>49884.0</td>\n",
       "      <td>44840.0</td>\n",
       "      <td>46271.0</td>\n",
       "      <td>47911.0</td>\n",
       "      <td>47183.0</td>\n",
       "      <td>48050.0</td>\n",
       "      <td>50128.0</td>\n",
       "      <td>53091.0</td>\n",
       "      <td>57979.0</td>\n",
       "      <td>61931.0</td>\n",
       "      <td>68758.0</td>\n",
       "      <td>70311.0</td>\n",
       "      <td>76056.0</td>\n",
       "    </tr>\n",
       "  </tbody>\n",
       "</table>\n",
       "</div>"
      ],
      "text/plain": [
       "                    Years       2005       2006       2007       2008  \\\n",
       "0  Business applications   2502011.0  2647870.0  2659813.0  2556873.0   \n",
       "2             Washington     49676.0    52420.0    53658.0    49884.0   \n",
       "\n",
       "        2009       2010       2011       2012       2013       2014  \\\n",
       "0  2401134.0  2463835.0  2537114.0  2542238.0  2582593.0  2689186.0   \n",
       "2    44840.0    46271.0    47911.0    47183.0    48050.0    50128.0   \n",
       "\n",
       "        2015       2016       2017       2018       2019       2020  \n",
       "0  2786770.0  2945885.0  3176131.0  3476246.0  3478881.0  4406824.0  \n",
       "2    53091.0    57979.0    61931.0    68758.0    70311.0    76056.0  "
      ]
     },
     "execution_count": 168,
     "metadata": {},
     "output_type": "execute_result"
    }
   ],
   "source": [
    "NewBusinesses2.head()"
   ]
  },
  {
   "cell_type": "code",
   "execution_count": 169,
   "id": "f8c64790",
   "metadata": {},
   "outputs": [
    {
     "data": {
      "text/plain": [
       "<bound method DataFrame.info of                     Years       2005       2006       2007       2008  \\\n",
       "0  Business applications   2502011.0  2647870.0  2659813.0  2556873.0   \n",
       "2             Washington     49676.0    52420.0    53658.0    49884.0   \n",
       "\n",
       "        2009       2010       2011       2012       2013       2014  \\\n",
       "0  2401134.0  2463835.0  2537114.0  2542238.0  2582593.0  2689186.0   \n",
       "2    44840.0    46271.0    47911.0    47183.0    48050.0    50128.0   \n",
       "\n",
       "        2015       2016       2017       2018       2019       2020  \n",
       "0  2786770.0  2945885.0  3176131.0  3476246.0  3478881.0  4406824.0  \n",
       "2    53091.0    57979.0    61931.0    68758.0    70311.0    76056.0  >"
      ]
     },
     "execution_count": 169,
     "metadata": {},
     "output_type": "execute_result"
    }
   ],
   "source": [
    "NewBusinesses2.info"
   ]
  },
  {
   "cell_type": "code",
   "execution_count": 170,
   "id": "cdfcb095",
   "metadata": {},
   "outputs": [
    {
     "data": {
      "text/plain": [
       "array([[<AxesSubplot:title={'center':'2005'}>,\n",
       "        <AxesSubplot:title={'center':'2006'}>,\n",
       "        <AxesSubplot:title={'center':'2007'}>,\n",
       "        <AxesSubplot:title={'center':'2008'}>],\n",
       "       [<AxesSubplot:title={'center':'2009'}>,\n",
       "        <AxesSubplot:title={'center':'2010'}>,\n",
       "        <AxesSubplot:title={'center':'2011'}>,\n",
       "        <AxesSubplot:title={'center':'2012'}>],\n",
       "       [<AxesSubplot:title={'center':'2013'}>,\n",
       "        <AxesSubplot:title={'center':'2014'}>,\n",
       "        <AxesSubplot:title={'center':'2015'}>,\n",
       "        <AxesSubplot:title={'center':'2016'}>],\n",
       "       [<AxesSubplot:title={'center':'2017'}>,\n",
       "        <AxesSubplot:title={'center':'2018'}>,\n",
       "        <AxesSubplot:title={'center':'2019'}>,\n",
       "        <AxesSubplot:title={'center':'2020'}>]], dtype=object)"
      ]
     },
     "execution_count": 170,
     "metadata": {},
     "output_type": "execute_result"
    },
    {
     "data": {
      "image/png": "[encoded data removed]",
      "text/plain": [
       "<Figure size 432x288 with 16 Axes>"
      ]
     },
     "metadata": {
      "needs_background": "light"
     },
     "output_type": "display_data"
    }
   ],
   "source": [
    "NewBusinesses2.hist()"
   ]
  },
  {
   "cell_type": "markdown",
   "id": "f79078d3",
   "metadata": {},
   "source": [
    "### Single Sample T-test"
   ]
  },
  {
   "cell_type": "markdown",
   "id": "e854bcc1",
   "metadata": {},
   "source": [
    "Testing single-sample t-test to examine whether a particular value is different than the population mean"
   ]
  },
  {
   "cell_type": "code",
   "execution_count": 171,
   "id": "cac78040",
   "metadata": {},
   "outputs": [
    {
     "data": {
      "text/plain": [
       "<AxesSubplot:>"
      ]
     },
     "execution_count": 171,
     "metadata": {},
     "output_type": "execute_result"
    },
    {
     "data": {
      "image/png": "[encoded data removed]",
      "text/plain": [
       "<Figure size 432x288 with 1 Axes>"
      ]
     },
     "metadata": {
      "needs_background": "light"
     },
     "output_type": "display_data"
    }
   ],
   "source": [
    "NewBusinesses2['Years'].hist()"
   ]
  },
  {
   "cell_type": "code",
   "execution_count": 173,
   "id": "27e934fc",
   "metadata": {},
   "outputs": [
    {
     "data": {
      "text/plain": [
       "Ttest_1sampResult(statistic=1.0351231929302147, pvalue=0.48901398228402165)"
      ]
     },
     "execution_count": 173,
     "metadata": {},
     "output_type": "execute_result"
    }
   ],
   "source": [
    "stats.ttest_1samp(NewBusinesses2['2020'], 0.8)"
   ]
  },
  {
   "cell_type": "markdown",
   "id": "b3c7afcc",
   "metadata": {},
   "source": [
    "## Opened/Closed Small Businesses Netchange [USA Facts]"
   ]
  },
  {
   "cell_type": "code",
   "execution_count": 68,
   "id": "72a04493",
   "metadata": {},
   "outputs": [],
   "source": [
    "Netchange = pd.read_csv(\"/Users/darringtonhenderson/Documents/GitHub Final/WozUFinalProject/FinalProject/Data/NetChangeInBusinessUSA.csv\")"
   ]
  },
  {
   "cell_type": "code",
   "execution_count": 66,
   "id": "4395fa6a",
   "metadata": {},
   "outputs": [
    {
     "data": {
      "text/html": [
       "<div>\n",
       "<style scoped>\n",
       "    .dataframe tbody tr th:only-of-type {\n",
       "        vertical-align: middle;\n",
       "    }\n",
       "\n",
       "    .dataframe tbody tr th {\n",
       "        vertical-align: top;\n",
       "    }\n",
       "\n",
       "    .dataframe thead th {\n",
       "        text-align: right;\n",
       "    }\n",
       "</style>\n",
       "<table border=\"1\" class=\"dataframe\">\n",
       "  <thead>\n",
       "    <tr style=\"text-align: right;\">\n",
       "      <th></th>\n",
       "      <th>Years</th>\n",
       "      <th>2010</th>\n",
       "      <th>2011</th>\n",
       "      <th>2012</th>\n",
       "      <th>2013</th>\n",
       "      <th>2014</th>\n",
       "      <th>2015</th>\n",
       "      <th>2016</th>\n",
       "      <th>2017</th>\n",
       "      <th>2018</th>\n",
       "      <th>2019</th>\n",
       "      <th>2020</th>\n",
       "      <th>2021</th>\n",
       "    </tr>\n",
       "  </thead>\n",
       "  <tbody>\n",
       "    <tr>\n",
       "      <th>0</th>\n",
       "      <td>Businesses opened (Items)</td>\n",
       "      <td>797000</td>\n",
       "      <td>850000</td>\n",
       "      <td>908000</td>\n",
       "      <td>864000</td>\n",
       "      <td>875000</td>\n",
       "      <td>899000</td>\n",
       "      <td>946000</td>\n",
       "      <td>950000</td>\n",
       "      <td>957000</td>\n",
       "      <td>995000</td>\n",
       "      <td>105800</td>\n",
       "      <td>1154000</td>\n",
       "    </tr>\n",
       "    <tr>\n",
       "      <th>1</th>\n",
       "      <td>Businesses closed (Items)</td>\n",
       "      <td>912000</td>\n",
       "      <td>819000</td>\n",
       "      <td>789000</td>\n",
       "      <td>769000</td>\n",
       "      <td>783000</td>\n",
       "      <td>798000</td>\n",
       "      <td>810000</td>\n",
       "      <td>844000</td>\n",
       "      <td>867000</td>\n",
       "      <td>878000</td>\n",
       "      <td>1005000</td>\n",
       "      <td>964000</td>\n",
       "    </tr>\n",
       "  </tbody>\n",
       "</table>\n",
       "</div>"
      ],
      "text/plain": [
       "                               Years    2010    2011    2012    2013    2014  \\\n",
       "0          Businesses opened (Items)  797000  850000  908000  864000  875000   \n",
       "1          Businesses closed (Items)  912000  819000  789000  769000  783000   \n",
       "\n",
       "     2015    2016    2017    2018    2019     2020     2021  \n",
       "0  899000  946000  950000  957000  995000   105800  1154000  \n",
       "1  798000  810000  844000  867000  878000  1005000   964000  "
      ]
     },
     "execution_count": 66,
     "metadata": {},
     "output_type": "execute_result"
    }
   ],
   "source": [
    "Netchange.head()"
   ]
  },
  {
   "cell_type": "code",
   "execution_count": 67,
   "id": "4adc514a",
   "metadata": {},
   "outputs": [
    {
     "data": {
      "text/html": [
       "<div>\n",
       "<style scoped>\n",
       "    .dataframe tbody tr th:only-of-type {\n",
       "        vertical-align: middle;\n",
       "    }\n",
       "\n",
       "    .dataframe tbody tr th {\n",
       "        vertical-align: top;\n",
       "    }\n",
       "\n",
       "    .dataframe thead th {\n",
       "        text-align: right;\n",
       "    }\n",
       "</style>\n",
       "<table border=\"1\" class=\"dataframe\">\n",
       "  <thead>\n",
       "    <tr style=\"text-align: right;\">\n",
       "      <th></th>\n",
       "      <th>Years</th>\n",
       "      <th>2010</th>\n",
       "      <th>2011</th>\n",
       "      <th>2012</th>\n",
       "      <th>2013</th>\n",
       "      <th>2014</th>\n",
       "      <th>2015</th>\n",
       "      <th>2016</th>\n",
       "      <th>2017</th>\n",
       "      <th>2018</th>\n",
       "      <th>2019</th>\n",
       "      <th>2020</th>\n",
       "      <th>2021</th>\n",
       "    </tr>\n",
       "  </thead>\n",
       "  <tbody>\n",
       "    <tr>\n",
       "      <th>0</th>\n",
       "      <td>Businesses opened (Items)</td>\n",
       "      <td>797000</td>\n",
       "      <td>850000</td>\n",
       "      <td>908000</td>\n",
       "      <td>864000</td>\n",
       "      <td>875000</td>\n",
       "      <td>899000</td>\n",
       "      <td>946000</td>\n",
       "      <td>950000</td>\n",
       "      <td>957000</td>\n",
       "      <td>995000</td>\n",
       "      <td>105800</td>\n",
       "      <td>1154000</td>\n",
       "    </tr>\n",
       "    <tr>\n",
       "      <th>1</th>\n",
       "      <td>Businesses closed (Items)</td>\n",
       "      <td>912000</td>\n",
       "      <td>819000</td>\n",
       "      <td>789000</td>\n",
       "      <td>769000</td>\n",
       "      <td>783000</td>\n",
       "      <td>798000</td>\n",
       "      <td>810000</td>\n",
       "      <td>844000</td>\n",
       "      <td>867000</td>\n",
       "      <td>878000</td>\n",
       "      <td>1005000</td>\n",
       "      <td>964000</td>\n",
       "    </tr>\n",
       "  </tbody>\n",
       "</table>\n",
       "</div>"
      ],
      "text/plain": [
       "                               Years    2010    2011    2012    2013    2014  \\\n",
       "0          Businesses opened (Items)  797000  850000  908000  864000  875000   \n",
       "1          Businesses closed (Items)  912000  819000  789000  769000  783000   \n",
       "\n",
       "     2015    2016    2017    2018    2019     2020     2021  \n",
       "0  899000  946000  950000  957000  995000   105800  1154000  \n",
       "1  798000  810000  844000  867000  878000  1005000   964000  "
      ]
     },
     "execution_count": 67,
     "metadata": {},
     "output_type": "execute_result"
    }
   ],
   "source": [
    "Netchange.tail()"
   ]
  },
  {
   "cell_type": "markdown",
   "id": "436e8a10",
   "metadata": {},
   "source": [
    "### Transposing New Businesses2 Dataset"
   ]
  },
  {
   "cell_type": "code",
   "execution_count": 68,
   "id": "d21690b7",
   "metadata": {},
   "outputs": [
    {
     "data": {
      "text/html": [
       "<div>\n",
       "<style scoped>\n",
       "    .dataframe tbody tr th:only-of-type {\n",
       "        vertical-align: middle;\n",
       "    }\n",
       "\n",
       "    .dataframe tbody tr th {\n",
       "        vertical-align: top;\n",
       "    }\n",
       "\n",
       "    .dataframe thead th {\n",
       "        text-align: right;\n",
       "    }\n",
       "</style>\n",
       "<table border=\"1\" class=\"dataframe\">\n",
       "  <thead>\n",
       "    <tr style=\"text-align: right;\">\n",
       "      <th></th>\n",
       "      <th>0</th>\n",
       "      <th>1</th>\n",
       "    </tr>\n",
       "  </thead>\n",
       "  <tbody>\n",
       "    <tr>\n",
       "      <th>Years</th>\n",
       "      <td>Businesses opened (Items)</td>\n",
       "      <td>Businesses closed (Items)</td>\n",
       "    </tr>\n",
       "    <tr>\n",
       "      <th>2010</th>\n",
       "      <td>797000</td>\n",
       "      <td>912000</td>\n",
       "    </tr>\n",
       "    <tr>\n",
       "      <th>2011</th>\n",
       "      <td>850000</td>\n",
       "      <td>819000</td>\n",
       "    </tr>\n",
       "    <tr>\n",
       "      <th>2012</th>\n",
       "      <td>908000</td>\n",
       "      <td>789000</td>\n",
       "    </tr>\n",
       "    <tr>\n",
       "      <th>2013</th>\n",
       "      <td>864000</td>\n",
       "      <td>769000</td>\n",
       "    </tr>\n",
       "    <tr>\n",
       "      <th>2014</th>\n",
       "      <td>875000</td>\n",
       "      <td>783000</td>\n",
       "    </tr>\n",
       "    <tr>\n",
       "      <th>2015</th>\n",
       "      <td>899000</td>\n",
       "      <td>798000</td>\n",
       "    </tr>\n",
       "    <tr>\n",
       "      <th>2016</th>\n",
       "      <td>946000</td>\n",
       "      <td>810000</td>\n",
       "    </tr>\n",
       "    <tr>\n",
       "      <th>2017</th>\n",
       "      <td>950000</td>\n",
       "      <td>844000</td>\n",
       "    </tr>\n",
       "    <tr>\n",
       "      <th>2018</th>\n",
       "      <td>957000</td>\n",
       "      <td>867000</td>\n",
       "    </tr>\n",
       "    <tr>\n",
       "      <th>2019</th>\n",
       "      <td>995000</td>\n",
       "      <td>878000</td>\n",
       "    </tr>\n",
       "    <tr>\n",
       "      <th>2020</th>\n",
       "      <td>105800</td>\n",
       "      <td>1005000</td>\n",
       "    </tr>\n",
       "    <tr>\n",
       "      <th>2021</th>\n",
       "      <td>1154000</td>\n",
       "      <td>964000</td>\n",
       "    </tr>\n",
       "  </tbody>\n",
       "</table>\n",
       "</div>"
      ],
      "text/plain": [
       "                                       0                                  1\n",
       "Years          Businesses opened (Items)          Businesses closed (Items)\n",
       "2010                              797000                             912000\n",
       "2011                              850000                             819000\n",
       "2012                              908000                             789000\n",
       "2013                              864000                             769000\n",
       "2014                              875000                             783000\n",
       "2015                              899000                             798000\n",
       "2016                              946000                             810000\n",
       "2017                              950000                             844000\n",
       "2018                              957000                             867000\n",
       "2019                              995000                             878000\n",
       "2020                              105800                            1005000\n",
       "2021                             1154000                             964000"
      ]
     },
     "execution_count": 68,
     "metadata": {},
     "output_type": "execute_result"
    }
   ],
   "source": [
    "Netchange.T"
   ]
  },
  {
   "cell_type": "code",
   "execution_count": 69,
   "id": "f989b16e",
   "metadata": {},
   "outputs": [
    {
     "data": {
      "text/plain": [
       "<bound method DataFrame.info of                                Years    2010    2011    2012    2013    2014  \\\n",
       "0          Businesses opened (Items)  797000  850000  908000  864000  875000   \n",
       "1          Businesses closed (Items)  912000  819000  789000  769000  783000   \n",
       "\n",
       "     2015    2016    2017    2018    2019     2020     2021  \n",
       "0  899000  946000  950000  957000  995000   105800  1154000  \n",
       "1  798000  810000  844000  867000  878000  1005000   964000  >"
      ]
     },
     "execution_count": 69,
     "metadata": {},
     "output_type": "execute_result"
    }
   ],
   "source": [
    "Netchange.info"
   ]
  },
  {
   "cell_type": "code",
   "execution_count": 70,
   "id": "bded6269",
   "metadata": {},
   "outputs": [
    {
     "data": {
      "text/plain": [
       "array([[<AxesSubplot:title={'center':'2010'}>,\n",
       "        <AxesSubplot:title={'center':'2011'}>,\n",
       "        <AxesSubplot:title={'center':'2012'}>],\n",
       "       [<AxesSubplot:title={'center':'2013'}>,\n",
       "        <AxesSubplot:title={'center':'2014'}>,\n",
       "        <AxesSubplot:title={'center':'2015'}>],\n",
       "       [<AxesSubplot:title={'center':'2016'}>,\n",
       "        <AxesSubplot:title={'center':'2017'}>,\n",
       "        <AxesSubplot:title={'center':'2018'}>],\n",
       "       [<AxesSubplot:title={'center':'2019'}>,\n",
       "        <AxesSubplot:title={'center':'2020'}>,\n",
       "        <AxesSubplot:title={'center':'2021'}>]], dtype=object)"
      ]
     },
     "execution_count": 70,
     "metadata": {},
     "output_type": "execute_result"
    },
    {
     "data": {
      "image/png": "[encoded data removed]",
      "text/plain": [
       "<Figure size 432x288 with 12 Axes>"
      ]
     },
     "metadata": {
      "needs_background": "light"
     },
     "output_type": "display_data"
    }
   ],
   "source": [
    "Netchange.hist()"
   ]
  },
  {
   "cell_type": "markdown",
   "id": "dd02be8f",
   "metadata": {},
   "source": [
    "### Single Sample T-test"
   ]
  },
  {
   "cell_type": "markdown",
   "id": "33d7678e",
   "metadata": {},
   "source": [
    "Testing single-sample t-test to examine whether a particular value is different than the population mean"
   ]
  },
  {
   "cell_type": "code",
   "execution_count": 73,
   "id": "c98d3f16",
   "metadata": {},
   "outputs": [
    {
     "data": {
      "text/plain": [
       "<AxesSubplot:>"
      ]
     },
     "execution_count": 73,
     "metadata": {},
     "output_type": "execute_result"
    },
    {
     "data": {
      "image/png": "[encoded data removed]",
      "text/plain": [
       "<Figure size 432x288 with 1 Axes>"
      ]
     },
     "metadata": {
      "needs_background": "light"
     },
     "output_type": "display_data"
    }
   ],
   "source": [
    "Netchange['Years'].hist()"
   ]
  },
  {
   "cell_type": "code",
   "execution_count": 75,
   "id": "03cd845d",
   "metadata": {},
   "outputs": [
    {
     "data": {
      "text/plain": [
       "Ttest_1sampResult(statistic=11.147356842105262, pvalue=0.05695702274268121)"
      ]
     },
     "execution_count": 75,
     "metadata": {},
     "output_type": "execute_result"
    }
   ],
   "source": [
    "stats.ttest_1samp(Netchange['2021'], 1.1)"
   ]
  },
  {
   "cell_type": "markdown",
   "id": "69bf6120",
   "metadata": {},
   "source": [
    "## Unemployment/Employment"
   ]
  },
  {
   "cell_type": "markdown",
   "id": "f0bfce49",
   "metadata": {},
   "source": [
    "## Unemployment Rate Dataset [Kff.org] "
   ]
  },
  {
   "cell_type": "code",
   "execution_count": 69,
   "id": "10ed78de",
   "metadata": {},
   "outputs": [],
   "source": [
    "YTDUnemployment = pd.read_csv(\"/Users/darringtonhenderson/Documents/GitHub Final/WozUFinalProject/FinalProject/Data/YTD Unemployment Rate(Feb22).csv\")"
   ]
  },
  {
   "cell_type": "code",
   "execution_count": 175,
   "id": "d8650e1e",
   "metadata": {},
   "outputs": [
    {
     "data": {
      "text/html": [
       "<div>\n",
       "<style scoped>\n",
       "    .dataframe tbody tr th:only-of-type {\n",
       "        vertical-align: middle;\n",
       "    }\n",
       "\n",
       "    .dataframe tbody tr th {\n",
       "        vertical-align: top;\n",
       "    }\n",
       "\n",
       "    .dataframe thead th {\n",
       "        text-align: right;\n",
       "    }\n",
       "</style>\n",
       "<table border=\"1\" class=\"dataframe\">\n",
       "  <thead>\n",
       "    <tr style=\"text-align: right;\">\n",
       "      <th></th>\n",
       "      <th>Title: Unemployment Rate (Seasonally Adjusted) | KFF</th>\n",
       "      <th>Unnamed: 1</th>\n",
       "    </tr>\n",
       "  </thead>\n",
       "  <tbody>\n",
       "    <tr>\n",
       "      <th>0</th>\n",
       "      <td>Timeframe: February 2022</td>\n",
       "      <td>NaN</td>\n",
       "    </tr>\n",
       "    <tr>\n",
       "      <th>1</th>\n",
       "      <td>Location</td>\n",
       "      <td>Unemployed</td>\n",
       "    </tr>\n",
       "    <tr>\n",
       "      <th>2</th>\n",
       "      <td>Washington</td>\n",
       "      <td>170,771</td>\n",
       "    </tr>\n",
       "  </tbody>\n",
       "</table>\n",
       "</div>"
      ],
      "text/plain": [
       "  Title: Unemployment Rate (Seasonally Adjusted) | KFF  Unnamed: 1\n",
       "0                           Timeframe: February 2022           NaN\n",
       "1                                           Location    Unemployed\n",
       "2                                         Washington       170,771"
      ]
     },
     "execution_count": 175,
     "metadata": {},
     "output_type": "execute_result"
    }
   ],
   "source": [
    "YTDUnemployment.head()"
   ]
  },
  {
   "cell_type": "markdown",
   "id": "487cea94",
   "metadata": {},
   "source": [
    "### Dropping NaN's from YTD Unemployment Data"
   ]
  },
  {
   "cell_type": "code",
   "execution_count": 176,
   "id": "60822efe",
   "metadata": {},
   "outputs": [],
   "source": [
    "YTDUnemployment.dropna(inplace=True)"
   ]
  },
  {
   "cell_type": "code",
   "execution_count": 177,
   "id": "a6e9ee41",
   "metadata": {},
   "outputs": [
    {
     "data": {
      "text/html": [
       "<div>\n",
       "<style scoped>\n",
       "    .dataframe tbody tr th:only-of-type {\n",
       "        vertical-align: middle;\n",
       "    }\n",
       "\n",
       "    .dataframe tbody tr th {\n",
       "        vertical-align: top;\n",
       "    }\n",
       "\n",
       "    .dataframe thead th {\n",
       "        text-align: right;\n",
       "    }\n",
       "</style>\n",
       "<table border=\"1\" class=\"dataframe\">\n",
       "  <thead>\n",
       "    <tr style=\"text-align: right;\">\n",
       "      <th></th>\n",
       "      <th>Title: Unemployment Rate (Seasonally Adjusted) | KFF</th>\n",
       "      <th>Unnamed: 1</th>\n",
       "    </tr>\n",
       "  </thead>\n",
       "  <tbody>\n",
       "    <tr>\n",
       "      <th>1</th>\n",
       "      <td>Location</td>\n",
       "      <td>Unemployed</td>\n",
       "    </tr>\n",
       "    <tr>\n",
       "      <th>2</th>\n",
       "      <td>Washington</td>\n",
       "      <td>170,771</td>\n",
       "    </tr>\n",
       "  </tbody>\n",
       "</table>\n",
       "</div>"
      ],
      "text/plain": [
       "  Title: Unemployment Rate (Seasonally Adjusted) | KFF  Unnamed: 1\n",
       "1                                           Location    Unemployed\n",
       "2                                         Washington       170,771"
      ]
     },
     "execution_count": 177,
     "metadata": {},
     "output_type": "execute_result"
    }
   ],
   "source": [
    "YTDUnemployment.head()"
   ]
  },
  {
   "cell_type": "code",
   "execution_count": 178,
   "id": "41ba2686",
   "metadata": {},
   "outputs": [
    {
     "data": {
      "text/plain": [
       "<bound method DataFrame.info of   Title: Unemployment Rate (Seasonally Adjusted) | KFF  Unnamed: 1\n",
       "1                                           Location    Unemployed\n",
       "2                                         Washington       170,771>"
      ]
     },
     "execution_count": 178,
     "metadata": {},
     "output_type": "execute_result"
    }
   ],
   "source": [
    "YTDUnemployment.info"
   ]
  },
  {
   "cell_type": "markdown",
   "id": "7a32515a",
   "metadata": {},
   "source": [
    "## Layoffs from Businesses Downsizing Dataset"
   ]
  },
  {
   "cell_type": "code",
   "execution_count": 70,
   "id": "a09d979d",
   "metadata": {},
   "outputs": [],
   "source": [
    "Layoffs = pd.read_csv(\"/Users/darringtonhenderson/Documents/GitHub Final/WozUFinalProject/FinalProject/Data/BusinessesLosingJobsUSA.csv\")"
   ]
  },
  {
   "cell_type": "code",
   "execution_count": 93,
   "id": "b7401ffe",
   "metadata": {},
   "outputs": [
    {
     "data": {
      "text/html": [
       "<div>\n",
       "<style scoped>\n",
       "    .dataframe tbody tr th:only-of-type {\n",
       "        vertical-align: middle;\n",
       "    }\n",
       "\n",
       "    .dataframe tbody tr th {\n",
       "        vertical-align: top;\n",
       "    }\n",
       "\n",
       "    .dataframe thead th {\n",
       "        text-align: right;\n",
       "    }\n",
       "</style>\n",
       "<table border=\"1\" class=\"dataframe\">\n",
       "  <thead>\n",
       "    <tr style=\"text-align: right;\">\n",
       "      <th></th>\n",
       "      <th>Years</th>\n",
       "      <th>Businesses losing jobs</th>\n",
       "    </tr>\n",
       "  </thead>\n",
       "  <tbody>\n",
       "    <tr>\n",
       "      <th>0</th>\n",
       "      <td>2010</td>\n",
       "      <td>2824000</td>\n",
       "    </tr>\n",
       "    <tr>\n",
       "      <th>1</th>\n",
       "      <td>2011</td>\n",
       "      <td>2464000</td>\n",
       "    </tr>\n",
       "    <tr>\n",
       "      <th>2</th>\n",
       "      <td>2012</td>\n",
       "      <td>2397000</td>\n",
       "    </tr>\n",
       "    <tr>\n",
       "      <th>3</th>\n",
       "      <td>2013</td>\n",
       "      <td>2427000</td>\n",
       "    </tr>\n",
       "    <tr>\n",
       "      <th>4</th>\n",
       "      <td>2014</td>\n",
       "      <td>2451000</td>\n",
       "    </tr>\n",
       "  </tbody>\n",
       "</table>\n",
       "</div>"
      ],
      "text/plain": [
       "   Years  Businesses losing jobs\n",
       "0   2010                 2824000\n",
       "1   2011                 2464000\n",
       "2   2012                 2397000\n",
       "3   2013                 2427000\n",
       "4   2014                 2451000"
      ]
     },
     "execution_count": 93,
     "metadata": {},
     "output_type": "execute_result"
    }
   ],
   "source": [
    "Layoffs.head()"
   ]
  },
  {
   "cell_type": "code",
   "execution_count": 94,
   "id": "a0a1ba36",
   "metadata": {},
   "outputs": [
    {
     "data": {
      "text/html": [
       "<div>\n",
       "<style scoped>\n",
       "    .dataframe tbody tr th:only-of-type {\n",
       "        vertical-align: middle;\n",
       "    }\n",
       "\n",
       "    .dataframe tbody tr th {\n",
       "        vertical-align: top;\n",
       "    }\n",
       "\n",
       "    .dataframe thead th {\n",
       "        text-align: right;\n",
       "    }\n",
       "</style>\n",
       "<table border=\"1\" class=\"dataframe\">\n",
       "  <thead>\n",
       "    <tr style=\"text-align: right;\">\n",
       "      <th></th>\n",
       "      <th>Years</th>\n",
       "      <th>Businesses losing jobs</th>\n",
       "    </tr>\n",
       "  </thead>\n",
       "  <tbody>\n",
       "    <tr>\n",
       "      <th>6</th>\n",
       "      <td>2016</td>\n",
       "      <td>2534000</td>\n",
       "    </tr>\n",
       "    <tr>\n",
       "      <th>7</th>\n",
       "      <td>2017</td>\n",
       "      <td>2661000</td>\n",
       "    </tr>\n",
       "    <tr>\n",
       "      <th>8</th>\n",
       "      <td>2018</td>\n",
       "      <td>2701000</td>\n",
       "    </tr>\n",
       "    <tr>\n",
       "      <th>9</th>\n",
       "      <td>2019</td>\n",
       "      <td>2754000</td>\n",
       "    </tr>\n",
       "    <tr>\n",
       "      <th>10</th>\n",
       "      <td>2020</td>\n",
       "      <td>2950000</td>\n",
       "    </tr>\n",
       "  </tbody>\n",
       "</table>\n",
       "</div>"
      ],
      "text/plain": [
       "    Years  Businesses losing jobs\n",
       "6    2016                 2534000\n",
       "7    2017                 2661000\n",
       "8    2018                 2701000\n",
       "9    2019                 2754000\n",
       "10   2020                 2950000"
      ]
     },
     "execution_count": 94,
     "metadata": {},
     "output_type": "execute_result"
    }
   ],
   "source": [
    "Layoffs.tail()"
   ]
  },
  {
   "cell_type": "code",
   "execution_count": 95,
   "id": "18fa90eb",
   "metadata": {},
   "outputs": [
    {
     "data": {
      "text/plain": [
       "<bound method DataFrame.info of     Years  Businesses losing jobs\n",
       "0    2010                 2824000\n",
       "1    2011                 2464000\n",
       "2    2012                 2397000\n",
       "3    2013                 2427000\n",
       "4    2014                 2451000\n",
       "5    2015                 2490000\n",
       "6    2016                 2534000\n",
       "7    2017                 2661000\n",
       "8    2018                 2701000\n",
       "9    2019                 2754000\n",
       "10   2020                 2950000>"
      ]
     },
     "execution_count": 95,
     "metadata": {},
     "output_type": "execute_result"
    }
   ],
   "source": [
    "Layoffs.info"
   ]
  },
  {
   "cell_type": "code",
   "execution_count": 96,
   "id": "e73fb557",
   "metadata": {},
   "outputs": [
    {
     "data": {
      "text/plain": [
       "array([[<AxesSubplot:title={'center':'Years'}>,\n",
       "        <AxesSubplot:title={'center':'Businesses losing jobs'}>]],\n",
       "      dtype=object)"
      ]
     },
     "execution_count": 96,
     "metadata": {},
     "output_type": "execute_result"
    },
    {
     "data": {
      "image/png": "[encoded data removed]",
      "text/plain": [
       "<Figure size 432x288 with 2 Axes>"
      ]
     },
     "metadata": {
      "needs_background": "light"
     },
     "output_type": "display_data"
    }
   ],
   "source": [
    "Layoffs.hist()"
   ]
  },
  {
   "cell_type": "markdown",
   "id": "cabbda5b",
   "metadata": {},
   "source": [
    "### Single Sample T-test"
   ]
  },
  {
   "cell_type": "markdown",
   "id": "37b5ec47",
   "metadata": {},
   "source": [
    "Testing single-sample t-test to examine whether a particular value is different than the population mean"
   ]
  },
  {
   "cell_type": "code",
   "execution_count": 98,
   "id": "c1292a7f",
   "metadata": {},
   "outputs": [
    {
     "data": {
      "text/plain": [
       "<AxesSubplot:>"
      ]
     },
     "execution_count": 98,
     "metadata": {},
     "output_type": "execute_result"
    },
    {
     "data": {
      "image/png": "[encoded data removed]",
      "text/plain": [
       "<Figure size 432x288 with 1 Axes>"
      ]
     },
     "metadata": {
      "needs_background": "light"
     },
     "output_type": "display_data"
    }
   ],
   "source": [
    "Layoffs['Businesses losing jobs'].hist()"
   ]
  },
  {
   "cell_type": "code",
   "execution_count": 71,
   "id": "932cd226",
   "metadata": {},
   "outputs": [
    {
     "data": {
      "text/plain": [
       "Ttest_1sampResult(statistic=46.966741821367606, pvalue=4.615223055199837e-13)"
      ]
     },
     "execution_count": 71,
     "metadata": {},
     "output_type": "execute_result"
    }
   ],
   "source": [
    "stats.ttest_1samp(Layoffs['Businesses losing jobs'], 2.8)"
   ]
  },
  {
   "cell_type": "markdown",
   "id": "e2dc0ce1",
   "metadata": {},
   "source": [
    "## Businesses Gaining Jobs Dataset [Employers Hiring/Employment Rate]"
   ]
  },
  {
   "cell_type": "code",
   "execution_count": 72,
   "id": "8500c59d",
   "metadata": {},
   "outputs": [],
   "source": [
    "Employment = pd.read_csv(\"/Users/darringtonhenderson/Documents/GitHub Final/WozUFinalProject/FinalProject/Data/BusinessesGainingJobsUSA.csv\")"
   ]
  },
  {
   "cell_type": "code",
   "execution_count": 73,
   "id": "6f7a6972",
   "metadata": {},
   "outputs": [
    {
     "data": {
      "text/html": [
       "<div>\n",
       "<style scoped>\n",
       "    .dataframe tbody tr th:only-of-type {\n",
       "        vertical-align: middle;\n",
       "    }\n",
       "\n",
       "    .dataframe tbody tr th {\n",
       "        vertical-align: top;\n",
       "    }\n",
       "\n",
       "    .dataframe thead th {\n",
       "        text-align: right;\n",
       "    }\n",
       "</style>\n",
       "<table border=\"1\" class=\"dataframe\">\n",
       "  <thead>\n",
       "    <tr style=\"text-align: right;\">\n",
       "      <th></th>\n",
       "      <th>Years</th>\n",
       "      <th>Businesses gaining jobs</th>\n",
       "    </tr>\n",
       "  </thead>\n",
       "  <tbody>\n",
       "    <tr>\n",
       "      <th>0</th>\n",
       "      <td>2010</td>\n",
       "      <td>2309000</td>\n",
       "    </tr>\n",
       "    <tr>\n",
       "      <th>1</th>\n",
       "      <td>2011</td>\n",
       "      <td>2588000</td>\n",
       "    </tr>\n",
       "    <tr>\n",
       "      <th>2</th>\n",
       "      <td>2012</td>\n",
       "      <td>2727000</td>\n",
       "    </tr>\n",
       "    <tr>\n",
       "      <th>3</th>\n",
       "      <td>2013</td>\n",
       "      <td>2691000</td>\n",
       "    </tr>\n",
       "    <tr>\n",
       "      <th>4</th>\n",
       "      <td>2014</td>\n",
       "      <td>2769000</td>\n",
       "    </tr>\n",
       "  </tbody>\n",
       "</table>\n",
       "</div>"
      ],
      "text/plain": [
       "   Years  Businesses gaining jobs \n",
       "0   2010                   2309000\n",
       "1   2011                   2588000\n",
       "2   2012                   2727000\n",
       "3   2013                   2691000\n",
       "4   2014                   2769000"
      ]
     },
     "execution_count": 73,
     "metadata": {},
     "output_type": "execute_result"
    }
   ],
   "source": [
    "Employment.head()"
   ]
  },
  {
   "cell_type": "code",
   "execution_count": 74,
   "id": "42e8e1d8",
   "metadata": {},
   "outputs": [
    {
     "data": {
      "text/html": [
       "<div>\n",
       "<style scoped>\n",
       "    .dataframe tbody tr th:only-of-type {\n",
       "        vertical-align: middle;\n",
       "    }\n",
       "\n",
       "    .dataframe tbody tr th {\n",
       "        vertical-align: top;\n",
       "    }\n",
       "\n",
       "    .dataframe thead th {\n",
       "        text-align: right;\n",
       "    }\n",
       "</style>\n",
       "<table border=\"1\" class=\"dataframe\">\n",
       "  <thead>\n",
       "    <tr style=\"text-align: right;\">\n",
       "      <th></th>\n",
       "      <th>Years</th>\n",
       "      <th>Businesses gaining jobs</th>\n",
       "    </tr>\n",
       "  </thead>\n",
       "  <tbody>\n",
       "    <tr>\n",
       "      <th>6</th>\n",
       "      <td>2016</td>\n",
       "      <td>2915000</td>\n",
       "    </tr>\n",
       "    <tr>\n",
       "      <th>7</th>\n",
       "      <td>2017</td>\n",
       "      <td>2896000</td>\n",
       "    </tr>\n",
       "    <tr>\n",
       "      <th>8</th>\n",
       "      <td>2018</td>\n",
       "      <td>2910000</td>\n",
       "    </tr>\n",
       "    <tr>\n",
       "      <th>9</th>\n",
       "      <td>2019</td>\n",
       "      <td>2970000</td>\n",
       "    </tr>\n",
       "    <tr>\n",
       "      <th>10</th>\n",
       "      <td>2020</td>\n",
       "      <td>2943000</td>\n",
       "    </tr>\n",
       "  </tbody>\n",
       "</table>\n",
       "</div>"
      ],
      "text/plain": [
       "    Years  Businesses gaining jobs \n",
       "6    2016                   2915000\n",
       "7    2017                   2896000\n",
       "8    2018                   2910000\n",
       "9    2019                   2970000\n",
       "10   2020                   2943000"
      ]
     },
     "execution_count": 74,
     "metadata": {},
     "output_type": "execute_result"
    }
   ],
   "source": [
    "Employment.tail()"
   ]
  },
  {
   "cell_type": "code",
   "execution_count": 104,
   "id": "3e75858a",
   "metadata": {},
   "outputs": [
    {
     "data": {
      "text/plain": [
       "<bound method DataFrame.info of     Years  Businesses gaining jobs \n",
       "0    2010                   2309000\n",
       "1    2011                   2588000\n",
       "2    2012                   2727000\n",
       "3    2013                   2691000\n",
       "4    2014                   2769000\n",
       "5    2015                   2828000\n",
       "6    2016                   2915000\n",
       "7    2017                   2896000\n",
       "8    2018                   2910000\n",
       "9    2019                   2970000\n",
       "10   2020                   2943000>"
      ]
     },
     "execution_count": 104,
     "metadata": {},
     "output_type": "execute_result"
    }
   ],
   "source": [
    "Employment.info"
   ]
  },
  {
   "cell_type": "code",
   "execution_count": 105,
   "id": "a349f036",
   "metadata": {},
   "outputs": [
    {
     "data": {
      "text/plain": [
       "array([[<AxesSubplot:title={'center':'Years'}>,\n",
       "        <AxesSubplot:title={'center':'Businesses gaining jobs '}>]],\n",
       "      dtype=object)"
      ]
     },
     "execution_count": 105,
     "metadata": {},
     "output_type": "execute_result"
    },
    {
     "data": {
      "image/png": "[encoded data removed]",
      "text/plain": [
       "<Figure size 432x288 with 2 Axes>"
      ]
     },
     "metadata": {
      "needs_background": "light"
     },
     "output_type": "display_data"
    }
   ],
   "source": [
    "Employment.hist()"
   ]
  },
  {
   "cell_type": "markdown",
   "id": "a6f64fdb",
   "metadata": {},
   "source": [
    "### Single Sample T-test"
   ]
  },
  {
   "cell_type": "markdown",
   "id": "482ecca2",
   "metadata": {},
   "source": [
    "Testing single-sample t-test to examine whether a particular value is different than the population mean"
   ]
  },
  {
   "cell_type": "code",
   "execution_count": 107,
   "id": "912c3e7b",
   "metadata": {},
   "outputs": [
    {
     "data": {
      "text/plain": [
       "<AxesSubplot:>"
      ]
     },
     "execution_count": 107,
     "metadata": {},
     "output_type": "execute_result"
    },
    {
     "data": {
      "image/png": "[encoded data removed]",
      "text/plain": [
       "<Figure size 432x288 with 1 Axes>"
      ]
     },
     "metadata": {
      "needs_background": "light"
     },
     "output_type": "display_data"
    }
   ],
   "source": [
    "Employment['Years'].hist()"
   ]
  },
  {
   "cell_type": "code",
   "execution_count": 109,
   "id": "ea87a108",
   "metadata": {},
   "outputs": [
    {
     "data": {
      "text/plain": [
       "Ttest_1sampResult(statistic=2013.5, pvalue=2.246877187744779e-29)"
      ]
     },
     "execution_count": 109,
     "metadata": {},
     "output_type": "execute_result"
    }
   ],
   "source": [
    "stats.ttest_1samp(Employment['Years'], 1.50)"
   ]
  },
  {
   "cell_type": "markdown",
   "id": "24e01361",
   "metadata": {},
   "source": [
    "## COVID Cases/Deaths "
   ]
  },
  {
   "cell_type": "markdown",
   "id": "fa47bf6d",
   "metadata": {},
   "source": [
    "## COVID Cases & Deaths CDC Dataset"
   ]
  },
  {
   "cell_type": "code",
   "execution_count": 17,
   "id": "1ab5d858",
   "metadata": {},
   "outputs": [],
   "source": [
    "covid = pd.read_csv(\"/Users/darringtonhenderson/Documents/GitHub Final/WozUFinalProject/FinalProject/Data/United States COVID19 Cases and Deaths by State over Time .csv\")"
   ]
  },
  {
   "cell_type": "code",
   "execution_count": 186,
   "id": "358db552",
   "metadata": {},
   "outputs": [
    {
     "data": {
      "text/html": [
       "<div>\n",
       "<style scoped>\n",
       "    .dataframe tbody tr th:only-of-type {\n",
       "        vertical-align: middle;\n",
       "    }\n",
       "\n",
       "    .dataframe tbody tr th {\n",
       "        vertical-align: top;\n",
       "    }\n",
       "\n",
       "    .dataframe thead th {\n",
       "        text-align: right;\n",
       "    }\n",
       "</style>\n",
       "<table border=\"1\" class=\"dataframe\">\n",
       "  <thead>\n",
       "    <tr style=\"text-align: right;\">\n",
       "      <th></th>\n",
       "      <th>submission_date</th>\n",
       "      <th>state</th>\n",
       "      <th>tot_cases</th>\n",
       "      <th>conf_cases</th>\n",
       "      <th>prob_cases</th>\n",
       "      <th>new_case</th>\n",
       "      <th>pnew_case</th>\n",
       "      <th>tot_death</th>\n",
       "      <th>conf_death</th>\n",
       "      <th>prob_death</th>\n",
       "      <th>new_death</th>\n",
       "      <th>pnew_death</th>\n",
       "      <th>created_at</th>\n",
       "      <th>consent_cases</th>\n",
       "      <th>consent_deaths</th>\n",
       "    </tr>\n",
       "  </thead>\n",
       "  <tbody>\n",
       "    <tr>\n",
       "      <th>0</th>\n",
       "      <td>03/18/2021</td>\n",
       "      <td>NE</td>\n",
       "      <td>206980</td>\n",
       "      <td>NaN</td>\n",
       "      <td>NaN</td>\n",
       "      <td>298</td>\n",
       "      <td>0.0</td>\n",
       "      <td>2130</td>\n",
       "      <td>NaN</td>\n",
       "      <td>NaN</td>\n",
       "      <td>1</td>\n",
       "      <td>0.0</td>\n",
       "      <td>03/20/2021 12:00:00 AM</td>\n",
       "      <td>Not agree</td>\n",
       "      <td>Not agree</td>\n",
       "    </tr>\n",
       "    <tr>\n",
       "      <th>1</th>\n",
       "      <td>09/01/2021</td>\n",
       "      <td>ND</td>\n",
       "      <td>118491</td>\n",
       "      <td>107475.0</td>\n",
       "      <td>11016.0</td>\n",
       "      <td>536</td>\n",
       "      <td>66.0</td>\n",
       "      <td>1562</td>\n",
       "      <td>NaN</td>\n",
       "      <td>NaN</td>\n",
       "      <td>1</td>\n",
       "      <td>0.0</td>\n",
       "      <td>09/02/2021 01:49:05 PM</td>\n",
       "      <td>Agree</td>\n",
       "      <td>Not agree</td>\n",
       "    </tr>\n",
       "    <tr>\n",
       "      <th>2</th>\n",
       "      <td>10/04/2020</td>\n",
       "      <td>MD</td>\n",
       "      <td>127290</td>\n",
       "      <td>NaN</td>\n",
       "      <td>NaN</td>\n",
       "      <td>471</td>\n",
       "      <td>0.0</td>\n",
       "      <td>4092</td>\n",
       "      <td>3933.0</td>\n",
       "      <td>159.0</td>\n",
       "      <td>3</td>\n",
       "      <td>0.0</td>\n",
       "      <td>10/06/2020 12:00:00 AM</td>\n",
       "      <td>NaN</td>\n",
       "      <td>Agree</td>\n",
       "    </tr>\n",
       "    <tr>\n",
       "      <th>3</th>\n",
       "      <td>02/06/2020</td>\n",
       "      <td>NE</td>\n",
       "      <td>0</td>\n",
       "      <td>NaN</td>\n",
       "      <td>NaN</td>\n",
       "      <td>0</td>\n",
       "      <td>NaN</td>\n",
       "      <td>0</td>\n",
       "      <td>NaN</td>\n",
       "      <td>NaN</td>\n",
       "      <td>0</td>\n",
       "      <td>NaN</td>\n",
       "      <td>03/26/2020 04:22:39 PM</td>\n",
       "      <td>Agree</td>\n",
       "      <td>Agree</td>\n",
       "    </tr>\n",
       "    <tr>\n",
       "      <th>4</th>\n",
       "      <td>10/06/2021</td>\n",
       "      <td>DE</td>\n",
       "      <td>134690</td>\n",
       "      <td>124148.0</td>\n",
       "      <td>10542.0</td>\n",
       "      <td>444</td>\n",
       "      <td>45.0</td>\n",
       "      <td>1977</td>\n",
       "      <td>1810.0</td>\n",
       "      <td>167.0</td>\n",
       "      <td>2</td>\n",
       "      <td>0.0</td>\n",
       "      <td>10/08/2021 12:00:00 AM</td>\n",
       "      <td>Agree</td>\n",
       "      <td>Agree</td>\n",
       "    </tr>\n",
       "  </tbody>\n",
       "</table>\n",
       "</div>"
      ],
      "text/plain": [
       "  submission_date state  tot_cases  conf_cases  prob_cases  new_case  \\\n",
       "0      03/18/2021    NE     206980         NaN         NaN       298   \n",
       "1      09/01/2021    ND     118491    107475.0     11016.0       536   \n",
       "2      10/04/2020    MD     127290         NaN         NaN       471   \n",
       "3      02/06/2020    NE          0         NaN         NaN         0   \n",
       "4      10/06/2021    DE     134690    124148.0     10542.0       444   \n",
       "\n",
       "   pnew_case  tot_death  conf_death  prob_death  new_death  pnew_death  \\\n",
       "0        0.0       2130         NaN         NaN          1         0.0   \n",
       "1       66.0       1562         NaN         NaN          1         0.0   \n",
       "2        0.0       4092      3933.0       159.0          3         0.0   \n",
       "3        NaN          0         NaN         NaN          0         NaN   \n",
       "4       45.0       1977      1810.0       167.0          2         0.0   \n",
       "\n",
       "               created_at consent_cases consent_deaths  \n",
       "0  03/20/2021 12:00:00 AM     Not agree      Not agree  \n",
       "1  09/02/2021 01:49:05 PM         Agree      Not agree  \n",
       "2  10/06/2020 12:00:00 AM           NaN          Agree  \n",
       "3  03/26/2020 04:22:39 PM         Agree          Agree  \n",
       "4  10/08/2021 12:00:00 AM         Agree          Agree  "
      ]
     },
     "execution_count": 186,
     "metadata": {},
     "output_type": "execute_result"
    }
   ],
   "source": [
    "covid.head()"
   ]
  },
  {
   "cell_type": "code",
   "execution_count": 187,
   "id": "889a9193",
   "metadata": {},
   "outputs": [
    {
     "data": {
      "text/html": [
       "<div>\n",
       "<style scoped>\n",
       "    .dataframe tbody tr th:only-of-type {\n",
       "        vertical-align: middle;\n",
       "    }\n",
       "\n",
       "    .dataframe tbody tr th {\n",
       "        vertical-align: top;\n",
       "    }\n",
       "\n",
       "    .dataframe thead th {\n",
       "        text-align: right;\n",
       "    }\n",
       "</style>\n",
       "<table border=\"1\" class=\"dataframe\">\n",
       "  <thead>\n",
       "    <tr style=\"text-align: right;\">\n",
       "      <th></th>\n",
       "      <th>submission_date</th>\n",
       "      <th>state</th>\n",
       "      <th>tot_cases</th>\n",
       "      <th>conf_cases</th>\n",
       "      <th>prob_cases</th>\n",
       "      <th>new_case</th>\n",
       "      <th>pnew_case</th>\n",
       "      <th>tot_death</th>\n",
       "      <th>conf_death</th>\n",
       "      <th>prob_death</th>\n",
       "      <th>new_death</th>\n",
       "      <th>pnew_death</th>\n",
       "      <th>created_at</th>\n",
       "      <th>consent_cases</th>\n",
       "      <th>consent_deaths</th>\n",
       "    </tr>\n",
       "  </thead>\n",
       "  <tbody>\n",
       "    <tr>\n",
       "      <th>50476</th>\n",
       "      <td>03/18/2022</td>\n",
       "      <td>NJ</td>\n",
       "      <td>2186846</td>\n",
       "      <td>1888440.0</td>\n",
       "      <td>298406.0</td>\n",
       "      <td>1523</td>\n",
       "      <td>534.0</td>\n",
       "      <td>33155</td>\n",
       "      <td>30172.0</td>\n",
       "      <td>2983.0</td>\n",
       "      <td>6</td>\n",
       "      <td>0.0</td>\n",
       "      <td>03/19/2022 01:30:21 PM</td>\n",
       "      <td>Agree</td>\n",
       "      <td>Agree</td>\n",
       "    </tr>\n",
       "    <tr>\n",
       "      <th>50477</th>\n",
       "      <td>07/19/2020</td>\n",
       "      <td>NJ</td>\n",
       "      <td>178541</td>\n",
       "      <td>NaN</td>\n",
       "      <td>NaN</td>\n",
       "      <td>-10</td>\n",
       "      <td>21.0</td>\n",
       "      <td>15706</td>\n",
       "      <td>13732.0</td>\n",
       "      <td>1974.0</td>\n",
       "      <td>34</td>\n",
       "      <td>27.0</td>\n",
       "      <td>07/19/2020 12:00:00 AM</td>\n",
       "      <td>Not agree</td>\n",
       "      <td>Agree</td>\n",
       "    </tr>\n",
       "    <tr>\n",
       "      <th>50478</th>\n",
       "      <td>02/10/2021</td>\n",
       "      <td>FSM</td>\n",
       "      <td>1</td>\n",
       "      <td>1.0</td>\n",
       "      <td>0.0</td>\n",
       "      <td>0</td>\n",
       "      <td>0.0</td>\n",
       "      <td>0</td>\n",
       "      <td>0.0</td>\n",
       "      <td>0.0</td>\n",
       "      <td>0</td>\n",
       "      <td>0.0</td>\n",
       "      <td>02/11/2021 02:50:55 PM</td>\n",
       "      <td>Agree</td>\n",
       "      <td>Agree</td>\n",
       "    </tr>\n",
       "    <tr>\n",
       "      <th>50479</th>\n",
       "      <td>01/12/2022</td>\n",
       "      <td>WY</td>\n",
       "      <td>123743</td>\n",
       "      <td>97745.0</td>\n",
       "      <td>25998.0</td>\n",
       "      <td>989</td>\n",
       "      <td>246.0</td>\n",
       "      <td>1588</td>\n",
       "      <td>1588.0</td>\n",
       "      <td>0.0</td>\n",
       "      <td>0</td>\n",
       "      <td>0.0</td>\n",
       "      <td>01/13/2022 02:34:51 PM</td>\n",
       "      <td>Agree</td>\n",
       "      <td>Agree</td>\n",
       "    </tr>\n",
       "    <tr>\n",
       "      <th>50480</th>\n",
       "      <td>11/22/2021</td>\n",
       "      <td>AZ</td>\n",
       "      <td>1245127</td>\n",
       "      <td>1127692.0</td>\n",
       "      <td>117435.0</td>\n",
       "      <td>3249</td>\n",
       "      <td>403.0</td>\n",
       "      <td>21942</td>\n",
       "      <td>19414.0</td>\n",
       "      <td>2528.0</td>\n",
       "      <td>2</td>\n",
       "      <td>0.0</td>\n",
       "      <td>11/23/2021 02:18:53 PM</td>\n",
       "      <td>Agree</td>\n",
       "      <td>Agree</td>\n",
       "    </tr>\n",
       "  </tbody>\n",
       "</table>\n",
       "</div>"
      ],
      "text/plain": [
       "      submission_date state  tot_cases  conf_cases  prob_cases  new_case  \\\n",
       "50476      03/18/2022    NJ    2186846   1888440.0    298406.0      1523   \n",
       "50477      07/19/2020    NJ     178541         NaN         NaN       -10   \n",
       "50478      02/10/2021   FSM          1         1.0         0.0         0   \n",
       "50479      01/12/2022    WY     123743     97745.0     25998.0       989   \n",
       "50480      11/22/2021    AZ    1245127   1127692.0    117435.0      3249   \n",
       "\n",
       "       pnew_case  tot_death  conf_death  prob_death  new_death  pnew_death  \\\n",
       "50476      534.0      33155     30172.0      2983.0          6         0.0   \n",
       "50477       21.0      15706     13732.0      1974.0         34        27.0   \n",
       "50478        0.0          0         0.0         0.0          0         0.0   \n",
       "50479      246.0       1588      1588.0         0.0          0         0.0   \n",
       "50480      403.0      21942     19414.0      2528.0          2         0.0   \n",
       "\n",
       "                   created_at consent_cases consent_deaths  \n",
       "50476  03/19/2022 01:30:21 PM         Agree          Agree  \n",
       "50477  07/19/2020 12:00:00 AM     Not agree          Agree  \n",
       "50478  02/11/2021 02:50:55 PM         Agree          Agree  \n",
       "50479  01/13/2022 02:34:51 PM         Agree          Agree  \n",
       "50480  11/23/2021 02:18:53 PM         Agree          Agree  "
      ]
     },
     "execution_count": 187,
     "metadata": {},
     "output_type": "execute_result"
    }
   ],
   "source": [
    "covid.tail()"
   ]
  },
  {
   "cell_type": "markdown",
   "id": "d6882dd8",
   "metadata": {},
   "source": [
    "### Dropping 'conf_cases', 'prob_cases', 'new_case', 'pnew_case', 'conf_death', 'prob_death', 'new_death', 'pnew_death', 'created_at', 'consent_cases', 'consent_deaths' Columns from COVIDs CDC Dataset"
   ]
  },
  {
   "cell_type": "code",
   "execution_count": 188,
   "id": "febe9116",
   "metadata": {},
   "outputs": [],
   "source": [
    "covid.drop(['conf_cases', 'prob_cases', 'new_case', 'pnew_case', 'conf_death', 'prob_death', 'new_death', 'pnew_death', 'created_at', 'consent_cases', 'consent_deaths'], axis=1, inplace=True)"
   ]
  },
  {
   "cell_type": "code",
   "execution_count": 189,
   "id": "95202b8b",
   "metadata": {},
   "outputs": [
    {
     "data": {
      "text/html": [
       "<div>\n",
       "<style scoped>\n",
       "    .dataframe tbody tr th:only-of-type {\n",
       "        vertical-align: middle;\n",
       "    }\n",
       "\n",
       "    .dataframe tbody tr th {\n",
       "        vertical-align: top;\n",
       "    }\n",
       "\n",
       "    .dataframe thead th {\n",
       "        text-align: right;\n",
       "    }\n",
       "</style>\n",
       "<table border=\"1\" class=\"dataframe\">\n",
       "  <thead>\n",
       "    <tr style=\"text-align: right;\">\n",
       "      <th></th>\n",
       "      <th>submission_date</th>\n",
       "      <th>state</th>\n",
       "      <th>tot_cases</th>\n",
       "      <th>tot_death</th>\n",
       "    </tr>\n",
       "  </thead>\n",
       "  <tbody>\n",
       "    <tr>\n",
       "      <th>0</th>\n",
       "      <td>03/18/2021</td>\n",
       "      <td>NE</td>\n",
       "      <td>206980</td>\n",
       "      <td>2130</td>\n",
       "    </tr>\n",
       "    <tr>\n",
       "      <th>1</th>\n",
       "      <td>09/01/2021</td>\n",
       "      <td>ND</td>\n",
       "      <td>118491</td>\n",
       "      <td>1562</td>\n",
       "    </tr>\n",
       "    <tr>\n",
       "      <th>2</th>\n",
       "      <td>10/04/2020</td>\n",
       "      <td>MD</td>\n",
       "      <td>127290</td>\n",
       "      <td>4092</td>\n",
       "    </tr>\n",
       "    <tr>\n",
       "      <th>3</th>\n",
       "      <td>02/06/2020</td>\n",
       "      <td>NE</td>\n",
       "      <td>0</td>\n",
       "      <td>0</td>\n",
       "    </tr>\n",
       "    <tr>\n",
       "      <th>4</th>\n",
       "      <td>10/06/2021</td>\n",
       "      <td>DE</td>\n",
       "      <td>134690</td>\n",
       "      <td>1977</td>\n",
       "    </tr>\n",
       "  </tbody>\n",
       "</table>\n",
       "</div>"
      ],
      "text/plain": [
       "  submission_date state  tot_cases  tot_death\n",
       "0      03/18/2021    NE     206980       2130\n",
       "1      09/01/2021    ND     118491       1562\n",
       "2      10/04/2020    MD     127290       4092\n",
       "3      02/06/2020    NE          0          0\n",
       "4      10/06/2021    DE     134690       1977"
      ]
     },
     "execution_count": 189,
     "metadata": {},
     "output_type": "execute_result"
    }
   ],
   "source": [
    "covid.head()"
   ]
  },
  {
   "cell_type": "code",
   "execution_count": 190,
   "id": "3a9a8d20",
   "metadata": {},
   "outputs": [
    {
     "data": {
      "text/html": [
       "<div>\n",
       "<style scoped>\n",
       "    .dataframe tbody tr th:only-of-type {\n",
       "        vertical-align: middle;\n",
       "    }\n",
       "\n",
       "    .dataframe tbody tr th {\n",
       "        vertical-align: top;\n",
       "    }\n",
       "\n",
       "    .dataframe thead th {\n",
       "        text-align: right;\n",
       "    }\n",
       "</style>\n",
       "<table border=\"1\" class=\"dataframe\">\n",
       "  <thead>\n",
       "    <tr style=\"text-align: right;\">\n",
       "      <th></th>\n",
       "      <th>submission_date</th>\n",
       "      <th>state</th>\n",
       "      <th>tot_cases</th>\n",
       "      <th>tot_death</th>\n",
       "    </tr>\n",
       "  </thead>\n",
       "  <tbody>\n",
       "    <tr>\n",
       "      <th>50476</th>\n",
       "      <td>03/18/2022</td>\n",
       "      <td>NJ</td>\n",
       "      <td>2186846</td>\n",
       "      <td>33155</td>\n",
       "    </tr>\n",
       "    <tr>\n",
       "      <th>50477</th>\n",
       "      <td>07/19/2020</td>\n",
       "      <td>NJ</td>\n",
       "      <td>178541</td>\n",
       "      <td>15706</td>\n",
       "    </tr>\n",
       "    <tr>\n",
       "      <th>50478</th>\n",
       "      <td>02/10/2021</td>\n",
       "      <td>FSM</td>\n",
       "      <td>1</td>\n",
       "      <td>0</td>\n",
       "    </tr>\n",
       "    <tr>\n",
       "      <th>50479</th>\n",
       "      <td>01/12/2022</td>\n",
       "      <td>WY</td>\n",
       "      <td>123743</td>\n",
       "      <td>1588</td>\n",
       "    </tr>\n",
       "    <tr>\n",
       "      <th>50480</th>\n",
       "      <td>11/22/2021</td>\n",
       "      <td>AZ</td>\n",
       "      <td>1245127</td>\n",
       "      <td>21942</td>\n",
       "    </tr>\n",
       "  </tbody>\n",
       "</table>\n",
       "</div>"
      ],
      "text/plain": [
       "      submission_date state  tot_cases  tot_death\n",
       "50476      03/18/2022    NJ    2186846      33155\n",
       "50477      07/19/2020    NJ     178541      15706\n",
       "50478      02/10/2021   FSM          1          0\n",
       "50479      01/12/2022    WY     123743       1588\n",
       "50480      11/22/2021    AZ    1245127      21942"
      ]
     },
     "execution_count": 190,
     "metadata": {},
     "output_type": "execute_result"
    }
   ],
   "source": [
    "covid.tail()"
   ]
  },
  {
   "cell_type": "markdown",
   "id": "9e42b374",
   "metadata": {},
   "source": [
    "### Dropping Rows of Un-Needed States from the State Column "
   ]
  },
  {
   "cell_type": "code",
   "execution_count": 191,
   "id": "55105421",
   "metadata": {},
   "outputs": [],
   "source": [
    "covid.drop(covid.index[covid['state'] == 'KS'], inplace=True)"
   ]
  },
  {
   "cell_type": "code",
   "execution_count": 192,
   "id": "8aa995c7",
   "metadata": {},
   "outputs": [],
   "source": [
    "covid.drop(covid.index[covid['state'] == 'UT'], inplace=True)"
   ]
  },
  {
   "cell_type": "code",
   "execution_count": 193,
   "id": "c95a8074",
   "metadata": {},
   "outputs": [],
   "source": [
    "covid.drop(covid.index[covid['state'] == 'AR'], inplace=True)"
   ]
  },
  {
   "cell_type": "code",
   "execution_count": 194,
   "id": "ba7da40a",
   "metadata": {},
   "outputs": [],
   "source": [
    "covid.drop(covid.index[covid['state'] == 'MP'], inplace=True)"
   ]
  },
  {
   "cell_type": "code",
   "execution_count": 195,
   "id": "9c6e12e9",
   "metadata": {},
   "outputs": [],
   "source": [
    "covid.drop(covid.index[covid['state'] == 'PW'], inplace=True)"
   ]
  },
  {
   "cell_type": "code",
   "execution_count": 196,
   "id": "deae32f1",
   "metadata": {},
   "outputs": [],
   "source": [
    "covid.drop(covid.index[covid['state'] == 'HI'], inplace=True)"
   ]
  },
  {
   "cell_type": "code",
   "execution_count": 197,
   "id": "ad28ad6d",
   "metadata": {},
   "outputs": [],
   "source": [
    "covid.drop(covid.index[covid['state'] == 'AK'], inplace=True)"
   ]
  },
  {
   "cell_type": "code",
   "execution_count": 198,
   "id": "aedbbe18",
   "metadata": {},
   "outputs": [],
   "source": [
    "covid.drop(covid.index[covid['state'] == 'OK'], inplace=True)"
   ]
  },
  {
   "cell_type": "code",
   "execution_count": 199,
   "id": "acccc1f0",
   "metadata": {},
   "outputs": [],
   "source": [
    "covid.drop(covid.index[covid['state'] == 'AS'], inplace=True)"
   ]
  },
  {
   "cell_type": "code",
   "execution_count": 200,
   "id": "c282c6d8",
   "metadata": {},
   "outputs": [],
   "source": [
    "covid.drop(covid.index[covid['state'] == 'NE'], inplace=True)"
   ]
  },
  {
   "cell_type": "code",
   "execution_count": 201,
   "id": "fd5a6b55",
   "metadata": {},
   "outputs": [],
   "source": [
    "covid.drop(covid.index[covid['state'] == 'AL'], inplace=True)"
   ]
  },
  {
   "cell_type": "code",
   "execution_count": 202,
   "id": "a73fe612",
   "metadata": {},
   "outputs": [],
   "source": [
    "covid.drop(covid.index[covid['state'] == 'NC'], inplace=True)"
   ]
  },
  {
   "cell_type": "code",
   "execution_count": 203,
   "id": "8c9d3e2b",
   "metadata": {},
   "outputs": [],
   "source": [
    "covid.drop(covid.index[covid['state'] == 'VI'], inplace=True)"
   ]
  },
  {
   "cell_type": "code",
   "execution_count": 204,
   "id": "b1b3e147",
   "metadata": {},
   "outputs": [],
   "source": [
    "covid.drop(covid.index[covid['state'] == 'NV'], inplace=True)"
   ]
  },
  {
   "cell_type": "code",
   "execution_count": 205,
   "id": "b0663088",
   "metadata": {},
   "outputs": [],
   "source": [
    "covid.drop(covid.index[covid['state'] == 'VT'], inplace=True)"
   ]
  },
  {
   "cell_type": "code",
   "execution_count": 206,
   "id": "b1b1d9a5",
   "metadata": {},
   "outputs": [],
   "source": [
    "covid.drop(covid.index[covid['state'] == 'CT'], inplace=True)"
   ]
  },
  {
   "cell_type": "code",
   "execution_count": 207,
   "id": "d4946079",
   "metadata": {},
   "outputs": [],
   "source": [
    "covid.drop(covid.index[covid['state'] == 'DE'], inplace=True)"
   ]
  },
  {
   "cell_type": "code",
   "execution_count": 208,
   "id": "c008804d",
   "metadata": {},
   "outputs": [],
   "source": [
    "covid.drop(covid.index[covid['state'] == 'IN'], inplace=True)"
   ]
  },
  {
   "cell_type": "code",
   "execution_count": 209,
   "id": "ef490214",
   "metadata": {},
   "outputs": [],
   "source": [
    "covid.drop(covid.index[covid['state'] == 'ME'], inplace=True)"
   ]
  },
  {
   "cell_type": "code",
   "execution_count": 210,
   "id": "7bca6646",
   "metadata": {},
   "outputs": [],
   "source": [
    "covid.drop(covid.index[covid['state'] == 'CA'], inplace=True)"
   ]
  },
  {
   "cell_type": "code",
   "execution_count": 211,
   "id": "ab743d7e",
   "metadata": {},
   "outputs": [],
   "source": [
    "covid.drop(covid.index[covid['state'] == 'NH'], inplace=True)"
   ]
  },
  {
   "cell_type": "code",
   "execution_count": 212,
   "id": "96f22e81",
   "metadata": {},
   "outputs": [],
   "source": [
    "covid.drop(covid.index[covid['state'] == 'MS'], inplace=True)"
   ]
  },
  {
   "cell_type": "code",
   "execution_count": 213,
   "id": "2300a69a",
   "metadata": {},
   "outputs": [],
   "source": [
    "covid.drop(covid.index[covid['state'] == 'MD'], inplace=True)"
   ]
  },
  {
   "cell_type": "code",
   "execution_count": 214,
   "id": "c4480213",
   "metadata": {},
   "outputs": [],
   "source": [
    "covid.drop(covid.index[covid['state'] == 'MI'], inplace=True)"
   ]
  },
  {
   "cell_type": "code",
   "execution_count": 215,
   "id": "784830ff",
   "metadata": {},
   "outputs": [],
   "source": [
    "covid.drop(covid.index[covid['state'] == 'IL'], inplace=True)"
   ]
  },
  {
   "cell_type": "code",
   "execution_count": 216,
   "id": "2fb703df",
   "metadata": {},
   "outputs": [],
   "source": [
    "covid.drop(covid.index[covid['state'] == 'ID'], inplace=True)"
   ]
  },
  {
   "cell_type": "code",
   "execution_count": 217,
   "id": "1cc9e358",
   "metadata": {},
   "outputs": [],
   "source": [
    "covid.drop(covid.index[covid['state'] == 'WI'], inplace=True)"
   ]
  },
  {
   "cell_type": "code",
   "execution_count": 218,
   "id": "071a8798",
   "metadata": {},
   "outputs": [],
   "source": [
    "covid.drop(covid.index[covid['state'] == 'GU'], inplace=True)"
   ]
  },
  {
   "cell_type": "code",
   "execution_count": 219,
   "id": "8d1bdc5c",
   "metadata": {},
   "outputs": [],
   "source": [
    "covid.drop(covid.index[covid['state'] == 'MT'], inplace=True)"
   ]
  },
  {
   "cell_type": "code",
   "execution_count": 220,
   "id": "e3a9f02d",
   "metadata": {},
   "outputs": [],
   "source": [
    "covid.drop(covid.index[covid['state'] == 'ND'], inplace=True)"
   ]
  },
  {
   "cell_type": "code",
   "execution_count": 221,
   "id": "5b1a932a",
   "metadata": {},
   "outputs": [],
   "source": [
    "covid.drop(covid.index[covid['state'] == 'FSM'], inplace=True)"
   ]
  },
  {
   "cell_type": "code",
   "execution_count": 222,
   "id": "22923379",
   "metadata": {},
   "outputs": [],
   "source": [
    "covid.drop(covid.index[covid['state'] == 'DC'], inplace=True)"
   ]
  },
  {
   "cell_type": "code",
   "execution_count": 223,
   "id": "f41ccd9c",
   "metadata": {},
   "outputs": [],
   "source": [
    "covid.drop(covid.index[covid['state'] == 'VA'], inplace=True)"
   ]
  },
  {
   "cell_type": "code",
   "execution_count": 224,
   "id": "678a261a",
   "metadata": {},
   "outputs": [],
   "source": [
    "covid.drop(covid.index[covid['state'] == 'OR'], inplace=True)"
   ]
  },
  {
   "cell_type": "code",
   "execution_count": 225,
   "id": "9cb798ab",
   "metadata": {},
   "outputs": [],
   "source": [
    "covid.drop(covid.index[covid['state'] == 'KY'], inplace=True)"
   ]
  },
  {
   "cell_type": "code",
   "execution_count": 226,
   "id": "f2b75383",
   "metadata": {},
   "outputs": [
    {
     "data": {
      "text/html": [
       "<div>\n",
       "<style scoped>\n",
       "    .dataframe tbody tr th:only-of-type {\n",
       "        vertical-align: middle;\n",
       "    }\n",
       "\n",
       "    .dataframe tbody tr th {\n",
       "        vertical-align: top;\n",
       "    }\n",
       "\n",
       "    .dataframe thead th {\n",
       "        text-align: right;\n",
       "    }\n",
       "</style>\n",
       "<table border=\"1\" class=\"dataframe\">\n",
       "  <thead>\n",
       "    <tr style=\"text-align: right;\">\n",
       "      <th></th>\n",
       "      <th>submission_date</th>\n",
       "      <th>state</th>\n",
       "      <th>tot_cases</th>\n",
       "      <th>tot_death</th>\n",
       "    </tr>\n",
       "  </thead>\n",
       "  <tbody>\n",
       "    <tr>\n",
       "      <th>8</th>\n",
       "      <td>03/29/2020</td>\n",
       "      <td>WA</td>\n",
       "      <td>4454</td>\n",
       "      <td>189</td>\n",
       "    </tr>\n",
       "    <tr>\n",
       "      <th>13</th>\n",
       "      <td>12/13/2021</td>\n",
       "      <td>WA</td>\n",
       "      <td>793645</td>\n",
       "      <td>9580</td>\n",
       "    </tr>\n",
       "    <tr>\n",
       "      <th>21</th>\n",
       "      <td>05/10/2021</td>\n",
       "      <td>WA</td>\n",
       "      <td>414750</td>\n",
       "      <td>5586</td>\n",
       "    </tr>\n",
       "    <tr>\n",
       "      <th>49</th>\n",
       "      <td>11/21/2021</td>\n",
       "      <td>WA</td>\n",
       "      <td>764374</td>\n",
       "      <td>9110</td>\n",
       "    </tr>\n",
       "    <tr>\n",
       "      <th>55</th>\n",
       "      <td>10/17/2020</td>\n",
       "      <td>WA</td>\n",
       "      <td>99335</td>\n",
       "      <td>2239</td>\n",
       "    </tr>\n",
       "  </tbody>\n",
       "</table>\n",
       "</div>"
      ],
      "text/plain": [
       "   submission_date state  tot_cases  tot_death\n",
       "8       03/29/2020    WA       4454        189\n",
       "13      12/13/2021    WA     793645       9580\n",
       "21      05/10/2021    WA     414750       5586\n",
       "49      11/21/2021    WA     764374       9110\n",
       "55      10/17/2020    WA      99335       2239"
      ]
     },
     "execution_count": 226,
     "metadata": {},
     "output_type": "execute_result"
    }
   ],
   "source": [
    "covid.head()"
   ]
  },
  {
   "cell_type": "code",
   "execution_count": 227,
   "id": "68b7ba50",
   "metadata": {},
   "outputs": [
    {
     "data": {
      "text/html": [
       "<div>\n",
       "<style scoped>\n",
       "    .dataframe tbody tr th:only-of-type {\n",
       "        vertical-align: middle;\n",
       "    }\n",
       "\n",
       "    .dataframe tbody tr th {\n",
       "        vertical-align: top;\n",
       "    }\n",
       "\n",
       "    .dataframe thead th {\n",
       "        text-align: right;\n",
       "    }\n",
       "</style>\n",
       "<table border=\"1\" class=\"dataframe\">\n",
       "  <thead>\n",
       "    <tr style=\"text-align: right;\">\n",
       "      <th></th>\n",
       "      <th>submission_date</th>\n",
       "      <th>state</th>\n",
       "      <th>tot_cases</th>\n",
       "      <th>tot_death</th>\n",
       "    </tr>\n",
       "  </thead>\n",
       "  <tbody>\n",
       "    <tr>\n",
       "      <th>50474</th>\n",
       "      <td>05/05/2022</td>\n",
       "      <td>WY</td>\n",
       "      <td>156745</td>\n",
       "      <td>1814</td>\n",
       "    </tr>\n",
       "    <tr>\n",
       "      <th>50476</th>\n",
       "      <td>03/18/2022</td>\n",
       "      <td>NJ</td>\n",
       "      <td>2186846</td>\n",
       "      <td>33155</td>\n",
       "    </tr>\n",
       "    <tr>\n",
       "      <th>50477</th>\n",
       "      <td>07/19/2020</td>\n",
       "      <td>NJ</td>\n",
       "      <td>178541</td>\n",
       "      <td>15706</td>\n",
       "    </tr>\n",
       "    <tr>\n",
       "      <th>50479</th>\n",
       "      <td>01/12/2022</td>\n",
       "      <td>WY</td>\n",
       "      <td>123743</td>\n",
       "      <td>1588</td>\n",
       "    </tr>\n",
       "    <tr>\n",
       "      <th>50480</th>\n",
       "      <td>11/22/2021</td>\n",
       "      <td>AZ</td>\n",
       "      <td>1245127</td>\n",
       "      <td>21942</td>\n",
       "    </tr>\n",
       "  </tbody>\n",
       "</table>\n",
       "</div>"
      ],
      "text/plain": [
       "      submission_date state  tot_cases  tot_death\n",
       "50474      05/05/2022    WY     156745       1814\n",
       "50476      03/18/2022    NJ    2186846      33155\n",
       "50477      07/19/2020    NJ     178541      15706\n",
       "50479      01/12/2022    WY     123743       1588\n",
       "50480      11/22/2021    AZ    1245127      21942"
      ]
     },
     "execution_count": 227,
     "metadata": {},
     "output_type": "execute_result"
    }
   ],
   "source": [
    "covid.tail()"
   ]
  },
  {
   "cell_type": "code",
   "execution_count": 228,
   "id": "bf9c812d",
   "metadata": {},
   "outputs": [],
   "source": [
    "covid.drop(covid.index[covid['state'] == 'LA'], inplace=True)"
   ]
  },
  {
   "cell_type": "code",
   "execution_count": 229,
   "id": "3dee4786",
   "metadata": {},
   "outputs": [],
   "source": [
    "covid.drop(covid.index[covid['state'] == 'NJ'], inplace=True)"
   ]
  },
  {
   "cell_type": "code",
   "execution_count": 230,
   "id": "dbc72cee",
   "metadata": {},
   "outputs": [],
   "source": [
    "covid.drop(covid.index[covid['state'] == 'RI'], inplace=True)"
   ]
  },
  {
   "cell_type": "code",
   "execution_count": 231,
   "id": "dced0fda",
   "metadata": {},
   "outputs": [],
   "source": [
    "covid.drop(covid.index[covid['state'] == 'AZ'], inplace=True)"
   ]
  },
  {
   "cell_type": "code",
   "execution_count": 232,
   "id": "279ecee4",
   "metadata": {},
   "outputs": [
    {
     "data": {
      "text/html": [
       "<div>\n",
       "<style scoped>\n",
       "    .dataframe tbody tr th:only-of-type {\n",
       "        vertical-align: middle;\n",
       "    }\n",
       "\n",
       "    .dataframe tbody tr th {\n",
       "        vertical-align: top;\n",
       "    }\n",
       "\n",
       "    .dataframe thead th {\n",
       "        text-align: right;\n",
       "    }\n",
       "</style>\n",
       "<table border=\"1\" class=\"dataframe\">\n",
       "  <thead>\n",
       "    <tr style=\"text-align: right;\">\n",
       "      <th></th>\n",
       "      <th>submission_date</th>\n",
       "      <th>state</th>\n",
       "      <th>tot_cases</th>\n",
       "      <th>tot_death</th>\n",
       "    </tr>\n",
       "  </thead>\n",
       "  <tbody>\n",
       "    <tr>\n",
       "      <th>8</th>\n",
       "      <td>03/29/2020</td>\n",
       "      <td>WA</td>\n",
       "      <td>4454</td>\n",
       "      <td>189</td>\n",
       "    </tr>\n",
       "    <tr>\n",
       "      <th>13</th>\n",
       "      <td>12/13/2021</td>\n",
       "      <td>WA</td>\n",
       "      <td>793645</td>\n",
       "      <td>9580</td>\n",
       "    </tr>\n",
       "    <tr>\n",
       "      <th>21</th>\n",
       "      <td>05/10/2021</td>\n",
       "      <td>WA</td>\n",
       "      <td>414750</td>\n",
       "      <td>5586</td>\n",
       "    </tr>\n",
       "    <tr>\n",
       "      <th>49</th>\n",
       "      <td>11/21/2021</td>\n",
       "      <td>WA</td>\n",
       "      <td>764374</td>\n",
       "      <td>9110</td>\n",
       "    </tr>\n",
       "    <tr>\n",
       "      <th>55</th>\n",
       "      <td>10/17/2020</td>\n",
       "      <td>WA</td>\n",
       "      <td>99335</td>\n",
       "      <td>2239</td>\n",
       "    </tr>\n",
       "  </tbody>\n",
       "</table>\n",
       "</div>"
      ],
      "text/plain": [
       "   submission_date state  tot_cases  tot_death\n",
       "8       03/29/2020    WA       4454        189\n",
       "13      12/13/2021    WA     793645       9580\n",
       "21      05/10/2021    WA     414750       5586\n",
       "49      11/21/2021    WA     764374       9110\n",
       "55      10/17/2020    WA      99335       2239"
      ]
     },
     "execution_count": 232,
     "metadata": {},
     "output_type": "execute_result"
    }
   ],
   "source": [
    "covid.head()"
   ]
  },
  {
   "cell_type": "code",
   "execution_count": 233,
   "id": "6be872d0",
   "metadata": {},
   "outputs": [
    {
     "data": {
      "text/html": [
       "<div>\n",
       "<style scoped>\n",
       "    .dataframe tbody tr th:only-of-type {\n",
       "        vertical-align: middle;\n",
       "    }\n",
       "\n",
       "    .dataframe tbody tr th {\n",
       "        vertical-align: top;\n",
       "    }\n",
       "\n",
       "    .dataframe thead th {\n",
       "        text-align: right;\n",
       "    }\n",
       "</style>\n",
       "<table border=\"1\" class=\"dataframe\">\n",
       "  <thead>\n",
       "    <tr style=\"text-align: right;\">\n",
       "      <th></th>\n",
       "      <th>submission_date</th>\n",
       "      <th>state</th>\n",
       "      <th>tot_cases</th>\n",
       "      <th>tot_death</th>\n",
       "    </tr>\n",
       "  </thead>\n",
       "  <tbody>\n",
       "    <tr>\n",
       "      <th>50460</th>\n",
       "      <td>12/30/2020</td>\n",
       "      <td>WY</td>\n",
       "      <td>44133</td>\n",
       "      <td>405</td>\n",
       "    </tr>\n",
       "    <tr>\n",
       "      <th>50466</th>\n",
       "      <td>01/30/2021</td>\n",
       "      <td>SC</td>\n",
       "      <td>461251</td>\n",
       "      <td>7028</td>\n",
       "    </tr>\n",
       "    <tr>\n",
       "      <th>50468</th>\n",
       "      <td>12/03/2021</td>\n",
       "      <td>WY</td>\n",
       "      <td>111812</td>\n",
       "      <td>1428</td>\n",
       "    </tr>\n",
       "    <tr>\n",
       "      <th>50474</th>\n",
       "      <td>05/05/2022</td>\n",
       "      <td>WY</td>\n",
       "      <td>156745</td>\n",
       "      <td>1814</td>\n",
       "    </tr>\n",
       "    <tr>\n",
       "      <th>50479</th>\n",
       "      <td>01/12/2022</td>\n",
       "      <td>WY</td>\n",
       "      <td>123743</td>\n",
       "      <td>1588</td>\n",
       "    </tr>\n",
       "  </tbody>\n",
       "</table>\n",
       "</div>"
      ],
      "text/plain": [
       "      submission_date state  tot_cases  tot_death\n",
       "50460      12/30/2020    WY      44133        405\n",
       "50466      01/30/2021    SC     461251       7028\n",
       "50468      12/03/2021    WY     111812       1428\n",
       "50474      05/05/2022    WY     156745       1814\n",
       "50479      01/12/2022    WY     123743       1588"
      ]
     },
     "execution_count": 233,
     "metadata": {},
     "output_type": "execute_result"
    }
   ],
   "source": [
    "covid.tail()"
   ]
  },
  {
   "cell_type": "code",
   "execution_count": 234,
   "id": "61ae9f60",
   "metadata": {},
   "outputs": [],
   "source": [
    "covid.drop(covid.index[covid['state'] == 'MN'], inplace=True)"
   ]
  },
  {
   "cell_type": "code",
   "execution_count": 235,
   "id": "5bccc912",
   "metadata": {},
   "outputs": [],
   "source": [
    "covid.drop(covid.index[covid['state'] == 'SC'], inplace=True)"
   ]
  },
  {
   "cell_type": "code",
   "execution_count": 236,
   "id": "ebe4bf12",
   "metadata": {},
   "outputs": [],
   "source": [
    "covid.drop(covid.index[covid['state'] == 'WY'], inplace=True)"
   ]
  },
  {
   "cell_type": "code",
   "execution_count": 237,
   "id": "87b5bd97",
   "metadata": {},
   "outputs": [
    {
     "data": {
      "text/html": [
       "<div>\n",
       "<style scoped>\n",
       "    .dataframe tbody tr th:only-of-type {\n",
       "        vertical-align: middle;\n",
       "    }\n",
       "\n",
       "    .dataframe tbody tr th {\n",
       "        vertical-align: top;\n",
       "    }\n",
       "\n",
       "    .dataframe thead th {\n",
       "        text-align: right;\n",
       "    }\n",
       "</style>\n",
       "<table border=\"1\" class=\"dataframe\">\n",
       "  <thead>\n",
       "    <tr style=\"text-align: right;\">\n",
       "      <th></th>\n",
       "      <th>submission_date</th>\n",
       "      <th>state</th>\n",
       "      <th>tot_cases</th>\n",
       "      <th>tot_death</th>\n",
       "    </tr>\n",
       "  </thead>\n",
       "  <tbody>\n",
       "    <tr>\n",
       "      <th>8</th>\n",
       "      <td>03/29/2020</td>\n",
       "      <td>WA</td>\n",
       "      <td>4454</td>\n",
       "      <td>189</td>\n",
       "    </tr>\n",
       "    <tr>\n",
       "      <th>13</th>\n",
       "      <td>12/13/2021</td>\n",
       "      <td>WA</td>\n",
       "      <td>793645</td>\n",
       "      <td>9580</td>\n",
       "    </tr>\n",
       "    <tr>\n",
       "      <th>21</th>\n",
       "      <td>05/10/2021</td>\n",
       "      <td>WA</td>\n",
       "      <td>414750</td>\n",
       "      <td>5586</td>\n",
       "    </tr>\n",
       "    <tr>\n",
       "      <th>49</th>\n",
       "      <td>11/21/2021</td>\n",
       "      <td>WA</td>\n",
       "      <td>764374</td>\n",
       "      <td>9110</td>\n",
       "    </tr>\n",
       "    <tr>\n",
       "      <th>55</th>\n",
       "      <td>10/17/2020</td>\n",
       "      <td>WA</td>\n",
       "      <td>99335</td>\n",
       "      <td>2239</td>\n",
       "    </tr>\n",
       "  </tbody>\n",
       "</table>\n",
       "</div>"
      ],
      "text/plain": [
       "   submission_date state  tot_cases  tot_death\n",
       "8       03/29/2020    WA       4454        189\n",
       "13      12/13/2021    WA     793645       9580\n",
       "21      05/10/2021    WA     414750       5586\n",
       "49      11/21/2021    WA     764374       9110\n",
       "55      10/17/2020    WA      99335       2239"
      ]
     },
     "execution_count": 237,
     "metadata": {},
     "output_type": "execute_result"
    }
   ],
   "source": [
    "covid.head()"
   ]
  },
  {
   "cell_type": "code",
   "execution_count": 238,
   "id": "b5c591aa",
   "metadata": {},
   "outputs": [
    {
     "data": {
      "text/html": [
       "<div>\n",
       "<style scoped>\n",
       "    .dataframe tbody tr th:only-of-type {\n",
       "        vertical-align: middle;\n",
       "    }\n",
       "\n",
       "    .dataframe tbody tr th {\n",
       "        vertical-align: top;\n",
       "    }\n",
       "\n",
       "    .dataframe thead th {\n",
       "        text-align: right;\n",
       "    }\n",
       "</style>\n",
       "<table border=\"1\" class=\"dataframe\">\n",
       "  <thead>\n",
       "    <tr style=\"text-align: right;\">\n",
       "      <th></th>\n",
       "      <th>submission_date</th>\n",
       "      <th>state</th>\n",
       "      <th>tot_cases</th>\n",
       "      <th>tot_death</th>\n",
       "    </tr>\n",
       "  </thead>\n",
       "  <tbody>\n",
       "    <tr>\n",
       "      <th>45403</th>\n",
       "      <td>05/19/2021</td>\n",
       "      <td>MO</td>\n",
       "      <td>594838</td>\n",
       "      <td>8996</td>\n",
       "    </tr>\n",
       "    <tr>\n",
       "      <th>45412</th>\n",
       "      <td>12/10/2021</td>\n",
       "      <td>WA</td>\n",
       "      <td>790224</td>\n",
       "      <td>9554</td>\n",
       "    </tr>\n",
       "    <tr>\n",
       "      <th>45419</th>\n",
       "      <td>10/11/2021</td>\n",
       "      <td>WA</td>\n",
       "      <td>684803</td>\n",
       "      <td>8064</td>\n",
       "    </tr>\n",
       "    <tr>\n",
       "      <th>45427</th>\n",
       "      <td>01/12/2022</td>\n",
       "      <td>WA</td>\n",
       "      <td>1008462</td>\n",
       "      <td>10103</td>\n",
       "    </tr>\n",
       "    <tr>\n",
       "      <th>45434</th>\n",
       "      <td>02/02/2022</td>\n",
       "      <td>WA</td>\n",
       "      <td>1320590</td>\n",
       "      <td>10845</td>\n",
       "    </tr>\n",
       "  </tbody>\n",
       "</table>\n",
       "</div>"
      ],
      "text/plain": [
       "      submission_date state  tot_cases  tot_death\n",
       "45403      05/19/2021    MO     594838       8996\n",
       "45412      12/10/2021    WA     790224       9554\n",
       "45419      10/11/2021    WA     684803       8064\n",
       "45427      01/12/2022    WA    1008462      10103\n",
       "45434      02/02/2022    WA    1320590      10845"
      ]
     },
     "execution_count": 238,
     "metadata": {},
     "output_type": "execute_result"
    }
   ],
   "source": [
    "covid.tail()"
   ]
  },
  {
   "cell_type": "code",
   "execution_count": 239,
   "id": "c105d921",
   "metadata": {},
   "outputs": [],
   "source": [
    "covid.drop(covid.index[covid['state'] == 'MA'], inplace=True)"
   ]
  },
  {
   "cell_type": "code",
   "execution_count": 240,
   "id": "61b698de",
   "metadata": {},
   "outputs": [],
   "source": [
    "covid.drop(covid.index[covid['state'] == 'PA'], inplace=True)"
   ]
  },
  {
   "cell_type": "code",
   "execution_count": 241,
   "id": "f253dc4b",
   "metadata": {},
   "outputs": [],
   "source": [
    "covid.drop(covid.index[covid['state'] == 'WV'], inplace=True)"
   ]
  },
  {
   "cell_type": "code",
   "execution_count": 242,
   "id": "e8c72d3e",
   "metadata": {},
   "outputs": [],
   "source": [
    "covid.drop(covid.index[covid['state'] == 'FL'], inplace=True)"
   ]
  },
  {
   "cell_type": "code",
   "execution_count": 243,
   "id": "8686d9bb",
   "metadata": {},
   "outputs": [],
   "source": [
    "covid.drop(covid.index[covid['state'] == 'NM'], inplace=True)"
   ]
  },
  {
   "cell_type": "code",
   "execution_count": 244,
   "id": "03e55b4b",
   "metadata": {},
   "outputs": [
    {
     "data": {
      "text/html": [
       "<div>\n",
       "<style scoped>\n",
       "    .dataframe tbody tr th:only-of-type {\n",
       "        vertical-align: middle;\n",
       "    }\n",
       "\n",
       "    .dataframe tbody tr th {\n",
       "        vertical-align: top;\n",
       "    }\n",
       "\n",
       "    .dataframe thead th {\n",
       "        text-align: right;\n",
       "    }\n",
       "</style>\n",
       "<table border=\"1\" class=\"dataframe\">\n",
       "  <thead>\n",
       "    <tr style=\"text-align: right;\">\n",
       "      <th></th>\n",
       "      <th>submission_date</th>\n",
       "      <th>state</th>\n",
       "      <th>tot_cases</th>\n",
       "      <th>tot_death</th>\n",
       "    </tr>\n",
       "  </thead>\n",
       "  <tbody>\n",
       "    <tr>\n",
       "      <th>8</th>\n",
       "      <td>03/29/2020</td>\n",
       "      <td>WA</td>\n",
       "      <td>4454</td>\n",
       "      <td>189</td>\n",
       "    </tr>\n",
       "    <tr>\n",
       "      <th>13</th>\n",
       "      <td>12/13/2021</td>\n",
       "      <td>WA</td>\n",
       "      <td>793645</td>\n",
       "      <td>9580</td>\n",
       "    </tr>\n",
       "    <tr>\n",
       "      <th>21</th>\n",
       "      <td>05/10/2021</td>\n",
       "      <td>WA</td>\n",
       "      <td>414750</td>\n",
       "      <td>5586</td>\n",
       "    </tr>\n",
       "    <tr>\n",
       "      <th>49</th>\n",
       "      <td>11/21/2021</td>\n",
       "      <td>WA</td>\n",
       "      <td>764374</td>\n",
       "      <td>9110</td>\n",
       "    </tr>\n",
       "    <tr>\n",
       "      <th>55</th>\n",
       "      <td>10/17/2020</td>\n",
       "      <td>WA</td>\n",
       "      <td>99335</td>\n",
       "      <td>2239</td>\n",
       "    </tr>\n",
       "  </tbody>\n",
       "</table>\n",
       "</div>"
      ],
      "text/plain": [
       "   submission_date state  tot_cases  tot_death\n",
       "8       03/29/2020    WA       4454        189\n",
       "13      12/13/2021    WA     793645       9580\n",
       "21      05/10/2021    WA     414750       5586\n",
       "49      11/21/2021    WA     764374       9110\n",
       "55      10/17/2020    WA      99335       2239"
      ]
     },
     "execution_count": 244,
     "metadata": {},
     "output_type": "execute_result"
    }
   ],
   "source": [
    "covid.head()"
   ]
  },
  {
   "cell_type": "code",
   "execution_count": 245,
   "id": "352f6e89",
   "metadata": {},
   "outputs": [
    {
     "data": {
      "text/html": [
       "<div>\n",
       "<style scoped>\n",
       "    .dataframe tbody tr th:only-of-type {\n",
       "        vertical-align: middle;\n",
       "    }\n",
       "\n",
       "    .dataframe tbody tr th {\n",
       "        vertical-align: top;\n",
       "    }\n",
       "\n",
       "    .dataframe thead th {\n",
       "        text-align: right;\n",
       "    }\n",
       "</style>\n",
       "<table border=\"1\" class=\"dataframe\">\n",
       "  <thead>\n",
       "    <tr style=\"text-align: right;\">\n",
       "      <th></th>\n",
       "      <th>submission_date</th>\n",
       "      <th>state</th>\n",
       "      <th>tot_cases</th>\n",
       "      <th>tot_death</th>\n",
       "    </tr>\n",
       "  </thead>\n",
       "  <tbody>\n",
       "    <tr>\n",
       "      <th>45403</th>\n",
       "      <td>05/19/2021</td>\n",
       "      <td>MO</td>\n",
       "      <td>594838</td>\n",
       "      <td>8996</td>\n",
       "    </tr>\n",
       "    <tr>\n",
       "      <th>45412</th>\n",
       "      <td>12/10/2021</td>\n",
       "      <td>WA</td>\n",
       "      <td>790224</td>\n",
       "      <td>9554</td>\n",
       "    </tr>\n",
       "    <tr>\n",
       "      <th>45419</th>\n",
       "      <td>10/11/2021</td>\n",
       "      <td>WA</td>\n",
       "      <td>684803</td>\n",
       "      <td>8064</td>\n",
       "    </tr>\n",
       "    <tr>\n",
       "      <th>45427</th>\n",
       "      <td>01/12/2022</td>\n",
       "      <td>WA</td>\n",
       "      <td>1008462</td>\n",
       "      <td>10103</td>\n",
       "    </tr>\n",
       "    <tr>\n",
       "      <th>45434</th>\n",
       "      <td>02/02/2022</td>\n",
       "      <td>WA</td>\n",
       "      <td>1320590</td>\n",
       "      <td>10845</td>\n",
       "    </tr>\n",
       "  </tbody>\n",
       "</table>\n",
       "</div>"
      ],
      "text/plain": [
       "      submission_date state  tot_cases  tot_death\n",
       "45403      05/19/2021    MO     594838       8996\n",
       "45412      12/10/2021    WA     790224       9554\n",
       "45419      10/11/2021    WA     684803       8064\n",
       "45427      01/12/2022    WA    1008462      10103\n",
       "45434      02/02/2022    WA    1320590      10845"
      ]
     },
     "execution_count": 245,
     "metadata": {},
     "output_type": "execute_result"
    }
   ],
   "source": [
    "covid.tail()"
   ]
  },
  {
   "cell_type": "code",
   "execution_count": 249,
   "id": "d810834e",
   "metadata": {},
   "outputs": [],
   "source": [
    "covid.drop(covid.index[covid['state'] == 'MO'], inplace=True)"
   ]
  },
  {
   "cell_type": "code",
   "execution_count": 250,
   "id": "ffba8d7c",
   "metadata": {},
   "outputs": [],
   "source": [
    "covid.drop(covid.index[covid['state'] == 'GA'], inplace=True)"
   ]
  },
  {
   "cell_type": "code",
   "execution_count": 253,
   "id": "33e1221c",
   "metadata": {},
   "outputs": [
    {
     "data": {
      "text/html": [
       "<div>\n",
       "<style scoped>\n",
       "    .dataframe tbody tr th:only-of-type {\n",
       "        vertical-align: middle;\n",
       "    }\n",
       "\n",
       "    .dataframe tbody tr th {\n",
       "        vertical-align: top;\n",
       "    }\n",
       "\n",
       "    .dataframe thead th {\n",
       "        text-align: right;\n",
       "    }\n",
       "</style>\n",
       "<table border=\"1\" class=\"dataframe\">\n",
       "  <thead>\n",
       "    <tr style=\"text-align: right;\">\n",
       "      <th></th>\n",
       "      <th>submission_date</th>\n",
       "      <th>state</th>\n",
       "      <th>tot_cases</th>\n",
       "      <th>tot_death</th>\n",
       "    </tr>\n",
       "  </thead>\n",
       "  <tbody>\n",
       "    <tr>\n",
       "      <th>8</th>\n",
       "      <td>03/29/2020</td>\n",
       "      <td>WA</td>\n",
       "      <td>4454</td>\n",
       "      <td>189</td>\n",
       "    </tr>\n",
       "    <tr>\n",
       "      <th>13</th>\n",
       "      <td>12/13/2021</td>\n",
       "      <td>WA</td>\n",
       "      <td>793645</td>\n",
       "      <td>9580</td>\n",
       "    </tr>\n",
       "    <tr>\n",
       "      <th>21</th>\n",
       "      <td>05/10/2021</td>\n",
       "      <td>WA</td>\n",
       "      <td>414750</td>\n",
       "      <td>5586</td>\n",
       "    </tr>\n",
       "    <tr>\n",
       "      <th>49</th>\n",
       "      <td>11/21/2021</td>\n",
       "      <td>WA</td>\n",
       "      <td>764374</td>\n",
       "      <td>9110</td>\n",
       "    </tr>\n",
       "    <tr>\n",
       "      <th>55</th>\n",
       "      <td>10/17/2020</td>\n",
       "      <td>WA</td>\n",
       "      <td>99335</td>\n",
       "      <td>2239</td>\n",
       "    </tr>\n",
       "  </tbody>\n",
       "</table>\n",
       "</div>"
      ],
      "text/plain": [
       "   submission_date state  tot_cases  tot_death\n",
       "8       03/29/2020    WA       4454        189\n",
       "13      12/13/2021    WA     793645       9580\n",
       "21      05/10/2021    WA     414750       5586\n",
       "49      11/21/2021    WA     764374       9110\n",
       "55      10/17/2020    WA      99335       2239"
      ]
     },
     "execution_count": 253,
     "metadata": {},
     "output_type": "execute_result"
    }
   ],
   "source": [
    "covid.head()"
   ]
  },
  {
   "cell_type": "code",
   "execution_count": 254,
   "id": "2f8b102a",
   "metadata": {},
   "outputs": [
    {
     "data": {
      "text/html": [
       "<div>\n",
       "<style scoped>\n",
       "    .dataframe tbody tr th:only-of-type {\n",
       "        vertical-align: middle;\n",
       "    }\n",
       "\n",
       "    .dataframe tbody tr th {\n",
       "        vertical-align: top;\n",
       "    }\n",
       "\n",
       "    .dataframe thead th {\n",
       "        text-align: right;\n",
       "    }\n",
       "</style>\n",
       "<table border=\"1\" class=\"dataframe\">\n",
       "  <thead>\n",
       "    <tr style=\"text-align: right;\">\n",
       "      <th></th>\n",
       "      <th>submission_date</th>\n",
       "      <th>state</th>\n",
       "      <th>tot_cases</th>\n",
       "      <th>tot_death</th>\n",
       "    </tr>\n",
       "  </thead>\n",
       "  <tbody>\n",
       "    <tr>\n",
       "      <th>45370</th>\n",
       "      <td>12/31/2020</td>\n",
       "      <td>WA</td>\n",
       "      <td>244822</td>\n",
       "      <td>3461</td>\n",
       "    </tr>\n",
       "    <tr>\n",
       "      <th>45412</th>\n",
       "      <td>12/10/2021</td>\n",
       "      <td>WA</td>\n",
       "      <td>790224</td>\n",
       "      <td>9554</td>\n",
       "    </tr>\n",
       "    <tr>\n",
       "      <th>45419</th>\n",
       "      <td>10/11/2021</td>\n",
       "      <td>WA</td>\n",
       "      <td>684803</td>\n",
       "      <td>8064</td>\n",
       "    </tr>\n",
       "    <tr>\n",
       "      <th>45427</th>\n",
       "      <td>01/12/2022</td>\n",
       "      <td>WA</td>\n",
       "      <td>1008462</td>\n",
       "      <td>10103</td>\n",
       "    </tr>\n",
       "    <tr>\n",
       "      <th>45434</th>\n",
       "      <td>02/02/2022</td>\n",
       "      <td>WA</td>\n",
       "      <td>1320590</td>\n",
       "      <td>10845</td>\n",
       "    </tr>\n",
       "  </tbody>\n",
       "</table>\n",
       "</div>"
      ],
      "text/plain": [
       "      submission_date state  tot_cases  tot_death\n",
       "45370      12/31/2020    WA     244822       3461\n",
       "45412      12/10/2021    WA     790224       9554\n",
       "45419      10/11/2021    WA     684803       8064\n",
       "45427      01/12/2022    WA    1008462      10103\n",
       "45434      02/02/2022    WA    1320590      10845"
      ]
     },
     "execution_count": 254,
     "metadata": {},
     "output_type": "execute_result"
    }
   ],
   "source": [
    "covid.tail()"
   ]
  },
  {
   "cell_type": "code",
   "execution_count": 255,
   "id": "38c64528",
   "metadata": {},
   "outputs": [
    {
     "data": {
      "text/plain": [
       "<bound method DataFrame.info of       submission_date state  tot_cases  tot_death\n",
       "8          03/29/2020    WA       4454        189\n",
       "13         12/13/2021    WA     793645       9580\n",
       "21         05/10/2021    WA     414750       5586\n",
       "49         11/21/2021    WA     764374       9110\n",
       "55         10/17/2020    WA      99335       2239\n",
       "...               ...   ...        ...        ...\n",
       "45370      12/31/2020    WA     244822       3461\n",
       "45412      12/10/2021    WA     790224       9554\n",
       "45419      10/11/2021    WA     684803       8064\n",
       "45427      01/12/2022    WA    1008462      10103\n",
       "45434      02/02/2022    WA    1320590      10845\n",
       "\n",
       "[9251 rows x 4 columns]>"
      ]
     },
     "execution_count": 255,
     "metadata": {},
     "output_type": "execute_result"
    }
   ],
   "source": [
    "covid.info"
   ]
  },
  {
   "cell_type": "markdown",
   "id": "312bf789",
   "metadata": {},
   "source": [
    "49 States dropped | One Remaining State needed The State of WA"
   ]
  },
  {
   "cell_type": "code",
   "execution_count": 266,
   "id": "2882b002",
   "metadata": {},
   "outputs": [
    {
     "data": {
      "text/plain": [
       "array([[<AxesSubplot:title={'center':'tot_cases'}>,\n",
       "        <AxesSubplot:title={'center':'tot_death'}>]], dtype=object)"
      ]
     },
     "execution_count": 266,
     "metadata": {},
     "output_type": "execute_result"
    },
    {
     "data": {
      "image/png": "[encoded data removed]",
      "text/plain": [
       "<Figure size 432x288 with 2 Axes>"
      ]
     },
     "metadata": {
      "needs_background": "light"
     },
     "output_type": "display_data"
    }
   ],
   "source": [
    "covid.hist()"
   ]
  },
  {
   "cell_type": "markdown",
   "id": "c66a392a",
   "metadata": {},
   "source": [
    "### Single Sample T-test"
   ]
  },
  {
   "cell_type": "markdown",
   "id": "02363bc1",
   "metadata": {},
   "source": [
    "Testing single-sample t-test to examine whether a particular value is different than the population mean"
   ]
  },
  {
   "cell_type": "code",
   "execution_count": 264,
   "id": "c3216e4f",
   "metadata": {},
   "outputs": [
    {
     "data": {
      "text/plain": [
       "<AxesSubplot:>"
      ]
     },
     "execution_count": 264,
     "metadata": {},
     "output_type": "execute_result"
    },
    {
     "data": {
      "image/png": "[encoded data removed]",
      "text/plain": [
       "<Figure size 432x288 with 1 Axes>"
      ]
     },
     "metadata": {
      "needs_background": "light"
     },
     "output_type": "display_data"
    }
   ],
   "source": [
    "covid['tot_death'].hist()"
   ]
  },
  {
   "cell_type": "code",
   "execution_count": 265,
   "id": "3e576d11",
   "metadata": {},
   "outputs": [
    {
     "data": {
      "text/plain": [
       "<AxesSubplot:>"
      ]
     },
     "execution_count": 265,
     "metadata": {},
     "output_type": "execute_result"
    },
    {
     "data": {
      "image/png": "[encoded data removed]",
      "text/plain": [
       "<Figure size 432x288 with 1 Axes>"
      ]
     },
     "metadata": {
      "needs_background": "light"
     },
     "output_type": "display_data"
    }
   ],
   "source": [
    "covid['tot_cases'].hist()"
   ]
  },
  {
   "cell_type": "code",
   "execution_count": 272,
   "id": "caaf96e9",
   "metadata": {},
   "outputs": [
    {
     "data": {
      "text/plain": [
       "Ttest_1sampResult(statistic=-169.13671528009652, pvalue=0.0)"
      ]
     },
     "execution_count": 272,
     "metadata": {},
     "output_type": "execute_result"
    }
   ],
   "source": [
    "stats.ttest_1samp(covid['tot_death'], 40000)"
   ]
  },
  {
   "cell_type": "code",
   "execution_count": 271,
   "id": "851244d0",
   "metadata": {},
   "outputs": [
    {
     "data": {
      "text/plain": [
       "Ttest_1sampResult(statistic=62.35452981789432, pvalue=0.0)"
      ]
     },
     "execution_count": 271,
     "metadata": {},
     "output_type": "execute_result"
    }
   ],
   "source": [
    "stats.ttest_1samp(covid['tot_cases'], 3)"
   ]
  },
  {
   "cell_type": "markdown",
   "id": "8b89035f",
   "metadata": {},
   "source": [
    "## Merging Financial Datasets"
   ]
  },
  {
   "cell_type": "markdown",
   "id": "6a31c3bb",
   "metadata": {},
   "source": [
    "### Merging U.S. GDP + U.S. Full Year GDP Growth - Outer Joined  "
   ]
  },
  {
   "cell_type": "code",
   "execution_count": 273,
   "id": "451fc7ce",
   "metadata": {},
   "outputs": [],
   "source": [
    "GDP = pd.read_csv(\"/Users/darringtonhenderson/Desktop/GitHub/Data-Extractors/Data/HistoricalUSIndicatorGDP.csv\")"
   ]
  },
  {
   "cell_type": "code",
   "execution_count": 274,
   "id": "8a6426bf",
   "metadata": {},
   "outputs": [
    {
     "data": {
      "text/html": [
       "<div>\n",
       "<style scoped>\n",
       "    .dataframe tbody tr th:only-of-type {\n",
       "        vertical-align: middle;\n",
       "    }\n",
       "\n",
       "    .dataframe tbody tr th {\n",
       "        vertical-align: top;\n",
       "    }\n",
       "\n",
       "    .dataframe thead th {\n",
       "        text-align: right;\n",
       "    }\n",
       "</style>\n",
       "<table border=\"1\" class=\"dataframe\">\n",
       "  <thead>\n",
       "    <tr style=\"text-align: right;\">\n",
       "      <th></th>\n",
       "      <th>Country</th>\n",
       "      <th>Category</th>\n",
       "      <th>DateTime</th>\n",
       "      <th>Value</th>\n",
       "      <th>Frequency</th>\n",
       "      <th>HistoricalDataSymbol</th>\n",
       "      <th>LastUpdate</th>\n",
       "    </tr>\n",
       "  </thead>\n",
       "  <tbody>\n",
       "    <tr>\n",
       "      <th>0</th>\n",
       "      <td>United States</td>\n",
       "      <td>GDP</td>\n",
       "      <td>1960-12-31T00:00:00</td>\n",
       "      <td>543.3</td>\n",
       "      <td>Yearly</td>\n",
       "      <td>WGDPUS</td>\n",
       "      <td>2017-01-04T14:27:00</td>\n",
       "    </tr>\n",
       "    <tr>\n",
       "      <th>1</th>\n",
       "      <td>United States</td>\n",
       "      <td>GDP</td>\n",
       "      <td>1961-12-31T00:00:00</td>\n",
       "      <td>563.3</td>\n",
       "      <td>Yearly</td>\n",
       "      <td>WGDPUS</td>\n",
       "      <td>2017-01-04T14:27:00</td>\n",
       "    </tr>\n",
       "    <tr>\n",
       "      <th>2</th>\n",
       "      <td>United States</td>\n",
       "      <td>GDP</td>\n",
       "      <td>1962-12-31T00:00:00</td>\n",
       "      <td>605.1</td>\n",
       "      <td>Yearly</td>\n",
       "      <td>WGDPUS</td>\n",
       "      <td>2017-01-04T14:27:00</td>\n",
       "    </tr>\n",
       "    <tr>\n",
       "      <th>3</th>\n",
       "      <td>United States</td>\n",
       "      <td>GDP</td>\n",
       "      <td>1963-12-31T00:00:00</td>\n",
       "      <td>638.6</td>\n",
       "      <td>Yearly</td>\n",
       "      <td>WGDPUS</td>\n",
       "      <td>2017-01-04T14:27:00</td>\n",
       "    </tr>\n",
       "    <tr>\n",
       "      <th>4</th>\n",
       "      <td>United States</td>\n",
       "      <td>GDP</td>\n",
       "      <td>1964-12-31T00:00:00</td>\n",
       "      <td>685.8</td>\n",
       "      <td>Yearly</td>\n",
       "      <td>WGDPUS</td>\n",
       "      <td>2017-01-04T14:27:00</td>\n",
       "    </tr>\n",
       "  </tbody>\n",
       "</table>\n",
       "</div>"
      ],
      "text/plain": [
       "         Country Category             DateTime  Value Frequency  \\\n",
       "0  United States      GDP  1960-12-31T00:00:00  543.3    Yearly   \n",
       "1  United States      GDP  1961-12-31T00:00:00  563.3    Yearly   \n",
       "2  United States      GDP  1962-12-31T00:00:00  605.1    Yearly   \n",
       "3  United States      GDP  1963-12-31T00:00:00  638.6    Yearly   \n",
       "4  United States      GDP  1964-12-31T00:00:00  685.8    Yearly   \n",
       "\n",
       "  HistoricalDataSymbol           LastUpdate  \n",
       "0               WGDPUS  2017-01-04T14:27:00  \n",
       "1               WGDPUS  2017-01-04T14:27:00  \n",
       "2               WGDPUS  2017-01-04T14:27:00  \n",
       "3               WGDPUS  2017-01-04T14:27:00  \n",
       "4               WGDPUS  2017-01-04T14:27:00  "
      ]
     },
     "execution_count": 274,
     "metadata": {},
     "output_type": "execute_result"
    }
   ],
   "source": [
    "GDP.head()"
   ]
  },
  {
   "cell_type": "code",
   "execution_count": 275,
   "id": "b90165d3",
   "metadata": {},
   "outputs": [],
   "source": [
    "FullYearGDP = pd.read_csv(\"/Users/darringtonhenderson/Desktop/GitHub/Data-Extractors/Data/HistoricalUSFullYearGDPGrowth.csv\")"
   ]
  },
  {
   "cell_type": "code",
   "execution_count": 276,
   "id": "70258f41",
   "metadata": {},
   "outputs": [
    {
     "data": {
      "text/html": [
       "<div>\n",
       "<style scoped>\n",
       "    .dataframe tbody tr th:only-of-type {\n",
       "        vertical-align: middle;\n",
       "    }\n",
       "\n",
       "    .dataframe tbody tr th {\n",
       "        vertical-align: top;\n",
       "    }\n",
       "\n",
       "    .dataframe thead th {\n",
       "        text-align: right;\n",
       "    }\n",
       "</style>\n",
       "<table border=\"1\" class=\"dataframe\">\n",
       "  <thead>\n",
       "    <tr style=\"text-align: right;\">\n",
       "      <th></th>\n",
       "      <th>Country</th>\n",
       "      <th>Category</th>\n",
       "      <th>DateTime</th>\n",
       "      <th>Value</th>\n",
       "      <th>Frequency</th>\n",
       "      <th>HistoricalDataSymbol</th>\n",
       "      <th>LastUpdate</th>\n",
       "    </tr>\n",
       "  </thead>\n",
       "  <tbody>\n",
       "    <tr>\n",
       "      <th>0</th>\n",
       "      <td>United States</td>\n",
       "      <td>Full Year GDP Growth</td>\n",
       "      <td>1950-12-31T00:00:00</td>\n",
       "      <td>8.7</td>\n",
       "      <td>Yearly</td>\n",
       "      <td>USAFYGG</td>\n",
       "      <td>2022-01-27T11:36:00</td>\n",
       "    </tr>\n",
       "    <tr>\n",
       "      <th>1</th>\n",
       "      <td>United States</td>\n",
       "      <td>Full Year GDP Growth</td>\n",
       "      <td>1951-12-31T00:00:00</td>\n",
       "      <td>8.0</td>\n",
       "      <td>Yearly</td>\n",
       "      <td>USAFYGG</td>\n",
       "      <td>2022-01-27T11:36:00</td>\n",
       "    </tr>\n",
       "    <tr>\n",
       "      <th>2</th>\n",
       "      <td>United States</td>\n",
       "      <td>Full Year GDP Growth</td>\n",
       "      <td>1952-12-31T00:00:00</td>\n",
       "      <td>4.1</td>\n",
       "      <td>Yearly</td>\n",
       "      <td>USAFYGG</td>\n",
       "      <td>2022-01-27T11:36:00</td>\n",
       "    </tr>\n",
       "    <tr>\n",
       "      <th>3</th>\n",
       "      <td>United States</td>\n",
       "      <td>Full Year GDP Growth</td>\n",
       "      <td>1953-12-31T00:00:00</td>\n",
       "      <td>4.7</td>\n",
       "      <td>Yearly</td>\n",
       "      <td>USAFYGG</td>\n",
       "      <td>2022-01-27T11:36:00</td>\n",
       "    </tr>\n",
       "    <tr>\n",
       "      <th>4</th>\n",
       "      <td>United States</td>\n",
       "      <td>Full Year GDP Growth</td>\n",
       "      <td>1954-12-31T00:00:00</td>\n",
       "      <td>-0.6</td>\n",
       "      <td>Yearly</td>\n",
       "      <td>USAFYGG</td>\n",
       "      <td>2022-01-27T11:36:00</td>\n",
       "    </tr>\n",
       "  </tbody>\n",
       "</table>\n",
       "</div>"
      ],
      "text/plain": [
       "         Country              Category             DateTime  Value Frequency  \\\n",
       "0  United States  Full Year GDP Growth  1950-12-31T00:00:00    8.7    Yearly   \n",
       "1  United States  Full Year GDP Growth  1951-12-31T00:00:00    8.0    Yearly   \n",
       "2  United States  Full Year GDP Growth  1952-12-31T00:00:00    4.1    Yearly   \n",
       "3  United States  Full Year GDP Growth  1953-12-31T00:00:00    4.7    Yearly   \n",
       "4  United States  Full Year GDP Growth  1954-12-31T00:00:00   -0.6    Yearly   \n",
       "\n",
       "  HistoricalDataSymbol           LastUpdate  \n",
       "0              USAFYGG  2022-01-27T11:36:00  \n",
       "1              USAFYGG  2022-01-27T11:36:00  \n",
       "2              USAFYGG  2022-01-27T11:36:00  \n",
       "3              USAFYGG  2022-01-27T11:36:00  \n",
       "4              USAFYGG  2022-01-27T11:36:00  "
      ]
     },
     "execution_count": 276,
     "metadata": {},
     "output_type": "execute_result"
    }
   ],
   "source": [
    "FullYearGDP.head()"
   ]
  },
  {
   "cell_type": "code",
   "execution_count": 277,
   "id": "bcc940ba",
   "metadata": {},
   "outputs": [],
   "source": [
    "us = pd.merge(GDP, FullYearGDP, how='outer') "
   ]
  },
  {
   "cell_type": "code",
   "execution_count": 278,
   "id": "11e3e979",
   "metadata": {},
   "outputs": [
    {
     "data": {
      "text/html": [
       "<div>\n",
       "<style scoped>\n",
       "    .dataframe tbody tr th:only-of-type {\n",
       "        vertical-align: middle;\n",
       "    }\n",
       "\n",
       "    .dataframe tbody tr th {\n",
       "        vertical-align: top;\n",
       "    }\n",
       "\n",
       "    .dataframe thead th {\n",
       "        text-align: right;\n",
       "    }\n",
       "</style>\n",
       "<table border=\"1\" class=\"dataframe\">\n",
       "  <thead>\n",
       "    <tr style=\"text-align: right;\">\n",
       "      <th></th>\n",
       "      <th>Country</th>\n",
       "      <th>Category</th>\n",
       "      <th>DateTime</th>\n",
       "      <th>Value</th>\n",
       "      <th>Frequency</th>\n",
       "      <th>HistoricalDataSymbol</th>\n",
       "      <th>LastUpdate</th>\n",
       "    </tr>\n",
       "  </thead>\n",
       "  <tbody>\n",
       "    <tr>\n",
       "      <th>0</th>\n",
       "      <td>United States</td>\n",
       "      <td>GDP</td>\n",
       "      <td>1960-12-31T00:00:00</td>\n",
       "      <td>543.3</td>\n",
       "      <td>Yearly</td>\n",
       "      <td>WGDPUS</td>\n",
       "      <td>2017-01-04T14:27:00</td>\n",
       "    </tr>\n",
       "    <tr>\n",
       "      <th>1</th>\n",
       "      <td>United States</td>\n",
       "      <td>GDP</td>\n",
       "      <td>1961-12-31T00:00:00</td>\n",
       "      <td>563.3</td>\n",
       "      <td>Yearly</td>\n",
       "      <td>WGDPUS</td>\n",
       "      <td>2017-01-04T14:27:00</td>\n",
       "    </tr>\n",
       "    <tr>\n",
       "      <th>2</th>\n",
       "      <td>United States</td>\n",
       "      <td>GDP</td>\n",
       "      <td>1962-12-31T00:00:00</td>\n",
       "      <td>605.1</td>\n",
       "      <td>Yearly</td>\n",
       "      <td>WGDPUS</td>\n",
       "      <td>2017-01-04T14:27:00</td>\n",
       "    </tr>\n",
       "    <tr>\n",
       "      <th>3</th>\n",
       "      <td>United States</td>\n",
       "      <td>GDP</td>\n",
       "      <td>1963-12-31T00:00:00</td>\n",
       "      <td>638.6</td>\n",
       "      <td>Yearly</td>\n",
       "      <td>WGDPUS</td>\n",
       "      <td>2017-01-04T14:27:00</td>\n",
       "    </tr>\n",
       "    <tr>\n",
       "      <th>4</th>\n",
       "      <td>United States</td>\n",
       "      <td>GDP</td>\n",
       "      <td>1964-12-31T00:00:00</td>\n",
       "      <td>685.8</td>\n",
       "      <td>Yearly</td>\n",
       "      <td>WGDPUS</td>\n",
       "      <td>2017-01-04T14:27:00</td>\n",
       "    </tr>\n",
       "  </tbody>\n",
       "</table>\n",
       "</div>"
      ],
      "text/plain": [
       "         Country Category             DateTime  Value Frequency  \\\n",
       "0  United States      GDP  1960-12-31T00:00:00  543.3    Yearly   \n",
       "1  United States      GDP  1961-12-31T00:00:00  563.3    Yearly   \n",
       "2  United States      GDP  1962-12-31T00:00:00  605.1    Yearly   \n",
       "3  United States      GDP  1963-12-31T00:00:00  638.6    Yearly   \n",
       "4  United States      GDP  1964-12-31T00:00:00  685.8    Yearly   \n",
       "\n",
       "  HistoricalDataSymbol           LastUpdate  \n",
       "0               WGDPUS  2017-01-04T14:27:00  \n",
       "1               WGDPUS  2017-01-04T14:27:00  \n",
       "2               WGDPUS  2017-01-04T14:27:00  \n",
       "3               WGDPUS  2017-01-04T14:27:00  \n",
       "4               WGDPUS  2017-01-04T14:27:00  "
      ]
     },
     "execution_count": 278,
     "metadata": {},
     "output_type": "execute_result"
    }
   ],
   "source": [
    "us.head()"
   ]
  },
  {
   "cell_type": "code",
   "execution_count": 279,
   "id": "de4502b9",
   "metadata": {},
   "outputs": [
    {
     "data": {
      "text/html": [
       "<div>\n",
       "<style scoped>\n",
       "    .dataframe tbody tr th:only-of-type {\n",
       "        vertical-align: middle;\n",
       "    }\n",
       "\n",
       "    .dataframe tbody tr th {\n",
       "        vertical-align: top;\n",
       "    }\n",
       "\n",
       "    .dataframe thead th {\n",
       "        text-align: right;\n",
       "    }\n",
       "</style>\n",
       "<table border=\"1\" class=\"dataframe\">\n",
       "  <thead>\n",
       "    <tr style=\"text-align: right;\">\n",
       "      <th></th>\n",
       "      <th>Country</th>\n",
       "      <th>Category</th>\n",
       "      <th>DateTime</th>\n",
       "      <th>Value</th>\n",
       "      <th>Frequency</th>\n",
       "      <th>HistoricalDataSymbol</th>\n",
       "      <th>LastUpdate</th>\n",
       "    </tr>\n",
       "  </thead>\n",
       "  <tbody>\n",
       "    <tr>\n",
       "      <th>128</th>\n",
       "      <td>United States</td>\n",
       "      <td>Full Year GDP Growth</td>\n",
       "      <td>2017-12-31T00:00:00</td>\n",
       "      <td>2.3</td>\n",
       "      <td>Yearly</td>\n",
       "      <td>USAFYGG</td>\n",
       "      <td>2022-01-27T11:36:00</td>\n",
       "    </tr>\n",
       "    <tr>\n",
       "      <th>129</th>\n",
       "      <td>United States</td>\n",
       "      <td>Full Year GDP Growth</td>\n",
       "      <td>2018-12-31T00:00:00</td>\n",
       "      <td>2.9</td>\n",
       "      <td>Yearly</td>\n",
       "      <td>USAFYGG</td>\n",
       "      <td>2022-01-27T11:36:00</td>\n",
       "    </tr>\n",
       "    <tr>\n",
       "      <th>130</th>\n",
       "      <td>United States</td>\n",
       "      <td>Full Year GDP Growth</td>\n",
       "      <td>2019-12-31T00:00:00</td>\n",
       "      <td>2.3</td>\n",
       "      <td>Yearly</td>\n",
       "      <td>USAFYGG</td>\n",
       "      <td>2022-01-27T11:36:00</td>\n",
       "    </tr>\n",
       "    <tr>\n",
       "      <th>131</th>\n",
       "      <td>United States</td>\n",
       "      <td>Full Year GDP Growth</td>\n",
       "      <td>2020-12-31T00:00:00</td>\n",
       "      <td>-3.4</td>\n",
       "      <td>Yearly</td>\n",
       "      <td>USAFYGG</td>\n",
       "      <td>2022-01-27T11:36:00</td>\n",
       "    </tr>\n",
       "    <tr>\n",
       "      <th>132</th>\n",
       "      <td>United States</td>\n",
       "      <td>Full Year GDP Growth</td>\n",
       "      <td>2021-12-31T00:00:00</td>\n",
       "      <td>5.7</td>\n",
       "      <td>Yearly</td>\n",
       "      <td>USAFYGG</td>\n",
       "      <td>2022-01-27T13:39:00</td>\n",
       "    </tr>\n",
       "  </tbody>\n",
       "</table>\n",
       "</div>"
      ],
      "text/plain": [
       "           Country              Category             DateTime  Value  \\\n",
       "128  United States  Full Year GDP Growth  2017-12-31T00:00:00    2.3   \n",
       "129  United States  Full Year GDP Growth  2018-12-31T00:00:00    2.9   \n",
       "130  United States  Full Year GDP Growth  2019-12-31T00:00:00    2.3   \n",
       "131  United States  Full Year GDP Growth  2020-12-31T00:00:00   -3.4   \n",
       "132  United States  Full Year GDP Growth  2021-12-31T00:00:00    5.7   \n",
       "\n",
       "    Frequency HistoricalDataSymbol           LastUpdate  \n",
       "128    Yearly              USAFYGG  2022-01-27T11:36:00  \n",
       "129    Yearly              USAFYGG  2022-01-27T11:36:00  \n",
       "130    Yearly              USAFYGG  2022-01-27T11:36:00  \n",
       "131    Yearly              USAFYGG  2022-01-27T11:36:00  \n",
       "132    Yearly              USAFYGG  2022-01-27T13:39:00  "
      ]
     },
     "execution_count": 279,
     "metadata": {},
     "output_type": "execute_result"
    }
   ],
   "source": [
    "us.tail()"
   ]
  },
  {
   "cell_type": "markdown",
   "id": "c6867125",
   "metadata": {},
   "source": [
    "### Dropping 'HistoricalDataSymbol' and 'LastUpdate' columns from merged GDP Dataset"
   ]
  },
  {
   "cell_type": "code",
   "execution_count": 280,
   "id": "0a20f6c0",
   "metadata": {},
   "outputs": [],
   "source": [
    "us.drop(['HistoricalDataSymbol', 'LastUpdate'], axis=1, inplace=True)"
   ]
  },
  {
   "cell_type": "code",
   "execution_count": 281,
   "id": "dbc6188d",
   "metadata": {},
   "outputs": [
    {
     "data": {
      "text/html": [
       "<div>\n",
       "<style scoped>\n",
       "    .dataframe tbody tr th:only-of-type {\n",
       "        vertical-align: middle;\n",
       "    }\n",
       "\n",
       "    .dataframe tbody tr th {\n",
       "        vertical-align: top;\n",
       "    }\n",
       "\n",
       "    .dataframe thead th {\n",
       "        text-align: right;\n",
       "    }\n",
       "</style>\n",
       "<table border=\"1\" class=\"dataframe\">\n",
       "  <thead>\n",
       "    <tr style=\"text-align: right;\">\n",
       "      <th></th>\n",
       "      <th>Country</th>\n",
       "      <th>Category</th>\n",
       "      <th>DateTime</th>\n",
       "      <th>Value</th>\n",
       "      <th>Frequency</th>\n",
       "    </tr>\n",
       "  </thead>\n",
       "  <tbody>\n",
       "    <tr>\n",
       "      <th>0</th>\n",
       "      <td>United States</td>\n",
       "      <td>GDP</td>\n",
       "      <td>1960-12-31T00:00:00</td>\n",
       "      <td>543.3</td>\n",
       "      <td>Yearly</td>\n",
       "    </tr>\n",
       "    <tr>\n",
       "      <th>1</th>\n",
       "      <td>United States</td>\n",
       "      <td>GDP</td>\n",
       "      <td>1961-12-31T00:00:00</td>\n",
       "      <td>563.3</td>\n",
       "      <td>Yearly</td>\n",
       "    </tr>\n",
       "    <tr>\n",
       "      <th>2</th>\n",
       "      <td>United States</td>\n",
       "      <td>GDP</td>\n",
       "      <td>1962-12-31T00:00:00</td>\n",
       "      <td>605.1</td>\n",
       "      <td>Yearly</td>\n",
       "    </tr>\n",
       "    <tr>\n",
       "      <th>3</th>\n",
       "      <td>United States</td>\n",
       "      <td>GDP</td>\n",
       "      <td>1963-12-31T00:00:00</td>\n",
       "      <td>638.6</td>\n",
       "      <td>Yearly</td>\n",
       "    </tr>\n",
       "    <tr>\n",
       "      <th>4</th>\n",
       "      <td>United States</td>\n",
       "      <td>GDP</td>\n",
       "      <td>1964-12-31T00:00:00</td>\n",
       "      <td>685.8</td>\n",
       "      <td>Yearly</td>\n",
       "    </tr>\n",
       "  </tbody>\n",
       "</table>\n",
       "</div>"
      ],
      "text/plain": [
       "         Country Category             DateTime  Value Frequency\n",
       "0  United States      GDP  1960-12-31T00:00:00  543.3    Yearly\n",
       "1  United States      GDP  1961-12-31T00:00:00  563.3    Yearly\n",
       "2  United States      GDP  1962-12-31T00:00:00  605.1    Yearly\n",
       "3  United States      GDP  1963-12-31T00:00:00  638.6    Yearly\n",
       "4  United States      GDP  1964-12-31T00:00:00  685.8    Yearly"
      ]
     },
     "execution_count": 281,
     "metadata": {},
     "output_type": "execute_result"
    }
   ],
   "source": [
    "us.head()"
   ]
  },
  {
   "cell_type": "code",
   "execution_count": 282,
   "id": "72b48c68",
   "metadata": {},
   "outputs": [
    {
     "data": {
      "text/html": [
       "<div>\n",
       "<style scoped>\n",
       "    .dataframe tbody tr th:only-of-type {\n",
       "        vertical-align: middle;\n",
       "    }\n",
       "\n",
       "    .dataframe tbody tr th {\n",
       "        vertical-align: top;\n",
       "    }\n",
       "\n",
       "    .dataframe thead th {\n",
       "        text-align: right;\n",
       "    }\n",
       "</style>\n",
       "<table border=\"1\" class=\"dataframe\">\n",
       "  <thead>\n",
       "    <tr style=\"text-align: right;\">\n",
       "      <th></th>\n",
       "      <th>Country</th>\n",
       "      <th>Category</th>\n",
       "      <th>DateTime</th>\n",
       "      <th>Value</th>\n",
       "      <th>Frequency</th>\n",
       "    </tr>\n",
       "  </thead>\n",
       "  <tbody>\n",
       "    <tr>\n",
       "      <th>128</th>\n",
       "      <td>United States</td>\n",
       "      <td>Full Year GDP Growth</td>\n",
       "      <td>2017-12-31T00:00:00</td>\n",
       "      <td>2.3</td>\n",
       "      <td>Yearly</td>\n",
       "    </tr>\n",
       "    <tr>\n",
       "      <th>129</th>\n",
       "      <td>United States</td>\n",
       "      <td>Full Year GDP Growth</td>\n",
       "      <td>2018-12-31T00:00:00</td>\n",
       "      <td>2.9</td>\n",
       "      <td>Yearly</td>\n",
       "    </tr>\n",
       "    <tr>\n",
       "      <th>130</th>\n",
       "      <td>United States</td>\n",
       "      <td>Full Year GDP Growth</td>\n",
       "      <td>2019-12-31T00:00:00</td>\n",
       "      <td>2.3</td>\n",
       "      <td>Yearly</td>\n",
       "    </tr>\n",
       "    <tr>\n",
       "      <th>131</th>\n",
       "      <td>United States</td>\n",
       "      <td>Full Year GDP Growth</td>\n",
       "      <td>2020-12-31T00:00:00</td>\n",
       "      <td>-3.4</td>\n",
       "      <td>Yearly</td>\n",
       "    </tr>\n",
       "    <tr>\n",
       "      <th>132</th>\n",
       "      <td>United States</td>\n",
       "      <td>Full Year GDP Growth</td>\n",
       "      <td>2021-12-31T00:00:00</td>\n",
       "      <td>5.7</td>\n",
       "      <td>Yearly</td>\n",
       "    </tr>\n",
       "  </tbody>\n",
       "</table>\n",
       "</div>"
      ],
      "text/plain": [
       "           Country              Category             DateTime  Value Frequency\n",
       "128  United States  Full Year GDP Growth  2017-12-31T00:00:00    2.3    Yearly\n",
       "129  United States  Full Year GDP Growth  2018-12-31T00:00:00    2.9    Yearly\n",
       "130  United States  Full Year GDP Growth  2019-12-31T00:00:00    2.3    Yearly\n",
       "131  United States  Full Year GDP Growth  2020-12-31T00:00:00   -3.4    Yearly\n",
       "132  United States  Full Year GDP Growth  2021-12-31T00:00:00    5.7    Yearly"
      ]
     },
     "execution_count": 282,
     "metadata": {},
     "output_type": "execute_result"
    }
   ],
   "source": [
    "us.tail()"
   ]
  }
 ],
 "metadata": {
  "kernelspec": {
   "display_name": "Python 3",
   "language": "python",
   "name": "python3"
  },
  "language_info": {
   "codemirror_mode": {
    "name": "ipython",
    "version": 3
   },
   "file_extension": ".py",
   "mimetype": "text/x-python",
   "name": "python",
   "nbconvert_exporter": "python",
   "pygments_lexer": "ipython3",
   "version": "3.8.8"
  }
 },
 "nbformat": 4,
 "nbformat_minor": 5
}
