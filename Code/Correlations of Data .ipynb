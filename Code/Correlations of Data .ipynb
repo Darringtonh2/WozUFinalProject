{
 "cells": [
  {
   "cell_type": "markdown",
   "id": "1225aa9b",
   "metadata": {},
   "source": [
    "## Import Packages "
   ]
  },
  {
   "cell_type": "code",
   "execution_count": 1,
   "id": "d7066d43",
   "metadata": {},
   "outputs": [],
   "source": [
    "import pandas as pd\n",
    "import matplotlib.pyplot as plt\n",
    "import seaborn as sns"
   ]
  },
  {
   "cell_type": "markdown",
   "id": "b0413de8",
   "metadata": {},
   "source": [
    "## Financial Datasets - Markets [NASDAQ | DowJones | S&P 500 | US GDP] "
   ]
  },
  {
   "cell_type": "markdown",
   "id": "be2e3f08",
   "metadata": {},
   "source": [
    "## Correlations of NASDAQ Data "
   ]
  },
  {
   "cell_type": "markdown",
   "id": "aa800e2e",
   "metadata": {},
   "source": [
    "Correlations can be done on two continuous variables, to determine the relationship between them."
   ]
  },
  {
   "cell_type": "code",
   "execution_count": 2,
   "id": "af9fb91b",
   "metadata": {},
   "outputs": [],
   "source": [
    "NASDAQ = pd.read_csv(\"/Users/darringtonhenderson/Documents/GitHub Final/WozUFinalProject/FinalProject/Data/5yrNASDAQ Data.csv\")"
   ]
  },
  {
   "cell_type": "code",
   "execution_count": 3,
   "id": "7e9ac647",
   "metadata": {},
   "outputs": [
    {
     "data": {
      "text/html": [
       "<div>\n",
       "<style scoped>\n",
       "    .dataframe tbody tr th:only-of-type {\n",
       "        vertical-align: middle;\n",
       "    }\n",
       "\n",
       "    .dataframe tbody tr th {\n",
       "        vertical-align: top;\n",
       "    }\n",
       "\n",
       "    .dataframe thead th {\n",
       "        text-align: right;\n",
       "    }\n",
       "</style>\n",
       "<table border=\"1\" class=\"dataframe\">\n",
       "  <thead>\n",
       "    <tr style=\"text-align: right;\">\n",
       "      <th></th>\n",
       "      <th>Date</th>\n",
       "      <th>Close/Last</th>\n",
       "      <th>Volume</th>\n",
       "      <th>Open</th>\n",
       "      <th>High</th>\n",
       "      <th>Low</th>\n",
       "    </tr>\n",
       "  </thead>\n",
       "  <tbody>\n",
       "    <tr>\n",
       "      <th>0</th>\n",
       "      <td>04/14/2022</td>\n",
       "      <td>13351.08</td>\n",
       "      <td>--</td>\n",
       "      <td>13647.43</td>\n",
       "      <td>13662.93</td>\n",
       "      <td>13345.22</td>\n",
       "    </tr>\n",
       "    <tr>\n",
       "      <th>1</th>\n",
       "      <td>04/13/2022</td>\n",
       "      <td>13643.59</td>\n",
       "      <td>--</td>\n",
       "      <td>13373.12</td>\n",
       "      <td>13679.43</td>\n",
       "      <td>13353.66</td>\n",
       "    </tr>\n",
       "    <tr>\n",
       "      <th>2</th>\n",
       "      <td>04/12/2022</td>\n",
       "      <td>13371.57</td>\n",
       "      <td>--</td>\n",
       "      <td>13584.69</td>\n",
       "      <td>13685.95</td>\n",
       "      <td>13317.74</td>\n",
       "    </tr>\n",
       "    <tr>\n",
       "      <th>3</th>\n",
       "      <td>04/11/2022</td>\n",
       "      <td>13411.96</td>\n",
       "      <td>--</td>\n",
       "      <td>13547.29</td>\n",
       "      <td>13585.08</td>\n",
       "      <td>13401.39</td>\n",
       "    </tr>\n",
       "    <tr>\n",
       "      <th>4</th>\n",
       "      <td>04/08/2022</td>\n",
       "      <td>13711.00</td>\n",
       "      <td>--</td>\n",
       "      <td>13830.47</td>\n",
       "      <td>13866.06</td>\n",
       "      <td>13693.69</td>\n",
       "    </tr>\n",
       "  </tbody>\n",
       "</table>\n",
       "</div>"
      ],
      "text/plain": [
       "         Date  Close/Last Volume      Open      High       Low\n",
       "0  04/14/2022    13351.08     --  13647.43  13662.93  13345.22\n",
       "1  04/13/2022    13643.59     --  13373.12  13679.43  13353.66\n",
       "2  04/12/2022    13371.57     --  13584.69  13685.95  13317.74\n",
       "3  04/11/2022    13411.96     --  13547.29  13585.08  13401.39\n",
       "4  04/08/2022    13711.00     --  13830.47  13866.06  13693.69"
      ]
     },
     "execution_count": 3,
     "metadata": {},
     "output_type": "execute_result"
    }
   ],
   "source": [
    "NASDAQ.head()"
   ]
  },
  {
   "cell_type": "code",
   "execution_count": 4,
   "id": "13d8fc27",
   "metadata": {},
   "outputs": [
    {
     "data": {
      "text/html": [
       "<div>\n",
       "<style scoped>\n",
       "    .dataframe tbody tr th:only-of-type {\n",
       "        vertical-align: middle;\n",
       "    }\n",
       "\n",
       "    .dataframe tbody tr th {\n",
       "        vertical-align: top;\n",
       "    }\n",
       "\n",
       "    .dataframe thead th {\n",
       "        text-align: right;\n",
       "    }\n",
       "</style>\n",
       "<table border=\"1\" class=\"dataframe\">\n",
       "  <thead>\n",
       "    <tr style=\"text-align: right;\">\n",
       "      <th></th>\n",
       "      <th>Date</th>\n",
       "      <th>Close/Last</th>\n",
       "      <th>Volume</th>\n",
       "      <th>Open</th>\n",
       "      <th>High</th>\n",
       "      <th>Low</th>\n",
       "    </tr>\n",
       "  </thead>\n",
       "  <tbody>\n",
       "    <tr>\n",
       "      <th>1254</th>\n",
       "      <td>04/24/2017</td>\n",
       "      <td>5983.82</td>\n",
       "      <td>--</td>\n",
       "      <td>5979.96</td>\n",
       "      <td>5989.92</td>\n",
       "      <td>5970.25</td>\n",
       "    </tr>\n",
       "    <tr>\n",
       "      <th>1255</th>\n",
       "      <td>04/21/2017</td>\n",
       "      <td>5910.52</td>\n",
       "      <td>--</td>\n",
       "      <td>5919.02</td>\n",
       "      <td>5919.23</td>\n",
       "      <td>5899.43</td>\n",
       "    </tr>\n",
       "    <tr>\n",
       "      <th>1256</th>\n",
       "      <td>04/20/2017</td>\n",
       "      <td>5916.78</td>\n",
       "      <td>--</td>\n",
       "      <td>5887.87</td>\n",
       "      <td>5926.23</td>\n",
       "      <td>5880.20</td>\n",
       "    </tr>\n",
       "    <tr>\n",
       "      <th>1257</th>\n",
       "      <td>04/19/2017</td>\n",
       "      <td>5863.03</td>\n",
       "      <td>--</td>\n",
       "      <td>5874.43</td>\n",
       "      <td>5894.67</td>\n",
       "      <td>5856.34</td>\n",
       "    </tr>\n",
       "    <tr>\n",
       "      <th>1258</th>\n",
       "      <td>04/18/2017</td>\n",
       "      <td>5849.47</td>\n",
       "      <td>--</td>\n",
       "      <td>5838.59</td>\n",
       "      <td>5860.04</td>\n",
       "      <td>5828.57</td>\n",
       "    </tr>\n",
       "  </tbody>\n",
       "</table>\n",
       "</div>"
      ],
      "text/plain": [
       "            Date  Close/Last Volume     Open     High      Low\n",
       "1254  04/24/2017     5983.82     --  5979.96  5989.92  5970.25\n",
       "1255  04/21/2017     5910.52     --  5919.02  5919.23  5899.43\n",
       "1256  04/20/2017     5916.78     --  5887.87  5926.23  5880.20\n",
       "1257  04/19/2017     5863.03     --  5874.43  5894.67  5856.34\n",
       "1258  04/18/2017     5849.47     --  5838.59  5860.04  5828.57"
      ]
     },
     "execution_count": 4,
     "metadata": {},
     "output_type": "execute_result"
    }
   ],
   "source": [
    "NASDAQ.tail()"
   ]
  },
  {
   "cell_type": "code",
   "execution_count": 63,
   "id": "b21e3ed6",
   "metadata": {},
   "outputs": [
    {
     "data": {
      "text/plain": [
       "0.9996136360558234"
      ]
     },
     "execution_count": 63,
     "metadata": {},
     "output_type": "execute_result"
    }
   ],
   "source": [
    "NASDAQ['Close/Last'].corr(NASDAQ['High'])"
   ]
  },
  {
   "cell_type": "code",
   "execution_count": 65,
   "id": "839229e1",
   "metadata": {},
   "outputs": [
    {
     "data": {
      "text/html": [
       "<div>\n",
       "<style scoped>\n",
       "    .dataframe tbody tr th:only-of-type {\n",
       "        vertical-align: middle;\n",
       "    }\n",
       "\n",
       "    .dataframe tbody tr th {\n",
       "        vertical-align: top;\n",
       "    }\n",
       "\n",
       "    .dataframe thead th {\n",
       "        text-align: right;\n",
       "    }\n",
       "</style>\n",
       "<table border=\"1\" class=\"dataframe\">\n",
       "  <thead>\n",
       "    <tr style=\"text-align: right;\">\n",
       "      <th></th>\n",
       "      <th>Close/Last</th>\n",
       "      <th>Open</th>\n",
       "      <th>High</th>\n",
       "      <th>Low</th>\n",
       "    </tr>\n",
       "  </thead>\n",
       "  <tbody>\n",
       "    <tr>\n",
       "      <th>Close/Last</th>\n",
       "      <td>1.000000</td>\n",
       "      <td>0.999325</td>\n",
       "      <td>0.999614</td>\n",
       "      <td>0.999666</td>\n",
       "    </tr>\n",
       "    <tr>\n",
       "      <th>Open</th>\n",
       "      <td>0.999325</td>\n",
       "      <td>1.000000</td>\n",
       "      <td>0.999760</td>\n",
       "      <td>0.999618</td>\n",
       "    </tr>\n",
       "    <tr>\n",
       "      <th>High</th>\n",
       "      <td>0.999614</td>\n",
       "      <td>0.999760</td>\n",
       "      <td>1.000000</td>\n",
       "      <td>0.999489</td>\n",
       "    </tr>\n",
       "    <tr>\n",
       "      <th>Low</th>\n",
       "      <td>0.999666</td>\n",
       "      <td>0.999618</td>\n",
       "      <td>0.999489</td>\n",
       "      <td>1.000000</td>\n",
       "    </tr>\n",
       "  </tbody>\n",
       "</table>\n",
       "</div>"
      ],
      "text/plain": [
       "            Close/Last      Open      High       Low\n",
       "Close/Last    1.000000  0.999325  0.999614  0.999666\n",
       "Open          0.999325  1.000000  0.999760  0.999618\n",
       "High          0.999614  0.999760  1.000000  0.999489\n",
       "Low           0.999666  0.999618  0.999489  1.000000"
      ]
     },
     "execution_count": 65,
     "metadata": {},
     "output_type": "execute_result"
    }
   ],
   "source": [
    "NASDAQ.corr(method='pearson')"
   ]
  },
  {
   "cell_type": "code",
   "execution_count": 66,
   "id": "7b645785",
   "metadata": {},
   "outputs": [
    {
     "data": {
      "text/html": [
       "<style  type=\"text/css\" >\n",
       "#T_2513f_row0_col0,#T_2513f_row1_col1,#T_2513f_row2_col2,#T_2513f_row3_col3{\n",
       "            background-color:  #b40426;\n",
       "            color:  #f1f1f1;\n",
       "        }#T_2513f_row0_col1,#T_2513f_row1_col0,#T_2513f_row2_col3,#T_2513f_row3_col2{\n",
       "            background-color:  #3b4cc0;\n",
       "            color:  #f1f1f1;\n",
       "        }#T_2513f_row0_col2{\n",
       "            background-color:  #c9d7f0;\n",
       "            color:  #000000;\n",
       "        }#T_2513f_row0_col3{\n",
       "            background-color:  #dedcdb;\n",
       "            color:  #000000;\n",
       "        }#T_2513f_row1_col2{\n",
       "            background-color:  #f6bea4;\n",
       "            color:  #000000;\n",
       "        }#T_2513f_row1_col3{\n",
       "            background-color:  #cad8ef;\n",
       "            color:  #000000;\n",
       "        }#T_2513f_row2_col0{\n",
       "            background-color:  #8badfd;\n",
       "            color:  #000000;\n",
       "        }#T_2513f_row2_col1{\n",
       "            background-color:  #e4d9d2;\n",
       "            color:  #000000;\n",
       "        }#T_2513f_row3_col0{\n",
       "            background-color:  #afcafc;\n",
       "            color:  #000000;\n",
       "        }#T_2513f_row3_col1{\n",
       "            background-color:  #8db0fe;\n",
       "            color:  #000000;\n",
       "        }</style><table id=\"T_2513f_\" ><thead>    <tr>        <th class=\"blank level0\" ></th>        <th class=\"col_heading level0 col0\" >Close/Last</th>        <th class=\"col_heading level0 col1\" >Open</th>        <th class=\"col_heading level0 col2\" >High</th>        <th class=\"col_heading level0 col3\" >Low</th>    </tr></thead><tbody>\n",
       "                <tr>\n",
       "                        <th id=\"T_2513f_level0_row0\" class=\"row_heading level0 row0\" >Close/Last</th>\n",
       "                        <td id=\"T_2513f_row0_col0\" class=\"data row0 col0\" >1.0</td>\n",
       "                        <td id=\"T_2513f_row0_col1\" class=\"data row0 col1\" >1.0</td>\n",
       "                        <td id=\"T_2513f_row0_col2\" class=\"data row0 col2\" >1.0</td>\n",
       "                        <td id=\"T_2513f_row0_col3\" class=\"data row0 col3\" >1.0</td>\n",
       "            </tr>\n",
       "            <tr>\n",
       "                        <th id=\"T_2513f_level0_row1\" class=\"row_heading level0 row1\" >Open</th>\n",
       "                        <td id=\"T_2513f_row1_col0\" class=\"data row1 col0\" >1.0</td>\n",
       "                        <td id=\"T_2513f_row1_col1\" class=\"data row1 col1\" >1.0</td>\n",
       "                        <td id=\"T_2513f_row1_col2\" class=\"data row1 col2\" >1.0</td>\n",
       "                        <td id=\"T_2513f_row1_col3\" class=\"data row1 col3\" >1.0</td>\n",
       "            </tr>\n",
       "            <tr>\n",
       "                        <th id=\"T_2513f_level0_row2\" class=\"row_heading level0 row2\" >High</th>\n",
       "                        <td id=\"T_2513f_row2_col0\" class=\"data row2 col0\" >1.0</td>\n",
       "                        <td id=\"T_2513f_row2_col1\" class=\"data row2 col1\" >1.0</td>\n",
       "                        <td id=\"T_2513f_row2_col2\" class=\"data row2 col2\" >1.0</td>\n",
       "                        <td id=\"T_2513f_row2_col3\" class=\"data row2 col3\" >1.0</td>\n",
       "            </tr>\n",
       "            <tr>\n",
       "                        <th id=\"T_2513f_level0_row3\" class=\"row_heading level0 row3\" >Low</th>\n",
       "                        <td id=\"T_2513f_row3_col0\" class=\"data row3 col0\" >1.0</td>\n",
       "                        <td id=\"T_2513f_row3_col1\" class=\"data row3 col1\" >1.0</td>\n",
       "                        <td id=\"T_2513f_row3_col2\" class=\"data row3 col2\" >1.0</td>\n",
       "                        <td id=\"T_2513f_row3_col3\" class=\"data row3 col3\" >1.0</td>\n",
       "            </tr>\n",
       "    </tbody></table>"
      ],
      "text/plain": [
       "<pandas.io.formats.style.Styler at 0x7f9ad9e65ca0>"
      ]
     },
     "execution_count": 66,
     "metadata": {},
     "output_type": "execute_result"
    }
   ],
   "source": [
    "NASDAQ.corr(method='pearson').style.format(\"{:.2}\").background_gradient(cmap=plt.get_cmap('coolwarm'), axis=1)"
   ]
  },
  {
   "cell_type": "code",
   "execution_count": 67,
   "id": "54394d76",
   "metadata": {},
   "outputs": [
    {
     "data": {
      "text/plain": [
       "<AxesSubplot:>"
      ]
     },
     "execution_count": 67,
     "metadata": {},
     "output_type": "execute_result"
    },
    {
     "data": {
      "image/png": "[encoded data removed]",
      "text/plain": [
       "<Figure size 432x288 with 2 Axes>"
      ]
     },
     "metadata": {
      "needs_background": "light"
     },
     "output_type": "display_data"
    }
   ],
   "source": [
    "sns.heatmap(NASDAQ.corr(), annot=True)"
   ]
  },
  {
   "cell_type": "markdown",
   "id": "779aadf4",
   "metadata": {},
   "source": [
    "There is a strong Correlation between the 'Close/Last', i.e. Closing of the Market and the Markets 'High'. Which means whatever the Market closes at is most likely the Markets 'High'. "
   ]
  },
  {
   "cell_type": "markdown",
   "id": "0c0d05f1",
   "metadata": {},
   "source": [
    "## Correlations of DowJones Data"
   ]
  },
  {
   "cell_type": "markdown",
   "id": "7cfd00b8",
   "metadata": {},
   "source": [
    "Correlations can be done on two continuous variables, to determine the relationship between them."
   ]
  },
  {
   "cell_type": "code",
   "execution_count": 7,
   "id": "58e4d403",
   "metadata": {},
   "outputs": [],
   "source": [
    "DowJones = pd.read_csv(\"/Users/darringtonhenderson/Documents/GitHub Final/WozUFinalProject/FinalProject/Data/TheDowData.csv\")"
   ]
  },
  {
   "cell_type": "code",
   "execution_count": 8,
   "id": "23f1a72f",
   "metadata": {},
   "outputs": [
    {
     "data": {
      "text/html": [
       "<div>\n",
       "<style scoped>\n",
       "    .dataframe tbody tr th:only-of-type {\n",
       "        vertical-align: middle;\n",
       "    }\n",
       "\n",
       "    .dataframe tbody tr th {\n",
       "        vertical-align: top;\n",
       "    }\n",
       "\n",
       "    .dataframe thead th {\n",
       "        text-align: right;\n",
       "    }\n",
       "</style>\n",
       "<table border=\"1\" class=\"dataframe\">\n",
       "  <thead>\n",
       "    <tr style=\"text-align: right;\">\n",
       "      <th></th>\n",
       "      <th>Date</th>\n",
       "      <th>Open</th>\n",
       "      <th>High</th>\n",
       "      <th>Low</th>\n",
       "      <th>Close</th>\n",
       "      <th>Volume</th>\n",
       "    </tr>\n",
       "  </thead>\n",
       "  <tbody>\n",
       "    <tr>\n",
       "      <th>0</th>\n",
       "      <td>1896-05-27</td>\n",
       "      <td>29.39</td>\n",
       "      <td>29.39</td>\n",
       "      <td>29.39</td>\n",
       "      <td>29.39</td>\n",
       "      <td>NaN</td>\n",
       "    </tr>\n",
       "    <tr>\n",
       "      <th>1</th>\n",
       "      <td>1896-05-28</td>\n",
       "      <td>29.11</td>\n",
       "      <td>29.11</td>\n",
       "      <td>29.11</td>\n",
       "      <td>29.11</td>\n",
       "      <td>NaN</td>\n",
       "    </tr>\n",
       "    <tr>\n",
       "      <th>2</th>\n",
       "      <td>1896-05-29</td>\n",
       "      <td>29.43</td>\n",
       "      <td>29.43</td>\n",
       "      <td>29.43</td>\n",
       "      <td>29.43</td>\n",
       "      <td>NaN</td>\n",
       "    </tr>\n",
       "    <tr>\n",
       "      <th>3</th>\n",
       "      <td>1896-06-01</td>\n",
       "      <td>29.40</td>\n",
       "      <td>29.40</td>\n",
       "      <td>29.40</td>\n",
       "      <td>29.40</td>\n",
       "      <td>NaN</td>\n",
       "    </tr>\n",
       "    <tr>\n",
       "      <th>4</th>\n",
       "      <td>1896-06-02</td>\n",
       "      <td>29.00</td>\n",
       "      <td>29.00</td>\n",
       "      <td>29.00</td>\n",
       "      <td>29.00</td>\n",
       "      <td>NaN</td>\n",
       "    </tr>\n",
       "  </tbody>\n",
       "</table>\n",
       "</div>"
      ],
      "text/plain": [
       "         Date   Open   High    Low  Close  Volume\n",
       "0  1896-05-27  29.39  29.39  29.39  29.39     NaN\n",
       "1  1896-05-28  29.11  29.11  29.11  29.11     NaN\n",
       "2  1896-05-29  29.43  29.43  29.43  29.43     NaN\n",
       "3  1896-06-01  29.40  29.40  29.40  29.40     NaN\n",
       "4  1896-06-02  29.00  29.00  29.00  29.00     NaN"
      ]
     },
     "execution_count": 8,
     "metadata": {},
     "output_type": "execute_result"
    }
   ],
   "source": [
    "DowJones.head()"
   ]
  },
  {
   "cell_type": "code",
   "execution_count": 9,
   "id": "149d0ae6",
   "metadata": {},
   "outputs": [
    {
     "data": {
      "text/html": [
       "<div>\n",
       "<style scoped>\n",
       "    .dataframe tbody tr th:only-of-type {\n",
       "        vertical-align: middle;\n",
       "    }\n",
       "\n",
       "    .dataframe tbody tr th {\n",
       "        vertical-align: top;\n",
       "    }\n",
       "\n",
       "    .dataframe thead th {\n",
       "        text-align: right;\n",
       "    }\n",
       "</style>\n",
       "<table border=\"1\" class=\"dataframe\">\n",
       "  <thead>\n",
       "    <tr style=\"text-align: right;\">\n",
       "      <th></th>\n",
       "      <th>Date</th>\n",
       "      <th>Open</th>\n",
       "      <th>High</th>\n",
       "      <th>Low</th>\n",
       "      <th>Close</th>\n",
       "      <th>Volume</th>\n",
       "    </tr>\n",
       "  </thead>\n",
       "  <tbody>\n",
       "    <tr>\n",
       "      <th>32611</th>\n",
       "      <td>2022-04-12</td>\n",
       "      <td>34412.51</td>\n",
       "      <td>34669.97</td>\n",
       "      <td>34102.81</td>\n",
       "      <td>34220.36</td>\n",
       "      <td>373804662.0</td>\n",
       "    </tr>\n",
       "    <tr>\n",
       "      <th>32612</th>\n",
       "      <td>2022-04-13</td>\n",
       "      <td>34166.64</td>\n",
       "      <td>34598.36</td>\n",
       "      <td>34140.64</td>\n",
       "      <td>34564.59</td>\n",
       "      <td>341268894.0</td>\n",
       "    </tr>\n",
       "    <tr>\n",
       "      <th>32613</th>\n",
       "      <td>2022-04-14</td>\n",
       "      <td>34628.46</td>\n",
       "      <td>34889.17</td>\n",
       "      <td>34437.50</td>\n",
       "      <td>34451.23</td>\n",
       "      <td>388476298.0</td>\n",
       "    </tr>\n",
       "    <tr>\n",
       "      <th>32614</th>\n",
       "      <td>2022-04-18</td>\n",
       "      <td>34411.49</td>\n",
       "      <td>34618.29</td>\n",
       "      <td>34279.08</td>\n",
       "      <td>34411.69</td>\n",
       "      <td>298634820.0</td>\n",
       "    </tr>\n",
       "    <tr>\n",
       "      <th>32615</th>\n",
       "      <td>2022-04-19</td>\n",
       "      <td>34394.62</td>\n",
       "      <td>34983.11</td>\n",
       "      <td>34394.62</td>\n",
       "      <td>34911.20</td>\n",
       "      <td>350100624.0</td>\n",
       "    </tr>\n",
       "  </tbody>\n",
       "</table>\n",
       "</div>"
      ],
      "text/plain": [
       "             Date      Open      High       Low     Close       Volume\n",
       "32611  2022-04-12  34412.51  34669.97  34102.81  34220.36  373804662.0\n",
       "32612  2022-04-13  34166.64  34598.36  34140.64  34564.59  341268894.0\n",
       "32613  2022-04-14  34628.46  34889.17  34437.50  34451.23  388476298.0\n",
       "32614  2022-04-18  34411.49  34618.29  34279.08  34411.69  298634820.0\n",
       "32615  2022-04-19  34394.62  34983.11  34394.62  34911.20  350100624.0"
      ]
     },
     "execution_count": 9,
     "metadata": {},
     "output_type": "execute_result"
    }
   ],
   "source": [
    "DowJones.tail()"
   ]
  },
  {
   "cell_type": "code",
   "execution_count": 15,
   "id": "e801fa12",
   "metadata": {},
   "outputs": [
    {
     "data": {
      "text/plain": [
       "0.9999758710928256"
      ]
     },
     "execution_count": 15,
     "metadata": {},
     "output_type": "execute_result"
    }
   ],
   "source": [
    "DowJones['Open'].corr(DowJones['High'])"
   ]
  },
  {
   "cell_type": "code",
   "execution_count": 70,
   "id": "3d1fa2fe",
   "metadata": {},
   "outputs": [
    {
     "data": {
      "text/html": [
       "<div>\n",
       "<style scoped>\n",
       "    .dataframe tbody tr th:only-of-type {\n",
       "        vertical-align: middle;\n",
       "    }\n",
       "\n",
       "    .dataframe tbody tr th {\n",
       "        vertical-align: top;\n",
       "    }\n",
       "\n",
       "    .dataframe thead th {\n",
       "        text-align: right;\n",
       "    }\n",
       "</style>\n",
       "<table border=\"1\" class=\"dataframe\">\n",
       "  <thead>\n",
       "    <tr style=\"text-align: right;\">\n",
       "      <th></th>\n",
       "      <th>Open</th>\n",
       "      <th>High</th>\n",
       "      <th>Low</th>\n",
       "      <th>Close</th>\n",
       "      <th>Volume</th>\n",
       "    </tr>\n",
       "  </thead>\n",
       "  <tbody>\n",
       "    <tr>\n",
       "      <th>Open</th>\n",
       "      <td>1.000000</td>\n",
       "      <td>0.999976</td>\n",
       "      <td>0.999966</td>\n",
       "      <td>0.999946</td>\n",
       "      <td>0.840898</td>\n",
       "    </tr>\n",
       "    <tr>\n",
       "      <th>High</th>\n",
       "      <td>0.999976</td>\n",
       "      <td>1.000000</td>\n",
       "      <td>0.999951</td>\n",
       "      <td>0.999970</td>\n",
       "      <td>0.841830</td>\n",
       "    </tr>\n",
       "    <tr>\n",
       "      <th>Low</th>\n",
       "      <td>0.999966</td>\n",
       "      <td>0.999951</td>\n",
       "      <td>1.000000</td>\n",
       "      <td>0.999972</td>\n",
       "      <td>0.839395</td>\n",
       "    </tr>\n",
       "    <tr>\n",
       "      <th>Close</th>\n",
       "      <td>0.999946</td>\n",
       "      <td>0.999970</td>\n",
       "      <td>0.999972</td>\n",
       "      <td>1.000000</td>\n",
       "      <td>0.840508</td>\n",
       "    </tr>\n",
       "    <tr>\n",
       "      <th>Volume</th>\n",
       "      <td>0.840898</td>\n",
       "      <td>0.841830</td>\n",
       "      <td>0.839395</td>\n",
       "      <td>0.840508</td>\n",
       "      <td>1.000000</td>\n",
       "    </tr>\n",
       "  </tbody>\n",
       "</table>\n",
       "</div>"
      ],
      "text/plain": [
       "            Open      High       Low     Close    Volume\n",
       "Open    1.000000  0.999976  0.999966  0.999946  0.840898\n",
       "High    0.999976  1.000000  0.999951  0.999970  0.841830\n",
       "Low     0.999966  0.999951  1.000000  0.999972  0.839395\n",
       "Close   0.999946  0.999970  0.999972  1.000000  0.840508\n",
       "Volume  0.840898  0.841830  0.839395  0.840508  1.000000"
      ]
     },
     "execution_count": 70,
     "metadata": {},
     "output_type": "execute_result"
    }
   ],
   "source": [
    "DowJones.corr(method='pearson')"
   ]
  },
  {
   "cell_type": "code",
   "execution_count": 72,
   "id": "decdb5d4",
   "metadata": {},
   "outputs": [
    {
     "data": {
      "text/html": [
       "<style  type=\"text/css\" >\n",
       "#T_d3fcb_row0_col0,#T_d3fcb_row0_col1,#T_d3fcb_row0_col2,#T_d3fcb_row0_col3,#T_d3fcb_row1_col0,#T_d3fcb_row1_col1,#T_d3fcb_row1_col2,#T_d3fcb_row1_col3,#T_d3fcb_row2_col0,#T_d3fcb_row2_col1,#T_d3fcb_row2_col2,#T_d3fcb_row2_col3,#T_d3fcb_row3_col0,#T_d3fcb_row3_col1,#T_d3fcb_row3_col2,#T_d3fcb_row3_col3,#T_d3fcb_row4_col4{\n",
       "            background-color:  #b40426;\n",
       "            color:  #f1f1f1;\n",
       "        }#T_d3fcb_row0_col4,#T_d3fcb_row1_col4,#T_d3fcb_row2_col4,#T_d3fcb_row3_col4,#T_d3fcb_row4_col2{\n",
       "            background-color:  #3b4cc0;\n",
       "            color:  #f1f1f1;\n",
       "        }#T_d3fcb_row4_col0{\n",
       "            background-color:  #3d50c3;\n",
       "            color:  #f1f1f1;\n",
       "        }#T_d3fcb_row4_col1{\n",
       "            background-color:  #3e51c5;\n",
       "            color:  #f1f1f1;\n",
       "        }#T_d3fcb_row4_col3{\n",
       "            background-color:  #3c4ec2;\n",
       "            color:  #f1f1f1;\n",
       "        }</style><table id=\"T_d3fcb_\" ><thead>    <tr>        <th class=\"blank level0\" ></th>        <th class=\"col_heading level0 col0\" >Open</th>        <th class=\"col_heading level0 col1\" >High</th>        <th class=\"col_heading level0 col2\" >Low</th>        <th class=\"col_heading level0 col3\" >Close</th>        <th class=\"col_heading level0 col4\" >Volume</th>    </tr></thead><tbody>\n",
       "                <tr>\n",
       "                        <th id=\"T_d3fcb_level0_row0\" class=\"row_heading level0 row0\" >Open</th>\n",
       "                        <td id=\"T_d3fcb_row0_col0\" class=\"data row0 col0\" >1.0</td>\n",
       "                        <td id=\"T_d3fcb_row0_col1\" class=\"data row0 col1\" >1.0</td>\n",
       "                        <td id=\"T_d3fcb_row0_col2\" class=\"data row0 col2\" >1.0</td>\n",
       "                        <td id=\"T_d3fcb_row0_col3\" class=\"data row0 col3\" >1.0</td>\n",
       "                        <td id=\"T_d3fcb_row0_col4\" class=\"data row0 col4\" >0.84</td>\n",
       "            </tr>\n",
       "            <tr>\n",
       "                        <th id=\"T_d3fcb_level0_row1\" class=\"row_heading level0 row1\" >High</th>\n",
       "                        <td id=\"T_d3fcb_row1_col0\" class=\"data row1 col0\" >1.0</td>\n",
       "                        <td id=\"T_d3fcb_row1_col1\" class=\"data row1 col1\" >1.0</td>\n",
       "                        <td id=\"T_d3fcb_row1_col2\" class=\"data row1 col2\" >1.0</td>\n",
       "                        <td id=\"T_d3fcb_row1_col3\" class=\"data row1 col3\" >1.0</td>\n",
       "                        <td id=\"T_d3fcb_row1_col4\" class=\"data row1 col4\" >0.84</td>\n",
       "            </tr>\n",
       "            <tr>\n",
       "                        <th id=\"T_d3fcb_level0_row2\" class=\"row_heading level0 row2\" >Low</th>\n",
       "                        <td id=\"T_d3fcb_row2_col0\" class=\"data row2 col0\" >1.0</td>\n",
       "                        <td id=\"T_d3fcb_row2_col1\" class=\"data row2 col1\" >1.0</td>\n",
       "                        <td id=\"T_d3fcb_row2_col2\" class=\"data row2 col2\" >1.0</td>\n",
       "                        <td id=\"T_d3fcb_row2_col3\" class=\"data row2 col3\" >1.0</td>\n",
       "                        <td id=\"T_d3fcb_row2_col4\" class=\"data row2 col4\" >0.84</td>\n",
       "            </tr>\n",
       "            <tr>\n",
       "                        <th id=\"T_d3fcb_level0_row3\" class=\"row_heading level0 row3\" >Close</th>\n",
       "                        <td id=\"T_d3fcb_row3_col0\" class=\"data row3 col0\" >1.0</td>\n",
       "                        <td id=\"T_d3fcb_row3_col1\" class=\"data row3 col1\" >1.0</td>\n",
       "                        <td id=\"T_d3fcb_row3_col2\" class=\"data row3 col2\" >1.0</td>\n",
       "                        <td id=\"T_d3fcb_row3_col3\" class=\"data row3 col3\" >1.0</td>\n",
       "                        <td id=\"T_d3fcb_row3_col4\" class=\"data row3 col4\" >0.84</td>\n",
       "            </tr>\n",
       "            <tr>\n",
       "                        <th id=\"T_d3fcb_level0_row4\" class=\"row_heading level0 row4\" >Volume</th>\n",
       "                        <td id=\"T_d3fcb_row4_col0\" class=\"data row4 col0\" >0.84</td>\n",
       "                        <td id=\"T_d3fcb_row4_col1\" class=\"data row4 col1\" >0.84</td>\n",
       "                        <td id=\"T_d3fcb_row4_col2\" class=\"data row4 col2\" >0.84</td>\n",
       "                        <td id=\"T_d3fcb_row4_col3\" class=\"data row4 col3\" >0.84</td>\n",
       "                        <td id=\"T_d3fcb_row4_col4\" class=\"data row4 col4\" >1.0</td>\n",
       "            </tr>\n",
       "    </tbody></table>"
      ],
      "text/plain": [
       "<pandas.io.formats.style.Styler at 0x7f9ad9e65a90>"
      ]
     },
     "execution_count": 72,
     "metadata": {},
     "output_type": "execute_result"
    }
   ],
   "source": [
    "DowJones.corr(method='pearson').style.format(\"{:.2}\").background_gradient(cmap=plt.get_cmap('coolwarm'), axis=1)"
   ]
  },
  {
   "cell_type": "code",
   "execution_count": 73,
   "id": "ab81657a",
   "metadata": {},
   "outputs": [
    {
     "data": {
      "text/plain": [
       "<AxesSubplot:>"
      ]
     },
     "execution_count": 73,
     "metadata": {},
     "output_type": "execute_result"
    },
    {
     "data": {
      "image/png": "[encoded data removed]",
      "text/plain": [
       "<Figure size 432x288 with 2 Axes>"
      ]
     },
     "metadata": {
      "needs_background": "light"
     },
     "output_type": "display_data"
    }
   ],
   "source": [
    "sns.heatmap(DowJones.corr(), annot=True)"
   ]
  },
  {
   "cell_type": "markdown",
   "id": "aca6fcbf",
   "metadata": {},
   "source": [
    "There is a strong Correlation between the 'Open', i.e. Opening of the Market and the Markets 'High'. Which means whatever the Markets opening at. Can most likely be or become the Markets 'High'."
   ]
  },
  {
   "cell_type": "markdown",
   "id": "f4ff4c13",
   "metadata": {},
   "source": [
    "## Business Datasets - Closed/Opened  "
   ]
  },
  {
   "cell_type": "markdown",
   "id": "dae485e3",
   "metadata": {},
   "source": [
    "## Correlations of Bankrupt Small Businesses Dataset (1) [Trading Economics] "
   ]
  },
  {
   "cell_type": "markdown",
   "id": "2399401b",
   "metadata": {},
   "source": [
    "Correlations can be done on two continuous variables, to determine the relationship between them."
   ]
  },
  {
   "cell_type": "code",
   "execution_count": 23,
   "id": "fff9f94b",
   "metadata": {},
   "outputs": [],
   "source": [
    "Bankruptcies2 = pd.read_csv(\"/Users/darringtonhenderson/Documents/GitHub Final/WozUFinalProject/FinalProject/Data/BankruptciesFiledUSA.csv\")"
   ]
  },
  {
   "cell_type": "code",
   "execution_count": 24,
   "id": "96ff3f86",
   "metadata": {},
   "outputs": [
    {
     "data": {
      "text/html": [
       "<div>\n",
       "<style scoped>\n",
       "    .dataframe tbody tr th:only-of-type {\n",
       "        vertical-align: middle;\n",
       "    }\n",
       "\n",
       "    .dataframe tbody tr th {\n",
       "        vertical-align: top;\n",
       "    }\n",
       "\n",
       "    .dataframe thead th {\n",
       "        text-align: right;\n",
       "    }\n",
       "</style>\n",
       "<table border=\"1\" class=\"dataframe\">\n",
       "  <thead>\n",
       "    <tr style=\"text-align: right;\">\n",
       "      <th></th>\n",
       "      <th>Years</th>\n",
       "      <th>Bankruptcies filed</th>\n",
       "    </tr>\n",
       "  </thead>\n",
       "  <tbody>\n",
       "    <tr>\n",
       "      <th>0</th>\n",
       "      <td>2010</td>\n",
       "      <td>1596355</td>\n",
       "    </tr>\n",
       "    <tr>\n",
       "      <th>1</th>\n",
       "      <td>2011</td>\n",
       "      <td>1467221</td>\n",
       "    </tr>\n",
       "    <tr>\n",
       "      <th>2</th>\n",
       "      <td>2012</td>\n",
       "      <td>1261140</td>\n",
       "    </tr>\n",
       "    <tr>\n",
       "      <th>3</th>\n",
       "      <td>2013</td>\n",
       "      <td>1107699</td>\n",
       "    </tr>\n",
       "    <tr>\n",
       "      <th>4</th>\n",
       "      <td>2014</td>\n",
       "      <td>963739</td>\n",
       "    </tr>\n",
       "  </tbody>\n",
       "</table>\n",
       "</div>"
      ],
      "text/plain": [
       "   Years  Bankruptcies filed\n",
       "0   2010             1596355\n",
       "1   2011             1467221\n",
       "2   2012             1261140\n",
       "3   2013             1107699\n",
       "4   2014              963739"
      ]
     },
     "execution_count": 24,
     "metadata": {},
     "output_type": "execute_result"
    }
   ],
   "source": [
    "Bankruptcies2.head()"
   ]
  },
  {
   "cell_type": "code",
   "execution_count": 25,
   "id": "78196116",
   "metadata": {},
   "outputs": [
    {
     "data": {
      "text/html": [
       "<div>\n",
       "<style scoped>\n",
       "    .dataframe tbody tr th:only-of-type {\n",
       "        vertical-align: middle;\n",
       "    }\n",
       "\n",
       "    .dataframe tbody tr th {\n",
       "        vertical-align: top;\n",
       "    }\n",
       "\n",
       "    .dataframe thead th {\n",
       "        text-align: right;\n",
       "    }\n",
       "</style>\n",
       "<table border=\"1\" class=\"dataframe\">\n",
       "  <thead>\n",
       "    <tr style=\"text-align: right;\">\n",
       "      <th></th>\n",
       "      <th>Years</th>\n",
       "      <th>Bankruptcies filed</th>\n",
       "    </tr>\n",
       "  </thead>\n",
       "  <tbody>\n",
       "    <tr>\n",
       "      <th>6</th>\n",
       "      <td>2016</td>\n",
       "      <td>805580</td>\n",
       "    </tr>\n",
       "    <tr>\n",
       "      <th>7</th>\n",
       "      <td>2017</td>\n",
       "      <td>790830</td>\n",
       "    </tr>\n",
       "    <tr>\n",
       "      <th>8</th>\n",
       "      <td>2018</td>\n",
       "      <td>773375</td>\n",
       "    </tr>\n",
       "    <tr>\n",
       "      <th>9</th>\n",
       "      <td>2019</td>\n",
       "      <td>776674</td>\n",
       "    </tr>\n",
       "    <tr>\n",
       "      <th>10</th>\n",
       "      <td>2020</td>\n",
       "      <td>612561</td>\n",
       "    </tr>\n",
       "  </tbody>\n",
       "</table>\n",
       "</div>"
      ],
      "text/plain": [
       "    Years  Bankruptcies filed\n",
       "6    2016              805580\n",
       "7    2017              790830\n",
       "8    2018              773375\n",
       "9    2019              776674\n",
       "10   2020              612561"
      ]
     },
     "execution_count": 25,
     "metadata": {},
     "output_type": "execute_result"
    }
   ],
   "source": [
    "Bankruptcies2.tail()"
   ]
  },
  {
   "cell_type": "code",
   "execution_count": 28,
   "id": "61abb94c",
   "metadata": {},
   "outputs": [
    {
     "data": {
      "text/plain": [
       "-0.943877788977235"
      ]
     },
     "execution_count": 28,
     "metadata": {},
     "output_type": "execute_result"
    }
   ],
   "source": [
    "Bankruptcies2['Bankruptcies filed'].corr(Bankruptcies2['Years'])"
   ]
  },
  {
   "cell_type": "code",
   "execution_count": 74,
   "id": "5c514ac9",
   "metadata": {},
   "outputs": [
    {
     "data": {
      "text/html": [
       "<div>\n",
       "<style scoped>\n",
       "    .dataframe tbody tr th:only-of-type {\n",
       "        vertical-align: middle;\n",
       "    }\n",
       "\n",
       "    .dataframe tbody tr th {\n",
       "        vertical-align: top;\n",
       "    }\n",
       "\n",
       "    .dataframe thead th {\n",
       "        text-align: right;\n",
       "    }\n",
       "</style>\n",
       "<table border=\"1\" class=\"dataframe\">\n",
       "  <thead>\n",
       "    <tr style=\"text-align: right;\">\n",
       "      <th></th>\n",
       "      <th>Years</th>\n",
       "      <th>Bankruptcies filed</th>\n",
       "    </tr>\n",
       "  </thead>\n",
       "  <tbody>\n",
       "    <tr>\n",
       "      <th>Years</th>\n",
       "      <td>1.000000</td>\n",
       "      <td>-0.943878</td>\n",
       "    </tr>\n",
       "    <tr>\n",
       "      <th>Bankruptcies filed</th>\n",
       "      <td>-0.943878</td>\n",
       "      <td>1.000000</td>\n",
       "    </tr>\n",
       "  </tbody>\n",
       "</table>\n",
       "</div>"
      ],
      "text/plain": [
       "                       Years  Bankruptcies filed\n",
       "Years               1.000000           -0.943878\n",
       "Bankruptcies filed -0.943878            1.000000"
      ]
     },
     "execution_count": 74,
     "metadata": {},
     "output_type": "execute_result"
    }
   ],
   "source": [
    "Bankruptcies2.corr(method='pearson')"
   ]
  },
  {
   "cell_type": "code",
   "execution_count": 75,
   "id": "d25a7b9d",
   "metadata": {},
   "outputs": [
    {
     "data": {
      "text/html": [
       "<style  type=\"text/css\" >\n",
       "#T_29be4_row0_col0,#T_29be4_row1_col1{\n",
       "            background-color:  #b40426;\n",
       "            color:  #f1f1f1;\n",
       "        }#T_29be4_row0_col1,#T_29be4_row1_col0{\n",
       "            background-color:  #3b4cc0;\n",
       "            color:  #f1f1f1;\n",
       "        }</style><table id=\"T_29be4_\" ><thead>    <tr>        <th class=\"blank level0\" ></th>        <th class=\"col_heading level0 col0\" >Years</th>        <th class=\"col_heading level0 col1\" >Bankruptcies filed</th>    </tr></thead><tbody>\n",
       "                <tr>\n",
       "                        <th id=\"T_29be4_level0_row0\" class=\"row_heading level0 row0\" >Years</th>\n",
       "                        <td id=\"T_29be4_row0_col0\" class=\"data row0 col0\" >1.0</td>\n",
       "                        <td id=\"T_29be4_row0_col1\" class=\"data row0 col1\" >-0.94</td>\n",
       "            </tr>\n",
       "            <tr>\n",
       "                        <th id=\"T_29be4_level0_row1\" class=\"row_heading level0 row1\" >Bankruptcies filed</th>\n",
       "                        <td id=\"T_29be4_row1_col0\" class=\"data row1 col0\" >-0.94</td>\n",
       "                        <td id=\"T_29be4_row1_col1\" class=\"data row1 col1\" >1.0</td>\n",
       "            </tr>\n",
       "    </tbody></table>"
      ],
      "text/plain": [
       "<pandas.io.formats.style.Styler at 0x7f9ada2aba30>"
      ]
     },
     "execution_count": 75,
     "metadata": {},
     "output_type": "execute_result"
    }
   ],
   "source": [
    "Bankruptcies2.corr(method='pearson').style.format(\"{:.2}\").background_gradient(cmap=plt.get_cmap('coolwarm'), axis=1)"
   ]
  },
  {
   "cell_type": "code",
   "execution_count": 76,
   "id": "000790ee",
   "metadata": {},
   "outputs": [
    {
     "data": {
      "text/plain": [
       "<AxesSubplot:>"
      ]
     },
     "execution_count": 76,
     "metadata": {},
     "output_type": "execute_result"
    },
    {
     "data": {
      "image/png": "[encoded data removed]",
      "text/plain": [
       "<Figure size 432x288 with 2 Axes>"
      ]
     },
     "metadata": {
      "needs_background": "light"
     },
     "output_type": "display_data"
    }
   ],
   "source": [
    "sns.heatmap(Bankruptcies2.corr(), annot=True)"
   ]
  },
  {
   "cell_type": "markdown",
   "id": "cb536250",
   "metadata": {},
   "source": [
    "Seeing that the correlation number is negative shows - proves that there is no correlation between Bankruptcies and the Year filed and or the number of Bankruptcies filed in a year. "
   ]
  },
  {
   "cell_type": "markdown",
   "id": "ce200aa7",
   "metadata": {},
   "source": [
    "## Correlations of Opened Small Businesses (A Yr Old) Dataset [USA Facts] "
   ]
  },
  {
   "cell_type": "code",
   "execution_count": 29,
   "id": "999be050",
   "metadata": {},
   "outputs": [],
   "source": [
    "NewBusinesses1 = pd.read_csv(\"/Users/darringtonhenderson/Documents/GitHub Final/WozUFinalProject/FinalProject/Data/BusinessesAYearOldUSA.csv\")"
   ]
  },
  {
   "cell_type": "code",
   "execution_count": 30,
   "id": "2696e874",
   "metadata": {},
   "outputs": [
    {
     "data": {
      "text/html": [
       "<div>\n",
       "<style scoped>\n",
       "    .dataframe tbody tr th:only-of-type {\n",
       "        vertical-align: middle;\n",
       "    }\n",
       "\n",
       "    .dataframe tbody tr th {\n",
       "        vertical-align: top;\n",
       "    }\n",
       "\n",
       "    .dataframe thead th {\n",
       "        text-align: right;\n",
       "    }\n",
       "</style>\n",
       "<table border=\"1\" class=\"dataframe\">\n",
       "  <thead>\n",
       "    <tr style=\"text-align: right;\">\n",
       "      <th></th>\n",
       "      <th>Years</th>\n",
       "      <th>Businesses less than a year old</th>\n",
       "    </tr>\n",
       "  </thead>\n",
       "  <tbody>\n",
       "    <tr>\n",
       "      <th>0</th>\n",
       "      <td>2010</td>\n",
       "      <td>560588</td>\n",
       "    </tr>\n",
       "    <tr>\n",
       "      <th>1</th>\n",
       "      <td>2011</td>\n",
       "      <td>582569</td>\n",
       "    </tr>\n",
       "    <tr>\n",
       "      <th>2</th>\n",
       "      <td>2012</td>\n",
       "      <td>631817</td>\n",
       "    </tr>\n",
       "    <tr>\n",
       "      <th>3</th>\n",
       "      <td>2013</td>\n",
       "      <td>629078</td>\n",
       "    </tr>\n",
       "    <tr>\n",
       "      <th>4</th>\n",
       "      <td>2014</td>\n",
       "      <td>652780</td>\n",
       "    </tr>\n",
       "  </tbody>\n",
       "</table>\n",
       "</div>"
      ],
      "text/plain": [
       "   Years  Businesses less than a year old\n",
       "0   2010                           560588\n",
       "1   2011                           582569\n",
       "2   2012                           631817\n",
       "3   2013                           629078\n",
       "4   2014                           652780"
      ]
     },
     "execution_count": 30,
     "metadata": {},
     "output_type": "execute_result"
    }
   ],
   "source": [
    "NewBusinesses1.head()"
   ]
  },
  {
   "cell_type": "code",
   "execution_count": 31,
   "id": "a0f6e761",
   "metadata": {},
   "outputs": [
    {
     "data": {
      "text/html": [
       "<div>\n",
       "<style scoped>\n",
       "    .dataframe tbody tr th:only-of-type {\n",
       "        vertical-align: middle;\n",
       "    }\n",
       "\n",
       "    .dataframe tbody tr th {\n",
       "        vertical-align: top;\n",
       "    }\n",
       "\n",
       "    .dataframe thead th {\n",
       "        text-align: right;\n",
       "    }\n",
       "</style>\n",
       "<table border=\"1\" class=\"dataframe\">\n",
       "  <thead>\n",
       "    <tr style=\"text-align: right;\">\n",
       "      <th></th>\n",
       "      <th>Years</th>\n",
       "      <th>Businesses less than a year old</th>\n",
       "    </tr>\n",
       "  </thead>\n",
       "  <tbody>\n",
       "    <tr>\n",
       "      <th>7</th>\n",
       "      <td>2017</td>\n",
       "      <td>733490</td>\n",
       "    </tr>\n",
       "    <tr>\n",
       "      <th>8</th>\n",
       "      <td>2018</td>\n",
       "      <td>733825</td>\n",
       "    </tr>\n",
       "    <tr>\n",
       "      <th>9</th>\n",
       "      <td>2019</td>\n",
       "      <td>770609</td>\n",
       "    </tr>\n",
       "    <tr>\n",
       "      <th>10</th>\n",
       "      <td>2020</td>\n",
       "      <td>804641</td>\n",
       "    </tr>\n",
       "    <tr>\n",
       "      <th>11</th>\n",
       "      <td>2021</td>\n",
       "      <td>843320</td>\n",
       "    </tr>\n",
       "  </tbody>\n",
       "</table>\n",
       "</div>"
      ],
      "text/plain": [
       "    Years  Businesses less than a year old\n",
       "7    2017                           733490\n",
       "8    2018                           733825\n",
       "9    2019                           770609\n",
       "10   2020                           804641\n",
       "11   2021                           843320"
      ]
     },
     "execution_count": 31,
     "metadata": {},
     "output_type": "execute_result"
    }
   ],
   "source": [
    "NewBusinesses1.tail()"
   ]
  },
  {
   "cell_type": "code",
   "execution_count": 32,
   "id": "fd8767b9",
   "metadata": {},
   "outputs": [
    {
     "data": {
      "text/plain": [
       "0.9859828162244326"
      ]
     },
     "execution_count": 32,
     "metadata": {},
     "output_type": "execute_result"
    }
   ],
   "source": [
    "NewBusinesses1['Businesses less than a year old'].corr(Bankruptcies2['Years'])"
   ]
  },
  {
   "cell_type": "code",
   "execution_count": 77,
   "id": "8741bd1f",
   "metadata": {},
   "outputs": [
    {
     "data": {
      "text/html": [
       "<div>\n",
       "<style scoped>\n",
       "    .dataframe tbody tr th:only-of-type {\n",
       "        vertical-align: middle;\n",
       "    }\n",
       "\n",
       "    .dataframe tbody tr th {\n",
       "        vertical-align: top;\n",
       "    }\n",
       "\n",
       "    .dataframe thead th {\n",
       "        text-align: right;\n",
       "    }\n",
       "</style>\n",
       "<table border=\"1\" class=\"dataframe\">\n",
       "  <thead>\n",
       "    <tr style=\"text-align: right;\">\n",
       "      <th></th>\n",
       "      <th>Years</th>\n",
       "      <th>Businesses less than a year old</th>\n",
       "    </tr>\n",
       "  </thead>\n",
       "  <tbody>\n",
       "    <tr>\n",
       "      <th>Years</th>\n",
       "      <td>1.000000</td>\n",
       "      <td>0.988131</td>\n",
       "    </tr>\n",
       "    <tr>\n",
       "      <th>Businesses less than a year old</th>\n",
       "      <td>0.988131</td>\n",
       "      <td>1.000000</td>\n",
       "    </tr>\n",
       "  </tbody>\n",
       "</table>\n",
       "</div>"
      ],
      "text/plain": [
       "                                    Years  Businesses less than a year old\n",
       "Years                            1.000000                         0.988131\n",
       "Businesses less than a year old  0.988131                         1.000000"
      ]
     },
     "execution_count": 77,
     "metadata": {},
     "output_type": "execute_result"
    }
   ],
   "source": [
    "NewBusinesses1.corr(method='pearson')"
   ]
  },
  {
   "cell_type": "code",
   "execution_count": 78,
   "id": "5bc6f62d",
   "metadata": {},
   "outputs": [
    {
     "data": {
      "text/html": [
       "<style  type=\"text/css\" >\n",
       "#T_9c1f7_row0_col0,#T_9c1f7_row1_col1{\n",
       "            background-color:  #b40426;\n",
       "            color:  #f1f1f1;\n",
       "        }#T_9c1f7_row0_col1,#T_9c1f7_row1_col0{\n",
       "            background-color:  #3b4cc0;\n",
       "            color:  #f1f1f1;\n",
       "        }</style><table id=\"T_9c1f7_\" ><thead>    <tr>        <th class=\"blank level0\" ></th>        <th class=\"col_heading level0 col0\" >Years</th>        <th class=\"col_heading level0 col1\" >Businesses less than a year old</th>    </tr></thead><tbody>\n",
       "                <tr>\n",
       "                        <th id=\"T_9c1f7_level0_row0\" class=\"row_heading level0 row0\" >Years</th>\n",
       "                        <td id=\"T_9c1f7_row0_col0\" class=\"data row0 col0\" >1.0</td>\n",
       "                        <td id=\"T_9c1f7_row0_col1\" class=\"data row0 col1\" >0.99</td>\n",
       "            </tr>\n",
       "            <tr>\n",
       "                        <th id=\"T_9c1f7_level0_row1\" class=\"row_heading level0 row1\" >Businesses less than a year old</th>\n",
       "                        <td id=\"T_9c1f7_row1_col0\" class=\"data row1 col0\" >0.99</td>\n",
       "                        <td id=\"T_9c1f7_row1_col1\" class=\"data row1 col1\" >1.0</td>\n",
       "            </tr>\n",
       "    </tbody></table>"
      ],
      "text/plain": [
       "<pandas.io.formats.style.Styler at 0x7f9ada6c0e80>"
      ]
     },
     "execution_count": 78,
     "metadata": {},
     "output_type": "execute_result"
    }
   ],
   "source": [
    "NewBusinesses1.corr(method='pearson').style.format(\"{:.2}\").background_gradient(cmap=plt.get_cmap('coolwarm'), axis=1)"
   ]
  },
  {
   "cell_type": "code",
   "execution_count": 79,
   "id": "093917fc",
   "metadata": {},
   "outputs": [
    {
     "data": {
      "text/plain": [
       "<AxesSubplot:>"
      ]
     },
     "execution_count": 79,
     "metadata": {},
     "output_type": "execute_result"
    },
    {
     "data": {
      "image/png": "[encoded data removed]",
      "text/plain": [
       "<Figure size 432x288 with 2 Axes>"
      ]
     },
     "metadata": {
      "needs_background": "light"
     },
     "output_type": "display_data"
    }
   ],
   "source": [
    "sns.heatmap(NewBusinesses1.corr(), annot=True)"
   ]
  },
  {
   "cell_type": "markdown",
   "id": "93aa0a26",
   "metadata": {},
   "source": [
    "There does show a strong correlation between the Years and the number of new businesses opening based on the correlation number. Which means that during specific years there was an increase of Businesses that started versus other years. "
   ]
  },
  {
   "cell_type": "markdown",
   "id": "ae9e981e",
   "metadata": {},
   "source": [
    "## Unemployment/Employment"
   ]
  },
  {
   "cell_type": "markdown",
   "id": "6008977b",
   "metadata": {},
   "source": [
    "## Correlations of Layoffs from Businesses Downsizing Dataset"
   ]
  },
  {
   "cell_type": "code",
   "execution_count": 46,
   "id": "7e31892c",
   "metadata": {},
   "outputs": [],
   "source": [
    "Layoffs = pd.read_csv(\"/Users/darringtonhenderson/Documents/GitHub Final/WozUFinalProject/FinalProject/Data/BusinessesLosingJobsUSA.csv\")"
   ]
  },
  {
   "cell_type": "code",
   "execution_count": 47,
   "id": "bff17e12",
   "metadata": {},
   "outputs": [
    {
     "data": {
      "text/html": [
       "<div>\n",
       "<style scoped>\n",
       "    .dataframe tbody tr th:only-of-type {\n",
       "        vertical-align: middle;\n",
       "    }\n",
       "\n",
       "    .dataframe tbody tr th {\n",
       "        vertical-align: top;\n",
       "    }\n",
       "\n",
       "    .dataframe thead th {\n",
       "        text-align: right;\n",
       "    }\n",
       "</style>\n",
       "<table border=\"1\" class=\"dataframe\">\n",
       "  <thead>\n",
       "    <tr style=\"text-align: right;\">\n",
       "      <th></th>\n",
       "      <th>Years</th>\n",
       "      <th>Businesses losing jobs</th>\n",
       "    </tr>\n",
       "  </thead>\n",
       "  <tbody>\n",
       "    <tr>\n",
       "      <th>0</th>\n",
       "      <td>2010</td>\n",
       "      <td>2824000</td>\n",
       "    </tr>\n",
       "    <tr>\n",
       "      <th>1</th>\n",
       "      <td>2011</td>\n",
       "      <td>2464000</td>\n",
       "    </tr>\n",
       "    <tr>\n",
       "      <th>2</th>\n",
       "      <td>2012</td>\n",
       "      <td>2397000</td>\n",
       "    </tr>\n",
       "    <tr>\n",
       "      <th>3</th>\n",
       "      <td>2013</td>\n",
       "      <td>2427000</td>\n",
       "    </tr>\n",
       "    <tr>\n",
       "      <th>4</th>\n",
       "      <td>2014</td>\n",
       "      <td>2451000</td>\n",
       "    </tr>\n",
       "  </tbody>\n",
       "</table>\n",
       "</div>"
      ],
      "text/plain": [
       "   Years  Businesses losing jobs\n",
       "0   2010                 2824000\n",
       "1   2011                 2464000\n",
       "2   2012                 2397000\n",
       "3   2013                 2427000\n",
       "4   2014                 2451000"
      ]
     },
     "execution_count": 47,
     "metadata": {},
     "output_type": "execute_result"
    }
   ],
   "source": [
    "Layoffs.head()"
   ]
  },
  {
   "cell_type": "code",
   "execution_count": 48,
   "id": "0de14579",
   "metadata": {},
   "outputs": [
    {
     "data": {
      "text/html": [
       "<div>\n",
       "<style scoped>\n",
       "    .dataframe tbody tr th:only-of-type {\n",
       "        vertical-align: middle;\n",
       "    }\n",
       "\n",
       "    .dataframe tbody tr th {\n",
       "        vertical-align: top;\n",
       "    }\n",
       "\n",
       "    .dataframe thead th {\n",
       "        text-align: right;\n",
       "    }\n",
       "</style>\n",
       "<table border=\"1\" class=\"dataframe\">\n",
       "  <thead>\n",
       "    <tr style=\"text-align: right;\">\n",
       "      <th></th>\n",
       "      <th>Years</th>\n",
       "      <th>Businesses losing jobs</th>\n",
       "    </tr>\n",
       "  </thead>\n",
       "  <tbody>\n",
       "    <tr>\n",
       "      <th>6</th>\n",
       "      <td>2016</td>\n",
       "      <td>2534000</td>\n",
       "    </tr>\n",
       "    <tr>\n",
       "      <th>7</th>\n",
       "      <td>2017</td>\n",
       "      <td>2661000</td>\n",
       "    </tr>\n",
       "    <tr>\n",
       "      <th>8</th>\n",
       "      <td>2018</td>\n",
       "      <td>2701000</td>\n",
       "    </tr>\n",
       "    <tr>\n",
       "      <th>9</th>\n",
       "      <td>2019</td>\n",
       "      <td>2754000</td>\n",
       "    </tr>\n",
       "    <tr>\n",
       "      <th>10</th>\n",
       "      <td>2020</td>\n",
       "      <td>2950000</td>\n",
       "    </tr>\n",
       "  </tbody>\n",
       "</table>\n",
       "</div>"
      ],
      "text/plain": [
       "    Years  Businesses losing jobs\n",
       "6    2016                 2534000\n",
       "7    2017                 2661000\n",
       "8    2018                 2701000\n",
       "9    2019                 2754000\n",
       "10   2020                 2950000"
      ]
     },
     "execution_count": 48,
     "metadata": {},
     "output_type": "execute_result"
    }
   ],
   "source": [
    "Layoffs.tail()"
   ]
  },
  {
   "cell_type": "code",
   "execution_count": 51,
   "id": "b58cec2a",
   "metadata": {},
   "outputs": [
    {
     "data": {
      "text/plain": [
       "0.5332180762086912"
      ]
     },
     "execution_count": 51,
     "metadata": {},
     "output_type": "execute_result"
    }
   ],
   "source": [
    "Layoffs['Businesses losing jobs'].corr(Layoffs['Years'])"
   ]
  },
  {
   "cell_type": "code",
   "execution_count": 80,
   "id": "f3541bbc",
   "metadata": {},
   "outputs": [
    {
     "data": {
      "text/html": [
       "<div>\n",
       "<style scoped>\n",
       "    .dataframe tbody tr th:only-of-type {\n",
       "        vertical-align: middle;\n",
       "    }\n",
       "\n",
       "    .dataframe tbody tr th {\n",
       "        vertical-align: top;\n",
       "    }\n",
       "\n",
       "    .dataframe thead th {\n",
       "        text-align: right;\n",
       "    }\n",
       "</style>\n",
       "<table border=\"1\" class=\"dataframe\">\n",
       "  <thead>\n",
       "    <tr style=\"text-align: right;\">\n",
       "      <th></th>\n",
       "      <th>Years</th>\n",
       "      <th>Businesses losing jobs</th>\n",
       "    </tr>\n",
       "  </thead>\n",
       "  <tbody>\n",
       "    <tr>\n",
       "      <th>Years</th>\n",
       "      <td>1.000000</td>\n",
       "      <td>0.533218</td>\n",
       "    </tr>\n",
       "    <tr>\n",
       "      <th>Businesses losing jobs</th>\n",
       "      <td>0.533218</td>\n",
       "      <td>1.000000</td>\n",
       "    </tr>\n",
       "  </tbody>\n",
       "</table>\n",
       "</div>"
      ],
      "text/plain": [
       "                           Years  Businesses losing jobs\n",
       "Years                   1.000000                0.533218\n",
       "Businesses losing jobs  0.533218                1.000000"
      ]
     },
     "execution_count": 80,
     "metadata": {},
     "output_type": "execute_result"
    }
   ],
   "source": [
    "Layoffs.corr(method='pearson')"
   ]
  },
  {
   "cell_type": "code",
   "execution_count": 81,
   "id": "d7f885f7",
   "metadata": {},
   "outputs": [
    {
     "data": {
      "text/html": [
       "<style  type=\"text/css\" >\n",
       "#T_b6ebf_row0_col0,#T_b6ebf_row1_col1{\n",
       "            background-color:  #b40426;\n",
       "            color:  #f1f1f1;\n",
       "        }#T_b6ebf_row0_col1,#T_b6ebf_row1_col0{\n",
       "            background-color:  #3b4cc0;\n",
       "            color:  #f1f1f1;\n",
       "        }</style><table id=\"T_b6ebf_\" ><thead>    <tr>        <th class=\"blank level0\" ></th>        <th class=\"col_heading level0 col0\" >Years</th>        <th class=\"col_heading level0 col1\" >Businesses losing jobs</th>    </tr></thead><tbody>\n",
       "                <tr>\n",
       "                        <th id=\"T_b6ebf_level0_row0\" class=\"row_heading level0 row0\" >Years</th>\n",
       "                        <td id=\"T_b6ebf_row0_col0\" class=\"data row0 col0\" >1.0</td>\n",
       "                        <td id=\"T_b6ebf_row0_col1\" class=\"data row0 col1\" >0.53</td>\n",
       "            </tr>\n",
       "            <tr>\n",
       "                        <th id=\"T_b6ebf_level0_row1\" class=\"row_heading level0 row1\" >Businesses losing jobs</th>\n",
       "                        <td id=\"T_b6ebf_row1_col0\" class=\"data row1 col0\" >0.53</td>\n",
       "                        <td id=\"T_b6ebf_row1_col1\" class=\"data row1 col1\" >1.0</td>\n",
       "            </tr>\n",
       "    </tbody></table>"
      ],
      "text/plain": [
       "<pandas.io.formats.style.Styler at 0x7f9ada7dbb80>"
      ]
     },
     "execution_count": 81,
     "metadata": {},
     "output_type": "execute_result"
    }
   ],
   "source": [
    "Layoffs.corr(method='pearson').style.format(\"{:.2}\").background_gradient(cmap=plt.get_cmap('coolwarm'), axis=1)"
   ]
  },
  {
   "cell_type": "code",
   "execution_count": 83,
   "id": "fb571562",
   "metadata": {},
   "outputs": [
    {
     "data": {
      "text/plain": [
       "<AxesSubplot:>"
      ]
     },
     "execution_count": 83,
     "metadata": {},
     "output_type": "execute_result"
    },
    {
     "data": {
      "image/png": "[encoded data removed]",
      "text/plain": [
       "<Figure size 432x288 with 2 Axes>"
      ]
     },
     "metadata": {
      "needs_background": "light"
     },
     "output_type": "display_data"
    }
   ],
   "source": [
    "sns.heatmap(Layoffs.corr(), annot=True)"
   ]
  },
  {
   "cell_type": "markdown",
   "id": "a8d5580e",
   "metadata": {},
   "source": [
    "As shown in the correlation number there is not really that strong of a correlation between the Years and Businesses losing jobs, i.e. Layoffs. This can just be reflective example of continous market cycles, and how when the Market is up there are lots of jobs versus when the Market is down there is not as many jobs, plus there are also layoffs."
   ]
  },
  {
   "cell_type": "markdown",
   "id": "ce48b8d3",
   "metadata": {},
   "source": [
    "## COVID Cases/Deaths "
   ]
  },
  {
   "cell_type": "markdown",
   "id": "5b3c07b4",
   "metadata": {},
   "source": [
    "## COVID Cases & Deaths CDC Dataset"
   ]
  },
  {
   "cell_type": "code",
   "execution_count": 57,
   "id": "b83cfb79",
   "metadata": {},
   "outputs": [],
   "source": [
    "covid = pd.read_csv(\"/Users/darringtonhenderson/Documents/GitHub Final/WozUFinalProject/FinalProject/Data/United_States_COVID-19_Cases_and_Deaths_by_State_over_Time.csv\")"
   ]
  },
  {
   "cell_type": "code",
   "execution_count": 58,
   "id": "d55d7885",
   "metadata": {},
   "outputs": [
    {
     "data": {
      "text/html": [
       "<div>\n",
       "<style scoped>\n",
       "    .dataframe tbody tr th:only-of-type {\n",
       "        vertical-align: middle;\n",
       "    }\n",
       "\n",
       "    .dataframe tbody tr th {\n",
       "        vertical-align: top;\n",
       "    }\n",
       "\n",
       "    .dataframe thead th {\n",
       "        text-align: right;\n",
       "    }\n",
       "</style>\n",
       "<table border=\"1\" class=\"dataframe\">\n",
       "  <thead>\n",
       "    <tr style=\"text-align: right;\">\n",
       "      <th></th>\n",
       "      <th>submission_date</th>\n",
       "      <th>state</th>\n",
       "      <th>tot_cases</th>\n",
       "      <th>conf_cases</th>\n",
       "      <th>prob_cases</th>\n",
       "      <th>new_case</th>\n",
       "      <th>pnew_case</th>\n",
       "      <th>tot_death</th>\n",
       "      <th>conf_death</th>\n",
       "      <th>prob_death</th>\n",
       "      <th>new_death</th>\n",
       "      <th>pnew_death</th>\n",
       "      <th>created_at</th>\n",
       "      <th>consent_cases</th>\n",
       "      <th>consent_deaths</th>\n",
       "    </tr>\n",
       "  </thead>\n",
       "  <tbody>\n",
       "    <tr>\n",
       "      <th>0</th>\n",
       "      <td>03/18/2021</td>\n",
       "      <td>NE</td>\n",
       "      <td>206980</td>\n",
       "      <td>NaN</td>\n",
       "      <td>NaN</td>\n",
       "      <td>298</td>\n",
       "      <td>0.0</td>\n",
       "      <td>2130</td>\n",
       "      <td>NaN</td>\n",
       "      <td>NaN</td>\n",
       "      <td>1</td>\n",
       "      <td>0.0</td>\n",
       "      <td>03/20/2021 12:00:00 AM</td>\n",
       "      <td>Not agree</td>\n",
       "      <td>Not agree</td>\n",
       "    </tr>\n",
       "    <tr>\n",
       "      <th>1</th>\n",
       "      <td>09/01/2021</td>\n",
       "      <td>ND</td>\n",
       "      <td>118491</td>\n",
       "      <td>107475.0</td>\n",
       "      <td>11016.0</td>\n",
       "      <td>536</td>\n",
       "      <td>66.0</td>\n",
       "      <td>1562</td>\n",
       "      <td>NaN</td>\n",
       "      <td>NaN</td>\n",
       "      <td>1</td>\n",
       "      <td>0.0</td>\n",
       "      <td>09/02/2021 01:49:05 PM</td>\n",
       "      <td>Agree</td>\n",
       "      <td>Not agree</td>\n",
       "    </tr>\n",
       "    <tr>\n",
       "      <th>2</th>\n",
       "      <td>10/04/2020</td>\n",
       "      <td>MD</td>\n",
       "      <td>127290</td>\n",
       "      <td>NaN</td>\n",
       "      <td>NaN</td>\n",
       "      <td>471</td>\n",
       "      <td>0.0</td>\n",
       "      <td>4092</td>\n",
       "      <td>3933.0</td>\n",
       "      <td>159.0</td>\n",
       "      <td>3</td>\n",
       "      <td>0.0</td>\n",
       "      <td>10/06/2020 12:00:00 AM</td>\n",
       "      <td>NaN</td>\n",
       "      <td>Agree</td>\n",
       "    </tr>\n",
       "    <tr>\n",
       "      <th>3</th>\n",
       "      <td>02/06/2020</td>\n",
       "      <td>NE</td>\n",
       "      <td>0</td>\n",
       "      <td>NaN</td>\n",
       "      <td>NaN</td>\n",
       "      <td>0</td>\n",
       "      <td>NaN</td>\n",
       "      <td>0</td>\n",
       "      <td>NaN</td>\n",
       "      <td>NaN</td>\n",
       "      <td>0</td>\n",
       "      <td>NaN</td>\n",
       "      <td>03/26/2020 04:22:39 PM</td>\n",
       "      <td>Agree</td>\n",
       "      <td>Agree</td>\n",
       "    </tr>\n",
       "    <tr>\n",
       "      <th>4</th>\n",
       "      <td>10/06/2021</td>\n",
       "      <td>DE</td>\n",
       "      <td>134690</td>\n",
       "      <td>124148.0</td>\n",
       "      <td>10542.0</td>\n",
       "      <td>444</td>\n",
       "      <td>45.0</td>\n",
       "      <td>1977</td>\n",
       "      <td>1810.0</td>\n",
       "      <td>167.0</td>\n",
       "      <td>2</td>\n",
       "      <td>0.0</td>\n",
       "      <td>10/08/2021 12:00:00 AM</td>\n",
       "      <td>Agree</td>\n",
       "      <td>Agree</td>\n",
       "    </tr>\n",
       "  </tbody>\n",
       "</table>\n",
       "</div>"
      ],
      "text/plain": [
       "  submission_date state  tot_cases  conf_cases  prob_cases  new_case  \\\n",
       "0      03/18/2021    NE     206980         NaN         NaN       298   \n",
       "1      09/01/2021    ND     118491    107475.0     11016.0       536   \n",
       "2      10/04/2020    MD     127290         NaN         NaN       471   \n",
       "3      02/06/2020    NE          0         NaN         NaN         0   \n",
       "4      10/06/2021    DE     134690    124148.0     10542.0       444   \n",
       "\n",
       "   pnew_case  tot_death  conf_death  prob_death  new_death  pnew_death  \\\n",
       "0        0.0       2130         NaN         NaN          1         0.0   \n",
       "1       66.0       1562         NaN         NaN          1         0.0   \n",
       "2        0.0       4092      3933.0       159.0          3         0.0   \n",
       "3        NaN          0         NaN         NaN          0         NaN   \n",
       "4       45.0       1977      1810.0       167.0          2         0.0   \n",
       "\n",
       "               created_at consent_cases consent_deaths  \n",
       "0  03/20/2021 12:00:00 AM     Not agree      Not agree  \n",
       "1  09/02/2021 01:49:05 PM         Agree      Not agree  \n",
       "2  10/06/2020 12:00:00 AM           NaN          Agree  \n",
       "3  03/26/2020 04:22:39 PM         Agree          Agree  \n",
       "4  10/08/2021 12:00:00 AM         Agree          Agree  "
      ]
     },
     "execution_count": 58,
     "metadata": {},
     "output_type": "execute_result"
    }
   ],
   "source": [
    "covid.head()"
   ]
  },
  {
   "cell_type": "code",
   "execution_count": 59,
   "id": "8d1e8e46",
   "metadata": {},
   "outputs": [
    {
     "data": {
      "text/html": [
       "<div>\n",
       "<style scoped>\n",
       "    .dataframe tbody tr th:only-of-type {\n",
       "        vertical-align: middle;\n",
       "    }\n",
       "\n",
       "    .dataframe tbody tr th {\n",
       "        vertical-align: top;\n",
       "    }\n",
       "\n",
       "    .dataframe thead th {\n",
       "        text-align: right;\n",
       "    }\n",
       "</style>\n",
       "<table border=\"1\" class=\"dataframe\">\n",
       "  <thead>\n",
       "    <tr style=\"text-align: right;\">\n",
       "      <th></th>\n",
       "      <th>submission_date</th>\n",
       "      <th>state</th>\n",
       "      <th>tot_cases</th>\n",
       "      <th>conf_cases</th>\n",
       "      <th>prob_cases</th>\n",
       "      <th>new_case</th>\n",
       "      <th>pnew_case</th>\n",
       "      <th>tot_death</th>\n",
       "      <th>conf_death</th>\n",
       "      <th>prob_death</th>\n",
       "      <th>new_death</th>\n",
       "      <th>pnew_death</th>\n",
       "      <th>created_at</th>\n",
       "      <th>consent_cases</th>\n",
       "      <th>consent_deaths</th>\n",
       "    </tr>\n",
       "  </thead>\n",
       "  <tbody>\n",
       "    <tr>\n",
       "      <th>50476</th>\n",
       "      <td>03/18/2022</td>\n",
       "      <td>NJ</td>\n",
       "      <td>2186846</td>\n",
       "      <td>1888440.0</td>\n",
       "      <td>298406.0</td>\n",
       "      <td>1523</td>\n",
       "      <td>534.0</td>\n",
       "      <td>33155</td>\n",
       "      <td>30172.0</td>\n",
       "      <td>2983.0</td>\n",
       "      <td>6</td>\n",
       "      <td>0.0</td>\n",
       "      <td>03/19/2022 01:30:21 PM</td>\n",
       "      <td>Agree</td>\n",
       "      <td>Agree</td>\n",
       "    </tr>\n",
       "    <tr>\n",
       "      <th>50477</th>\n",
       "      <td>07/19/2020</td>\n",
       "      <td>NJ</td>\n",
       "      <td>178541</td>\n",
       "      <td>NaN</td>\n",
       "      <td>NaN</td>\n",
       "      <td>-10</td>\n",
       "      <td>21.0</td>\n",
       "      <td>15706</td>\n",
       "      <td>13732.0</td>\n",
       "      <td>1974.0</td>\n",
       "      <td>34</td>\n",
       "      <td>27.0</td>\n",
       "      <td>07/19/2020 12:00:00 AM</td>\n",
       "      <td>Not agree</td>\n",
       "      <td>Agree</td>\n",
       "    </tr>\n",
       "    <tr>\n",
       "      <th>50478</th>\n",
       "      <td>02/10/2021</td>\n",
       "      <td>FSM</td>\n",
       "      <td>1</td>\n",
       "      <td>1.0</td>\n",
       "      <td>0.0</td>\n",
       "      <td>0</td>\n",
       "      <td>0.0</td>\n",
       "      <td>0</td>\n",
       "      <td>0.0</td>\n",
       "      <td>0.0</td>\n",
       "      <td>0</td>\n",
       "      <td>0.0</td>\n",
       "      <td>02/11/2021 02:50:55 PM</td>\n",
       "      <td>Agree</td>\n",
       "      <td>Agree</td>\n",
       "    </tr>\n",
       "    <tr>\n",
       "      <th>50479</th>\n",
       "      <td>01/12/2022</td>\n",
       "      <td>WY</td>\n",
       "      <td>123743</td>\n",
       "      <td>97745.0</td>\n",
       "      <td>25998.0</td>\n",
       "      <td>989</td>\n",
       "      <td>246.0</td>\n",
       "      <td>1588</td>\n",
       "      <td>1588.0</td>\n",
       "      <td>0.0</td>\n",
       "      <td>0</td>\n",
       "      <td>0.0</td>\n",
       "      <td>01/13/2022 02:34:51 PM</td>\n",
       "      <td>Agree</td>\n",
       "      <td>Agree</td>\n",
       "    </tr>\n",
       "    <tr>\n",
       "      <th>50480</th>\n",
       "      <td>11/22/2021</td>\n",
       "      <td>AZ</td>\n",
       "      <td>1245127</td>\n",
       "      <td>1127692.0</td>\n",
       "      <td>117435.0</td>\n",
       "      <td>3249</td>\n",
       "      <td>403.0</td>\n",
       "      <td>21942</td>\n",
       "      <td>19414.0</td>\n",
       "      <td>2528.0</td>\n",
       "      <td>2</td>\n",
       "      <td>0.0</td>\n",
       "      <td>11/23/2021 02:18:53 PM</td>\n",
       "      <td>Agree</td>\n",
       "      <td>Agree</td>\n",
       "    </tr>\n",
       "  </tbody>\n",
       "</table>\n",
       "</div>"
      ],
      "text/plain": [
       "      submission_date state  tot_cases  conf_cases  prob_cases  new_case  \\\n",
       "50476      03/18/2022    NJ    2186846   1888440.0    298406.0      1523   \n",
       "50477      07/19/2020    NJ     178541         NaN         NaN       -10   \n",
       "50478      02/10/2021   FSM          1         1.0         0.0         0   \n",
       "50479      01/12/2022    WY     123743     97745.0     25998.0       989   \n",
       "50480      11/22/2021    AZ    1245127   1127692.0    117435.0      3249   \n",
       "\n",
       "       pnew_case  tot_death  conf_death  prob_death  new_death  pnew_death  \\\n",
       "50476      534.0      33155     30172.0      2983.0          6         0.0   \n",
       "50477       21.0      15706     13732.0      1974.0         34        27.0   \n",
       "50478        0.0          0         0.0         0.0          0         0.0   \n",
       "50479      246.0       1588      1588.0         0.0          0         0.0   \n",
       "50480      403.0      21942     19414.0      2528.0          2         0.0   \n",
       "\n",
       "                   created_at consent_cases consent_deaths  \n",
       "50476  03/19/2022 01:30:21 PM         Agree          Agree  \n",
       "50477  07/19/2020 12:00:00 AM     Not agree          Agree  \n",
       "50478  02/11/2021 02:50:55 PM         Agree          Agree  \n",
       "50479  01/13/2022 02:34:51 PM         Agree          Agree  \n",
       "50480  11/23/2021 02:18:53 PM         Agree          Agree  "
      ]
     },
     "execution_count": 59,
     "metadata": {},
     "output_type": "execute_result"
    }
   ],
   "source": [
    "covid.tail()"
   ]
  },
  {
   "cell_type": "code",
   "execution_count": 61,
   "id": "2aa0e634",
   "metadata": {},
   "outputs": [
    {
     "data": {
      "text/plain": [
       "0.9484413555106633"
      ]
     },
     "execution_count": 61,
     "metadata": {},
     "output_type": "execute_result"
    }
   ],
   "source": [
    "covid['tot_cases'].corr(covid['tot_death'])"
   ]
  },
  {
   "cell_type": "code",
   "execution_count": 84,
   "id": "a4d8865c",
   "metadata": {},
   "outputs": [
    {
     "data": {
      "text/html": [
       "<div>\n",
       "<style scoped>\n",
       "    .dataframe tbody tr th:only-of-type {\n",
       "        vertical-align: middle;\n",
       "    }\n",
       "\n",
       "    .dataframe tbody tr th {\n",
       "        vertical-align: top;\n",
       "    }\n",
       "\n",
       "    .dataframe thead th {\n",
       "        text-align: right;\n",
       "    }\n",
       "</style>\n",
       "<table border=\"1\" class=\"dataframe\">\n",
       "  <thead>\n",
       "    <tr style=\"text-align: right;\">\n",
       "      <th></th>\n",
       "      <th>tot_cases</th>\n",
       "      <th>conf_cases</th>\n",
       "      <th>prob_cases</th>\n",
       "      <th>new_case</th>\n",
       "      <th>pnew_case</th>\n",
       "      <th>tot_death</th>\n",
       "      <th>conf_death</th>\n",
       "      <th>prob_death</th>\n",
       "      <th>new_death</th>\n",
       "      <th>pnew_death</th>\n",
       "    </tr>\n",
       "  </thead>\n",
       "  <tbody>\n",
       "    <tr>\n",
       "      <th>tot_cases</th>\n",
       "      <td>1.000000</td>\n",
       "      <td>0.994911</td>\n",
       "      <td>0.696903</td>\n",
       "      <td>0.411385</td>\n",
       "      <td>0.214047</td>\n",
       "      <td>0.948441</td>\n",
       "      <td>0.921624</td>\n",
       "      <td>0.543237</td>\n",
       "      <td>0.372889</td>\n",
       "      <td>0.029787</td>\n",
       "    </tr>\n",
       "    <tr>\n",
       "      <th>conf_cases</th>\n",
       "      <td>0.994911</td>\n",
       "      <td>1.000000</td>\n",
       "      <td>0.621091</td>\n",
       "      <td>0.366044</td>\n",
       "      <td>0.194017</td>\n",
       "      <td>0.917660</td>\n",
       "      <td>0.928216</td>\n",
       "      <td>0.485125</td>\n",
       "      <td>0.315571</td>\n",
       "      <td>0.022355</td>\n",
       "    </tr>\n",
       "    <tr>\n",
       "      <th>prob_cases</th>\n",
       "      <td>0.696903</td>\n",
       "      <td>0.621091</td>\n",
       "      <td>1.000000</td>\n",
       "      <td>0.214644</td>\n",
       "      <td>0.281395</td>\n",
       "      <td>0.669385</td>\n",
       "      <td>0.557775</td>\n",
       "      <td>0.678358</td>\n",
       "      <td>0.161074</td>\n",
       "      <td>0.048336</td>\n",
       "    </tr>\n",
       "    <tr>\n",
       "      <th>new_case</th>\n",
       "      <td>0.411385</td>\n",
       "      <td>0.366044</td>\n",
       "      <td>0.214644</td>\n",
       "      <td>1.000000</td>\n",
       "      <td>0.391862</td>\n",
       "      <td>0.394192</td>\n",
       "      <td>0.327756</td>\n",
       "      <td>0.176848</td>\n",
       "      <td>0.435653</td>\n",
       "      <td>0.043076</td>\n",
       "    </tr>\n",
       "    <tr>\n",
       "      <th>pnew_case</th>\n",
       "      <td>0.214047</td>\n",
       "      <td>0.194017</td>\n",
       "      <td>0.281395</td>\n",
       "      <td>0.391862</td>\n",
       "      <td>1.000000</td>\n",
       "      <td>0.212284</td>\n",
       "      <td>0.200864</td>\n",
       "      <td>0.242803</td>\n",
       "      <td>0.192946</td>\n",
       "      <td>0.042352</td>\n",
       "    </tr>\n",
       "    <tr>\n",
       "      <th>tot_death</th>\n",
       "      <td>0.948441</td>\n",
       "      <td>0.917660</td>\n",
       "      <td>0.669385</td>\n",
       "      <td>0.394192</td>\n",
       "      <td>0.212284</td>\n",
       "      <td>1.000000</td>\n",
       "      <td>0.994649</td>\n",
       "      <td>0.649249</td>\n",
       "      <td>0.399695</td>\n",
       "      <td>0.033682</td>\n",
       "    </tr>\n",
       "    <tr>\n",
       "      <th>conf_death</th>\n",
       "      <td>0.921624</td>\n",
       "      <td>0.928216</td>\n",
       "      <td>0.557775</td>\n",
       "      <td>0.327756</td>\n",
       "      <td>0.200864</td>\n",
       "      <td>0.994649</td>\n",
       "      <td>1.000000</td>\n",
       "      <td>0.567195</td>\n",
       "      <td>0.307963</td>\n",
       "      <td>0.033315</td>\n",
       "    </tr>\n",
       "    <tr>\n",
       "      <th>prob_death</th>\n",
       "      <td>0.543237</td>\n",
       "      <td>0.485125</td>\n",
       "      <td>0.678358</td>\n",
       "      <td>0.176848</td>\n",
       "      <td>0.242803</td>\n",
       "      <td>0.649249</td>\n",
       "      <td>0.567195</td>\n",
       "      <td>1.000000</td>\n",
       "      <td>0.115350</td>\n",
       "      <td>0.089717</td>\n",
       "    </tr>\n",
       "    <tr>\n",
       "      <th>new_death</th>\n",
       "      <td>0.372889</td>\n",
       "      <td>0.315571</td>\n",
       "      <td>0.161074</td>\n",
       "      <td>0.435653</td>\n",
       "      <td>0.192946</td>\n",
       "      <td>0.399695</td>\n",
       "      <td>0.307963</td>\n",
       "      <td>0.115350</td>\n",
       "      <td>1.000000</td>\n",
       "      <td>0.165765</td>\n",
       "    </tr>\n",
       "    <tr>\n",
       "      <th>pnew_death</th>\n",
       "      <td>0.029787</td>\n",
       "      <td>0.022355</td>\n",
       "      <td>0.048336</td>\n",
       "      <td>0.043076</td>\n",
       "      <td>0.042352</td>\n",
       "      <td>0.033682</td>\n",
       "      <td>0.033315</td>\n",
       "      <td>0.089717</td>\n",
       "      <td>0.165765</td>\n",
       "      <td>1.000000</td>\n",
       "    </tr>\n",
       "  </tbody>\n",
       "</table>\n",
       "</div>"
      ],
      "text/plain": [
       "            tot_cases  conf_cases  prob_cases  new_case  pnew_case  tot_death  \\\n",
       "tot_cases    1.000000    0.994911    0.696903  0.411385   0.214047   0.948441   \n",
       "conf_cases   0.994911    1.000000    0.621091  0.366044   0.194017   0.917660   \n",
       "prob_cases   0.696903    0.621091    1.000000  0.214644   0.281395   0.669385   \n",
       "new_case     0.411385    0.366044    0.214644  1.000000   0.391862   0.394192   \n",
       "pnew_case    0.214047    0.194017    0.281395  0.391862   1.000000   0.212284   \n",
       "tot_death    0.948441    0.917660    0.669385  0.394192   0.212284   1.000000   \n",
       "conf_death   0.921624    0.928216    0.557775  0.327756   0.200864   0.994649   \n",
       "prob_death   0.543237    0.485125    0.678358  0.176848   0.242803   0.649249   \n",
       "new_death    0.372889    0.315571    0.161074  0.435653   0.192946   0.399695   \n",
       "pnew_death   0.029787    0.022355    0.048336  0.043076   0.042352   0.033682   \n",
       "\n",
       "            conf_death  prob_death  new_death  pnew_death  \n",
       "tot_cases     0.921624    0.543237   0.372889    0.029787  \n",
       "conf_cases    0.928216    0.485125   0.315571    0.022355  \n",
       "prob_cases    0.557775    0.678358   0.161074    0.048336  \n",
       "new_case      0.327756    0.176848   0.435653    0.043076  \n",
       "pnew_case     0.200864    0.242803   0.192946    0.042352  \n",
       "tot_death     0.994649    0.649249   0.399695    0.033682  \n",
       "conf_death    1.000000    0.567195   0.307963    0.033315  \n",
       "prob_death    0.567195    1.000000   0.115350    0.089717  \n",
       "new_death     0.307963    0.115350   1.000000    0.165765  \n",
       "pnew_death    0.033315    0.089717   0.165765    1.000000  "
      ]
     },
     "execution_count": 84,
     "metadata": {},
     "output_type": "execute_result"
    }
   ],
   "source": [
    "covid.corr(method='pearson')"
   ]
  },
  {
   "cell_type": "code",
   "execution_count": 85,
   "id": "47c3016f",
   "metadata": {},
   "outputs": [
    {
     "data": {
      "text/html": [
       "<style  type=\"text/css\" >\n",
       "#T_f22bf_row0_col0,#T_f22bf_row1_col1,#T_f22bf_row2_col2,#T_f22bf_row3_col3,#T_f22bf_row4_col4,#T_f22bf_row5_col5,#T_f22bf_row6_col6,#T_f22bf_row7_col7,#T_f22bf_row8_col8,#T_f22bf_row9_col9{\n",
       "            background-color:  #b40426;\n",
       "            color:  #f1f1f1;\n",
       "        }#T_f22bf_row0_col1,#T_f22bf_row1_col0,#T_f22bf_row5_col6,#T_f22bf_row6_col5{\n",
       "            background-color:  #b50927;\n",
       "            color:  #f1f1f1;\n",
       "        }#T_f22bf_row0_col2{\n",
       "            background-color:  #f7b093;\n",
       "            color:  #000000;\n",
       "        }#T_f22bf_row0_col3{\n",
       "            background-color:  #bed2f6;\n",
       "            color:  #000000;\n",
       "        }#T_f22bf_row0_col4{\n",
       "            background-color:  #779af7;\n",
       "            color:  #000000;\n",
       "        }#T_f22bf_row0_col5,#T_f22bf_row5_col0{\n",
       "            background-color:  #c73635;\n",
       "            color:  #f1f1f1;\n",
       "        }#T_f22bf_row0_col6,#T_f22bf_row6_col0{\n",
       "            background-color:  #d0473d;\n",
       "            color:  #f1f1f1;\n",
       "        }#T_f22bf_row0_col7{\n",
       "            background-color:  #e4d9d2;\n",
       "            color:  #000000;\n",
       "        }#T_f22bf_row0_col8{\n",
       "            background-color:  #b1cbfc;\n",
       "            color:  #000000;\n",
       "        }#T_f22bf_row0_col9,#T_f22bf_row1_col9,#T_f22bf_row2_col9,#T_f22bf_row3_col9,#T_f22bf_row4_col9,#T_f22bf_row5_col9,#T_f22bf_row6_col9,#T_f22bf_row7_col9,#T_f22bf_row8_col7,#T_f22bf_row9_col1{\n",
       "            background-color:  #3b4cc0;\n",
       "            color:  #f1f1f1;\n",
       "        }#T_f22bf_row1_col2{\n",
       "            background-color:  #f3c8b2;\n",
       "            color:  #000000;\n",
       "        }#T_f22bf_row1_col3{\n",
       "            background-color:  #afcafc;\n",
       "            color:  #000000;\n",
       "        }#T_f22bf_row1_col4,#T_f22bf_row2_col3,#T_f22bf_row6_col4{\n",
       "            background-color:  #7295f4;\n",
       "            color:  #000000;\n",
       "        }#T_f22bf_row1_col5,#T_f22bf_row5_col1{\n",
       "            background-color:  #d1493f;\n",
       "            color:  #f1f1f1;\n",
       "        }#T_f22bf_row1_col6{\n",
       "            background-color:  #cd423b;\n",
       "            color:  #f1f1f1;\n",
       "        }#T_f22bf_row1_col7{\n",
       "            background-color:  #d6dce4;\n",
       "            color:  #000000;\n",
       "        }#T_f22bf_row1_col8,#T_f22bf_row3_col6{\n",
       "            background-color:  #9ebeff;\n",
       "            color:  #000000;\n",
       "        }#T_f22bf_row2_col0{\n",
       "            background-color:  #f7b396;\n",
       "            color:  #000000;\n",
       "        }#T_f22bf_row2_col1{\n",
       "            background-color:  #f2cab5;\n",
       "            color:  #000000;\n",
       "        }#T_f22bf_row2_col4{\n",
       "            background-color:  #8badfd;\n",
       "            color:  #000000;\n",
       "        }#T_f22bf_row2_col5{\n",
       "            background-color:  #f7bca1;\n",
       "            color:  #000000;\n",
       "        }#T_f22bf_row2_col6{\n",
       "            background-color:  #e6d7cf;\n",
       "            color:  #000000;\n",
       "        }#T_f22bf_row2_col7{\n",
       "            background-color:  #f7b99e;\n",
       "            color:  #000000;\n",
       "        }#T_f22bf_row2_col8{\n",
       "            background-color:  #5f7fe8;\n",
       "            color:  #000000;\n",
       "        }#T_f22bf_row3_col0{\n",
       "            background-color:  #bbd1f8;\n",
       "            color:  #000000;\n",
       "        }#T_f22bf_row3_col1{\n",
       "            background-color:  #abc8fd;\n",
       "            color:  #000000;\n",
       "        }#T_f22bf_row3_col2,#T_f22bf_row4_col0,#T_f22bf_row4_col5{\n",
       "            background-color:  #7396f5;\n",
       "            color:  #000000;\n",
       "        }#T_f22bf_row3_col4,#T_f22bf_row3_col5,#T_f22bf_row4_col3{\n",
       "            background-color:  #b5cdfa;\n",
       "            color:  #000000;\n",
       "        }#T_f22bf_row3_col7{\n",
       "            background-color:  #6687ed;\n",
       "            color:  #000000;\n",
       "        }#T_f22bf_row3_col8{\n",
       "            background-color:  #c4d5f3;\n",
       "            color:  #000000;\n",
       "        }#T_f22bf_row4_col1,#T_f22bf_row4_col8{\n",
       "            background-color:  #6c8ff1;\n",
       "            color:  #000000;\n",
       "        }#T_f22bf_row4_col2{\n",
       "            background-color:  #8caffe;\n",
       "            color:  #000000;\n",
       "        }#T_f22bf_row4_col6{\n",
       "            background-color:  #6f92f3;\n",
       "            color:  #000000;\n",
       "        }#T_f22bf_row4_col7{\n",
       "            background-color:  #7ea1fa;\n",
       "            color:  #000000;\n",
       "        }#T_f22bf_row5_col2{\n",
       "            background-color:  #f7ba9f;\n",
       "            color:  #000000;\n",
       "        }#T_f22bf_row5_col3{\n",
       "            background-color:  #b7cff9;\n",
       "            color:  #000000;\n",
       "        }#T_f22bf_row5_col4{\n",
       "            background-color:  #7699f6;\n",
       "            color:  #000000;\n",
       "        }#T_f22bf_row5_col7{\n",
       "            background-color:  #f5c0a7;\n",
       "            color:  #000000;\n",
       "        }#T_f22bf_row5_col8{\n",
       "            background-color:  #b9d0f9;\n",
       "            color:  #000000;\n",
       "        }#T_f22bf_row6_col1{\n",
       "            background-color:  #cf453c;\n",
       "            color:  #f1f1f1;\n",
       "        }#T_f22bf_row6_col2{\n",
       "            background-color:  #e7d7ce;\n",
       "            color:  #000000;\n",
       "        }#T_f22bf_row6_col3{\n",
       "            background-color:  #9fbfff;\n",
       "            color:  #000000;\n",
       "        }#T_f22bf_row6_col7{\n",
       "            background-color:  #ead5c9;\n",
       "            color:  #000000;\n",
       "        }#T_f22bf_row6_col8{\n",
       "            background-color:  #98b9ff;\n",
       "            color:  #000000;\n",
       "        }#T_f22bf_row7_col0{\n",
       "            background-color:  #dcdddd;\n",
       "            color:  #000000;\n",
       "        }#T_f22bf_row7_col1{\n",
       "            background-color:  #cbd8ee;\n",
       "            color:  #000000;\n",
       "        }#T_f22bf_row7_col2{\n",
       "            background-color:  #f6bea4;\n",
       "            color:  #000000;\n",
       "        }#T_f22bf_row7_col3{\n",
       "            background-color:  #5875e1;\n",
       "            color:  #000000;\n",
       "        }#T_f22bf_row7_col4{\n",
       "            background-color:  #7093f3;\n",
       "            color:  #000000;\n",
       "        }#T_f22bf_row7_col5{\n",
       "            background-color:  #f3c7b1;\n",
       "            color:  #000000;\n",
       "        }#T_f22bf_row7_col6{\n",
       "            background-color:  #e3d9d3;\n",
       "            color:  #000000;\n",
       "        }#T_f22bf_row7_col8{\n",
       "            background-color:  #4358cb;\n",
       "            color:  #f1f1f1;\n",
       "        }#T_f22bf_row8_col0{\n",
       "            background-color:  #9bbcff;\n",
       "            color:  #000000;\n",
       "        }#T_f22bf_row8_col1{\n",
       "            background-color:  #84a7fc;\n",
       "            color:  #000000;\n",
       "        }#T_f22bf_row8_col2{\n",
       "            background-color:  #4a63d3;\n",
       "            color:  #f1f1f1;\n",
       "        }#T_f22bf_row8_col3{\n",
       "            background-color:  #b3cdfb;\n",
       "            color:  #000000;\n",
       "        }#T_f22bf_row8_col4{\n",
       "            background-color:  #5572df;\n",
       "            color:  #000000;\n",
       "        }#T_f22bf_row8_col5{\n",
       "            background-color:  #a6c4fe;\n",
       "            color:  #000000;\n",
       "        }#T_f22bf_row8_col6{\n",
       "            background-color:  #81a4fb;\n",
       "            color:  #000000;\n",
       "        }#T_f22bf_row8_col9{\n",
       "            background-color:  #4b64d5;\n",
       "            color:  #f1f1f1;\n",
       "        }#T_f22bf_row9_col0{\n",
       "            background-color:  #3c4ec2;\n",
       "            color:  #f1f1f1;\n",
       "        }#T_f22bf_row9_col2{\n",
       "            background-color:  #4257c9;\n",
       "            color:  #f1f1f1;\n",
       "        }#T_f22bf_row9_col3,#T_f22bf_row9_col4{\n",
       "            background-color:  #4055c8;\n",
       "            color:  #f1f1f1;\n",
       "        }#T_f22bf_row9_col5,#T_f22bf_row9_col6{\n",
       "            background-color:  #3d50c3;\n",
       "            color:  #f1f1f1;\n",
       "        }#T_f22bf_row9_col7{\n",
       "            background-color:  #4f69d9;\n",
       "            color:  #000000;\n",
       "        }#T_f22bf_row9_col8{\n",
       "            background-color:  #688aef;\n",
       "            color:  #000000;\n",
       "        }</style><table id=\"T_f22bf_\" ><thead>    <tr>        <th class=\"blank level0\" ></th>        <th class=\"col_heading level0 col0\" >tot_cases</th>        <th class=\"col_heading level0 col1\" >conf_cases</th>        <th class=\"col_heading level0 col2\" >prob_cases</th>        <th class=\"col_heading level0 col3\" >new_case</th>        <th class=\"col_heading level0 col4\" >pnew_case</th>        <th class=\"col_heading level0 col5\" >tot_death</th>        <th class=\"col_heading level0 col6\" >conf_death</th>        <th class=\"col_heading level0 col7\" >prob_death</th>        <th class=\"col_heading level0 col8\" >new_death</th>        <th class=\"col_heading level0 col9\" >pnew_death</th>    </tr></thead><tbody>\n",
       "                <tr>\n",
       "                        <th id=\"T_f22bf_level0_row0\" class=\"row_heading level0 row0\" >tot_cases</th>\n",
       "                        <td id=\"T_f22bf_row0_col0\" class=\"data row0 col0\" >1.0</td>\n",
       "                        <td id=\"T_f22bf_row0_col1\" class=\"data row0 col1\" >0.99</td>\n",
       "                        <td id=\"T_f22bf_row0_col2\" class=\"data row0 col2\" >0.7</td>\n",
       "                        <td id=\"T_f22bf_row0_col3\" class=\"data row0 col3\" >0.41</td>\n",
       "                        <td id=\"T_f22bf_row0_col4\" class=\"data row0 col4\" >0.21</td>\n",
       "                        <td id=\"T_f22bf_row0_col5\" class=\"data row0 col5\" >0.95</td>\n",
       "                        <td id=\"T_f22bf_row0_col6\" class=\"data row0 col6\" >0.92</td>\n",
       "                        <td id=\"T_f22bf_row0_col7\" class=\"data row0 col7\" >0.54</td>\n",
       "                        <td id=\"T_f22bf_row0_col8\" class=\"data row0 col8\" >0.37</td>\n",
       "                        <td id=\"T_f22bf_row0_col9\" class=\"data row0 col9\" >0.03</td>\n",
       "            </tr>\n",
       "            <tr>\n",
       "                        <th id=\"T_f22bf_level0_row1\" class=\"row_heading level0 row1\" >conf_cases</th>\n",
       "                        <td id=\"T_f22bf_row1_col0\" class=\"data row1 col0\" >0.99</td>\n",
       "                        <td id=\"T_f22bf_row1_col1\" class=\"data row1 col1\" >1.0</td>\n",
       "                        <td id=\"T_f22bf_row1_col2\" class=\"data row1 col2\" >0.62</td>\n",
       "                        <td id=\"T_f22bf_row1_col3\" class=\"data row1 col3\" >0.37</td>\n",
       "                        <td id=\"T_f22bf_row1_col4\" class=\"data row1 col4\" >0.19</td>\n",
       "                        <td id=\"T_f22bf_row1_col5\" class=\"data row1 col5\" >0.92</td>\n",
       "                        <td id=\"T_f22bf_row1_col6\" class=\"data row1 col6\" >0.93</td>\n",
       "                        <td id=\"T_f22bf_row1_col7\" class=\"data row1 col7\" >0.49</td>\n",
       "                        <td id=\"T_f22bf_row1_col8\" class=\"data row1 col8\" >0.32</td>\n",
       "                        <td id=\"T_f22bf_row1_col9\" class=\"data row1 col9\" >0.022</td>\n",
       "            </tr>\n",
       "            <tr>\n",
       "                        <th id=\"T_f22bf_level0_row2\" class=\"row_heading level0 row2\" >prob_cases</th>\n",
       "                        <td id=\"T_f22bf_row2_col0\" class=\"data row2 col0\" >0.7</td>\n",
       "                        <td id=\"T_f22bf_row2_col1\" class=\"data row2 col1\" >0.62</td>\n",
       "                        <td id=\"T_f22bf_row2_col2\" class=\"data row2 col2\" >1.0</td>\n",
       "                        <td id=\"T_f22bf_row2_col3\" class=\"data row2 col3\" >0.21</td>\n",
       "                        <td id=\"T_f22bf_row2_col4\" class=\"data row2 col4\" >0.28</td>\n",
       "                        <td id=\"T_f22bf_row2_col5\" class=\"data row2 col5\" >0.67</td>\n",
       "                        <td id=\"T_f22bf_row2_col6\" class=\"data row2 col6\" >0.56</td>\n",
       "                        <td id=\"T_f22bf_row2_col7\" class=\"data row2 col7\" >0.68</td>\n",
       "                        <td id=\"T_f22bf_row2_col8\" class=\"data row2 col8\" >0.16</td>\n",
       "                        <td id=\"T_f22bf_row2_col9\" class=\"data row2 col9\" >0.048</td>\n",
       "            </tr>\n",
       "            <tr>\n",
       "                        <th id=\"T_f22bf_level0_row3\" class=\"row_heading level0 row3\" >new_case</th>\n",
       "                        <td id=\"T_f22bf_row3_col0\" class=\"data row3 col0\" >0.41</td>\n",
       "                        <td id=\"T_f22bf_row3_col1\" class=\"data row3 col1\" >0.37</td>\n",
       "                        <td id=\"T_f22bf_row3_col2\" class=\"data row3 col2\" >0.21</td>\n",
       "                        <td id=\"T_f22bf_row3_col3\" class=\"data row3 col3\" >1.0</td>\n",
       "                        <td id=\"T_f22bf_row3_col4\" class=\"data row3 col4\" >0.39</td>\n",
       "                        <td id=\"T_f22bf_row3_col5\" class=\"data row3 col5\" >0.39</td>\n",
       "                        <td id=\"T_f22bf_row3_col6\" class=\"data row3 col6\" >0.33</td>\n",
       "                        <td id=\"T_f22bf_row3_col7\" class=\"data row3 col7\" >0.18</td>\n",
       "                        <td id=\"T_f22bf_row3_col8\" class=\"data row3 col8\" >0.44</td>\n",
       "                        <td id=\"T_f22bf_row3_col9\" class=\"data row3 col9\" >0.043</td>\n",
       "            </tr>\n",
       "            <tr>\n",
       "                        <th id=\"T_f22bf_level0_row4\" class=\"row_heading level0 row4\" >pnew_case</th>\n",
       "                        <td id=\"T_f22bf_row4_col0\" class=\"data row4 col0\" >0.21</td>\n",
       "                        <td id=\"T_f22bf_row4_col1\" class=\"data row4 col1\" >0.19</td>\n",
       "                        <td id=\"T_f22bf_row4_col2\" class=\"data row4 col2\" >0.28</td>\n",
       "                        <td id=\"T_f22bf_row4_col3\" class=\"data row4 col3\" >0.39</td>\n",
       "                        <td id=\"T_f22bf_row4_col4\" class=\"data row4 col4\" >1.0</td>\n",
       "                        <td id=\"T_f22bf_row4_col5\" class=\"data row4 col5\" >0.21</td>\n",
       "                        <td id=\"T_f22bf_row4_col6\" class=\"data row4 col6\" >0.2</td>\n",
       "                        <td id=\"T_f22bf_row4_col7\" class=\"data row4 col7\" >0.24</td>\n",
       "                        <td id=\"T_f22bf_row4_col8\" class=\"data row4 col8\" >0.19</td>\n",
       "                        <td id=\"T_f22bf_row4_col9\" class=\"data row4 col9\" >0.042</td>\n",
       "            </tr>\n",
       "            <tr>\n",
       "                        <th id=\"T_f22bf_level0_row5\" class=\"row_heading level0 row5\" >tot_death</th>\n",
       "                        <td id=\"T_f22bf_row5_col0\" class=\"data row5 col0\" >0.95</td>\n",
       "                        <td id=\"T_f22bf_row5_col1\" class=\"data row5 col1\" >0.92</td>\n",
       "                        <td id=\"T_f22bf_row5_col2\" class=\"data row5 col2\" >0.67</td>\n",
       "                        <td id=\"T_f22bf_row5_col3\" class=\"data row5 col3\" >0.39</td>\n",
       "                        <td id=\"T_f22bf_row5_col4\" class=\"data row5 col4\" >0.21</td>\n",
       "                        <td id=\"T_f22bf_row5_col5\" class=\"data row5 col5\" >1.0</td>\n",
       "                        <td id=\"T_f22bf_row5_col6\" class=\"data row5 col6\" >0.99</td>\n",
       "                        <td id=\"T_f22bf_row5_col7\" class=\"data row5 col7\" >0.65</td>\n",
       "                        <td id=\"T_f22bf_row5_col8\" class=\"data row5 col8\" >0.4</td>\n",
       "                        <td id=\"T_f22bf_row5_col9\" class=\"data row5 col9\" >0.034</td>\n",
       "            </tr>\n",
       "            <tr>\n",
       "                        <th id=\"T_f22bf_level0_row6\" class=\"row_heading level0 row6\" >conf_death</th>\n",
       "                        <td id=\"T_f22bf_row6_col0\" class=\"data row6 col0\" >0.92</td>\n",
       "                        <td id=\"T_f22bf_row6_col1\" class=\"data row6 col1\" >0.93</td>\n",
       "                        <td id=\"T_f22bf_row6_col2\" class=\"data row6 col2\" >0.56</td>\n",
       "                        <td id=\"T_f22bf_row6_col3\" class=\"data row6 col3\" >0.33</td>\n",
       "                        <td id=\"T_f22bf_row6_col4\" class=\"data row6 col4\" >0.2</td>\n",
       "                        <td id=\"T_f22bf_row6_col5\" class=\"data row6 col5\" >0.99</td>\n",
       "                        <td id=\"T_f22bf_row6_col6\" class=\"data row6 col6\" >1.0</td>\n",
       "                        <td id=\"T_f22bf_row6_col7\" class=\"data row6 col7\" >0.57</td>\n",
       "                        <td id=\"T_f22bf_row6_col8\" class=\"data row6 col8\" >0.31</td>\n",
       "                        <td id=\"T_f22bf_row6_col9\" class=\"data row6 col9\" >0.033</td>\n",
       "            </tr>\n",
       "            <tr>\n",
       "                        <th id=\"T_f22bf_level0_row7\" class=\"row_heading level0 row7\" >prob_death</th>\n",
       "                        <td id=\"T_f22bf_row7_col0\" class=\"data row7 col0\" >0.54</td>\n",
       "                        <td id=\"T_f22bf_row7_col1\" class=\"data row7 col1\" >0.49</td>\n",
       "                        <td id=\"T_f22bf_row7_col2\" class=\"data row7 col2\" >0.68</td>\n",
       "                        <td id=\"T_f22bf_row7_col3\" class=\"data row7 col3\" >0.18</td>\n",
       "                        <td id=\"T_f22bf_row7_col4\" class=\"data row7 col4\" >0.24</td>\n",
       "                        <td id=\"T_f22bf_row7_col5\" class=\"data row7 col5\" >0.65</td>\n",
       "                        <td id=\"T_f22bf_row7_col6\" class=\"data row7 col6\" >0.57</td>\n",
       "                        <td id=\"T_f22bf_row7_col7\" class=\"data row7 col7\" >1.0</td>\n",
       "                        <td id=\"T_f22bf_row7_col8\" class=\"data row7 col8\" >0.12</td>\n",
       "                        <td id=\"T_f22bf_row7_col9\" class=\"data row7 col9\" >0.09</td>\n",
       "            </tr>\n",
       "            <tr>\n",
       "                        <th id=\"T_f22bf_level0_row8\" class=\"row_heading level0 row8\" >new_death</th>\n",
       "                        <td id=\"T_f22bf_row8_col0\" class=\"data row8 col0\" >0.37</td>\n",
       "                        <td id=\"T_f22bf_row8_col1\" class=\"data row8 col1\" >0.32</td>\n",
       "                        <td id=\"T_f22bf_row8_col2\" class=\"data row8 col2\" >0.16</td>\n",
       "                        <td id=\"T_f22bf_row8_col3\" class=\"data row8 col3\" >0.44</td>\n",
       "                        <td id=\"T_f22bf_row8_col4\" class=\"data row8 col4\" >0.19</td>\n",
       "                        <td id=\"T_f22bf_row8_col5\" class=\"data row8 col5\" >0.4</td>\n",
       "                        <td id=\"T_f22bf_row8_col6\" class=\"data row8 col6\" >0.31</td>\n",
       "                        <td id=\"T_f22bf_row8_col7\" class=\"data row8 col7\" >0.12</td>\n",
       "                        <td id=\"T_f22bf_row8_col8\" class=\"data row8 col8\" >1.0</td>\n",
       "                        <td id=\"T_f22bf_row8_col9\" class=\"data row8 col9\" >0.17</td>\n",
       "            </tr>\n",
       "            <tr>\n",
       "                        <th id=\"T_f22bf_level0_row9\" class=\"row_heading level0 row9\" >pnew_death</th>\n",
       "                        <td id=\"T_f22bf_row9_col0\" class=\"data row9 col0\" >0.03</td>\n",
       "                        <td id=\"T_f22bf_row9_col1\" class=\"data row9 col1\" >0.022</td>\n",
       "                        <td id=\"T_f22bf_row9_col2\" class=\"data row9 col2\" >0.048</td>\n",
       "                        <td id=\"T_f22bf_row9_col3\" class=\"data row9 col3\" >0.043</td>\n",
       "                        <td id=\"T_f22bf_row9_col4\" class=\"data row9 col4\" >0.042</td>\n",
       "                        <td id=\"T_f22bf_row9_col5\" class=\"data row9 col5\" >0.034</td>\n",
       "                        <td id=\"T_f22bf_row9_col6\" class=\"data row9 col6\" >0.033</td>\n",
       "                        <td id=\"T_f22bf_row9_col7\" class=\"data row9 col7\" >0.09</td>\n",
       "                        <td id=\"T_f22bf_row9_col8\" class=\"data row9 col8\" >0.17</td>\n",
       "                        <td id=\"T_f22bf_row9_col9\" class=\"data row9 col9\" >1.0</td>\n",
       "            </tr>\n",
       "    </tbody></table>"
      ],
      "text/plain": [
       "<pandas.io.formats.style.Styler at 0x7f9ada6c0eb0>"
      ]
     },
     "execution_count": 85,
     "metadata": {},
     "output_type": "execute_result"
    }
   ],
   "source": [
    "covid.corr(method='pearson').style.format(\"{:.2}\").background_gradient(cmap=plt.get_cmap('coolwarm'), axis=1)"
   ]
  },
  {
   "cell_type": "code",
   "execution_count": 86,
   "id": "85c012b4",
   "metadata": {},
   "outputs": [
    {
     "data": {
      "text/plain": [
       "<AxesSubplot:>"
      ]
     },
     "execution_count": 86,
     "metadata": {},
     "output_type": "execute_result"
    },
    {
     "data": {
      "image/png": "[encoded data removed]",
      "text/plain": [
       "<Figure size 432x288 with 2 Axes>"
      ]
     },
     "metadata": {
      "needs_background": "light"
     },
     "output_type": "display_data"
    }
   ],
   "source": [
    "sns.heatmap(covid.corr(), annot=True)"
   ]
  },
  {
   "cell_type": "markdown",
   "id": "e0151c9b",
   "metadata": {},
   "source": [
    "As shown in the correlation number. There is a strong correlation between total cases of COVID-19 and Total Deaths. Adding some predictability in terms of the number of COVID related Deaths based on the number of COVID related cases."
   ]
  }
 ],
 "metadata": {
  "kernelspec": {
   "display_name": "Python 3",
   "language": "python",
   "name": "python3"
  },
  "language_info": {
   "codemirror_mode": {
    "name": "ipython",
    "version": 3
   },
   "file_extension": ".py",
   "mimetype": "text/x-python",
   "name": "python",
   "nbconvert_exporter": "python",
   "pygments_lexer": "ipython3",
   "version": "3.8.8"
  }
 },
 "nbformat": 4,
 "nbformat_minor": 5
}
