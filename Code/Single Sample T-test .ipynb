{
 "cells": [
  {
   "cell_type": "markdown",
   "id": "4b2168b0",
   "metadata": {},
   "source": [
    "## Import Packages "
   ]
  },
  {
   "cell_type": "code",
   "execution_count": 1,
   "id": "3ad7277f",
   "metadata": {},
   "outputs": [],
   "source": [
    "import pandas as pd\n",
    "import numpy as np\n",
    "from scipy.stats import norm\n",
    "from scipy import stats"
   ]
  },
  {
   "cell_type": "markdown",
   "id": "676a5f25",
   "metadata": {},
   "source": [
    "## Financial Datasets - Markets [NASDAQ | DowJones | S&P 500 | US GDP] "
   ]
  },
  {
   "cell_type": "markdown",
   "id": "dd2dd4c9",
   "metadata": {},
   "source": [
    "### NASDAQ Single Sample T-test "
   ]
  },
  {
   "cell_type": "markdown",
   "id": "6d3ab859",
   "metadata": {},
   "source": [
    "Testing single-sample t-test to examine whether a particular value is different than the population mean"
   ]
  },
  {
   "cell_type": "code",
   "execution_count": 2,
   "id": "f50b9f8e",
   "metadata": {},
   "outputs": [],
   "source": [
    "NASDAQ = pd.read_csv(\"/Users/darringtonhenderson/Documents/GitHub Final/WozUFinalProject/Data/5yrNASDAQ Data.csv\")"
   ]
  },
  {
   "cell_type": "code",
   "execution_count": 3,
   "id": "63259d7a",
   "metadata": {},
   "outputs": [
    {
     "data": {
      "text/html": [
       "<div>\n",
       "<style scoped>\n",
       "    .dataframe tbody tr th:only-of-type {\n",
       "        vertical-align: middle;\n",
       "    }\n",
       "\n",
       "    .dataframe tbody tr th {\n",
       "        vertical-align: top;\n",
       "    }\n",
       "\n",
       "    .dataframe thead th {\n",
       "        text-align: right;\n",
       "    }\n",
       "</style>\n",
       "<table border=\"1\" class=\"dataframe\">\n",
       "  <thead>\n",
       "    <tr style=\"text-align: right;\">\n",
       "      <th></th>\n",
       "      <th>Date</th>\n",
       "      <th>Close/Last</th>\n",
       "      <th>Volume</th>\n",
       "      <th>Open</th>\n",
       "      <th>High</th>\n",
       "      <th>Low</th>\n",
       "    </tr>\n",
       "  </thead>\n",
       "  <tbody>\n",
       "    <tr>\n",
       "      <th>0</th>\n",
       "      <td>04/14/2022</td>\n",
       "      <td>13351.08</td>\n",
       "      <td>--</td>\n",
       "      <td>13647.43</td>\n",
       "      <td>13662.93</td>\n",
       "      <td>13345.22</td>\n",
       "    </tr>\n",
       "    <tr>\n",
       "      <th>1</th>\n",
       "      <td>04/13/2022</td>\n",
       "      <td>13643.59</td>\n",
       "      <td>--</td>\n",
       "      <td>13373.12</td>\n",
       "      <td>13679.43</td>\n",
       "      <td>13353.66</td>\n",
       "    </tr>\n",
       "    <tr>\n",
       "      <th>2</th>\n",
       "      <td>04/12/2022</td>\n",
       "      <td>13371.57</td>\n",
       "      <td>--</td>\n",
       "      <td>13584.69</td>\n",
       "      <td>13685.95</td>\n",
       "      <td>13317.74</td>\n",
       "    </tr>\n",
       "    <tr>\n",
       "      <th>3</th>\n",
       "      <td>04/11/2022</td>\n",
       "      <td>13411.96</td>\n",
       "      <td>--</td>\n",
       "      <td>13547.29</td>\n",
       "      <td>13585.08</td>\n",
       "      <td>13401.39</td>\n",
       "    </tr>\n",
       "    <tr>\n",
       "      <th>4</th>\n",
       "      <td>04/08/2022</td>\n",
       "      <td>13711.00</td>\n",
       "      <td>--</td>\n",
       "      <td>13830.47</td>\n",
       "      <td>13866.06</td>\n",
       "      <td>13693.69</td>\n",
       "    </tr>\n",
       "  </tbody>\n",
       "</table>\n",
       "</div>"
      ],
      "text/plain": [
       "         Date  Close/Last Volume      Open      High       Low\n",
       "0  04/14/2022    13351.08     --  13647.43  13662.93  13345.22\n",
       "1  04/13/2022    13643.59     --  13373.12  13679.43  13353.66\n",
       "2  04/12/2022    13371.57     --  13584.69  13685.95  13317.74\n",
       "3  04/11/2022    13411.96     --  13547.29  13585.08  13401.39\n",
       "4  04/08/2022    13711.00     --  13830.47  13866.06  13693.69"
      ]
     },
     "execution_count": 3,
     "metadata": {},
     "output_type": "execute_result"
    }
   ],
   "source": [
    "NASDAQ.head()"
   ]
  },
  {
   "cell_type": "code",
   "execution_count": 4,
   "id": "486957df",
   "metadata": {},
   "outputs": [
    {
     "data": {
      "text/html": [
       "<div>\n",
       "<style scoped>\n",
       "    .dataframe tbody tr th:only-of-type {\n",
       "        vertical-align: middle;\n",
       "    }\n",
       "\n",
       "    .dataframe tbody tr th {\n",
       "        vertical-align: top;\n",
       "    }\n",
       "\n",
       "    .dataframe thead th {\n",
       "        text-align: right;\n",
       "    }\n",
       "</style>\n",
       "<table border=\"1\" class=\"dataframe\">\n",
       "  <thead>\n",
       "    <tr style=\"text-align: right;\">\n",
       "      <th></th>\n",
       "      <th>Date</th>\n",
       "      <th>Close/Last</th>\n",
       "      <th>Volume</th>\n",
       "      <th>Open</th>\n",
       "      <th>High</th>\n",
       "      <th>Low</th>\n",
       "    </tr>\n",
       "  </thead>\n",
       "  <tbody>\n",
       "    <tr>\n",
       "      <th>1254</th>\n",
       "      <td>04/24/2017</td>\n",
       "      <td>5983.82</td>\n",
       "      <td>--</td>\n",
       "      <td>5979.96</td>\n",
       "      <td>5989.92</td>\n",
       "      <td>5970.25</td>\n",
       "    </tr>\n",
       "    <tr>\n",
       "      <th>1255</th>\n",
       "      <td>04/21/2017</td>\n",
       "      <td>5910.52</td>\n",
       "      <td>--</td>\n",
       "      <td>5919.02</td>\n",
       "      <td>5919.23</td>\n",
       "      <td>5899.43</td>\n",
       "    </tr>\n",
       "    <tr>\n",
       "      <th>1256</th>\n",
       "      <td>04/20/2017</td>\n",
       "      <td>5916.78</td>\n",
       "      <td>--</td>\n",
       "      <td>5887.87</td>\n",
       "      <td>5926.23</td>\n",
       "      <td>5880.20</td>\n",
       "    </tr>\n",
       "    <tr>\n",
       "      <th>1257</th>\n",
       "      <td>04/19/2017</td>\n",
       "      <td>5863.03</td>\n",
       "      <td>--</td>\n",
       "      <td>5874.43</td>\n",
       "      <td>5894.67</td>\n",
       "      <td>5856.34</td>\n",
       "    </tr>\n",
       "    <tr>\n",
       "      <th>1258</th>\n",
       "      <td>04/18/2017</td>\n",
       "      <td>5849.47</td>\n",
       "      <td>--</td>\n",
       "      <td>5838.59</td>\n",
       "      <td>5860.04</td>\n",
       "      <td>5828.57</td>\n",
       "    </tr>\n",
       "  </tbody>\n",
       "</table>\n",
       "</div>"
      ],
      "text/plain": [
       "            Date  Close/Last Volume     Open     High      Low\n",
       "1254  04/24/2017     5983.82     --  5979.96  5989.92  5970.25\n",
       "1255  04/21/2017     5910.52     --  5919.02  5919.23  5899.43\n",
       "1256  04/20/2017     5916.78     --  5887.87  5926.23  5880.20\n",
       "1257  04/19/2017     5863.03     --  5874.43  5894.67  5856.34\n",
       "1258  04/18/2017     5849.47     --  5838.59  5860.04  5828.57"
      ]
     },
     "execution_count": 4,
     "metadata": {},
     "output_type": "execute_result"
    }
   ],
   "source": [
    "NASDAQ.tail()"
   ]
  },
  {
   "cell_type": "code",
   "execution_count": 5,
   "id": "986d3959",
   "metadata": {},
   "outputs": [
    {
     "data": {
      "text/plain": [
       "array([[<AxesSubplot:title={'center':'Close/Last'}>,\n",
       "        <AxesSubplot:title={'center':'Open'}>],\n",
       "       [<AxesSubplot:title={'center':'High'}>,\n",
       "        <AxesSubplot:title={'center':'Low'}>]], dtype=object)"
      ]
     },
     "execution_count": 5,
     "metadata": {},
     "output_type": "execute_result"
    },
    {
     "data": {
      "image/png": "[encoded data removed]",
      "text/plain": [
       "<Figure size 432x288 with 4 Axes>"
      ]
     },
     "metadata": {
      "needs_background": "light"
     },
     "output_type": "display_data"
    }
   ],
   "source": [
    "NASDAQ.hist()"
   ]
  },
  {
   "cell_type": "code",
   "execution_count": 6,
   "id": "2e8249b6",
   "metadata": {},
   "outputs": [
    {
     "data": {
      "text/plain": [
       "<AxesSubplot:>"
      ]
     },
     "execution_count": 6,
     "metadata": {},
     "output_type": "execute_result"
    },
    {
     "data": {
      "image/png": "[encoded data removed]",
      "text/plain": [
       "<Figure size 432x288 with 1 Axes>"
      ]
     },
     "metadata": {
      "needs_background": "light"
     },
     "output_type": "display_data"
    }
   ],
   "source": [
    "NASDAQ['Close/Last'].hist()"
   ]
  },
  {
   "cell_type": "code",
   "execution_count": 8,
   "id": "d6465ce2",
   "metadata": {},
   "outputs": [
    {
     "data": {
      "text/plain": [
       "Ttest_1sampResult(statistic=19.85027996352173, pvalue=1.6881479918738588e-76)"
      ]
     },
     "execution_count": 8,
     "metadata": {},
     "output_type": "execute_result"
    }
   ],
   "source": [
    "stats.ttest_1samp(NASDAQ['Close/Last'], 8000)"
   ]
  },
  {
   "cell_type": "markdown",
   "id": "e2c8d980",
   "metadata": {},
   "source": [
    "### DowJones Single Sample T-test "
   ]
  },
  {
   "cell_type": "markdown",
   "id": "7e19c4b6",
   "metadata": {},
   "source": [
    "Testing single-sample t-test to examine whether a particular value is different than the population mean"
   ]
  },
  {
   "cell_type": "code",
   "execution_count": 25,
   "id": "08975e13",
   "metadata": {},
   "outputs": [],
   "source": [
    "DowJones = pd.read_csv(\"/Users/darringtonhenderson/Documents/GitHub Final/WozUFinalProject/Data/TheDowData.csv\")"
   ]
  },
  {
   "cell_type": "code",
   "execution_count": 26,
   "id": "d09d56fe",
   "metadata": {},
   "outputs": [
    {
     "data": {
      "text/html": [
       "<div>\n",
       "<style scoped>\n",
       "    .dataframe tbody tr th:only-of-type {\n",
       "        vertical-align: middle;\n",
       "    }\n",
       "\n",
       "    .dataframe tbody tr th {\n",
       "        vertical-align: top;\n",
       "    }\n",
       "\n",
       "    .dataframe thead th {\n",
       "        text-align: right;\n",
       "    }\n",
       "</style>\n",
       "<table border=\"1\" class=\"dataframe\">\n",
       "  <thead>\n",
       "    <tr style=\"text-align: right;\">\n",
       "      <th></th>\n",
       "      <th>Date</th>\n",
       "      <th>Open</th>\n",
       "      <th>High</th>\n",
       "      <th>Low</th>\n",
       "      <th>Close</th>\n",
       "      <th>Volume</th>\n",
       "    </tr>\n",
       "  </thead>\n",
       "  <tbody>\n",
       "    <tr>\n",
       "      <th>0</th>\n",
       "      <td>1896-05-27</td>\n",
       "      <td>29.39</td>\n",
       "      <td>29.39</td>\n",
       "      <td>29.39</td>\n",
       "      <td>29.39</td>\n",
       "      <td>NaN</td>\n",
       "    </tr>\n",
       "    <tr>\n",
       "      <th>1</th>\n",
       "      <td>1896-05-28</td>\n",
       "      <td>29.11</td>\n",
       "      <td>29.11</td>\n",
       "      <td>29.11</td>\n",
       "      <td>29.11</td>\n",
       "      <td>NaN</td>\n",
       "    </tr>\n",
       "    <tr>\n",
       "      <th>2</th>\n",
       "      <td>1896-05-29</td>\n",
       "      <td>29.43</td>\n",
       "      <td>29.43</td>\n",
       "      <td>29.43</td>\n",
       "      <td>29.43</td>\n",
       "      <td>NaN</td>\n",
       "    </tr>\n",
       "    <tr>\n",
       "      <th>3</th>\n",
       "      <td>1896-06-01</td>\n",
       "      <td>29.40</td>\n",
       "      <td>29.40</td>\n",
       "      <td>29.40</td>\n",
       "      <td>29.40</td>\n",
       "      <td>NaN</td>\n",
       "    </tr>\n",
       "    <tr>\n",
       "      <th>4</th>\n",
       "      <td>1896-06-02</td>\n",
       "      <td>29.00</td>\n",
       "      <td>29.00</td>\n",
       "      <td>29.00</td>\n",
       "      <td>29.00</td>\n",
       "      <td>NaN</td>\n",
       "    </tr>\n",
       "  </tbody>\n",
       "</table>\n",
       "</div>"
      ],
      "text/plain": [
       "         Date   Open   High    Low  Close  Volume\n",
       "0  1896-05-27  29.39  29.39  29.39  29.39     NaN\n",
       "1  1896-05-28  29.11  29.11  29.11  29.11     NaN\n",
       "2  1896-05-29  29.43  29.43  29.43  29.43     NaN\n",
       "3  1896-06-01  29.40  29.40  29.40  29.40     NaN\n",
       "4  1896-06-02  29.00  29.00  29.00  29.00     NaN"
      ]
     },
     "execution_count": 26,
     "metadata": {},
     "output_type": "execute_result"
    }
   ],
   "source": [
    "DowJones.head()"
   ]
  },
  {
   "cell_type": "code",
   "execution_count": 27,
   "id": "ecd0b278",
   "metadata": {},
   "outputs": [
    {
     "data": {
      "text/html": [
       "<div>\n",
       "<style scoped>\n",
       "    .dataframe tbody tr th:only-of-type {\n",
       "        vertical-align: middle;\n",
       "    }\n",
       "\n",
       "    .dataframe tbody tr th {\n",
       "        vertical-align: top;\n",
       "    }\n",
       "\n",
       "    .dataframe thead th {\n",
       "        text-align: right;\n",
       "    }\n",
       "</style>\n",
       "<table border=\"1\" class=\"dataframe\">\n",
       "  <thead>\n",
       "    <tr style=\"text-align: right;\">\n",
       "      <th></th>\n",
       "      <th>Date</th>\n",
       "      <th>Open</th>\n",
       "      <th>High</th>\n",
       "      <th>Low</th>\n",
       "      <th>Close</th>\n",
       "      <th>Volume</th>\n",
       "    </tr>\n",
       "  </thead>\n",
       "  <tbody>\n",
       "    <tr>\n",
       "      <th>32611</th>\n",
       "      <td>2022-04-12</td>\n",
       "      <td>34412.51</td>\n",
       "      <td>34669.97</td>\n",
       "      <td>34102.81</td>\n",
       "      <td>34220.36</td>\n",
       "      <td>373804662.0</td>\n",
       "    </tr>\n",
       "    <tr>\n",
       "      <th>32612</th>\n",
       "      <td>2022-04-13</td>\n",
       "      <td>34166.64</td>\n",
       "      <td>34598.36</td>\n",
       "      <td>34140.64</td>\n",
       "      <td>34564.59</td>\n",
       "      <td>341268894.0</td>\n",
       "    </tr>\n",
       "    <tr>\n",
       "      <th>32613</th>\n",
       "      <td>2022-04-14</td>\n",
       "      <td>34628.46</td>\n",
       "      <td>34889.17</td>\n",
       "      <td>34437.50</td>\n",
       "      <td>34451.23</td>\n",
       "      <td>388476298.0</td>\n",
       "    </tr>\n",
       "    <tr>\n",
       "      <th>32614</th>\n",
       "      <td>2022-04-18</td>\n",
       "      <td>34411.49</td>\n",
       "      <td>34618.29</td>\n",
       "      <td>34279.08</td>\n",
       "      <td>34411.69</td>\n",
       "      <td>298634820.0</td>\n",
       "    </tr>\n",
       "    <tr>\n",
       "      <th>32615</th>\n",
       "      <td>2022-04-19</td>\n",
       "      <td>34394.62</td>\n",
       "      <td>34983.11</td>\n",
       "      <td>34394.62</td>\n",
       "      <td>34911.20</td>\n",
       "      <td>350100624.0</td>\n",
       "    </tr>\n",
       "  </tbody>\n",
       "</table>\n",
       "</div>"
      ],
      "text/plain": [
       "             Date      Open      High       Low     Close       Volume\n",
       "32611  2022-04-12  34412.51  34669.97  34102.81  34220.36  373804662.0\n",
       "32612  2022-04-13  34166.64  34598.36  34140.64  34564.59  341268894.0\n",
       "32613  2022-04-14  34628.46  34889.17  34437.50  34451.23  388476298.0\n",
       "32614  2022-04-18  34411.49  34618.29  34279.08  34411.69  298634820.0\n",
       "32615  2022-04-19  34394.62  34983.11  34394.62  34911.20  350100624.0"
      ]
     },
     "execution_count": 27,
     "metadata": {},
     "output_type": "execute_result"
    }
   ],
   "source": [
    "DowJones.tail()"
   ]
  },
  {
   "cell_type": "code",
   "execution_count": 28,
   "id": "f0d53a9e",
   "metadata": {},
   "outputs": [
    {
     "data": {
      "text/plain": [
       "array([[<AxesSubplot:title={'center':'Open'}>,\n",
       "        <AxesSubplot:title={'center':'High'}>],\n",
       "       [<AxesSubplot:title={'center':'Low'}>,\n",
       "        <AxesSubplot:title={'center':'Close'}>],\n",
       "       [<AxesSubplot:title={'center':'Volume'}>, <AxesSubplot:>]],\n",
       "      dtype=object)"
      ]
     },
     "execution_count": 28,
     "metadata": {},
     "output_type": "execute_result"
    },
    {
     "data": {
      "image/png": "[encoded data removed]",
      "text/plain": [
       "<Figure size 432x288 with 6 Axes>"
      ]
     },
     "metadata": {
      "needs_background": "light"
     },
     "output_type": "display_data"
    }
   ],
   "source": [
    "DowJones.hist()"
   ]
  },
  {
   "cell_type": "code",
   "execution_count": 29,
   "id": "20729571",
   "metadata": {},
   "outputs": [
    {
     "data": {
      "text/plain": [
       "<AxesSubplot:>"
      ]
     },
     "execution_count": 29,
     "metadata": {},
     "output_type": "execute_result"
    },
    {
     "data": {
      "image/png": "[encoded data removed]",
      "text/plain": [
       "<Figure size 432x288 with 1 Axes>"
      ]
     },
     "metadata": {
      "needs_background": "light"
     },
     "output_type": "display_data"
    }
   ],
   "source": [
    "DowJones['Close'].hist()"
   ]
  },
  {
   "cell_type": "code",
   "execution_count": 30,
   "id": "9a940d50",
   "metadata": {},
   "outputs": [
    {
     "data": {
      "text/plain": [
       "Ttest_1sampResult(statistic=-180.26603839821937, pvalue=0.0)"
      ]
     },
     "execution_count": 30,
     "metadata": {},
     "output_type": "execute_result"
    }
   ],
   "source": [
    "stats.ttest_1samp(DowJones['Close'], 10000)"
   ]
  },
  {
   "cell_type": "markdown",
   "id": "415c0b14",
   "metadata": {},
   "source": [
    "### S&P 500 Single Sample T-test"
   ]
  },
  {
   "cell_type": "code",
   "execution_count": 31,
   "id": "a9502152",
   "metadata": {},
   "outputs": [],
   "source": [
    "SP500 = pd.read_csv(\"/Users/darringtonhenderson/Documents/GitHub Final/WozUFinalProject/Data/S&P50010yrData.csv\")"
   ]
  },
  {
   "cell_type": "code",
   "execution_count": 32,
   "id": "caabc53f",
   "metadata": {},
   "outputs": [
    {
     "data": {
      "text/html": [
       "<div>\n",
       "<style scoped>\n",
       "    .dataframe tbody tr th:only-of-type {\n",
       "        vertical-align: middle;\n",
       "    }\n",
       "\n",
       "    .dataframe tbody tr th {\n",
       "        vertical-align: top;\n",
       "    }\n",
       "\n",
       "    .dataframe thead th {\n",
       "        text-align: right;\n",
       "    }\n",
       "</style>\n",
       "<table border=\"1\" class=\"dataframe\">\n",
       "  <thead>\n",
       "    <tr style=\"text-align: right;\">\n",
       "      <th></th>\n",
       "      <th>date</th>\n",
       "      <th>value</th>\n",
       "    </tr>\n",
       "  </thead>\n",
       "  <tbody>\n",
       "    <tr>\n",
       "      <th>0</th>\n",
       "      <td>4/20/09</td>\n",
       "      <td>832.39</td>\n",
       "    </tr>\n",
       "    <tr>\n",
       "      <th>1</th>\n",
       "      <td>4/21/09</td>\n",
       "      <td>850.08</td>\n",
       "    </tr>\n",
       "    <tr>\n",
       "      <th>2</th>\n",
       "      <td>4/22/09</td>\n",
       "      <td>843.55</td>\n",
       "    </tr>\n",
       "    <tr>\n",
       "      <th>3</th>\n",
       "      <td>4/23/09</td>\n",
       "      <td>851.92</td>\n",
       "    </tr>\n",
       "    <tr>\n",
       "      <th>4</th>\n",
       "      <td>4/24/09</td>\n",
       "      <td>866.23</td>\n",
       "    </tr>\n",
       "  </tbody>\n",
       "</table>\n",
       "</div>"
      ],
      "text/plain": [
       "      date   value\n",
       "0  4/20/09  832.39\n",
       "1  4/21/09  850.08\n",
       "2  4/22/09  843.55\n",
       "3  4/23/09  851.92\n",
       "4  4/24/09  866.23"
      ]
     },
     "execution_count": 32,
     "metadata": {},
     "output_type": "execute_result"
    }
   ],
   "source": [
    "SP500.head()"
   ]
  },
  {
   "cell_type": "code",
   "execution_count": 33,
   "id": "f3737925",
   "metadata": {},
   "outputs": [
    {
     "data": {
      "text/html": [
       "<div>\n",
       "<style scoped>\n",
       "    .dataframe tbody tr th:only-of-type {\n",
       "        vertical-align: middle;\n",
       "    }\n",
       "\n",
       "    .dataframe tbody tr th {\n",
       "        vertical-align: top;\n",
       "    }\n",
       "\n",
       "    .dataframe thead th {\n",
       "        text-align: right;\n",
       "    }\n",
       "</style>\n",
       "<table border=\"1\" class=\"dataframe\">\n",
       "  <thead>\n",
       "    <tr style=\"text-align: right;\">\n",
       "      <th></th>\n",
       "      <th>date</th>\n",
       "      <th>value</th>\n",
       "    </tr>\n",
       "  </thead>\n",
       "  <tbody>\n",
       "    <tr>\n",
       "      <th>3271</th>\n",
       "      <td>4/12/22</td>\n",
       "      <td>4397.45</td>\n",
       "    </tr>\n",
       "    <tr>\n",
       "      <th>3272</th>\n",
       "      <td>4/13/22</td>\n",
       "      <td>4446.59</td>\n",
       "    </tr>\n",
       "    <tr>\n",
       "      <th>3273</th>\n",
       "      <td>4/14/22</td>\n",
       "      <td>4392.59</td>\n",
       "    </tr>\n",
       "    <tr>\n",
       "      <th>3274</th>\n",
       "      <td>4/18/22</td>\n",
       "      <td>4391.69</td>\n",
       "    </tr>\n",
       "    <tr>\n",
       "      <th>3275</th>\n",
       "      <td>4/19/22</td>\n",
       "      <td>4462.21</td>\n",
       "    </tr>\n",
       "  </tbody>\n",
       "</table>\n",
       "</div>"
      ],
      "text/plain": [
       "         date    value\n",
       "3271  4/12/22  4397.45\n",
       "3272  4/13/22  4446.59\n",
       "3273  4/14/22  4392.59\n",
       "3274  4/18/22  4391.69\n",
       "3275  4/19/22  4462.21"
      ]
     },
     "execution_count": 33,
     "metadata": {},
     "output_type": "execute_result"
    }
   ],
   "source": [
    "SP500.tail()"
   ]
  },
  {
   "cell_type": "code",
   "execution_count": 34,
   "id": "ed61d56e",
   "metadata": {},
   "outputs": [
    {
     "data": {
      "text/plain": [
       "array([[<AxesSubplot:title={'center':' value'}>]], dtype=object)"
      ]
     },
     "execution_count": 34,
     "metadata": {},
     "output_type": "execute_result"
    },
    {
     "data": {
      "image/png": "[encoded data removed]",
      "text/plain": [
       "<Figure size 432x288 with 1 Axes>"
      ]
     },
     "metadata": {
      "needs_background": "light"
     },
     "output_type": "display_data"
    }
   ],
   "source": [
    "SP500.hist()"
   ]
  },
  {
   "cell_type": "code",
   "execution_count": 35,
   "id": "cce5ca60",
   "metadata": {},
   "outputs": [
    {
     "data": {
      "text/plain": [
       "<AxesSubplot:>"
      ]
     },
     "execution_count": 35,
     "metadata": {},
     "output_type": "execute_result"
    },
    {
     "data": {
      "image/png": "[encoded data removed]",
      "text/plain": [
       "<Figure size 432x288 with 1 Axes>"
      ]
     },
     "metadata": {
      "needs_background": "light"
     },
     "output_type": "display_data"
    }
   ],
   "source": [
    "SP500['date'].hist()"
   ]
  },
  {
   "cell_type": "code",
   "execution_count": 46,
   "id": "5e5cc7f0",
   "metadata": {},
   "outputs": [
    {
     "ename": "KeyError",
     "evalue": "'date'",
     "output_type": "error",
     "traceback": [
      "\u001b[0;31m---------------------------------------------------------------------------\u001b[0m",
      "\u001b[0;31mKeyError\u001b[0m                                  Traceback (most recent call last)",
      "\u001b[0;32m~/opt/anaconda3/lib/python3.8/site-packages/pandas/core/indexes/base.py\u001b[0m in \u001b[0;36mget_loc\u001b[0;34m(self, key, method, tolerance)\u001b[0m\n\u001b[1;32m   3079\u001b[0m             \u001b[0;32mtry\u001b[0m\u001b[0;34m:\u001b[0m\u001b[0;34m\u001b[0m\u001b[0;34m\u001b[0m\u001b[0m\n\u001b[0;32m-> 3080\u001b[0;31m                 \u001b[0;32mreturn\u001b[0m \u001b[0mself\u001b[0m\u001b[0;34m.\u001b[0m\u001b[0m_engine\u001b[0m\u001b[0;34m.\u001b[0m\u001b[0mget_loc\u001b[0m\u001b[0;34m(\u001b[0m\u001b[0mcasted_key\u001b[0m\u001b[0;34m)\u001b[0m\u001b[0;34m\u001b[0m\u001b[0;34m\u001b[0m\u001b[0m\n\u001b[0m\u001b[1;32m   3081\u001b[0m             \u001b[0;32mexcept\u001b[0m \u001b[0mKeyError\u001b[0m \u001b[0;32mas\u001b[0m \u001b[0merr\u001b[0m\u001b[0;34m:\u001b[0m\u001b[0;34m\u001b[0m\u001b[0;34m\u001b[0m\u001b[0m\n",
      "\u001b[0;32mpandas/_libs/index.pyx\u001b[0m in \u001b[0;36mpandas._libs.index.IndexEngine.get_loc\u001b[0;34m()\u001b[0m\n",
      "\u001b[0;32mpandas/_libs/index.pyx\u001b[0m in \u001b[0;36mpandas._libs.index.IndexEngine.get_loc\u001b[0;34m()\u001b[0m\n",
      "\u001b[0;32mpandas/_libs/hashtable_class_helper.pxi\u001b[0m in \u001b[0;36mpandas._libs.hashtable.PyObjectHashTable.get_item\u001b[0;34m()\u001b[0m\n",
      "\u001b[0;32mpandas/_libs/hashtable_class_helper.pxi\u001b[0m in \u001b[0;36mpandas._libs.hashtable.PyObjectHashTable.get_item\u001b[0;34m()\u001b[0m\n",
      "\u001b[0;31mKeyError\u001b[0m: 'date'",
      "\nThe above exception was the direct cause of the following exception:\n",
      "\u001b[0;31mKeyError\u001b[0m                                  Traceback (most recent call last)",
      "\u001b[0;32m<ipython-input-46-73aa192fa618>\u001b[0m in \u001b[0;36m<module>\u001b[0;34m\u001b[0m\n\u001b[0;32m----> 1\u001b[0;31m \u001b[0mstats\u001b[0m\u001b[0;34m.\u001b[0m\u001b[0mttest_1samp\u001b[0m\u001b[0;34m(\u001b[0m\u001b[0mDowJones\u001b[0m\u001b[0;34m[\u001b[0m\u001b[0;34m'date'\u001b[0m\u001b[0;34m]\u001b[0m\u001b[0;34m,\u001b[0m \u001b[0;36m0\u001b[0m\u001b[0;34m)\u001b[0m\u001b[0;34m\u001b[0m\u001b[0;34m\u001b[0m\u001b[0m\n\u001b[0m",
      "\u001b[0;32m~/opt/anaconda3/lib/python3.8/site-packages/pandas/core/frame.py\u001b[0m in \u001b[0;36m__getitem__\u001b[0;34m(self, key)\u001b[0m\n\u001b[1;32m   3022\u001b[0m             \u001b[0;32mif\u001b[0m \u001b[0mself\u001b[0m\u001b[0;34m.\u001b[0m\u001b[0mcolumns\u001b[0m\u001b[0;34m.\u001b[0m\u001b[0mnlevels\u001b[0m \u001b[0;34m>\u001b[0m \u001b[0;36m1\u001b[0m\u001b[0;34m:\u001b[0m\u001b[0;34m\u001b[0m\u001b[0;34m\u001b[0m\u001b[0m\n\u001b[1;32m   3023\u001b[0m                 \u001b[0;32mreturn\u001b[0m \u001b[0mself\u001b[0m\u001b[0;34m.\u001b[0m\u001b[0m_getitem_multilevel\u001b[0m\u001b[0;34m(\u001b[0m\u001b[0mkey\u001b[0m\u001b[0;34m)\u001b[0m\u001b[0;34m\u001b[0m\u001b[0;34m\u001b[0m\u001b[0m\n\u001b[0;32m-> 3024\u001b[0;31m             \u001b[0mindexer\u001b[0m \u001b[0;34m=\u001b[0m \u001b[0mself\u001b[0m\u001b[0;34m.\u001b[0m\u001b[0mcolumns\u001b[0m\u001b[0;34m.\u001b[0m\u001b[0mget_loc\u001b[0m\u001b[0;34m(\u001b[0m\u001b[0mkey\u001b[0m\u001b[0;34m)\u001b[0m\u001b[0;34m\u001b[0m\u001b[0;34m\u001b[0m\u001b[0m\n\u001b[0m\u001b[1;32m   3025\u001b[0m             \u001b[0;32mif\u001b[0m \u001b[0mis_integer\u001b[0m\u001b[0;34m(\u001b[0m\u001b[0mindexer\u001b[0m\u001b[0;34m)\u001b[0m\u001b[0;34m:\u001b[0m\u001b[0;34m\u001b[0m\u001b[0;34m\u001b[0m\u001b[0m\n\u001b[1;32m   3026\u001b[0m                 \u001b[0mindexer\u001b[0m \u001b[0;34m=\u001b[0m \u001b[0;34m[\u001b[0m\u001b[0mindexer\u001b[0m\u001b[0;34m]\u001b[0m\u001b[0;34m\u001b[0m\u001b[0;34m\u001b[0m\u001b[0m\n",
      "\u001b[0;32m~/opt/anaconda3/lib/python3.8/site-packages/pandas/core/indexes/base.py\u001b[0m in \u001b[0;36mget_loc\u001b[0;34m(self, key, method, tolerance)\u001b[0m\n\u001b[1;32m   3080\u001b[0m                 \u001b[0;32mreturn\u001b[0m \u001b[0mself\u001b[0m\u001b[0;34m.\u001b[0m\u001b[0m_engine\u001b[0m\u001b[0;34m.\u001b[0m\u001b[0mget_loc\u001b[0m\u001b[0;34m(\u001b[0m\u001b[0mcasted_key\u001b[0m\u001b[0;34m)\u001b[0m\u001b[0;34m\u001b[0m\u001b[0;34m\u001b[0m\u001b[0m\n\u001b[1;32m   3081\u001b[0m             \u001b[0;32mexcept\u001b[0m \u001b[0mKeyError\u001b[0m \u001b[0;32mas\u001b[0m \u001b[0merr\u001b[0m\u001b[0;34m:\u001b[0m\u001b[0;34m\u001b[0m\u001b[0;34m\u001b[0m\u001b[0m\n\u001b[0;32m-> 3082\u001b[0;31m                 \u001b[0;32mraise\u001b[0m \u001b[0mKeyError\u001b[0m\u001b[0;34m(\u001b[0m\u001b[0mkey\u001b[0m\u001b[0;34m)\u001b[0m \u001b[0;32mfrom\u001b[0m \u001b[0merr\u001b[0m\u001b[0;34m\u001b[0m\u001b[0;34m\u001b[0m\u001b[0m\n\u001b[0m\u001b[1;32m   3083\u001b[0m \u001b[0;34m\u001b[0m\u001b[0m\n\u001b[1;32m   3084\u001b[0m         \u001b[0;32mif\u001b[0m \u001b[0mtolerance\u001b[0m \u001b[0;32mis\u001b[0m \u001b[0;32mnot\u001b[0m \u001b[0;32mNone\u001b[0m\u001b[0;34m:\u001b[0m\u001b[0;34m\u001b[0m\u001b[0;34m\u001b[0m\u001b[0m\n",
      "\u001b[0;31mKeyError\u001b[0m: 'date'"
     ]
    }
   ],
   "source": [
    "stats.ttest_1samp(DowJones['date'], 0)"
   ]
  },
  {
   "cell_type": "markdown",
   "id": "7492a085",
   "metadata": {},
   "source": [
    "Was unsuccesful in running a Single Sample T-test for S&P 500 "
   ]
  },
  {
   "cell_type": "code",
   "execution_count": null,
   "id": "baca18f7",
   "metadata": {},
   "outputs": [],
   "source": []
  }
 ],
 "metadata": {
  "kernelspec": {
   "display_name": "Python 3",
   "language": "python",
   "name": "python3"
  },
  "language_info": {
   "codemirror_mode": {
    "name": "ipython",
    "version": 3
   },
   "file_extension": ".py",
   "mimetype": "text/x-python",
   "name": "python",
   "nbconvert_exporter": "python",
   "pygments_lexer": "ipython3",
   "version": "3.8.8"
  }
 },
 "nbformat": 4,
 "nbformat_minor": 5
}
