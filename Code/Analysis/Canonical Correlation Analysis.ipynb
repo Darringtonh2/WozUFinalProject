{
 "cells": [
  {
   "cell_type": "markdown",
   "id": "320bad9f",
   "metadata": {},
   "source": [
    "## What is Canonical Correlation Analysis? "
   ]
  },
  {
   "cell_type": "markdown",
   "id": "13abc6f5",
   "metadata": {},
   "source": [
    "Canonical correlation analysis is a multivariate statistical model that facilitates the study of\n",
    "linear interrelationships between two sets of variables. One set of variables is referred to as\n",
    "independent variables and the others are considered dependent variables; a\n",
    "canonical variate is formed for each set. It may be helpful to think of a canonical variate as\n",
    "being like the variate (i.e., linear composite) formed from the set of independent variables\n",
    "in a multiple regression analysis. But in canonical correlation there is also a variate formed\n",
    "from several dependent variables whereas multiple regression can accommodate only one\n",
    "dependent variable. Canonical correlation analysis develops a canonical function that\n",
    "maximizes the canonical correlation coefficient between the two canonical variates. The\n",
    "canonical correlation coefficient measures the strength of the relationship between the two\n",
    "canonical variates. Each canonical variate is interpreted with canonical loadings, the\n",
    "correlation of the individual variables and their respective variates."
   ]
  },
  {
   "cell_type": "markdown",
   "id": "40277e08",
   "metadata": {},
   "source": [
    "## Import Packages"
   ]
  },
  {
   "cell_type": "code",
   "execution_count": 1,
   "id": "ed1618ed",
   "metadata": {},
   "outputs": [],
   "source": [
    "import pandas as pd\n",
    "import matplotlib.pyplot as plt\n",
    "import seaborn as sns\n",
    "import numpy as np"
   ]
  },
  {
   "cell_type": "code",
   "execution_count": null,
   "id": "170dc9ab",
   "metadata": {},
   "outputs": [],
   "source": []
  }
 ],
 "metadata": {
  "kernelspec": {
   "display_name": "Python 3",
   "language": "python",
   "name": "python3"
  },
  "language_info": {
   "codemirror_mode": {
    "name": "ipython",
    "version": 3
   },
   "file_extension": ".py",
   "mimetype": "text/x-python",
   "name": "python",
   "nbconvert_exporter": "python",
   "pygments_lexer": "ipython3",
   "version": "3.8.8"
  }
 },
 "nbformat": 4,
 "nbformat_minor": 5
}
